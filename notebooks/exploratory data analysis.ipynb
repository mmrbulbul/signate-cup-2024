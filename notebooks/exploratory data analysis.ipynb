{
 "cells": [
  {
   "cell_type": "code",
   "execution_count": 113,
   "id": "f034f558",
   "metadata": {},
   "outputs": [],
   "source": [
    "import os\n",
    "import re\n",
    "import random\n",
    "import unicodedata\n",
    "import pandas as pd\n",
    "import numpy as np\n",
    "import matplotlib.pyplot as plt\n",
    "import seaborn as sns\n",
    "from sklearn.ensemble import RandomForestClassifier\n",
    "\n",
    "from scripts.data_cleaning import clean_data"
   ]
  },
  {
   "cell_type": "code",
   "execution_count": 114,
   "id": "bd4ec5c2",
   "metadata": {},
   "outputs": [],
   "source": [
    "import warnings\n",
    "warnings.filterwarnings('ignore')"
   ]
  },
  {
   "cell_type": "code",
   "execution_count": 115,
   "id": "dd11e503",
   "metadata": {},
   "outputs": [],
   "source": [
    "train = pd.read_csv(\"../data/train.csv\")\n",
    "test = pd.read_csv(\"../data/test.csv\")"
   ]
  },
  {
   "cell_type": "code",
   "execution_count": 116,
   "id": "421057ff",
   "metadata": {},
   "outputs": [],
   "source": [
    "# clean data \n",
    "train.set_index(\"id\", inplace=True)\n",
    "test.set_index(\"id\", inplace=True)\n",
    "cleaned_train = clean_data(train)\n",
    "cleaned_test = clean_data(test)"
   ]
  },
  {
   "cell_type": "code",
   "execution_count": 182,
   "id": "2150fd34",
   "metadata": {},
   "outputs": [],
   "source": [
    "import numpy as np\n",
    "import pandas as pd\n",
    "import matplotlib.pyplot as plt\n",
    "from sklearn.feature_selection import mutual_info_regression\n",
    "\n",
    "def make_mi_scores(X, y, discrete_features):\n",
    "    \"\"\"ref :https://www.kaggle.com/code/ryanholbrook/mutual-information\n",
    "\n",
    "    \"\"\"\n",
    "    mi_scores = mutual_info_regression(X, y, discrete_features=discrete_features, n_neighbors=5)\n",
    "    mi_scores = pd.Series(mi_scores, name=\"MI Scores\", index=X.columns)\n",
    "    mi_scores = mi_scores.sort_values(ascending=False)\n",
    "    return mi_scores\n",
    "\n",
    "def plot_mi_scores(scores):\n",
    "    scores = scores.sort_values(ascending=True)\n",
    "    width = np.arange(len(scores))\n",
    "    ticks = list(scores.index)\n",
    "    plt.barh(width, scores)\n",
    "    plt.yticks(width, ticks)\n",
    "    plt.title(\"Mutual Information Scores\")"
   ]
  },
  {
   "cell_type": "code",
   "execution_count": 183,
   "id": "86a658d7",
   "metadata": {},
   "outputs": [],
   "source": [
    "cleaned_train = pd.concat( [cleaned_train[cleaned_train['prod_taken']==1], cleaned_train.sample(500) ])"
   ]
  },
  {
   "cell_type": "code",
   "execution_count": 184,
   "id": "47fec13b",
   "metadata": {},
   "outputs": [],
   "source": [
    "# cleaned_train"
   ]
  },
  {
   "cell_type": "code",
   "execution_count": null,
   "id": "5c0dfb4b",
   "metadata": {},
   "outputs": [],
   "source": []
  },
  {
   "cell_type": "code",
   "execution_count": 185,
   "id": "dd8ca8fe",
   "metadata": {},
   "outputs": [],
   "source": [
    "CAT_COL  = cleaned_test.select_dtypes(include=['object', 'category']).columns\n",
    "NUM_COL = [col for col in X.columns if col not in CAT_COL]\n",
    "CONT_COL = [\"age\", \"duration_of_pitch\", \"monthly_income\"]"
   ]
  },
  {
   "cell_type": "code",
   "execution_count": 186,
   "id": "b2925ea0",
   "metadata": {},
   "outputs": [],
   "source": [
    "# outlier_detection\n",
    "def outlier_analysis(X_in, col):\n",
    "    print(\"column \", col)\n",
    "    X = X_in[X_in[\"prod_taken\"]==1]\n",
    "    q1 = X[col].quantile(0.25)\n",
    "    q3 = X[col].quantile(0.75)\n",
    "    iqr = q3-q1\n",
    "    Lower_tail = q1 - 1.5 * iqr\n",
    "    Upper_tail = q3 + 1.5 * iqr\n",
    "    med = np.median(X[col])\n",
    "    drop_index = X[(X[col] > Upper_tail) | (X[col] < Lower_tail)].index\n",
    "    \n",
    "\n",
    "    print('lower limit: {} | upper limit: {}'.format(Lower_tail, Upper_tail))\n",
    "    print('iqr: {}'.format(iqr))\n",
    "    print(\"len of outlier\", len(drop_index))\n",
    "    print(\"=\"*44)\n",
    "    \n",
    "    return X_in.drop(drop_index)\n",
    "\n",
    "def impute(X):\n",
    "    X = X.copy()\n",
    "    X[NUM_COL] = X[NUM_COL].fillna(X[NUM_COL].median())\n",
    "    for col in NUM_COL:\n",
    "        if col not in CONT_COL:\n",
    "            X[col] = X[col].astype('int')\n",
    "    X[CAT_COL] = X[CAT_COL].fillna(\"unknown\")\n",
    "    return X"
   ]
  },
  {
   "cell_type": "code",
   "execution_count": 187,
   "id": "0395bc8e",
   "metadata": {},
   "outputs": [],
   "source": [
    "# y = cleaned_train['prod_taken']\n",
    "# X = cleaned_train.drop(columns=[\"prod_taken\"], axis=1)\n",
    "X = cleaned_train.copy()"
   ]
  },
  {
   "cell_type": "code",
   "execution_count": 188,
   "id": "7b109750",
   "metadata": {},
   "outputs": [],
   "source": [
    "# NUM_COL.pop(-1)"
   ]
  },
  {
   "cell_type": "code",
   "execution_count": 189,
   "id": "3d4f083b",
   "metadata": {},
   "outputs": [
    {
     "name": "stdout",
     "output_type": "stream",
     "text": [
      "column  age\n",
      "lower limit: 2.0 | upper limit: 66.0\n",
      "iqr: 16.0\n",
      "len of outlier 17\n",
      "============================================\n",
      "column  duration_of_pitch\n",
      "lower limit: -90.0 | upper limit: 1590.0\n",
      "iqr: 420.0\n",
      "len of outlier 33\n",
      "============================================\n",
      "column  monthly_income\n",
      "lower limit: 132637.5 | upper limit: 475417.5\n",
      "iqr: 85695.0\n",
      "len of outlier 45\n",
      "============================================\n",
      "column  number_of_followups\n",
      "lower limit: 1.5 | upper limit: 5.5\n",
      "iqr: 1.0\n",
      "len of outlier 40\n",
      "============================================\n"
     ]
    }
   ],
   "source": [
    "for col in CONT_COL+[\"number_of_followups\"]:\n",
    "    X = outlier_analysis(X, col)"
   ]
  },
  {
   "cell_type": "code",
   "execution_count": 190,
   "id": "e2f23b49",
   "metadata": {},
   "outputs": [],
   "source": [
    "# X"
   ]
  },
  {
   "cell_type": "code",
   "execution_count": 191,
   "id": "2d16afa5",
   "metadata": {},
   "outputs": [],
   "source": [
    "X = impute(X)"
   ]
  },
  {
   "cell_type": "code",
   "execution_count": 192,
   "id": "0b434914",
   "metadata": {},
   "outputs": [],
   "source": [
    "# X.isna().sum()"
   ]
  },
  {
   "cell_type": "code",
   "execution_count": 193,
   "id": "0ca5af36",
   "metadata": {},
   "outputs": [],
   "source": [
    "# for colname in X.columns:\n",
    "#     if X[colname].dtype!= \"object\":\n",
    "#         X[colname]= X[colname].fillna(X[colname].median())\n",
    "    \n",
    "# for colname in X.select_dtypes(\"object\"):\n",
    "#     X[colname], _ = X[colname].factorize()\n",
    "\n",
    "# All discrete features should now have integer dtypes (double-check this before using MI!)\n",
    "# discrete_features = X.dtypes == int"
   ]
  },
  {
   "cell_type": "code",
   "execution_count": 194,
   "id": "dd9763a6",
   "metadata": {},
   "outputs": [],
   "source": [
    "y = X['prod_taken']\n",
    "X = X.drop(columns=[\"prod_taken\"], axis=1)"
   ]
  },
  {
   "cell_type": "code",
   "execution_count": 195,
   "id": "4b97082f",
   "metadata": {},
   "outputs": [],
   "source": [
    "for colname in X.select_dtypes(\"object\"):\n",
    "    X[colname], _ = X[colname].factorize()\n",
    "\n",
    "# All discrete features should now have integer dtypes (double-check this before using MI!)\n",
    "discrete_features = X.dtypes == int"
   ]
  },
  {
   "cell_type": "code",
   "execution_count": 196,
   "id": "61dc9d8d",
   "metadata": {},
   "outputs": [
    {
     "data": {
      "text/plain": [
       "product_pitched             0.120289\n",
       "age                         0.048678\n",
       "pitch_satisfaction_score    0.034571\n",
       "marital_status              0.020620\n",
       "gender                      0.003852\n",
       "number_of_trips             0.000000\n",
       "Name: MI Scores, dtype: float64"
      ]
     },
     "execution_count": 196,
     "metadata": {},
     "output_type": "execute_result"
    }
   ],
   "source": [
    "mi_scores = make_mi_scores(X, y, discrete_features)\n",
    "mi_scores[::3]  #"
   ]
  },
  {
   "cell_type": "code",
   "execution_count": 197,
   "id": "a1bf0aeb",
   "metadata": {},
   "outputs": [
    {
     "data": {
      "image/png": "[encoded data removed]",
      "text/plain": [
       "<Figure size 800x500 with 1 Axes>"
      ]
     },
     "metadata": {
      "needs_background": "light"
     },
     "output_type": "display_data"
    }
   ],
   "source": [
    "def plot_mi_scores(scores):\n",
    "    scores = scores.sort_values(ascending=True)\n",
    "    width = np.arange(len(scores))\n",
    "    ticks = list(scores.index)\n",
    "    plt.barh(width, scores)\n",
    "    plt.yticks(width, ticks)\n",
    "    plt.title(\"Mutual Information Scores\")\n",
    "\n",
    "\n",
    "plt.figure(dpi=100, figsize=(8, 5))\n",
    "plot_mi_scores(mi_scores)"
   ]
  },
  {
   "cell_type": "code",
   "execution_count": 134,
   "id": "c3909a13",
   "metadata": {},
   "outputs": [],
   "source": [
    "# X"
   ]
  },
  {
   "cell_type": "code",
   "execution_count": 135,
   "id": "d769e636",
   "metadata": {},
   "outputs": [
    {
     "data": {
      "text/plain": [
       "Index(['product_pitched', 'designation', 'monthly_income', 'duration_of_pitch',\n",
       "       'age', 'number_of_followups', 'passport', 'pitch_satisfaction_score',\n",
       "       'typeof_contact', 'marital_status', 'occupation', 'gender',\n",
       "       'number_of_person_visiting', 'children'],\n",
       "      dtype='object')"
      ]
     },
     "execution_count": 135,
     "metadata": {},
     "output_type": "execute_result"
    }
   ],
   "source": [
    "mi_scores[:14].index"
   ]
  },
  {
   "cell_type": "code",
   "execution_count": 179,
   "id": "a0e69ae4",
   "metadata": {},
   "outputs": [],
   "source": [
    "from sklearn.feature_selection import SelectPercentile\n",
    "selected_top_columns = SelectPercentile(mutual_info_regression, percentile=20)"
   ]
  },
  {
   "cell_type": "code",
   "execution_count": 180,
   "id": "4c860e6b",
   "metadata": {},
   "outputs": [
    {
     "data": {
      "text/plain": [
       "SelectPercentile(percentile=20,\n",
       "                 score_func=<function mutual_info_regression at 0x7f74b04ee6a8>)"
      ]
     },
     "execution_count": 180,
     "metadata": {},
     "output_type": "execute_result"
    }
   ],
   "source": [
    "selected_top_columns.fit(X, y)"
   ]
  },
  {
   "cell_type": "code",
   "execution_count": 181,
   "id": "4a78d129",
   "metadata": {},
   "outputs": [
    {
     "data": {
      "text/plain": [
       "Index(['duration_of_pitch', 'product_pitched', 'designation',\n",
       "       'monthly_income'],\n",
       "      dtype='object')"
      ]
     },
     "execution_count": 181,
     "metadata": {},
     "output_type": "execute_result"
    }
   ],
   "source": [
    "X.columns[selected_top_columns.get_support()]"
   ]
  },
  {
   "cell_type": "code",
   "execution_count": 175,
   "id": "ba2fb1bb",
   "metadata": {},
   "outputs": [],
   "source": [
    "import numpy as np\n",
    "from scipy.stats import rankdata, norm\n",
    "\n",
    "\n",
    "def xicor(x, y, ties=\"auto\"):\n",
    "    x = np.asarray(x).flatten()\n",
    "    y = np.asarray(y).flatten()\n",
    "    n = len(y)\n",
    "\n",
    "    if len(x) != n:\n",
    "        raise IndexError(\n",
    "            f\"x, y length mismatch: {len(x)}, {len(y)}\"\n",
    "        )\n",
    "\n",
    "    if ties == \"auto\":\n",
    "        ties = len(np.unique(y)) < n\n",
    "    elif not isinstance(ties, bool):\n",
    "        raise ValueError(\n",
    "            f\"expected ties either \\\"auto\\\" or boolean, \"\n",
    "            f\"got {ties} ({type(ties)}) instead\"\n",
    "        )\n",
    "    \n",
    "    y = y[np.argsort(x)]\n",
    "    r = rankdata(y, method=\"ordinal\")\n",
    "    nominator = np.sum(np.abs(np.diff(r)))\n",
    "\n",
    "    if ties:\n",
    "        l = rankdata(y, method=\"max\")\n",
    "        denominator = 2 * np.sum(l * (n - l))\n",
    "        nominator *= n\n",
    "    else:\n",
    "        denominator = np.power(n, 2) - 1\n",
    "        nominator *= 3\n",
    "\n",
    "    statistic = 1 - nominator / denominator  # upper bound is (n - 2) / (n + 1)\n",
    "    p_value = norm.sf(statistic, scale=2 / 5 / np.sqrt(n))\n",
    "\n",
    "    return statistic, round(p_value, 6)"
   ]
  },
  {
   "cell_type": "code",
   "execution_count": 176,
   "id": "55debbca",
   "metadata": {},
   "outputs": [],
   "source": [
    "s_val = []\n",
    "p_val = []\n",
    "for col in X.columns:\n",
    "    s, p = xicor(X[col], y)\n",
    "    s_val.append(s)\n",
    "    p_val.append(p)\n",
    "    \n",
    "xicor_df = pd.DataFrame({\"corr\": s_val, \"pvalue\": p_val}, index=X.columns)"
   ]
  },
  {
   "cell_type": "code",
   "execution_count": null,
   "id": "5ccaef23",
   "metadata": {},
   "outputs": [],
   "source": []
  },
  {
   "cell_type": "code",
   "execution_count": 177,
   "id": "161c44e1",
   "metadata": {},
   "outputs": [
    {
     "data": {
      "text/html": [
       "<div>\n",
       "<style scoped>\n",
       "    .dataframe tbody tr th:only-of-type {\n",
       "        vertical-align: middle;\n",
       "    }\n",
       "\n",
       "    .dataframe tbody tr th {\n",
       "        vertical-align: top;\n",
       "    }\n",
       "\n",
       "    .dataframe thead th {\n",
       "        text-align: right;\n",
       "    }\n",
       "</style>\n",
       "<table border=\"1\" class=\"dataframe\">\n",
       "  <thead>\n",
       "    <tr style=\"text-align: right;\">\n",
       "      <th></th>\n",
       "      <th>corr</th>\n",
       "      <th>pvalue</th>\n",
       "    </tr>\n",
       "  </thead>\n",
       "  <tbody>\n",
       "    <tr>\n",
       "      <th>passport</th>\n",
       "      <td>0.802155</td>\n",
       "      <td>0.00000</td>\n",
       "    </tr>\n",
       "    <tr>\n",
       "      <th>car_ownership</th>\n",
       "      <td>0.722505</td>\n",
       "      <td>0.00000</td>\n",
       "    </tr>\n",
       "    <tr>\n",
       "      <th>preferred_property_star</th>\n",
       "      <td>0.556703</td>\n",
       "      <td>0.00000</td>\n",
       "    </tr>\n",
       "    <tr>\n",
       "      <th>gender</th>\n",
       "      <td>0.501102</td>\n",
       "      <td>0.00000</td>\n",
       "    </tr>\n",
       "    <tr>\n",
       "      <th>typeof_contact</th>\n",
       "      <td>0.471991</td>\n",
       "      <td>0.00000</td>\n",
       "    </tr>\n",
       "    <tr>\n",
       "      <th>product_pitched</th>\n",
       "      <td>0.452407</td>\n",
       "      <td>0.00000</td>\n",
       "    </tr>\n",
       "    <tr>\n",
       "      <th>number_of_person_visiting</th>\n",
       "      <td>0.448288</td>\n",
       "      <td>0.00000</td>\n",
       "    </tr>\n",
       "    <tr>\n",
       "      <th>city_tier</th>\n",
       "      <td>0.434398</td>\n",
       "      <td>0.00000</td>\n",
       "    </tr>\n",
       "    <tr>\n",
       "      <th>number_of_followups</th>\n",
       "      <td>0.390504</td>\n",
       "      <td>0.00000</td>\n",
       "    </tr>\n",
       "    <tr>\n",
       "      <th>occupation</th>\n",
       "      <td>0.389373</td>\n",
       "      <td>0.00000</td>\n",
       "    </tr>\n",
       "    <tr>\n",
       "      <th>pitch_satisfaction_score</th>\n",
       "      <td>0.365129</td>\n",
       "      <td>0.00000</td>\n",
       "    </tr>\n",
       "    <tr>\n",
       "      <th>children</th>\n",
       "      <td>0.358517</td>\n",
       "      <td>0.00000</td>\n",
       "    </tr>\n",
       "    <tr>\n",
       "      <th>designation</th>\n",
       "      <td>0.334061</td>\n",
       "      <td>0.00000</td>\n",
       "    </tr>\n",
       "    <tr>\n",
       "      <th>marital_status</th>\n",
       "      <td>0.317668</td>\n",
       "      <td>0.00000</td>\n",
       "    </tr>\n",
       "    <tr>\n",
       "      <th>duration_of_pitch</th>\n",
       "      <td>0.162969</td>\n",
       "      <td>0.00000</td>\n",
       "    </tr>\n",
       "    <tr>\n",
       "      <th>number_of_trips</th>\n",
       "      <td>0.087196</td>\n",
       "      <td>0.00000</td>\n",
       "    </tr>\n",
       "    <tr>\n",
       "      <th>monthly_income</th>\n",
       "      <td>-0.045861</td>\n",
       "      <td>0.99973</td>\n",
       "    </tr>\n",
       "    <tr>\n",
       "      <th>age</th>\n",
       "      <td>-0.064912</td>\n",
       "      <td>1.00000</td>\n",
       "    </tr>\n",
       "  </tbody>\n",
       "</table>\n",
       "</div>"
      ],
      "text/plain": [
       "                               corr   pvalue\n",
       "passport                   0.802155  0.00000\n",
       "car_ownership              0.722505  0.00000\n",
       "preferred_property_star    0.556703  0.00000\n",
       "gender                     0.501102  0.00000\n",
       "typeof_contact             0.471991  0.00000\n",
       "product_pitched            0.452407  0.00000\n",
       "number_of_person_visiting  0.448288  0.00000\n",
       "city_tier                  0.434398  0.00000\n",
       "number_of_followups        0.390504  0.00000\n",
       "occupation                 0.389373  0.00000\n",
       "pitch_satisfaction_score   0.365129  0.00000\n",
       "children                   0.358517  0.00000\n",
       "designation                0.334061  0.00000\n",
       "marital_status             0.317668  0.00000\n",
       "duration_of_pitch          0.162969  0.00000\n",
       "number_of_trips            0.087196  0.00000\n",
       "monthly_income            -0.045861  0.99973\n",
       "age                       -0.064912  1.00000"
      ]
     },
     "execution_count": 177,
     "metadata": {},
     "output_type": "execute_result"
    }
   ],
   "source": [
    "xicor_df.sort_values(\"corr\", ascending=False)"
   ]
  },
  {
   "cell_type": "code",
   "execution_count": 155,
   "id": "31358d51",
   "metadata": {},
   "outputs": [
    {
     "data": {
      "text/plain": [
       "<AxesSubplot:>"
      ]
     },
     "execution_count": 155,
     "metadata": {},
     "output_type": "execute_result"
    },
    {
     "data": {
      "image/png": "[encoded data removed]",
      "text/plain": [
       "<Figure size 432x288 with 1 Axes>"
      ]
     },
     "metadata": {
      "needs_background": "light"
     },
     "output_type": "display_data"
    }
   ],
   "source": [
    "xicor_df[\"corr\"].sort_values().plot(kind=\"barh\")"
   ]
  },
  {
   "cell_type": "code",
   "execution_count": 159,
   "id": "cd37116d",
   "metadata": {},
   "outputs": [],
   "source": [
    "s_val = []\n",
    "p_val = []\n",
    "cols1 = []\n",
    "cols2 = []\n",
    "rev_sval = []\n",
    "rev_pval = []\n",
    "from itertools import combinations\n",
    "for col1, col2 in combinations(X.columns, 2):\n",
    "\n",
    "    cols1.append(col1)\n",
    "    cols2.append(col2)\n",
    "    \n",
    "    s, p = xicor(X[col1], X[col2])\n",
    "    s_val.append(s)\n",
    "    p_val.append(p)\n",
    "    \n",
    "    \n",
    "    s, p = xicor(X[col2], X[col1])\n",
    "    rev_sval.append(s)\n",
    "    rev_pval.append(p)\n",
    "# print(len(s_val), len(p_val), len(cols1), len(cols2))\n",
    "xicor_df_mutual = pd.DataFrame({\"corr\": s_val,  \"rev_corr\":rev_sval, \"column1\": cols1, \"column2\": cols2})"
   ]
  },
  {
   "cell_type": "code",
   "execution_count": 178,
   "id": "d4eee7c3",
   "metadata": {},
   "outputs": [
    {
     "data": {
      "text/html": [
       "<div>\n",
       "<style scoped>\n",
       "    .dataframe tbody tr th:only-of-type {\n",
       "        vertical-align: middle;\n",
       "    }\n",
       "\n",
       "    .dataframe tbody tr th {\n",
       "        vertical-align: top;\n",
       "    }\n",
       "\n",
       "    .dataframe thead th {\n",
       "        text-align: right;\n",
       "    }\n",
       "</style>\n",
       "<table border=\"1\" class=\"dataframe\">\n",
       "  <thead>\n",
       "    <tr style=\"text-align: right;\">\n",
       "      <th></th>\n",
       "      <th>corr</th>\n",
       "      <th>rev_corr</th>\n",
       "      <th>column1</th>\n",
       "      <th>column2</th>\n",
       "    </tr>\n",
       "  </thead>\n",
       "  <tbody>\n",
       "    <tr>\n",
       "      <th>28</th>\n",
       "      <td>0.288248</td>\n",
       "      <td>0.172768</td>\n",
       "      <td>typeof_contact</td>\n",
       "      <td>designation</td>\n",
       "    </tr>\n",
       "    <tr>\n",
       "      <th>17</th>\n",
       "      <td>0.110175</td>\n",
       "      <td>0.221350</td>\n",
       "      <td>typeof_contact</td>\n",
       "      <td>city_tier</td>\n",
       "    </tr>\n",
       "    <tr>\n",
       "      <th>32</th>\n",
       "      <td>0.139795</td>\n",
       "      <td>0.142695</td>\n",
       "      <td>typeof_contact</td>\n",
       "      <td>children</td>\n",
       "    </tr>\n",
       "    <tr>\n",
       "      <th>31</th>\n",
       "      <td>0.426516</td>\n",
       "      <td>0.213121</td>\n",
       "      <td>typeof_contact</td>\n",
       "      <td>car_ownership</td>\n",
       "    </tr>\n",
       "    <tr>\n",
       "      <th>30</th>\n",
       "      <td>0.016705</td>\n",
       "      <td>0.154824</td>\n",
       "      <td>typeof_contact</td>\n",
       "      <td>marital_status</td>\n",
       "    </tr>\n",
       "    <tr>\n",
       "      <th>...</th>\n",
       "      <td>...</td>\n",
       "      <td>...</td>\n",
       "      <td>...</td>\n",
       "      <td>...</td>\n",
       "    </tr>\n",
       "    <tr>\n",
       "      <th>12</th>\n",
       "      <td>0.468960</td>\n",
       "      <td>0.138895</td>\n",
       "      <td>age</td>\n",
       "      <td>designation</td>\n",
       "    </tr>\n",
       "    <tr>\n",
       "      <th>13</th>\n",
       "      <td>0.128018</td>\n",
       "      <td>0.224150</td>\n",
       "      <td>age</td>\n",
       "      <td>monthly_income</td>\n",
       "    </tr>\n",
       "    <tr>\n",
       "      <th>14</th>\n",
       "      <td>0.022316</td>\n",
       "      <td>0.012308</td>\n",
       "      <td>age</td>\n",
       "      <td>marital_status</td>\n",
       "    </tr>\n",
       "    <tr>\n",
       "      <th>15</th>\n",
       "      <td>0.464348</td>\n",
       "      <td>0.059205</td>\n",
       "      <td>age</td>\n",
       "      <td>car_ownership</td>\n",
       "    </tr>\n",
       "    <tr>\n",
       "      <th>0</th>\n",
       "      <td>0.092376</td>\n",
       "      <td>0.033057</td>\n",
       "      <td>age</td>\n",
       "      <td>typeof_contact</td>\n",
       "    </tr>\n",
       "  </tbody>\n",
       "</table>\n",
       "<p>153 rows × 4 columns</p>\n",
       "</div>"
      ],
      "text/plain": [
       "        corr  rev_corr         column1         column2\n",
       "28  0.288248  0.172768  typeof_contact     designation\n",
       "17  0.110175  0.221350  typeof_contact       city_tier\n",
       "32  0.139795  0.142695  typeof_contact        children\n",
       "31  0.426516  0.213121  typeof_contact   car_ownership\n",
       "30  0.016705  0.154824  typeof_contact  marital_status\n",
       "..       ...       ...             ...             ...\n",
       "12  0.468960  0.138895             age     designation\n",
       "13  0.128018  0.224150             age  monthly_income\n",
       "14  0.022316  0.012308             age  marital_status\n",
       "15  0.464348  0.059205             age   car_ownership\n",
       "0   0.092376  0.033057             age  typeof_contact\n",
       "\n",
       "[153 rows x 4 columns]"
      ]
     },
     "execution_count": 178,
     "metadata": {},
     "output_type": "execute_result"
    }
   ],
   "source": [
    "xicor_df_mutual.sort_values(\"column1\", ascending=False)"
   ]
  },
  {
   "cell_type": "code",
   "execution_count": 168,
   "id": "58099c7c",
   "metadata": {},
   "outputs": [
    {
     "data": {
      "text/plain": [
       "designation  product_pitched\n",
       "0            0                  479\n",
       "             3                    4\n",
       "             1                    1\n",
       "             2                    1\n",
       "1            1                  177\n",
       "             0                    1\n",
       "             3                    1\n",
       "             4                    1\n",
       "2            2                  169\n",
       "             0                    6\n",
       "             3                    4\n",
       "             1                    1\n",
       "3            3                   48\n",
       "             0                    2\n",
       "             4                    1\n",
       "4            4                   12\n",
       "             3                    2\n",
       "             1                    1\n",
       "Name: product_pitched, dtype: int64"
      ]
     },
     "execution_count": 168,
     "metadata": {},
     "output_type": "execute_result"
    }
   ],
   "source": [
    "X.groupby(\"designation\")[\"product_pitched\"].value_counts()"
   ]
  },
  {
   "cell_type": "code",
   "execution_count": 169,
   "id": "9a4b2ae8",
   "metadata": {},
   "outputs": [
    {
     "data": {
      "text/plain": [
       "designation     product_pitched\n",
       "avp             super deluxe        62\n",
       "                basic                2\n",
       "                king                 2\n",
       "executive       basic              521\n",
       "                super deluxe         6\n",
       "                deluxe               1\n",
       "                standard             1\n",
       "manager         deluxe             171\n",
       "                basic                6\n",
       "                super deluxe         4\n",
       "                standard             1\n",
       "senior manager  standard           195\n",
       "                basic                1\n",
       "                king                 1\n",
       "                super deluxe         1\n",
       "vp              king                17\n",
       "                super deluxe         4\n",
       "                standard             1\n",
       "Name: product_pitched, dtype: int64"
      ]
     },
     "execution_count": 169,
     "metadata": {},
     "output_type": "execute_result"
    }
   ],
   "source": [
    "cleaned_train.groupby(\"designation\")[\"product_pitched\"].value_counts()"
   ]
  },
  {
   "cell_type": "code",
   "execution_count": 174,
   "id": "4ed1632f",
   "metadata": {},
   "outputs": [
    {
     "data": {
      "text/plain": [
       "car_ownership\n",
       "Car Ownership       0.570125\n",
       "No Car Ownership    0.583333\n",
       "Name: prod_taken, dtype: float64"
      ]
     },
     "execution_count": 174,
     "metadata": {},
     "output_type": "execute_result"
    }
   ],
   "source": [
    "cleaned_train.groupby(\"car_ownership\")[\"prod_taken\"].mean()"
   ]
  },
  {
   "cell_type": "code",
   "execution_count": null,
   "id": "2c8d1d42",
   "metadata": {},
   "outputs": [],
   "source": []
  },
  {
   "cell_type": "markdown",
   "id": "26d25e8e",
   "metadata": {},
   "source": [
    "## general overview"
   ]
  },
  {
   "cell_type": "code",
   "execution_count": 5,
   "id": "da1aabb7",
   "metadata": {},
   "outputs": [
    {
     "data": {
      "text/plain": [
       "((3489, 17), (3489, 16))"
      ]
     },
     "execution_count": 5,
     "metadata": {},
     "output_type": "execute_result"
    }
   ],
   "source": [
    "train.shape, test.shape"
   ]
  },
  {
   "cell_type": "code",
   "execution_count": 6,
   "id": "d5e801d1",
   "metadata": {},
   "outputs": [
    {
     "data": {
      "text/html": [
       "<div>\n",
       "<style scoped>\n",
       "    .dataframe tbody tr th:only-of-type {\n",
       "        vertical-align: middle;\n",
       "    }\n",
       "\n",
       "    .dataframe tbody tr th {\n",
       "        vertical-align: top;\n",
       "    }\n",
       "\n",
       "    .dataframe thead th {\n",
       "        text-align: right;\n",
       "    }\n",
       "</style>\n",
       "<table border=\"1\" class=\"dataframe\">\n",
       "  <thead>\n",
       "    <tr style=\"text-align: right;\">\n",
       "      <th>id</th>\n",
       "      <th>0</th>\n",
       "      <th>1</th>\n",
       "      <th>2</th>\n",
       "      <th>3</th>\n",
       "      <th>4</th>\n",
       "    </tr>\n",
       "  </thead>\n",
       "  <tbody>\n",
       "    <tr>\n",
       "      <th>Age</th>\n",
       "      <td>50歳</td>\n",
       "      <td>56歳</td>\n",
       "      <td>NaN</td>\n",
       "      <td>三十七歳</td>\n",
       "      <td>48歳</td>\n",
       "    </tr>\n",
       "    <tr>\n",
       "      <th>TypeofContact</th>\n",
       "      <td>Self Enquiry</td>\n",
       "      <td>Company Invited</td>\n",
       "      <td>Self Enquiry</td>\n",
       "      <td>Self Enquiry</td>\n",
       "      <td>Company Invited</td>\n",
       "    </tr>\n",
       "    <tr>\n",
       "      <th>CityTier</th>\n",
       "      <td>2</td>\n",
       "      <td>1</td>\n",
       "      <td>1</td>\n",
       "      <td>2</td>\n",
       "      <td>3</td>\n",
       "    </tr>\n",
       "    <tr>\n",
       "      <th>DurationOfPitch</th>\n",
       "      <td>900秒</td>\n",
       "      <td>14分</td>\n",
       "      <td>10分</td>\n",
       "      <td>1080秒</td>\n",
       "      <td>1020秒</td>\n",
       "    </tr>\n",
       "    <tr>\n",
       "      <th>Occupation</th>\n",
       "      <td>Large Business</td>\n",
       "      <td>Salaried</td>\n",
       "      <td>Large Business</td>\n",
       "      <td>Small Business</td>\n",
       "      <td>Small Business</td>\n",
       "    </tr>\n",
       "    <tr>\n",
       "      <th>Gender</th>\n",
       "      <td>male</td>\n",
       "      <td>Male</td>\n",
       "      <td>Female</td>\n",
       "      <td>female</td>\n",
       "      <td>female</td>\n",
       "    </tr>\n",
       "    <tr>\n",
       "      <th>NumberOfPersonVisiting</th>\n",
       "      <td>1</td>\n",
       "      <td>1</td>\n",
       "      <td>1</td>\n",
       "      <td>1</td>\n",
       "      <td>1</td>\n",
       "    </tr>\n",
       "    <tr>\n",
       "      <th>NumberOfFollowups</th>\n",
       "      <td>4</td>\n",
       "      <td>4</td>\n",
       "      <td>3</td>\n",
       "      <td>3</td>\n",
       "      <td>3</td>\n",
       "    </tr>\n",
       "    <tr>\n",
       "      <th>ProductPitched</th>\n",
       "      <td>Basic</td>\n",
       "      <td>Standard</td>\n",
       "      <td>Basic</td>\n",
       "      <td>Standard</td>\n",
       "      <td>Basic</td>\n",
       "    </tr>\n",
       "    <tr>\n",
       "      <th>PreferredPropertyStar</th>\n",
       "      <td>3</td>\n",
       "      <td>3</td>\n",
       "      <td>3</td>\n",
       "      <td>4</td>\n",
       "      <td>4</td>\n",
       "    </tr>\n",
       "    <tr>\n",
       "      <th>NumberOfTrips</th>\n",
       "      <td>5</td>\n",
       "      <td>2</td>\n",
       "      <td>4</td>\n",
       "      <td>1</td>\n",
       "      <td>4</td>\n",
       "    </tr>\n",
       "    <tr>\n",
       "      <th>Passport</th>\n",
       "      <td>1</td>\n",
       "      <td>1</td>\n",
       "      <td>0</td>\n",
       "      <td>0</td>\n",
       "      <td>0</td>\n",
       "    </tr>\n",
       "    <tr>\n",
       "      <th>PitchSatisfactionScore</th>\n",
       "      <td>4</td>\n",
       "      <td>4</td>\n",
       "      <td>4</td>\n",
       "      <td>5</td>\n",
       "      <td>4</td>\n",
       "    </tr>\n",
       "    <tr>\n",
       "      <th>Designation</th>\n",
       "      <td>Executive</td>\n",
       "      <td>Senior Manager</td>\n",
       "      <td>Executive</td>\n",
       "      <td>Senior Manager</td>\n",
       "      <td>Executive</td>\n",
       "    </tr>\n",
       "    <tr>\n",
       "      <th>MonthlyIncome</th>\n",
       "      <td>253905.0</td>\n",
       "      <td>404475.0</td>\n",
       "      <td>278145.0</td>\n",
       "      <td>326805.0</td>\n",
       "      <td>258435.0</td>\n",
       "    </tr>\n",
       "    <tr>\n",
       "      <th>customer_info</th>\n",
       "      <td>未婚 車未所持 子供なし</td>\n",
       "      <td>離婚済み,車あり,子供無し</td>\n",
       "      <td>結婚済み、自動車未所有,子供なし</td>\n",
       "      <td>離婚済み、車所持、子供無し</td>\n",
       "      <td>独身／車所持／無子</td>\n",
       "    </tr>\n",
       "    <tr>\n",
       "      <th>ProdTaken</th>\n",
       "      <td>1</td>\n",
       "      <td>0</td>\n",
       "      <td>1</td>\n",
       "      <td>0</td>\n",
       "      <td>1</td>\n",
       "    </tr>\n",
       "  </tbody>\n",
       "</table>\n",
       "</div>"
      ],
      "text/plain": [
       "id                                   0                1                 2  \\\n",
       "Age                                50歳              56歳               NaN   \n",
       "TypeofContact             Self Enquiry  Company Invited      Self Enquiry   \n",
       "CityTier                             2                1                 1   \n",
       "DurationOfPitch                   900秒              14分               10分   \n",
       "Occupation              Large Business         Salaried    Large Business   \n",
       "Gender                            male             Male            Female   \n",
       "NumberOfPersonVisiting               1                1                 1   \n",
       "NumberOfFollowups                    4                4                 3   \n",
       "ProductPitched                   Basic         Standard             Basic   \n",
       "PreferredPropertyStar                3                3                 3   \n",
       "NumberOfTrips                        5                2                 4   \n",
       "Passport                             1                1                 0   \n",
       "PitchSatisfactionScore               4                4                 4   \n",
       "Designation                  Executive   Senior Manager         Executive   \n",
       "MonthlyIncome                 253905.0         404475.0          278145.0   \n",
       "customer_info             未婚 車未所持 子供なし    離婚済み,車あり,子供無し  結婚済み、自動車未所有,子供なし   \n",
       "ProdTaken                            1                0                 1   \n",
       "\n",
       "id                                   3                4  \n",
       "Age                               三十七歳              48歳  \n",
       "TypeofContact             Self Enquiry  Company Invited  \n",
       "CityTier                             2                3  \n",
       "DurationOfPitch                  1080秒            1020秒  \n",
       "Occupation              Small Business   Small Business  \n",
       "Gender                          female           female  \n",
       "NumberOfPersonVisiting               1                1  \n",
       "NumberOfFollowups                    3                3  \n",
       "ProductPitched                Standard            Basic  \n",
       "PreferredPropertyStar                4                4  \n",
       "NumberOfTrips                        1                4  \n",
       "Passport                             0                0  \n",
       "PitchSatisfactionScore               5                4  \n",
       "Designation             Senior Manager        Executive  \n",
       "MonthlyIncome                 326805.0         258435.0  \n",
       "customer_info            離婚済み、車所持、子供無し        独身／車所持／無子  \n",
       "ProdTaken                            0                1  "
      ]
     },
     "execution_count": 6,
     "metadata": {},
     "output_type": "execute_result"
    }
   ],
   "source": [
    "train.head().T"
   ]
  },
  {
   "cell_type": "code",
   "execution_count": 7,
   "id": "2b3362da",
   "metadata": {},
   "outputs": [
    {
     "name": "stdout",
     "output_type": "stream",
     "text": [
      "<class 'pandas.core.frame.DataFrame'>\n",
      "Int64Index: 3489 entries, 0 to 3488\n",
      "Data columns (total 17 columns):\n",
      " #   Column                  Non-Null Count  Dtype  \n",
      "---  ------                  --------------  -----  \n",
      " 0   Age                     3389 non-null   object \n",
      " 1   TypeofContact           3483 non-null   object \n",
      " 2   CityTier                3489 non-null   int64  \n",
      " 3   DurationOfPitch         3368 non-null   object \n",
      " 4   Occupation              3489 non-null   object \n",
      " 5   Gender                  3489 non-null   object \n",
      " 6   NumberOfPersonVisiting  3489 non-null   float64\n",
      " 7   NumberOfFollowups       3456 non-null   float64\n",
      " 8   ProductPitched          3489 non-null   object \n",
      " 9   PreferredPropertyStar   3489 non-null   float64\n",
      " 10  NumberOfTrips           3467 non-null   object \n",
      " 11  Passport                3489 non-null   int64  \n",
      " 12  PitchSatisfactionScore  3489 non-null   int64  \n",
      " 13  Designation             3489 non-null   object \n",
      " 14  MonthlyIncome           3433 non-null   object \n",
      " 15  customer_info           3489 non-null   object \n",
      " 16  ProdTaken               3489 non-null   int64  \n",
      "dtypes: float64(3), int64(4), object(10)\n",
      "memory usage: 490.6+ KB\n"
     ]
    }
   ],
   "source": [
    "train.info()"
   ]
  },
  {
   "cell_type": "code",
   "execution_count": 8,
   "id": "ba866288",
   "metadata": {},
   "outputs": [
    {
     "data": {
      "text/plain": [
       "Index(['age', 'typeof_contact', 'city_tier', 'duration_of_pitch', 'occupation',\n",
       "       'gender', 'number_of_person_visiting', 'number_of_followups',\n",
       "       'product_pitched', 'preferred_property_star', 'number_of_trips',\n",
       "       'passport', 'pitch_satisfaction_score', 'designation', 'monthly_income',\n",
       "       'prod_taken', 'marital_status', 'car_ownership', 'children'],\n",
       "      dtype='object')"
      ]
     },
     "execution_count": 8,
     "metadata": {},
     "output_type": "execute_result"
    }
   ],
   "source": [
    "cleaned_train.columns"
   ]
  },
  {
   "cell_type": "code",
   "execution_count": 9,
   "id": "a6c5286e",
   "metadata": {},
   "outputs": [
    {
     "data": {
      "text/plain": [
       "0    85.755231\n",
       "1    14.244769\n",
       "Name: prod_taken, dtype: float64"
      ]
     },
     "execution_count": 9,
     "metadata": {},
     "output_type": "execute_result"
    }
   ],
   "source": [
    "cleaned_train[\"prod_taken\"].value_counts()*100/len(cleaned_train)"
   ]
  },
  {
   "cell_type": "code",
   "execution_count": 42,
   "id": "e707cd15",
   "metadata": {},
   "outputs": [],
   "source": [
    "# from pandas.plotting import scatter_matrix\n",
    "# scatter_matrix(cleaned_train,  alpha=0.2, figsize=(10, 10))"
   ]
  },
  {
   "cell_type": "code",
   "execution_count": 52,
   "id": "a2158ef7",
   "metadata": {},
   "outputs": [
    {
     "data": {
      "text/plain": [
       "(0.0, 12.0)"
      ]
     },
     "execution_count": 52,
     "metadata": {},
     "output_type": "execute_result"
    },
    {
     "data": {
      "image/png": "[encoded data removed]",
      "text/plain": [
       "<Figure size 432x288 with 1 Axes>"
      ]
     },
     "metadata": {
      "needs_background": "light"
     },
     "output_type": "display_data"
    }
   ],
   "source": [
    "means = cleaned_train.mean()\n",
    "\n",
    "# Sort the columns based on their means\n",
    "sorted_columns = means.sort_values().index\n",
    "\n",
    "# Reorder the DataFrame columns\n",
    "df_sorted = cleaned_train[sorted_columns]\n",
    "ax = df_sorted.mean().plot(style=\".\")\n",
    "ax.set_ylim(0,12)"
   ]
  },
  {
   "cell_type": "code",
   "execution_count": 10,
   "id": "ad2932a8",
   "metadata": {},
   "outputs": [],
   "source": [
    "def check_nan_count(col_before, col_after):\n",
    "    # city tier\n",
    "    print(\"train\", train[col_before].isna().sum() == cleaned_train[col_after].isna().sum())\n",
    "    print(\"test\", test[col_before].isna().sum() == cleaned_test[col_after].isna().sum())"
   ]
  },
  {
   "cell_type": "code",
   "execution_count": 11,
   "id": "b49192e2",
   "metadata": {},
   "outputs": [],
   "source": [
    "def plot_hist(col, bins=10):\n",
    "    cleaned_train[col].plot(kind=\"hist\", alpha=0.5,bins=bins)\n",
    "    cleaned_test[col].plot(kind=\"hist\", alpha=0.5, bins=bins)"
   ]
  },
  {
   "cell_type": "markdown",
   "id": "833ca7ee",
   "metadata": {},
   "source": [
    "## column: id "
   ]
  },
  {
   "cell_type": "code",
   "execution_count": null,
   "id": "de17f642",
   "metadata": {},
   "outputs": [],
   "source": []
  },
  {
   "cell_type": "code",
   "execution_count": null,
   "id": "a96540f5",
   "metadata": {},
   "outputs": [],
   "source": []
  },
  {
   "cell_type": "code",
   "execution_count": 12,
   "id": "2a0cbeea",
   "metadata": {},
   "outputs": [],
   "source": [
    "# train[\"id\"].nunique(), test[\"id\"].nunique()"
   ]
  },
  {
   "cell_type": "code",
   "execution_count": 13,
   "id": "b8cf0538",
   "metadata": {},
   "outputs": [],
   "source": [
    "# train[\"id\"].min(), train[\"id\"].max(), test[\"id\"].min(), test[\"id\"].max()"
   ]
  },
  {
   "cell_type": "markdown",
   "id": "14506572",
   "metadata": {},
   "source": [
    "### just id of the row"
   ]
  },
  {
   "cell_type": "markdown",
   "id": "a361223b",
   "metadata": {},
   "source": [
    "## column: age "
   ]
  },
  {
   "cell_type": "code",
   "execution_count": 14,
   "id": "4b47425b",
   "metadata": {},
   "outputs": [
    {
     "data": {
      "text/plain": [
       "(53, 53)"
      ]
     },
     "execution_count": 14,
     "metadata": {},
     "output_type": "execute_result"
    }
   ],
   "source": [
    "cleaned_train[\"age\"].nunique(), cleaned_test[\"age\"].nunique()"
   ]
  },
  {
   "cell_type": "code",
   "execution_count": 15,
   "id": "cec4f660",
   "metadata": {},
   "outputs": [
    {
     "data": {
      "text/plain": [
       "count    3389.000000\n",
       "mean       40.549425\n",
       "std        13.839600\n",
       "min        10.000000\n",
       "25%        31.000000\n",
       "50%        39.000000\n",
       "75%        48.000000\n",
       "max       140.000000\n",
       "Name: age, dtype: float64"
      ]
     },
     "execution_count": 15,
     "metadata": {},
     "output_type": "execute_result"
    }
   ],
   "source": [
    "cleaned_train[\"age\"].describe()"
   ]
  },
  {
   "cell_type": "code",
   "execution_count": null,
   "id": "fefca44d",
   "metadata": {},
   "outputs": [],
   "source": []
  },
  {
   "cell_type": "code",
   "execution_count": 16,
   "id": "3666c80f",
   "metadata": {},
   "outputs": [
    {
     "data": {
      "text/plain": [
       "count    3396.000000\n",
       "mean       40.635748\n",
       "std        14.221480\n",
       "min        10.000000\n",
       "25%        31.000000\n",
       "50%        39.000000\n",
       "75%        48.000000\n",
       "max       140.000000\n",
       "Name: age, dtype: float64"
      ]
     },
     "execution_count": 16,
     "metadata": {},
     "output_type": "execute_result"
    }
   ],
   "source": [
    "cleaned_test[\"age\"].describe()"
   ]
  },
  {
   "cell_type": "markdown",
   "id": "a56c697e",
   "metadata": {},
   "source": [
    "### minimum of age is 10 and maximum is 140, which is little odd"
   ]
  },
  {
   "cell_type": "code",
   "execution_count": 17,
   "id": "dd7a4412",
   "metadata": {},
   "outputs": [
    {
     "data": {
      "image/png": "[encoded data removed]",
      "text/plain": [
       "<Figure size 432x288 with 1 Axes>"
      ]
     },
     "metadata": {
      "needs_background": "light"
     },
     "output_type": "display_data"
    }
   ],
   "source": [
    "plot_hist(\"age\", 131)"
   ]
  },
  {
   "cell_type": "code",
   "execution_count": 18,
   "id": "327c4909",
   "metadata": {},
   "outputs": [],
   "source": [
    "#looks like some of the ages are missing, let's find out the missing age\n",
    "age_range = [10, 140]\n",
    "missing_ages = []\n",
    "\n",
    "for age in range(10, 140): \n",
    "    if age not in cleaned_train[\"age\"].unique() and age not in cleaned_test[\"age\"].unique():\n",
    "        missing_ages.append(age)"
   ]
  },
  {
   "cell_type": "code",
   "execution_count": 19,
   "id": "d043de80",
   "metadata": {},
   "outputs": [],
   "source": [
    "missing_ages = sorted(missing_ages)"
   ]
  },
  {
   "cell_type": "code",
   "execution_count": 20,
   "id": "b7e55838",
   "metadata": {},
   "outputs": [
    {
     "data": {
      "text/plain": [
       "78"
      ]
     },
     "execution_count": 20,
     "metadata": {},
     "output_type": "execute_result"
    }
   ],
   "source": [
    "len(missing_ages)"
   ]
  },
  {
   "cell_type": "code",
   "execution_count": 56,
   "id": "e2f6594d",
   "metadata": {},
   "outputs": [],
   "source": [
    "# missing_ages"
   ]
  },
  {
   "cell_type": "code",
   "execution_count": 21,
   "id": "25c5e2fb",
   "metadata": {},
   "outputs": [],
   "source": [
    "# it could be possible that some of the age values are altered?\n",
    "# slice the df based on age \n",
    "age_common = cleaned_train[(cleaned_train.age>=18) | (cleaned_train.age<=61)]\n",
    "age_outliar = cleaned_train[(cleaned_train.age<18) | (cleaned_train.age> 61)]"
   ]
  },
  {
   "cell_type": "code",
   "execution_count": 22,
   "id": "dfdedc6f",
   "metadata": {},
   "outputs": [
    {
     "data": {
      "text/plain": [
       "0    86.161109\n",
       "1    13.838891\n",
       "Name: prod_taken, dtype: float64"
      ]
     },
     "execution_count": 22,
     "metadata": {},
     "output_type": "execute_result"
    }
   ],
   "source": [
    "age_common[\"prod_taken\"].value_counts()*100/len(age_common)"
   ]
  },
  {
   "cell_type": "code",
   "execution_count": 23,
   "id": "5481f708",
   "metadata": {},
   "outputs": [
    {
     "data": {
      "text/plain": [
       "0    79\n",
       "1    11\n",
       "Name: prod_taken, dtype: int64"
      ]
     },
     "execution_count": 23,
     "metadata": {},
     "output_type": "execute_result"
    }
   ],
   "source": [
    "age_outliar[\"prod_taken\"].value_counts()"
   ]
  },
  {
   "cell_type": "code",
   "execution_count": 24,
   "id": "2155e438",
   "metadata": {},
   "outputs": [
    {
     "data": {
      "text/plain": [
       "0    87.777778\n",
       "1    12.222222\n",
       "Name: prod_taken, dtype: float64"
      ]
     },
     "execution_count": 24,
     "metadata": {},
     "output_type": "execute_result"
    }
   ],
   "source": [
    "age_outliar[\"prod_taken\"].value_counts()*100/len(age_outliar)"
   ]
  },
  {
   "cell_type": "code",
   "execution_count": 25,
   "id": "2e3e085f",
   "metadata": {},
   "outputs": [
    {
     "data": {
      "text/plain": [
       "<matplotlib.collections.PathCollection at 0x7f063abb4eb8>"
      ]
     },
     "execution_count": 25,
     "metadata": {},
     "output_type": "execute_result"
    },
    {
     "data": {
      "image/png": "[encoded data removed]",
      "text/plain": [
       "<Figure size 432x288 with 1 Axes>"
      ]
     },
     "metadata": {
      "needs_background": "light"
     },
     "output_type": "display_data"
    }
   ],
   "source": [
    "plt.scatter(age_outliar[\"age\"], age_outliar[\"prod_taken\"])"
   ]
  },
  {
   "cell_type": "code",
   "execution_count": 26,
   "id": "3210b11d",
   "metadata": {},
   "outputs": [
    {
     "data": {
      "text/html": [
       "<div>\n",
       "<style scoped>\n",
       "    .dataframe tbody tr th:only-of-type {\n",
       "        vertical-align: middle;\n",
       "    }\n",
       "\n",
       "    .dataframe tbody tr th {\n",
       "        vertical-align: top;\n",
       "    }\n",
       "\n",
       "    .dataframe thead th {\n",
       "        text-align: right;\n",
       "    }\n",
       "</style>\n",
       "<table border=\"1\" class=\"dataframe\">\n",
       "  <thead>\n",
       "    <tr style=\"text-align: right;\">\n",
       "      <th></th>\n",
       "      <th>age</th>\n",
       "      <th>marital_status</th>\n",
       "      <th>children</th>\n",
       "    </tr>\n",
       "    <tr>\n",
       "      <th>id</th>\n",
       "      <th></th>\n",
       "      <th></th>\n",
       "      <th></th>\n",
       "    </tr>\n",
       "  </thead>\n",
       "  <tbody>\n",
       "    <tr>\n",
       "      <th>723</th>\n",
       "      <td>10.0</td>\n",
       "      <td>Unmarried</td>\n",
       "      <td>2 Children</td>\n",
       "    </tr>\n",
       "    <tr>\n",
       "      <th>1695</th>\n",
       "      <td>10.0</td>\n",
       "      <td>Single</td>\n",
       "      <td>NaN</td>\n",
       "    </tr>\n",
       "    <tr>\n",
       "      <th>622</th>\n",
       "      <td>70.0</td>\n",
       "      <td>Unmarried</td>\n",
       "      <td>2 Children</td>\n",
       "    </tr>\n",
       "    <tr>\n",
       "      <th>2550</th>\n",
       "      <td>70.0</td>\n",
       "      <td>Single</td>\n",
       "      <td>1 Children</td>\n",
       "    </tr>\n",
       "    <tr>\n",
       "      <th>797</th>\n",
       "      <td>70.0</td>\n",
       "      <td>Divorced</td>\n",
       "      <td>NaN</td>\n",
       "    </tr>\n",
       "    <tr>\n",
       "      <th>...</th>\n",
       "      <td>...</td>\n",
       "      <td>...</td>\n",
       "      <td>...</td>\n",
       "    </tr>\n",
       "    <tr>\n",
       "      <th>448</th>\n",
       "      <td>130.0</td>\n",
       "      <td>Married</td>\n",
       "      <td>1 Children</td>\n",
       "    </tr>\n",
       "    <tr>\n",
       "      <th>1244</th>\n",
       "      <td>130.0</td>\n",
       "      <td>Single</td>\n",
       "      <td>1 Children</td>\n",
       "    </tr>\n",
       "    <tr>\n",
       "      <th>3407</th>\n",
       "      <td>130.0</td>\n",
       "      <td>Married</td>\n",
       "      <td>1 Children</td>\n",
       "    </tr>\n",
       "    <tr>\n",
       "      <th>2997</th>\n",
       "      <td>130.0</td>\n",
       "      <td>Married</td>\n",
       "      <td>No Children</td>\n",
       "    </tr>\n",
       "    <tr>\n",
       "      <th>3152</th>\n",
       "      <td>140.0</td>\n",
       "      <td>Unmarried</td>\n",
       "      <td>1 Children</td>\n",
       "    </tr>\n",
       "  </tbody>\n",
       "</table>\n",
       "<p>90 rows × 3 columns</p>\n",
       "</div>"
      ],
      "text/plain": [
       "        age marital_status     children\n",
       "id                                     \n",
       "723    10.0      Unmarried   2 Children\n",
       "1695   10.0         Single          NaN\n",
       "622    70.0      Unmarried   2 Children\n",
       "2550   70.0         Single   1 Children\n",
       "797    70.0       Divorced          NaN\n",
       "...     ...            ...          ...\n",
       "448   130.0        Married   1 Children\n",
       "1244  130.0         Single   1 Children\n",
       "3407  130.0        Married   1 Children\n",
       "2997  130.0        Married  No Children\n",
       "3152  140.0      Unmarried   1 Children\n",
       "\n",
       "[90 rows x 3 columns]"
      ]
     },
     "execution_count": 26,
     "metadata": {},
     "output_type": "execute_result"
    }
   ],
   "source": [
    "age_outliar[[\"age\", \"marital_status\", \"children\"]].sort_values(\"age\")"
   ]
  },
  {
   "cell_type": "markdown",
   "id": "bd42bf7b",
   "metadata": {},
   "source": [
    "## 10 years old with children, there seems to be issues with the data"
   ]
  },
  {
   "cell_type": "markdown",
   "id": "2aaf2a4f",
   "metadata": {},
   "source": [
    "## columns: TypeofContact"
   ]
  },
  {
   "cell_type": "code",
   "execution_count": 27,
   "id": "234d569d",
   "metadata": {},
   "outputs": [
    {
     "name": "stdout",
     "output_type": "stream",
     "text": [
      "train True\n",
      "test True\n"
     ]
    }
   ],
   "source": [
    "check_nan_count(\"TypeofContact\", \"typeof_contact\")"
   ]
  },
  {
   "cell_type": "code",
   "execution_count": 28,
   "id": "c04854eb",
   "metadata": {},
   "outputs": [
    {
     "data": {
      "text/plain": [
       "Self Enquiry       2194\n",
       "Company Invited    1289\n",
       "NaN                   6\n",
       "Name: typeof_contact, dtype: int64"
      ]
     },
     "execution_count": 28,
     "metadata": {},
     "output_type": "execute_result"
    }
   ],
   "source": [
    "cleaned_train[\"typeof_contact\"].value_counts(dropna=False)"
   ]
  },
  {
   "cell_type": "code",
   "execution_count": 29,
   "id": "1e3fce3c",
   "metadata": {},
   "outputs": [
    {
     "data": {
      "text/plain": [
       "Self Enquiry       2250\n",
       "Company Invited    1227\n",
       "NaN                  12\n",
       "Name: typeof_contact, dtype: int64"
      ]
     },
     "execution_count": 29,
     "metadata": {},
     "output_type": "execute_result"
    }
   ],
   "source": [
    "cleaned_test[\"typeof_contact\"].value_counts(dropna=False)"
   ]
  },
  {
   "cell_type": "code",
   "execution_count": 30,
   "id": "1f371b67",
   "metadata": {},
   "outputs": [
    {
     "data": {
      "text/plain": [
       "typeof_contact\n",
       "Company Invited    0.182312\n",
       "Self Enquiry       0.119417\n",
       "Name: prod_taken, dtype: float64"
      ]
     },
     "execution_count": 30,
     "metadata": {},
     "output_type": "execute_result"
    }
   ],
   "source": [
    "cleaned_train.groupby(\"typeof_contact\")[\"prod_taken\"].mean()"
   ]
  },
  {
   "cell_type": "code",
   "execution_count": 31,
   "id": "0d5f0cf1",
   "metadata": {},
   "outputs": [
    {
     "data": {
      "text/plain": [
       "typeof_contact   designation   \n",
       "Company Invited  avp               0.083333\n",
       "                 executive         0.395294\n",
       "                 manager           0.051680\n",
       "                 senior manager    0.100575\n",
       "                 vp                0.142857\n",
       "Self Enquiry     avp               0.073892\n",
       "                 executive         0.257261\n",
       "                 manager           0.027108\n",
       "                 senior manager    0.077075\n",
       "                 vp                0.040816\n",
       "Name: prod_taken, dtype: float64"
      ]
     },
     "execution_count": 31,
     "metadata": {},
     "output_type": "execute_result"
    }
   ],
   "source": [
    "cleaned_train.groupby([\"typeof_contact\", \"designation\"])[\"prod_taken\"].mean()"
   ]
  },
  {
   "cell_type": "markdown",
   "id": "2749f8a2",
   "metadata": {},
   "source": [
    "## city tier"
   ]
  },
  {
   "cell_type": "code",
   "execution_count": 32,
   "id": "88ba7cf7",
   "metadata": {},
   "outputs": [
    {
     "name": "stdout",
     "output_type": "stream",
     "text": [
      "train True\n",
      "test True\n"
     ]
    }
   ],
   "source": [
    "# city tier\n",
    "check_nan_count(\"CityTier\", \"city_tier\")\n"
   ]
  },
  {
   "cell_type": "code",
   "execution_count": 33,
   "id": "80c2708e",
   "metadata": {},
   "outputs": [
    {
     "data": {
      "text/plain": [
       "2    1596\n",
       "1    1475\n",
       "3     418\n",
       "Name: city_tier, dtype: int64"
      ]
     },
     "execution_count": 33,
     "metadata": {},
     "output_type": "execute_result"
    }
   ],
   "source": [
    "cleaned_train[\"city_tier\"].value_counts(dropna=False)"
   ]
  },
  {
   "cell_type": "code",
   "execution_count": 34,
   "id": "a9fef879",
   "metadata": {},
   "outputs": [
    {
     "data": {
      "text/plain": [
       "2    1564\n",
       "1    1516\n",
       "3     409\n",
       "Name: city_tier, dtype: int64"
      ]
     },
     "execution_count": 34,
     "metadata": {},
     "output_type": "execute_result"
    }
   ],
   "source": [
    "cleaned_test[\"city_tier\"].value_counts(dropna=False)"
   ]
  },
  {
   "cell_type": "markdown",
   "id": "009db28f",
   "metadata": {},
   "source": [
    "## columns: duration of pitch "
   ]
  },
  {
   "cell_type": "code",
   "execution_count": 35,
   "id": "269d6c7b",
   "metadata": {},
   "outputs": [
    {
     "name": "stdout",
     "output_type": "stream",
     "text": [
      "train True\n",
      "test True\n"
     ]
    }
   ],
   "source": [
    "check_nan_count(\"DurationOfPitch\", \"duration_of_pitch\")"
   ]
  },
  {
   "cell_type": "code",
   "execution_count": 36,
   "id": "30010f57",
   "metadata": {},
   "outputs": [
    {
     "data": {
      "text/plain": [
       "480.0     338\n",
       "540.0     327\n",
       "900.0     284\n",
       "840.0     266\n",
       "960.0     259\n",
       "420.0     239\n",
       "600.0     231\n",
       "780.0     203\n",
       "660.0     160\n",
       "720.0     158\n",
       "1020.0    136\n",
       "NaN       121\n",
       "360.0      80\n",
       "1080.0     74\n",
       "1920.0     53\n",
       "1380.0     51\n",
       "1320.0     45\n",
       "1860.0     43\n",
       "1440.0     40\n",
       "1500.0     38\n",
       "1200.0     36\n",
       "1620.0     35\n",
       "1980.0     34\n",
       "1260.0     31\n",
       "1800.0     31\n",
       "1680.0     29\n",
       "2040.0     29\n",
       "1560.0     27\n",
       "2100.0     25\n",
       "1740.0     20\n",
       "1140.0     19\n",
       "300.0      18\n",
       "2160.0      7\n",
       "240.0       2\n",
       "Name: duration_of_pitch, dtype: int64"
      ]
     },
     "execution_count": 36,
     "metadata": {},
     "output_type": "execute_result"
    }
   ],
   "source": [
    "cleaned_train[\"duration_of_pitch\"].value_counts(dropna=False)"
   ]
  },
  {
   "cell_type": "code",
   "execution_count": 37,
   "id": "c175663a",
   "metadata": {},
   "outputs": [
    {
     "data": {
      "text/plain": [
       "480.0     333\n",
       "540.0     327\n",
       "900.0     285\n",
       "960.0     268\n",
       "840.0     252\n",
       "600.0     236\n",
       "420.0     207\n",
       "780.0     194\n",
       "1020.0    176\n",
       "660.0     146\n",
       "720.0     135\n",
       "NaN       131\n",
       "360.0      87\n",
       "1080.0     59\n",
       "1380.0     53\n",
       "2040.0     46\n",
       "1440.0     46\n",
       "1860.0     43\n",
       "1500.0     41\n",
       "1920.0     40\n",
       "1320.0     39\n",
       "1560.0     37\n",
       "1980.0     35\n",
       "1800.0     34\n",
       "1260.0     34\n",
       "2100.0     33\n",
       "1140.0     31\n",
       "1200.0     30\n",
       "1740.0     28\n",
       "1680.0     27\n",
       "300.0      25\n",
       "1620.0     22\n",
       "2160.0      8\n",
       "240.0       1\n",
       "Name: duration_of_pitch, dtype: int64"
      ]
     },
     "execution_count": 37,
     "metadata": {},
     "output_type": "execute_result"
    }
   ],
   "source": [
    "cleaned_test[\"duration_of_pitch\"].value_counts(dropna=False)"
   ]
  },
  {
   "cell_type": "code",
   "execution_count": 38,
   "id": "954bc57b",
   "metadata": {},
   "outputs": [],
   "source": [
    "# all the numbers are divisible by 60! why?"
   ]
  },
  {
   "cell_type": "code",
   "execution_count": 39,
   "id": "da644401",
   "metadata": {},
   "outputs": [
    {
     "data": {
      "image/png": "[encoded data removed]",
      "text/plain": [
       "<Figure size 432x288 with 1 Axes>"
      ]
     },
     "metadata": {
      "needs_background": "light"
     },
     "output_type": "display_data"
    }
   ],
   "source": [
    "plot_hist(\"duration_of_pitch\", 40)"
   ]
  },
  {
   "cell_type": "code",
   "execution_count": 40,
   "id": "de3ae3b4",
   "metadata": {},
   "outputs": [],
   "source": [
    "# does pitch has any relation with contact type?"
   ]
  },
  {
   "cell_type": "code",
   "execution_count": 41,
   "id": "2292ed8c",
   "metadata": {},
   "outputs": [
    {
     "data": {
      "text/plain": [
       "typeof_contact\n",
       "Company Invited    874.165982\n",
       "Self Enquiry       852.982783\n",
       "Name: duration_of_pitch, dtype: float64"
      ]
     },
     "execution_count": 41,
     "metadata": {},
     "output_type": "execute_result"
    }
   ],
   "source": [
    "cleaned_train.groupby(\"typeof_contact\")[\"duration_of_pitch\"].mean()"
   ]
  },
  {
   "cell_type": "code",
   "execution_count": 42,
   "id": "3a142438",
   "metadata": {},
   "outputs": [
    {
     "data": {
      "text/plain": [
       "product_pitched\n",
       "basic            801.095406\n",
       "deluxe          1045.263158\n",
       "king             723.809524\n",
       "standard         729.274673\n",
       "super deluxe     922.946708\n",
       "Name: duration_of_pitch, dtype: float64"
      ]
     },
     "execution_count": 42,
     "metadata": {},
     "output_type": "execute_result"
    }
   ],
   "source": [
    "cleaned_train.groupby(\"product_pitched\")[\"duration_of_pitch\"].mean()"
   ]
  },
  {
   "cell_type": "code",
   "execution_count": 43,
   "id": "6b04bece",
   "metadata": {},
   "outputs": [
    {
     "data": {
      "text/plain": [
       "gender\n",
       "female    873.796635\n",
       "male      851.724138\n",
       "Name: duration_of_pitch, dtype: float64"
      ]
     },
     "execution_count": 43,
     "metadata": {},
     "output_type": "execute_result"
    }
   ],
   "source": [
    "cleaned_train.groupby(\"gender\")[\"duration_of_pitch\"].mean()"
   ]
  },
  {
   "cell_type": "code",
   "execution_count": 44,
   "id": "7638c0d4",
   "metadata": {},
   "outputs": [
    {
     "data": {
      "text/plain": [
       "prod_taken\n",
       "0    866.114958\n",
       "1    828.000000\n",
       "Name: duration_of_pitch, dtype: float64"
      ]
     },
     "execution_count": 44,
     "metadata": {},
     "output_type": "execute_result"
    }
   ],
   "source": [
    "cleaned_train.groupby(\"prod_taken\")[\"duration_of_pitch\"].mean()"
   ]
  },
  {
   "cell_type": "code",
   "execution_count": 45,
   "id": "c57f3962",
   "metadata": {},
   "outputs": [
    {
     "data": {
      "text/plain": [
       "0    104\n",
       "1     17\n",
       "Name: prod_taken, dtype: int64"
      ]
     },
     "execution_count": 45,
     "metadata": {},
     "output_type": "execute_result"
    }
   ],
   "source": [
    "cleaned_train[cleaned_train[\"duration_of_pitch\"].isna()][\"prod_taken\"].value_counts()"
   ]
  },
  {
   "cell_type": "code",
   "execution_count": 46,
   "id": "72f1baf4",
   "metadata": {},
   "outputs": [
    {
     "data": {
      "text/plain": [
       "deluxe          95\n",
       "basic           25\n",
       "super deluxe     1\n",
       "Name: product_pitched, dtype: int64"
      ]
     },
     "execution_count": 46,
     "metadata": {},
     "output_type": "execute_result"
    }
   ],
   "source": [
    "cleaned_train[cleaned_train[\"duration_of_pitch\"].isna()][\"product_pitched\"].value_counts()"
   ]
  },
  {
   "cell_type": "code",
   "execution_count": 47,
   "id": "6910c670",
   "metadata": {},
   "outputs": [
    {
     "name": "stdout",
     "output_type": "stream",
     "text": [
      "train True\n",
      "test True\n"
     ]
    }
   ],
   "source": [
    "check_nan_count(\"Gender\", \"gender\")"
   ]
  },
  {
   "cell_type": "code",
   "execution_count": 48,
   "id": "e66489f7",
   "metadata": {},
   "outputs": [
    {
     "data": {
      "text/plain": [
       "male      2064\n",
       "female    1425\n",
       "Name: gender, dtype: int64"
      ]
     },
     "execution_count": 48,
     "metadata": {},
     "output_type": "execute_result"
    }
   ],
   "source": [
    "cleaned_train[\"gender\"].value_counts(dropna=False)"
   ]
  },
  {
   "cell_type": "code",
   "execution_count": 49,
   "id": "47725e38",
   "metadata": {},
   "outputs": [
    {
     "data": {
      "text/plain": [
       "male      2154\n",
       "female    1335\n",
       "Name: gender, dtype: int64"
      ]
     },
     "execution_count": 49,
     "metadata": {},
     "output_type": "execute_result"
    }
   ],
   "source": [
    "cleaned_test[\"gender\"].value_counts(dropna=False)"
   ]
  },
  {
   "cell_type": "code",
   "execution_count": 50,
   "id": "e7bc12ab",
   "metadata": {},
   "outputs": [
    {
     "data": {
      "text/plain": [
       "gender\n",
       "female    0.102456\n",
       "male      0.170058\n",
       "Name: prod_taken, dtype: float64"
      ]
     },
     "execution_count": 50,
     "metadata": {},
     "output_type": "execute_result"
    }
   ],
   "source": [
    "cleaned_train.groupby(\"gender\")[\"prod_taken\"].mean()"
   ]
  },
  {
   "cell_type": "code",
   "execution_count": 51,
   "id": "50a2c96a",
   "metadata": {},
   "outputs": [
    {
     "data": {
      "text/plain": [
       "gender\n",
       "female    350196.522206\n",
       "male      359423.399607\n",
       "Name: monthly_income, dtype: float64"
      ]
     },
     "execution_count": 51,
     "metadata": {},
     "output_type": "execute_result"
    }
   ],
   "source": [
    "cleaned_train.groupby(\"gender\")[\"monthly_income\"].mean()"
   ]
  },
  {
   "cell_type": "code",
   "execution_count": 52,
   "id": "2e7db8f0",
   "metadata": {},
   "outputs": [
    {
     "data": {
      "text/plain": [
       "Married      1384\n",
       "Divorced      878\n",
       "Single        646\n",
       "Unmarried     581\n",
       "Name: marital_status, dtype: int64"
      ]
     },
     "execution_count": 52,
     "metadata": {},
     "output_type": "execute_result"
    }
   ],
   "source": [
    "cleaned_train[\"marital_status\"].value_counts(dropna=False)"
   ]
  },
  {
   "cell_type": "code",
   "execution_count": 53,
   "id": "dda37140",
   "metadata": {},
   "outputs": [
    {
     "data": {
      "text/plain": [
       "1 Children     1531\n",
       "No Children     985\n",
       "2 Children      807\n",
       "3 Children       72\n",
       "NaN              57\n",
       "unknown          37\n",
       "Name: children, dtype: int64"
      ]
     },
     "execution_count": 53,
     "metadata": {},
     "output_type": "execute_result"
    }
   ],
   "source": [
    "cleaned_train[\"children\"].value_counts(dropna=False)"
   ]
  },
  {
   "cell_type": "code",
   "execution_count": 54,
   "id": "7e623091",
   "metadata": {},
   "outputs": [
    {
     "data": {
      "text/plain": [
       "Car Ownership       3069\n",
       "No Car Ownership     420\n",
       "Name: car_ownership, dtype: int64"
      ]
     },
     "execution_count": 54,
     "metadata": {},
     "output_type": "execute_result"
    }
   ],
   "source": [
    "cleaned_train[\"car_ownership\"].value_counts(dropna=False)"
   ]
  },
  {
   "cell_type": "code",
   "execution_count": 37,
   "id": "0c3f3356",
   "metadata": {},
   "outputs": [
    {
     "data": {
      "text/plain": [
       "<matplotlib.collections.PathCollection at 0x7f15fb6167b8>"
      ]
     },
     "execution_count": 37,
     "metadata": {},
     "output_type": "execute_result"
    },
    {
     "data": {
      "image/png": "[encoded data removed]",
      "text/plain": [
       "<Figure size 432x288 with 1 Axes>"
      ]
     },
     "metadata": {
      "needs_background": "light"
     },
     "output_type": "display_data"
    }
   ],
   "source": [
    "plt.scatter(range(len(train)), cleaned_train[\"monthly_income\"],marker=\".\", c=y)"
   ]
  },
  {
   "cell_type": "code",
   "execution_count": 38,
   "id": "caf8d865",
   "metadata": {},
   "outputs": [
    {
     "data": {
      "text/plain": [
       "<matplotlib.collections.PathCollection at 0x7f15fb7def28>"
      ]
     },
     "execution_count": 38,
     "metadata": {},
     "output_type": "execute_result"
    },
    {
     "data": {
      "image/png": "[encoded data removed]",
      "text/plain": [
       "<Figure size 432x288 with 1 Axes>"
      ]
     },
     "metadata": {
      "needs_background": "light"
     },
     "output_type": "display_data"
    }
   ],
   "source": [
    "plt.scatter(range(len(train)), cleaned_train[\"age\"],marker=\".\", c=y)"
   ]
  },
  {
   "cell_type": "code",
   "execution_count": null,
   "id": "c3d1db04",
   "metadata": {},
   "outputs": [],
   "source": []
  }
 ],
 "metadata": {
  "kernelspec": {
   "display_name": ".venv",
   "language": "python",
   "name": ".venv"
  },
  "language_info": {
   "codemirror_mode": {
    "name": "ipython",
    "version": 3
   },
   "file_extension": ".py",
   "mimetype": "text/x-python",
   "name": "python",
   "nbconvert_exporter": "python",
   "pygments_lexer": "ipython3",
   "version": "3.6.9"
  }
 },
 "nbformat": 4,
 "nbformat_minor": 5
}
