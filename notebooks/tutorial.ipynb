{
 "cells": [
  {
   "cell_type": "markdown",
   "metadata": {
    "id": "-wwd-OGCE-il"
   },
   "source": [
    "# チュートリアル\n",
    "\n",
    "SIGNATE Cup 2024へようこそ!\n",
    "\n",
    "このチュートリアルでは旅行会社の保有する顧客データ（属性や志向、営業担当との接触履歴等）を元に、旅行パッケージの成約率の予測を行います。\n",
    "\n",
    "このチュートリアルでは、予測アルゴリズムの作成を[Google Colaboratory](https://colab.research.google.com/)上で実装し、提出ファイルを作成するところまでを説明します。\n",
    "\n",
    "Google Colaboratoryは、ブラウザ上でpythonによるプログラミングができる無料のサービスで、利用にはgoogleアカウントが必要です。\n",
    "\n",
    "このチュートリアルで行う分析の大まかな流れは次の通りです:\n",
    "\n",
    "1. ライブラリの読み込み\n",
    "2. データの読み込みと確認\n",
    "3. データの可視化\n",
    "4. データの前処理\n",
    "5. データの分割\n",
    "6. モデルの学習・検証\n",
    "7. 予測・提出ファイルの作成\n",
    "8. 今後の方針(ChatGPTの活用例など)\n",
    "\n",
    "\n",
    "チュートリアル終了後も、このコードをベースに精度を改善してみてください。\n",
    "\n",
    "たくさんの投稿を心よりお待ちしております!"
   ]
  },
  {
   "cell_type": "markdown",
   "metadata": {
    "id": "Ket8bJSEFMp3"
   },
   "source": [
    "# 0. colabへのマウント\n",
    "まずダウンロードしたデータをGoogle Colaboratoryで読み込んで分析を行うためには、Google Driveにファイルをアップロードしてマウントするか、直接Colabにアップロードする方法があります。\n",
    "\n",
    "このチュートリアルでは、**ドライブにアップロードしたファイルを読み込む**ために、まずGoogle DriveをGoogle Colaboratoryにマウントします。\n",
    "\n",
    "Google Driveをマウントすることで、ColabノートブックがDrive内のデータに直接アクセスできるようになり、データの読み込みや保存が容易になります。\n",
    "\n",
    "以下のコードを実行して、ドライブをマウントしてください。"
   ]
  },
  {
   "cell_type": "code",
   "execution_count": 26,
   "metadata": {
    "colab": {
     "base_uri": "https://localhost:8080/"
    },
    "id": "0ss3X2VhFMxm",
    "outputId": "339f8bd2-fc0f-489f-8431-ba9ff657201d",
    "vscode": {
     "languageId": "python"
    }
   },
   "outputs": [],
   "source": [
    "# from google.colab import drive\n",
    "# drive.mount('/content/drive')\n",
    "# DATA_DIR = \"../data\""
   ]
  },
  {
   "cell_type": "markdown",
   "metadata": {
    "id": "pXGp4cbuGvUf"
   },
   "source": [
    "これでdriveにファイルをマウントすることができました。\n",
    "\n",
    "データファイルがドライブ上にアップロードされていると、マウントしたドライブからデータを読み込むことができます。\n",
    "\n",
    "以下のコードでドライブの中身を確認することもできます!\n",
    "\n",
    "\n",
    "\n",
    "```\n",
    "!ls /content/drive/MyDrive\n",
    "```\n",
    "\n"
   ]
  },
  {
   "cell_type": "markdown",
   "metadata": {
    "id": "6qNR9Io0E-in"
   },
   "source": [
    "# 1. ライブラリの読み込み\n",
    "まずpythonでデータ分析を行うには、データ分析に特化したライブラリが必要です。\n",
    "\n",
    "ライブラリとは、pythonで特定の目的や領域に特化した機能を提供するものです。\n",
    "\n",
    "pythonのライブラリを使用すると、短いコードや1行のコードで多くの処理を実装することができます。\n",
    "\n",
    "データ分析を行うライブラリとして、有名なものが\n",
    "- pandas(テーブルデータの処理に特化したライブラリ)\n",
    "- numpy(数値計算に特化したライブラリ)\n",
    "- matplotlib, seaborn(データの可視化ができるライブラリ)\n",
    "\n",
    "の3つがあります。\n",
    "\n",
    "このライブラリを使用するには「import」というコマンドが必要です。\n",
    "\n",
    "早速やってみましょう!"
   ]
  },
  {
   "cell_type": "code",
   "execution_count": 48,
   "metadata": {
    "vscode": {
     "languageId": "python"
    }
   },
   "outputs": [
    {
     "name": "stdout",
     "output_type": "stream",
     "text": [
      "Package               Version\n",
      "--------------------- -------------------\n",
      "aiohttp               3.6.2\n",
      "apturl                0.5.2\n",
      "asn1crypto            0.24.0\n",
      "async-timeout         3.0.1\n",
      "asynctest             0.13.0\n",
      "attrs                 19.3.0\n",
      "autobahn              17.10.1\n",
      "Automat               0.6.0\n",
      "Brlapi                0.6.6\n",
      "cbor                  1.0.0\n",
      "certifi               2018.1.18\n",
      "chardet               3.0.4\n",
      "click                 6.7\n",
      "colorama              0.3.7\n",
      "command-not-found     0.3\n",
      "constantly            15.1.0\n",
      "cryptography          2.1.4\n",
      "cupshelpers           1.0\n",
      "Cython                0.26.1\n",
      "defer                 1.0.6\n",
      "distro-info           0.18ubuntu0.18.04.1\n",
      "GeoIP                 1.3.2\n",
      "hkdf                  0.0.3\n",
      "httpie                0.9.8\n",
      "httplib2              0.9.2\n",
      "humanize              0.5.1\n",
      "hyperlink             17.3.1\n",
      "idna                  2.10\n",
      "idna-ssl              1.1.0\n",
      "ifaddr                0.1.7\n",
      "importlib-metadata    3.4.0\n",
      "incremental           16.10.1\n",
      "iotop                 0.6\n",
      "keyring               10.6.0\n",
      "keyrings.alt          3.0\n",
      "language-selector     0.1\n",
      "launchpadlib          1.10.6\n",
      "lazr.restfulclient    0.13.5\n",
      "lazr.uri              1.0.3\n",
      "louis                 3.5.0\n",
      "lz4                   0.10.1\n",
      "magic-wormhole        0.10.3\n",
      "Mako                  1.0.7\n",
      "MarkupSafe            1.0\n",
      "more-itertools        8.7.0\n",
      "multidict             4.7.6\n",
      "netifaces             0.10.4\n",
      "numpy                 1.19.0\n",
      "oauth                 1.0.1\n",
      "olefile               0.45.1\n",
      "opencv-python         4.2.0.34\n",
      "packaging             20.9\n",
      "PAM                   0.4.2\n",
      "pandas                1.1.5\n",
      "pexpect               4.2.1\n",
      "Pillow                7.2.0\n",
      "pip                   21.0.1\n",
      "pluggy                0.13.1\n",
      "py                    1.10.0\n",
      "py-ubjson             0.8.5\n",
      "pyasn1                0.4.2\n",
      "pyasn1-modules        0.2.1\n",
      "pycairo               1.16.2\n",
      "pycrypto              2.6.1\n",
      "pycups                1.9.73\n",
      "Pygments              2.2.0\n",
      "pygobject             3.26.1\n",
      "PyNaCl                1.1.2\n",
      "pyOpenSSL             17.5.0\n",
      "pyparsing             2.4.7\n",
      "PyQt5                 5.15.2\n",
      "PyQt5-sip             12.8.1\n",
      "pyserial              3.4\n",
      "pytest                5.4.3\n",
      "python-apt            1.6.5+ubuntu0.5\n",
      "python-dateutil       2.8.1\n",
      "python-debian         0.1.32\n",
      "python-magic          0.4.16\n",
      "python-snappy         0.5\n",
      "PyTrie                0.2\n",
      "pytz                  2021.1\n",
      "pyxdg                 0.25\n",
      "PyYAML                5.3.1\n",
      "qrcode                5.3\n",
      "reportlab             3.4.0\n",
      "requests              2.18.4\n",
      "requests-unixsocket   0.1.5\n",
      "scipy                 1.5.4\n",
      "SecretStorage         2.3.1\n",
      "service-identity      16.0.0\n",
      "setuptools            39.0.1\n",
      "simplejson            3.13.2\n",
      "six                   1.11.0\n",
      "spake2                0.7\n",
      "ssh-import-id         5.7\n",
      "systemd-python        234\n",
      "tqdm                  4.19.5\n",
      "Twisted               17.9.0\n",
      "txaio                 2.8.1\n",
      "txtorcon              0.19.3\n",
      "typing-extensions     3.7.4.2\n",
      "u-msgpack-python      2.1\n",
      "ubuntu-drivers-common 0.0.0\n",
      "ufw                   0.36\n",
      "unattended-upgrades   0.1\n",
      "urllib3               1.22\n",
      "usb-creator           0.3.3\n",
      "wadllib               1.3.2\n",
      "wcwidth               0.2.5\n",
      "wheel                 0.30.0\n",
      "wsaccel               0.6.2\n",
      "xkit                  0.0.0\n",
      "yarl                  1.4.2\n",
      "zeroconf              0.28.5\n",
      "zipp                  3.4.0\n",
      "zope.interface        4.3.2\n",
      "\u001b[33mWARNING: You are using pip version 21.0.1; however, version 21.3.1 is available.\n",
      "You should consider upgrading via the '/usr/bin/python -m pip install --upgrade pip' command.\u001b[0m\n"
     ]
    }
   ],
   "source": [
    "!pip list "
   ]
  },
  {
   "cell_type": "code",
   "execution_count": 27,
   "metadata": {
    "id": "zWyUNOHpYqmb",
    "vscode": {
     "languageId": "python"
    }
   },
   "outputs": [],
   "source": [
    "# ライブラリのimportを行います\n",
    "import pandas as pd\n",
    "import numpy as np\n",
    "import matplotlib.pyplot as plt\n",
    "import seaborn as sns"
   ]
  },
  {
   "cell_type": "markdown",
   "metadata": {
    "id": "IWhfGvntE-io"
   },
   "source": [
    "ここで登場する `as` は、pandasのライブラリを `pd` と省略して呼び出すためのものです。このように、ライブラリを短縮名で呼び出すことで、コードがより簡潔になります。\n",
    "\n",
    "ライブラリのインポートはpythonでデータ分析を行う際の基本知識ですので、しっかり覚えておきましょう。"
   ]
  },
  {
   "cell_type": "markdown",
   "metadata": {
    "id": "m03E0iVVE-ip"
   },
   "source": [
    "# 2. データの読み込みと確認\n",
    "それではデータを読み込んでみましょう!\n",
    "\n",
    "データを読み込むには`pd.read_csv()`を使います。\n",
    "\n",
    "このチュートリアルでは、以下のディレクトリ構造を想定しています。\n",
    "```bash\n",
    "SIGNATE_Cup 2024\n",
    "├─data\n",
    "│  ├─train.csv\n",
    "│  └─test.csv\n",
    "│  └─submit_sample.csv\n",
    "└─チュートリアル.ipynb\n",
    "```\n",
    "次に、実際にデータを読み込んで確認してみましょう。"
   ]
  },
  {
   "cell_type": "code",
   "execution_count": 28,
   "metadata": {
    "id": "dk2Tvn4MYqmf",
    "vscode": {
     "languageId": "python"
    }
   },
   "outputs": [],
   "source": [
    "# 自分のドライブにマウントしているとドライブ上のファイルを読み込むことができます。\n",
    "# ファイルの場所がわからない場合、左のタブから目的のファイルを探し、「パスをコピー」しペーストすることで読み込めます。\n",
    "train = pd.read_csv(\"../data/train.csv\")\n",
    "test = pd.read_csv(\"../data/test.csv\")"
   ]
  },
  {
   "cell_type": "markdown",
   "metadata": {
    "id": "4WF33hL5E-ip"
   },
   "source": [
    "読み込めましたね。\n",
    "次にデータの中身を簡単にみてみましょう。"
   ]
  },
  {
   "cell_type": "code",
   "execution_count": 29,
   "metadata": {
    "colab": {
     "base_uri": "https://localhost:8080/",
     "height": 330
    },
    "id": "Z2oc0UHSYqmg",
    "outputId": "f8b5f80f-1954-4774-f86f-6fb154a23eff",
    "vscode": {
     "languageId": "python"
    }
   },
   "outputs": [
    {
     "data": {
      "text/html": [
       "<div>\n",
       "<style scoped>\n",
       "    .dataframe tbody tr th:only-of-type {\n",
       "        vertical-align: middle;\n",
       "    }\n",
       "\n",
       "    .dataframe tbody tr th {\n",
       "        vertical-align: top;\n",
       "    }\n",
       "\n",
       "    .dataframe thead th {\n",
       "        text-align: right;\n",
       "    }\n",
       "</style>\n",
       "<table border=\"1\" class=\"dataframe\">\n",
       "  <thead>\n",
       "    <tr style=\"text-align: right;\">\n",
       "      <th></th>\n",
       "      <th>id</th>\n",
       "      <th>Age</th>\n",
       "      <th>TypeofContact</th>\n",
       "      <th>CityTier</th>\n",
       "      <th>DurationOfPitch</th>\n",
       "      <th>Occupation</th>\n",
       "      <th>Gender</th>\n",
       "      <th>NumberOfPersonVisiting</th>\n",
       "      <th>NumberOfFollowups</th>\n",
       "      <th>ProductPitched</th>\n",
       "      <th>PreferredPropertyStar</th>\n",
       "      <th>NumberOfTrips</th>\n",
       "      <th>Passport</th>\n",
       "      <th>PitchSatisfactionScore</th>\n",
       "      <th>Designation</th>\n",
       "      <th>MonthlyIncome</th>\n",
       "      <th>customer_info</th>\n",
       "      <th>ProdTaken</th>\n",
       "    </tr>\n",
       "  </thead>\n",
       "  <tbody>\n",
       "    <tr>\n",
       "      <th>0</th>\n",
       "      <td>0</td>\n",
       "      <td>50歳</td>\n",
       "      <td>Self Enquiry</td>\n",
       "      <td>2</td>\n",
       "      <td>900秒</td>\n",
       "      <td>Large Business</td>\n",
       "      <td>male</td>\n",
       "      <td>1.0</td>\n",
       "      <td>4.0</td>\n",
       "      <td>Basic</td>\n",
       "      <td>3.0</td>\n",
       "      <td>5</td>\n",
       "      <td>1</td>\n",
       "      <td>4</td>\n",
       "      <td>Executive</td>\n",
       "      <td>253905.0</td>\n",
       "      <td>未婚 車未所持 子供なし</td>\n",
       "      <td>1</td>\n",
       "    </tr>\n",
       "    <tr>\n",
       "      <th>1</th>\n",
       "      <td>1</td>\n",
       "      <td>56歳</td>\n",
       "      <td>Company Invited</td>\n",
       "      <td>1</td>\n",
       "      <td>14分</td>\n",
       "      <td>Salaried</td>\n",
       "      <td>Male</td>\n",
       "      <td>1.0</td>\n",
       "      <td>4.0</td>\n",
       "      <td>Standard</td>\n",
       "      <td>3.0</td>\n",
       "      <td>2</td>\n",
       "      <td>1</td>\n",
       "      <td>4</td>\n",
       "      <td>Senior Manager</td>\n",
       "      <td>404475.0</td>\n",
       "      <td>離婚済み,車あり,子供無し</td>\n",
       "      <td>0</td>\n",
       "    </tr>\n",
       "    <tr>\n",
       "      <th>2</th>\n",
       "      <td>2</td>\n",
       "      <td>NaN</td>\n",
       "      <td>Self Enquiry</td>\n",
       "      <td>1</td>\n",
       "      <td>10分</td>\n",
       "      <td>Large Business</td>\n",
       "      <td>Female</td>\n",
       "      <td>1.0</td>\n",
       "      <td>3.0</td>\n",
       "      <td>Basic</td>\n",
       "      <td>3.0</td>\n",
       "      <td>4</td>\n",
       "      <td>0</td>\n",
       "      <td>4</td>\n",
       "      <td>Executive</td>\n",
       "      <td>278145.0</td>\n",
       "      <td>結婚済み、自動車未所有,子供なし</td>\n",
       "      <td>1</td>\n",
       "    </tr>\n",
       "    <tr>\n",
       "      <th>3</th>\n",
       "      <td>3</td>\n",
       "      <td>三十七歳</td>\n",
       "      <td>Self Enquiry</td>\n",
       "      <td>2</td>\n",
       "      <td>1080秒</td>\n",
       "      <td>Small Business</td>\n",
       "      <td>female</td>\n",
       "      <td>1.0</td>\n",
       "      <td>3.0</td>\n",
       "      <td>Standard</td>\n",
       "      <td>4.0</td>\n",
       "      <td>1</td>\n",
       "      <td>0</td>\n",
       "      <td>5</td>\n",
       "      <td>Senior Manager</td>\n",
       "      <td>326805.0</td>\n",
       "      <td>離婚済み、車所持、子供無し</td>\n",
       "      <td>0</td>\n",
       "    </tr>\n",
       "    <tr>\n",
       "      <th>4</th>\n",
       "      <td>4</td>\n",
       "      <td>48歳</td>\n",
       "      <td>Company Invited</td>\n",
       "      <td>3</td>\n",
       "      <td>1020秒</td>\n",
       "      <td>Small Business</td>\n",
       "      <td>female</td>\n",
       "      <td>1.0</td>\n",
       "      <td>3.0</td>\n",
       "      <td>Basic</td>\n",
       "      <td>4.0</td>\n",
       "      <td>4</td>\n",
       "      <td>0</td>\n",
       "      <td>4</td>\n",
       "      <td>Executive</td>\n",
       "      <td>258435.0</td>\n",
       "      <td>独身／車所持／無子</td>\n",
       "      <td>1</td>\n",
       "    </tr>\n",
       "  </tbody>\n",
       "</table>\n",
       "</div>"
      ],
      "text/plain": [
       "   id   Age    TypeofContact  CityTier DurationOfPitch      Occupation  \\\n",
       "0   0   50歳     Self Enquiry         2            900秒  Large Business   \n",
       "1   1   56歳  Company Invited         1             14分        Salaried   \n",
       "2   2   NaN     Self Enquiry         1             10分  Large Business   \n",
       "3   3  三十七歳     Self Enquiry         2           1080秒  Small Business   \n",
       "4   4   48歳  Company Invited         3           1020秒  Small Business   \n",
       "\n",
       "   Gender  NumberOfPersonVisiting  NumberOfFollowups ProductPitched  \\\n",
       "0    male                     1.0                4.0          Basic   \n",
       "1    Male                     1.0                4.0       Standard   \n",
       "2  Female                     1.0                3.0          Basic   \n",
       "3  female                     1.0                3.0       Standard   \n",
       "4  female                     1.0                3.0          Basic   \n",
       "\n",
       "   PreferredPropertyStar NumberOfTrips  Passport  PitchSatisfactionScore  \\\n",
       "0                    3.0             5         1                       4   \n",
       "1                    3.0             2         1                       4   \n",
       "2                    3.0             4         0                       4   \n",
       "3                    4.0             1         0                       5   \n",
       "4                    4.0             4         0                       4   \n",
       "\n",
       "      Designation MonthlyIncome     customer_info  ProdTaken  \n",
       "0       Executive      253905.0      未婚 車未所持 子供なし          1  \n",
       "1  Senior Manager      404475.0     離婚済み,車あり,子供無し          0  \n",
       "2       Executive      278145.0  結婚済み、自動車未所有,子供なし          1  \n",
       "3  Senior Manager      326805.0     離婚済み、車所持、子供無し          0  \n",
       "4       Executive      258435.0         独身／車所持／無子          1  "
      ]
     },
     "execution_count": 29,
     "metadata": {},
     "output_type": "execute_result"
    }
   ],
   "source": [
    "train.head()"
   ]
  },
  {
   "cell_type": "code",
   "execution_count": 30,
   "metadata": {
    "colab": {
     "base_uri": "https://localhost:8080/",
     "height": 365
    },
    "id": "ioICywRYYqmj",
    "outputId": "952b4c1c-db2e-48db-eba8-5cbb01f84a99",
    "vscode": {
     "languageId": "python"
    }
   },
   "outputs": [
    {
     "data": {
      "text/html": [
       "<div>\n",
       "<style scoped>\n",
       "    .dataframe tbody tr th:only-of-type {\n",
       "        vertical-align: middle;\n",
       "    }\n",
       "\n",
       "    .dataframe tbody tr th {\n",
       "        vertical-align: top;\n",
       "    }\n",
       "\n",
       "    .dataframe thead th {\n",
       "        text-align: right;\n",
       "    }\n",
       "</style>\n",
       "<table border=\"1\" class=\"dataframe\">\n",
       "  <thead>\n",
       "    <tr style=\"text-align: right;\">\n",
       "      <th></th>\n",
       "      <th>id</th>\n",
       "      <th>Age</th>\n",
       "      <th>TypeofContact</th>\n",
       "      <th>CityTier</th>\n",
       "      <th>DurationOfPitch</th>\n",
       "      <th>Occupation</th>\n",
       "      <th>Gender</th>\n",
       "      <th>NumberOfPersonVisiting</th>\n",
       "      <th>NumberOfFollowups</th>\n",
       "      <th>ProductPitched</th>\n",
       "      <th>PreferredPropertyStar</th>\n",
       "      <th>NumberOfTrips</th>\n",
       "      <th>Passport</th>\n",
       "      <th>PitchSatisfactionScore</th>\n",
       "      <th>Designation</th>\n",
       "      <th>MonthlyIncome</th>\n",
       "      <th>customer_info</th>\n",
       "    </tr>\n",
       "  </thead>\n",
       "  <tbody>\n",
       "    <tr>\n",
       "      <th>0</th>\n",
       "      <td>3489</td>\n",
       "      <td>４８歳</td>\n",
       "      <td>Self Enquiry</td>\n",
       "      <td>2</td>\n",
       "      <td>13分</td>\n",
       "      <td>Small Business</td>\n",
       "      <td>Male</td>\n",
       "      <td>1.0</td>\n",
       "      <td>4.0</td>\n",
       "      <td>Super De|uxe</td>\n",
       "      <td>3.0</td>\n",
       "      <td>7</td>\n",
       "      <td>0</td>\n",
       "      <td>3</td>\n",
       "      <td>AVP</td>\n",
       "      <td>496950.0</td>\n",
       "      <td>結婚済み 車所持 子供なし</td>\n",
       "    </tr>\n",
       "    <tr>\n",
       "      <th>1</th>\n",
       "      <td>3490</td>\n",
       "      <td>30代</td>\n",
       "      <td>Self Enquiry</td>\n",
       "      <td>2</td>\n",
       "      <td>12分</td>\n",
       "      <td>Small Business</td>\n",
       "      <td>Ｆｅｍａｌｅ</td>\n",
       "      <td>1.0</td>\n",
       "      <td>4.0</td>\n",
       "      <td>Standard</td>\n",
       "      <td>3.0</td>\n",
       "      <td>4</td>\n",
       "      <td>1</td>\n",
       "      <td>3</td>\n",
       "      <td>Senior Manager</td>\n",
       "      <td>月収30.0万円</td>\n",
       "      <td>結婚済み、車未所持、子供なし</td>\n",
       "    </tr>\n",
       "    <tr>\n",
       "      <th>2</th>\n",
       "      <td>3491</td>\n",
       "      <td>25歳</td>\n",
       "      <td>Self Enquiry</td>\n",
       "      <td>1</td>\n",
       "      <td>540秒</td>\n",
       "      <td>Salaried</td>\n",
       "      <td>Female</td>\n",
       "      <td>1.0</td>\n",
       "      <td>4.0</td>\n",
       "      <td>Basic</td>\n",
       "      <td>3.0</td>\n",
       "      <td>1</td>\n",
       "      <td>0</td>\n",
       "      <td>3</td>\n",
       "      <td>Executive</td>\n",
       "      <td>月収26.0万円</td>\n",
       "      <td>離婚済み、自動車未所有、子供なし</td>\n",
       "    </tr>\n",
       "    <tr>\n",
       "      <th>3</th>\n",
       "      <td>3492</td>\n",
       "      <td>21歳</td>\n",
       "      <td>Company Invited</td>\n",
       "      <td>2</td>\n",
       "      <td>420秒</td>\n",
       "      <td>Salaried</td>\n",
       "      <td>Male</td>\n",
       "      <td>1.0</td>\n",
       "      <td>4.0</td>\n",
       "      <td>Basic</td>\n",
       "      <td>4.0</td>\n",
       "      <td>1</td>\n",
       "      <td>0</td>\n",
       "      <td>3</td>\n",
       "      <td>Senior Manager</td>\n",
       "      <td>259875.0</td>\n",
       "      <td>離婚済み、自動車所有、子供なし</td>\n",
       "    </tr>\n",
       "    <tr>\n",
       "      <th>4</th>\n",
       "      <td>3493</td>\n",
       "      <td>41歳</td>\n",
       "      <td>Company Invited</td>\n",
       "      <td>1</td>\n",
       "      <td>7分</td>\n",
       "      <td>Salaried</td>\n",
       "      <td>MALE</td>\n",
       "      <td>1.0</td>\n",
       "      <td>4.0</td>\n",
       "      <td>Basic</td>\n",
       "      <td>3.0</td>\n",
       "      <td>1</td>\n",
       "      <td>0</td>\n",
       "      <td>4</td>\n",
       "      <td>Executive</td>\n",
       "      <td>268830.0</td>\n",
       "      <td>独身/車所持／子供なし</td>\n",
       "    </tr>\n",
       "  </tbody>\n",
       "</table>\n",
       "</div>"
      ],
      "text/plain": [
       "     id  Age    TypeofContact  CityTier DurationOfPitch      Occupation  \\\n",
       "0  3489  ４８歳     Self Enquiry         2             13分  Small Business   \n",
       "1  3490  30代     Self Enquiry         2             12分  Small Business   \n",
       "2  3491  25歳     Self Enquiry         1            540秒        Salaried   \n",
       "3  3492  21歳  Company Invited         2            420秒        Salaried   \n",
       "4  3493  41歳  Company Invited         1              7分        Salaried   \n",
       "\n",
       "   Gender  NumberOfPersonVisiting  NumberOfFollowups ProductPitched  \\\n",
       "0    Male                     1.0                4.0   Super De|uxe   \n",
       "1  Ｆｅｍａｌｅ                     1.0                4.0       Standard   \n",
       "2  Female                     1.0                4.0          Basic   \n",
       "3    Male                     1.0                4.0          Basic   \n",
       "4    MALE                     1.0                4.0          Basic   \n",
       "\n",
       "   PreferredPropertyStar NumberOfTrips  Passport  PitchSatisfactionScore  \\\n",
       "0                    3.0             7         0                       3   \n",
       "1                    3.0             4         1                       3   \n",
       "2                    3.0             1         0                       3   \n",
       "3                    4.0             1         0                       3   \n",
       "4                    3.0             1         0                       4   \n",
       "\n",
       "      Designation MonthlyIncome     customer_info  \n",
       "0             AVP      496950.0     結婚済み 車所持 子供なし  \n",
       "1  Senior Manager      月収30.0万円    結婚済み、車未所持、子供なし  \n",
       "2       Executive      月収26.0万円  離婚済み、自動車未所有、子供なし  \n",
       "3  Senior Manager      259875.0   離婚済み、自動車所有、子供なし  \n",
       "4       Executive      268830.0       独身/車所持／子供なし  "
      ]
     },
     "execution_count": 30,
     "metadata": {},
     "output_type": "execute_result"
    }
   ],
   "source": [
    "test.head()"
   ]
  },
  {
   "cell_type": "markdown",
   "metadata": {
    "id": "QV8RKhE8E-ir"
   },
   "source": [
    "データの一部が見えました。\n",
    "\n",
    "このデータには、\n",
    "\n",
    "- id: 営業リストの顧客ID\n",
    "- Age: 顧客の年齢\n",
    "- TypeofContact: 顧客への連絡方法\n",
    "- CityTier: 都市層(1>2>3)\n",
    "- DurationOfPitch: 営業担当者による顧客への売り込み時間\n",
    "- Occupation: 顧客のご職業\n",
    "- Gender: 顧客の性別\n",
    "- NumberOfPersonVisiting: 一緒に旅行を予定している人数の合計\n",
    "- NumberOfFollowups: セールストーク後に営業担当者が行ったフォローアップの合計数\n",
    "- ProductPitched: 営業担当者による商品の売り込み\n",
    "- PreferredPropertyStar: 顧客によるホテル施設の優先評価\n",
    "- NumberOfTrips: 顧客の年間旅行数\n",
    "- Passport: パスポートの所持\n",
    "- PitchSatisfactionScore: 売り込みの満足度スコア\n",
    "- Designation: 現在の組織における顧客の指定\n",
    "- MonthlyIncome: 顧客の月収\n",
    "- customer_info: 顧客の情報のメモ(婚姻状況や車の有無、旅行の子どもの同伴の有無について記載されている)\n",
    "- ProdTaken: 目的変数\n",
    "\n",
    "の存在が確認できました。\n",
    "\n",
    "本コンペではtestデータのProdTakenをできるだけ正確に予測する必要があります。このため予測対象であるtestデータにはProdTakenがありません。"
   ]
  },
  {
   "cell_type": "markdown",
   "metadata": {
    "id": "b4HzwNjUE-ir"
   },
   "source": [
    "次にデータの形状をみてみましょう。\n",
    "\n",
    "形状を確認することでデータがいくつ存在するのか、特徴量が何個あるかがわかります。"
   ]
  },
  {
   "cell_type": "code",
   "execution_count": 31,
   "metadata": {
    "colab": {
     "base_uri": "https://localhost:8080/"
    },
    "id": "7yqgSUbKE-is",
    "outputId": "21418101-b08c-465d-a735-e636cbd3aeec",
    "vscode": {
     "languageId": "python"
    }
   },
   "outputs": [
    {
     "name": "stdout",
     "output_type": "stream",
     "text": [
      "(3489, 18)\n",
      "(3489, 17)\n"
     ]
    }
   ],
   "source": [
    "print(train.shape)\n",
    "print(test.shape)"
   ]
  },
  {
   "cell_type": "markdown",
   "metadata": {
    "id": "UmFN7zgBE-is"
   },
   "source": [
    "訓練データは3489行・18列のデータがあります。\n",
    "\n",
    "一方でテストデータは3489行・17列のデータがあることが確認できました。\n",
    "\n",
    "テストデータが1列少ないのはテストデータには、ProdTakenの項目がないからです。"
   ]
  },
  {
   "cell_type": "markdown",
   "metadata": {
    "id": "ZQm2WdZAYqmj"
   },
   "source": [
    "# 3. データの可視化\n",
    "次にデータの可視化を行います。\n",
    "\n",
    "データを可視化することで、どの特徴量が予測に重要かを理解できます。\n",
    "\n",
    "このチュートリアルでは、以下の特徴量の可視化を行います:\n",
    "- **ProdTaken**（予測対象）\n",
    "- **PreferredPropertyStar**（顧客によるホテル施設の優先評価）\n",
    "- **Occupation**（お客様のご職業）"
   ]
  },
  {
   "cell_type": "markdown",
   "metadata": {
    "id": "xIPIHRSiE-is"
   },
   "source": [
    "それではまず予測対象であるProdtakenの中身の確認をしましょう。\n",
    "\n",
    "成約数と不成約数がそれぞれ何個あるのかを比較します。\n",
    "\n",
    "これにより、予測対象であるProdTakenの出現数を確認することができます。"
   ]
  },
  {
   "cell_type": "code",
   "execution_count": 32,
   "metadata": {
    "colab": {
     "base_uri": "https://localhost:8080/"
    },
    "id": "goBNTFCHE-is",
    "outputId": "41f50633-6463-4074-b416-97fe3c84be5c",
    "vscode": {
     "languageId": "python"
    }
   },
   "outputs": [
    {
     "data": {
      "text/plain": [
       "0    2992\n",
       "1     497\n",
       "Name: ProdTaken, dtype: int64"
      ]
     },
     "execution_count": 32,
     "metadata": {},
     "output_type": "execute_result"
    }
   ],
   "source": [
    "# value_countsで出現数を確認することができます。\n",
    "train[\"ProdTaken\"].value_counts()"
   ]
  },
  {
   "cell_type": "markdown",
   "metadata": {
    "id": "HNkpXwBjE-is"
   },
   "source": [
    "0(不成約)が2992個、1(成約)が497存在しました。\n",
    "\n",
    "1が0と比べて少ないことがわかります。\n",
    "\n",
    "次に、どれくらい比率が違うのかを棒グラフで確認してみましょう。"
   ]
  },
  {
   "cell_type": "code",
   "execution_count": 33,
   "metadata": {
    "colab": {
     "base_uri": "https://localhost:8080/",
     "height": 472
    },
    "id": "WDZNK_tQE-it",
    "outputId": "175e6ef8-003c-4a1f-c45f-fd67e0eb87c9",
    "vscode": {
     "languageId": "python"
    }
   },
   "outputs": [
    {
     "data": {
      "image/png": "[encoded data removed]",
      "text/plain": [
       "<Figure size 432x288 with 1 Axes>"
      ]
     },
     "metadata": {
      "needs_background": "light"
     },
     "output_type": "display_data"
    }
   ],
   "source": [
    "ProdTaken_value_counts = train[\"ProdTaken\"].value_counts()\n",
    "# ProdTaken_value_counts.indexはグラフのx軸の部分を表し、0と1を表します。ProdTaken_value_counts.valuesはx軸に対応した出現数を表し、0は2992個、1は497個存在します。\n",
    "plt.bar(ProdTaken_value_counts.index, ProdTaken_value_counts.values, color=['blue', 'orange'])\n",
    "plt.xlabel('ProdTaken')\n",
    "plt.ylabel('Count')\n",
    "plt.title('ProdTaken Count')\n",
    "plt.show()"
   ]
  },
  {
   "cell_type": "markdown",
   "metadata": {
    "id": "CdznppgbE-it"
   },
   "source": [
    "可視化すると、ラベルが1のデータの方が少ないことが直感的に理解できます。\n",
    "\n",
    "このデータのように、予測対象となるデータのラベル数が均等でないデータもよく見かけます。このようなデータを不均衡データと呼び、学習・予測する際にこの不均衡を考慮する必要があります。このチュートリアルでは不均衡データに対する具体的な対処は行いませんが、興味があれば不均衡データについても調査してみてください。"
   ]
  },
  {
   "cell_type": "markdown",
   "metadata": {
    "id": "rTjbpbl1E-it"
   },
   "source": [
    "次に、PreferredPropertyStar（顧客によるホテル施設の優先評価）を可視化し、ProdTakenとの関係性を見てみましょう。\n",
    "\n",
    "評価が高いほど契約する可能性が高いと仮定できます。\n",
    "\n",
    "評価と契約の関係性を見るには様々な方法がありますが、まずはシンプルに**成約した人と不成約の人で評価の大きさに違いがあるのか**を平均値で確認してみましょう。\n",
    "\n",
    "集約するには`groupby`を使用します。\n",
    "\n",
    "具体的には、\n",
    "`データフレームの変数.groupby(\"集約したい特徴量\")[\"集約される特徴量\"].計算式`で集約できます。<br>\n",
    "なお、\n",
    "- 「データフレームの変数」は操作を行うデータフレームです。\n",
    "- 「集約したい特徴量」はデータをグループ化する基準となる列名(特徴量名)です。\n",
    "- 「集約される特徴量」は集計を行う対象の列名(特徴量名)です。\n",
    "- 「計算式」 は使用する集計関数です（例: 平均はmean(), 合計はsum(), 最大値はmax()）。\n",
    "\n",
    "となっています。"
   ]
  },
  {
   "cell_type": "code",
   "execution_count": 34,
   "metadata": {
    "colab": {
     "base_uri": "https://localhost:8080/"
    },
    "id": "fMiYol76Yqml",
    "outputId": "1c4636d3-315f-4bd6-ffb6-189f340d1aab",
    "vscode": {
     "languageId": "python"
    }
   },
   "outputs": [
    {
     "data": {
      "text/plain": [
       "ProdTaken\n",
       "0    3.442513\n",
       "1    3.432596\n",
       "Name: PreferredPropertyStar, dtype: float64"
      ]
     },
     "execution_count": 34,
     "metadata": {},
     "output_type": "execute_result"
    }
   ],
   "source": [
    "# 以下のコードで集約できます。\n",
    "train.groupby(\"ProdTaken\")[\"PreferredPropertyStar\"].mean()"
   ]
  },
  {
   "cell_type": "markdown",
   "metadata": {
    "id": "LCWvnHCME-it"
   },
   "source": [
    "今回の可視化では、成約した人と不成約の人で評価に大きな差がないように見えました。\n",
    "\n",
    "念のため、平均値のグラフを可視化してみましょう。"
   ]
  },
  {
   "cell_type": "code",
   "execution_count": 35,
   "metadata": {
    "colab": {
     "base_uri": "https://localhost:8080/",
     "height": 472
    },
    "id": "GUEqRGg-E-it",
    "outputId": "e31690f9-1731-444e-c2a7-f129938f1629",
    "vscode": {
     "languageId": "python"
    }
   },
   "outputs": [
    {
     "data": {
      "image/png": "[encoded data removed]",
      "text/plain": [
       "<Figure size 432x288 with 1 Axes>"
      ]
     },
     "metadata": {
      "needs_background": "light"
     },
     "output_type": "display_data"
    }
   ],
   "source": [
    "groupby_PreferredPropertyStar = train.groupby(\"ProdTaken\")[\"PreferredPropertyStar\"].mean()\n",
    "plt.bar(groupby_PreferredPropertyStar.index, groupby_PreferredPropertyStar.values, color=['blue', 'orange'])\n",
    "plt.xlabel('ProdTaken')\n",
    "plt.ylabel('PreferredPropertyStar Mean')\n",
    "plt.title('PreferredPropertyStar Count')\n",
    "plt.show()"
   ]
  },
  {
   "cell_type": "markdown",
   "metadata": {
    "id": "wrvoTTZBE-it"
   },
   "source": [
    "可視化すると、成約した人と不成約の人で評価に大きな差がないことがわかりました。\n",
    "\n",
    "PreferredPropertyStarとProdTakenには関係性が見られないようです。\n",
    "\n",
    "最後に、Occupation（お客様のご職業）と成約の関係性を可視化してみましょう。\n",
    "\n",
    "平均と出現数を同時に確認するには、`agg([\"mean\", \"count\"])`を使用します。これにより、平均と出現数の両方を同時に集計できます。\n",
    "\n",
    "また、`sort_values(by=\"count\", ascending=False)`で出現数（count）を基準に降順に並び替えます。\n"
   ]
  },
  {
   "cell_type": "code",
   "execution_count": 36,
   "metadata": {
    "colab": {
     "base_uri": "https://localhost:8080/",
     "height": 175
    },
    "id": "87W6OufFE-iu",
    "outputId": "3ca892c1-56de-4c4a-ede3-54ca08de7df5",
    "vscode": {
     "languageId": "python"
    }
   },
   "outputs": [
    {
     "data": {
      "text/html": [
       "<div>\n",
       "<style scoped>\n",
       "    .dataframe tbody tr th:only-of-type {\n",
       "        vertical-align: middle;\n",
       "    }\n",
       "\n",
       "    .dataframe tbody tr th {\n",
       "        vertical-align: top;\n",
       "    }\n",
       "\n",
       "    .dataframe thead th {\n",
       "        text-align: right;\n",
       "    }\n",
       "</style>\n",
       "<table border=\"1\" class=\"dataframe\">\n",
       "  <thead>\n",
       "    <tr style=\"text-align: right;\">\n",
       "      <th></th>\n",
       "      <th>mean</th>\n",
       "      <th>count</th>\n",
       "    </tr>\n",
       "    <tr>\n",
       "      <th>Occupation</th>\n",
       "      <th></th>\n",
       "      <th></th>\n",
       "    </tr>\n",
       "  </thead>\n",
       "  <tbody>\n",
       "    <tr>\n",
       "      <th>Small Business</th>\n",
       "      <td>0.157499</td>\n",
       "      <td>1727</td>\n",
       "    </tr>\n",
       "    <tr>\n",
       "      <th>Salaried</th>\n",
       "      <td>0.102070</td>\n",
       "      <td>1401</td>\n",
       "    </tr>\n",
       "    <tr>\n",
       "      <th>Large Business</th>\n",
       "      <td>0.227147</td>\n",
       "      <td>361</td>\n",
       "    </tr>\n",
       "  </tbody>\n",
       "</table>\n",
       "</div>"
      ],
      "text/plain": [
       "                    mean  count\n",
       "Occupation                     \n",
       "Small Business  0.157499   1727\n",
       "Salaried        0.102070   1401\n",
       "Large Business  0.227147    361"
      ]
     },
     "execution_count": 36,
     "metadata": {},
     "output_type": "execute_result"
    }
   ],
   "source": [
    "# 平均と出現数を同時に確認するには、agg([\"mean\", \"count\"])を使用します。これにより、平均と出現数の両方を同時に集計できます。\n",
    "# また、sort_values(by=\"count\", ascending=False)は出現数（count）を基準に降順に並び替えます。\n",
    "train.groupby(\"Occupation\")[\"ProdTaken\"].agg([\"mean\", \"count\"]).sort_values(by=\"count\", ascending=False)"
   ]
  },
  {
   "cell_type": "markdown",
   "metadata": {
    "id": "5OpInfNIE-iu"
   },
   "source": [
    "Large Businessの顧客が成約率が高いことがわかりました。\n",
    "\n",
    "これも棒グラフで可視化してみましょう。"
   ]
  },
  {
   "cell_type": "code",
   "execution_count": 37,
   "metadata": {
    "colab": {
     "base_uri": "https://localhost:8080/",
     "height": 430
    },
    "id": "7CUMQub_E-iu",
    "outputId": "4884ce40-76ab-4a57-f9ca-7d5a3bd24858",
    "vscode": {
     "languageId": "python"
    }
   },
   "outputs": [
    {
     "data": {
      "image/png": "[encoded data removed]",
      "text/plain": [
       "<Figure size 432x288 with 1 Axes>"
      ]
     },
     "metadata": {
      "needs_background": "light"
     },
     "output_type": "display_data"
    }
   ],
   "source": [
    "grouped = train.groupby(\"Occupation\")[\"ProdTaken\"].agg([\"mean\", \"count\"]).sort_values(by=\"count\", ascending=False)\n",
    "plt.bar(grouped.index, grouped[\"mean\"])\n",
    "plt.show()"
   ]
  },
  {
   "cell_type": "markdown",
   "metadata": {
    "id": "eID507czE-iu"
   },
   "source": [
    "上記のコードにより、Large Businessの顧客が他の職業に比べて成約率が高いことを視覚的に確認できます。\n",
    "\n",
    "このチュートリアルではここまでですが、他にもTypeofContact（顧客への連絡方法）、Gender（性別）、Designation（現在の組織における顧客の役職）なども同様に棒グラフで確認できます。先ほどのコードを参考にし、対象の特徴量を変更して実行してください。\n",
    "\n",
    "ですがGenderなどの一部カテゴリデータは分析する際に、表記揺れなどの注意が必要なポイントがあります。これは最後に解説しますので、最後までぜひご確認ください。"
   ]
  },
  {
   "cell_type": "markdown",
   "metadata": {
    "id": "S5ECksY4E-iu"
   },
   "source": [
    "# 4. 前処理\n",
    "まずは、可視化した特徴量を用いて機械学習モデルを作成してみましょう。\n",
    "\n",
    "その前に、機械学習モデルに学習させるためのデータ前処理が必要です。"
   ]
  },
  {
   "cell_type": "markdown",
   "metadata": {
    "id": "dpjpV97lE-iu"
   },
   "source": [
    "まず、前処理が必要なのはTypeofContactやOccupationです。\n",
    "これらの特徴量は数値ではなく、文字で情報が表現されています。\n",
    "\n",
    "このような数値ではなく文字で表現されている特徴量のことを カテゴリ変数 といいます。\n",
    "\n",
    "カテゴリ変数は機械学習ではそのままでは扱えないため、**一度数値に変換する**必要があります。\n",
    "\n",
    "\n",
    "カテゴリ変数を数値に変更する方法は一般的に2つあります：\n",
    "- ラベルエンコーディング\n",
    "- ダミー変数\n",
    "\n",
    "本チュートリアルではダミー変数を用いて変換を行います。\n",
    "\n",
    "ダミー変数とは、カテゴリデータ内の特定の要素が出現したかを0と1で表す方法です。\n",
    "\n",
    "それではやってみましょう。"
   ]
  },
  {
   "cell_type": "code",
   "execution_count": 38,
   "metadata": {
    "id": "jBnju5fwE-iu",
    "vscode": {
     "languageId": "python"
    }
   },
   "outputs": [],
   "source": [
    "# pd.get_dummiesを使って、カテゴリ変数をダミー変数に変換します。\n",
    "# columns パラメータでダミー変数化する特徴量を指定します。\n",
    "train = pd.get_dummies(train, columns=[\"TypeofContact\", \"Occupation\"])\n",
    "test = pd.get_dummies(test, columns=[\"TypeofContact\", \"Occupation\"])"
   ]
  },
  {
   "cell_type": "code",
   "execution_count": 39,
   "metadata": {
    "colab": {
     "base_uri": "https://localhost:8080/",
     "height": 377
    },
    "id": "huJ_1p4vE-iv",
    "outputId": "8b77dd81-84d3-4652-c14e-68611d8bb440",
    "vscode": {
     "languageId": "python"
    }
   },
   "outputs": [
    {
     "data": {
      "text/html": [
       "<div>\n",
       "<style scoped>\n",
       "    .dataframe tbody tr th:only-of-type {\n",
       "        vertical-align: middle;\n",
       "    }\n",
       "\n",
       "    .dataframe tbody tr th {\n",
       "        vertical-align: top;\n",
       "    }\n",
       "\n",
       "    .dataframe thead th {\n",
       "        text-align: right;\n",
       "    }\n",
       "</style>\n",
       "<table border=\"1\" class=\"dataframe\">\n",
       "  <thead>\n",
       "    <tr style=\"text-align: right;\">\n",
       "      <th></th>\n",
       "      <th>id</th>\n",
       "      <th>Age</th>\n",
       "      <th>CityTier</th>\n",
       "      <th>DurationOfPitch</th>\n",
       "      <th>Gender</th>\n",
       "      <th>NumberOfPersonVisiting</th>\n",
       "      <th>NumberOfFollowups</th>\n",
       "      <th>ProductPitched</th>\n",
       "      <th>PreferredPropertyStar</th>\n",
       "      <th>NumberOfTrips</th>\n",
       "      <th>...</th>\n",
       "      <th>PitchSatisfactionScore</th>\n",
       "      <th>Designation</th>\n",
       "      <th>MonthlyIncome</th>\n",
       "      <th>customer_info</th>\n",
       "      <th>ProdTaken</th>\n",
       "      <th>TypeofContact_Company Invited</th>\n",
       "      <th>TypeofContact_Self Enquiry</th>\n",
       "      <th>Occupation_Large Business</th>\n",
       "      <th>Occupation_Salaried</th>\n",
       "      <th>Occupation_Small Business</th>\n",
       "    </tr>\n",
       "  </thead>\n",
       "  <tbody>\n",
       "    <tr>\n",
       "      <th>0</th>\n",
       "      <td>0</td>\n",
       "      <td>50歳</td>\n",
       "      <td>2</td>\n",
       "      <td>900秒</td>\n",
       "      <td>male</td>\n",
       "      <td>1.0</td>\n",
       "      <td>4.0</td>\n",
       "      <td>Basic</td>\n",
       "      <td>3.0</td>\n",
       "      <td>5</td>\n",
       "      <td>...</td>\n",
       "      <td>4</td>\n",
       "      <td>Executive</td>\n",
       "      <td>253905.0</td>\n",
       "      <td>未婚 車未所持 子供なし</td>\n",
       "      <td>1</td>\n",
       "      <td>0</td>\n",
       "      <td>1</td>\n",
       "      <td>1</td>\n",
       "      <td>0</td>\n",
       "      <td>0</td>\n",
       "    </tr>\n",
       "    <tr>\n",
       "      <th>1</th>\n",
       "      <td>1</td>\n",
       "      <td>56歳</td>\n",
       "      <td>1</td>\n",
       "      <td>14分</td>\n",
       "      <td>Male</td>\n",
       "      <td>1.0</td>\n",
       "      <td>4.0</td>\n",
       "      <td>Standard</td>\n",
       "      <td>3.0</td>\n",
       "      <td>2</td>\n",
       "      <td>...</td>\n",
       "      <td>4</td>\n",
       "      <td>Senior Manager</td>\n",
       "      <td>404475.0</td>\n",
       "      <td>離婚済み,車あり,子供無し</td>\n",
       "      <td>0</td>\n",
       "      <td>1</td>\n",
       "      <td>0</td>\n",
       "      <td>0</td>\n",
       "      <td>1</td>\n",
       "      <td>0</td>\n",
       "    </tr>\n",
       "    <tr>\n",
       "      <th>2</th>\n",
       "      <td>2</td>\n",
       "      <td>NaN</td>\n",
       "      <td>1</td>\n",
       "      <td>10分</td>\n",
       "      <td>Female</td>\n",
       "      <td>1.0</td>\n",
       "      <td>3.0</td>\n",
       "      <td>Basic</td>\n",
       "      <td>3.0</td>\n",
       "      <td>4</td>\n",
       "      <td>...</td>\n",
       "      <td>4</td>\n",
       "      <td>Executive</td>\n",
       "      <td>278145.0</td>\n",
       "      <td>結婚済み、自動車未所有,子供なし</td>\n",
       "      <td>1</td>\n",
       "      <td>0</td>\n",
       "      <td>1</td>\n",
       "      <td>1</td>\n",
       "      <td>0</td>\n",
       "      <td>0</td>\n",
       "    </tr>\n",
       "    <tr>\n",
       "      <th>3</th>\n",
       "      <td>3</td>\n",
       "      <td>三十七歳</td>\n",
       "      <td>2</td>\n",
       "      <td>1080秒</td>\n",
       "      <td>female</td>\n",
       "      <td>1.0</td>\n",
       "      <td>3.0</td>\n",
       "      <td>Standard</td>\n",
       "      <td>4.0</td>\n",
       "      <td>1</td>\n",
       "      <td>...</td>\n",
       "      <td>5</td>\n",
       "      <td>Senior Manager</td>\n",
       "      <td>326805.0</td>\n",
       "      <td>離婚済み、車所持、子供無し</td>\n",
       "      <td>0</td>\n",
       "      <td>0</td>\n",
       "      <td>1</td>\n",
       "      <td>0</td>\n",
       "      <td>0</td>\n",
       "      <td>1</td>\n",
       "    </tr>\n",
       "    <tr>\n",
       "      <th>4</th>\n",
       "      <td>4</td>\n",
       "      <td>48歳</td>\n",
       "      <td>3</td>\n",
       "      <td>1020秒</td>\n",
       "      <td>female</td>\n",
       "      <td>1.0</td>\n",
       "      <td>3.0</td>\n",
       "      <td>Basic</td>\n",
       "      <td>4.0</td>\n",
       "      <td>4</td>\n",
       "      <td>...</td>\n",
       "      <td>4</td>\n",
       "      <td>Executive</td>\n",
       "      <td>258435.0</td>\n",
       "      <td>独身／車所持／無子</td>\n",
       "      <td>1</td>\n",
       "      <td>1</td>\n",
       "      <td>0</td>\n",
       "      <td>0</td>\n",
       "      <td>0</td>\n",
       "      <td>1</td>\n",
       "    </tr>\n",
       "  </tbody>\n",
       "</table>\n",
       "<p>5 rows × 21 columns</p>\n",
       "</div>"
      ],
      "text/plain": [
       "   id   Age  CityTier DurationOfPitch  Gender  NumberOfPersonVisiting  \\\n",
       "0   0   50歳         2            900秒    male                     1.0   \n",
       "1   1   56歳         1             14分    Male                     1.0   \n",
       "2   2   NaN         1             10分  Female                     1.0   \n",
       "3   3  三十七歳         2           1080秒  female                     1.0   \n",
       "4   4   48歳         3           1020秒  female                     1.0   \n",
       "\n",
       "   NumberOfFollowups ProductPitched  PreferredPropertyStar NumberOfTrips  ...  \\\n",
       "0                4.0          Basic                    3.0             5  ...   \n",
       "1                4.0       Standard                    3.0             2  ...   \n",
       "2                3.0          Basic                    3.0             4  ...   \n",
       "3                3.0       Standard                    4.0             1  ...   \n",
       "4                3.0          Basic                    4.0             4  ...   \n",
       "\n",
       "   PitchSatisfactionScore     Designation MonthlyIncome     customer_info  \\\n",
       "0                       4       Executive      253905.0      未婚 車未所持 子供なし   \n",
       "1                       4  Senior Manager      404475.0     離婚済み,車あり,子供無し   \n",
       "2                       4       Executive      278145.0  結婚済み、自動車未所有,子供なし   \n",
       "3                       5  Senior Manager      326805.0     離婚済み、車所持、子供無し   \n",
       "4                       4       Executive      258435.0         独身／車所持／無子   \n",
       "\n",
       "  ProdTaken  TypeofContact_Company Invited  TypeofContact_Self Enquiry  \\\n",
       "0         1                              0                           1   \n",
       "1         0                              1                           0   \n",
       "2         1                              0                           1   \n",
       "3         0                              0                           1   \n",
       "4         1                              1                           0   \n",
       "\n",
       "   Occupation_Large Business  Occupation_Salaried  Occupation_Small Business  \n",
       "0                          1                    0                          0  \n",
       "1                          0                    1                          0  \n",
       "2                          1                    0                          0  \n",
       "3                          0                    0                          1  \n",
       "4                          0                    0                          1  \n",
       "\n",
       "[5 rows x 21 columns]"
      ]
     },
     "execution_count": 39,
     "metadata": {},
     "output_type": "execute_result"
    }
   ],
   "source": [
    "train.head()"
   ]
  },
  {
   "cell_type": "code",
   "execution_count": 40,
   "metadata": {
    "colab": {
     "base_uri": "https://localhost:8080/"
    },
    "id": "v5BrMZfrE-iv",
    "outputId": "2c61d11d-ed28-487b-d3bc-b6d35b021c6f",
    "vscode": {
     "languageId": "python"
    }
   },
   "outputs": [
    {
     "data": {
      "text/plain": [
       "0    0\n",
       "1    1\n",
       "2    0\n",
       "3    0\n",
       "4    1\n",
       "Name: TypeofContact_Company Invited, dtype: uint8"
      ]
     },
     "execution_count": 40,
     "metadata": {},
     "output_type": "execute_result"
    }
   ],
   "source": [
    "#TypeofContact_Company Invited列の内容を確認します。\n",
    "train[\"TypeofContact_Company Invited\"].head()"
   ]
  },
  {
   "cell_type": "markdown",
   "metadata": {
    "id": "JZxc-avtE-iv"
   },
   "source": [
    "この方法でカテゴリデータと数値にした特徴量が作成されました。\n",
    "\n",
    "先ほども説明したように、ダミー変数はカテゴリデータが出現したかどうかを0と1で表す方法です。\n",
    "\n",
    "このチュートリアルではTrueとFalseで表記されていますが、Trueは1、Falseは0という意味になり、数値として扱われます。\n",
    "\n",
    "例えば、5行目の TypeofContact_Company Invited がTrueになっている場合、元のデータを確認すると5行目の TypeofContact が Company Invited であることが確認できます。"
   ]
  },
  {
   "cell_type": "markdown",
   "metadata": {
    "id": "aiTfU8fNE-iv"
   },
   "source": [
    "他にも Occupation のデータには以下のカテゴリがあります：\n",
    "- Large Business\n",
    "- Salaried\n",
    "- Small Business\n",
    "\n",
    "これらのカテゴリがダミー変数に変換されると、以下のような特徴量が作成されます：\n",
    "\n",
    "- Occupation_Large Business\n",
    "- Occupation_Salaried\n",
    "- Occupation_Small Business\n",
    "\n",
    "ダミー変数はカテゴリ変数をわかりやすく数値に変換しますが、特徴量の数が多くなるため、データの中身を確認する際に視認性が悪くなる点に注意してください。"
   ]
  },
  {
   "cell_type": "code",
   "execution_count": 41,
   "metadata": {
    "colab": {
     "base_uri": "https://localhost:8080/",
     "height": 206
    },
    "id": "S1oimVCqE-iv",
    "outputId": "d509a083-df63-47bd-8cf0-df0c57d446cb",
    "vscode": {
     "languageId": "python"
    }
   },
   "outputs": [
    {
     "data": {
      "text/html": [
       "<div>\n",
       "<style scoped>\n",
       "    .dataframe tbody tr th:only-of-type {\n",
       "        vertical-align: middle;\n",
       "    }\n",
       "\n",
       "    .dataframe tbody tr th {\n",
       "        vertical-align: top;\n",
       "    }\n",
       "\n",
       "    .dataframe thead th {\n",
       "        text-align: right;\n",
       "    }\n",
       "</style>\n",
       "<table border=\"1\" class=\"dataframe\">\n",
       "  <thead>\n",
       "    <tr style=\"text-align: right;\">\n",
       "      <th></th>\n",
       "      <th>Occupation_Large Business</th>\n",
       "      <th>Occupation_Salaried</th>\n",
       "      <th>Occupation_Small Business</th>\n",
       "    </tr>\n",
       "  </thead>\n",
       "  <tbody>\n",
       "    <tr>\n",
       "      <th>0</th>\n",
       "      <td>1</td>\n",
       "      <td>0</td>\n",
       "      <td>0</td>\n",
       "    </tr>\n",
       "    <tr>\n",
       "      <th>1</th>\n",
       "      <td>0</td>\n",
       "      <td>1</td>\n",
       "      <td>0</td>\n",
       "    </tr>\n",
       "    <tr>\n",
       "      <th>2</th>\n",
       "      <td>1</td>\n",
       "      <td>0</td>\n",
       "      <td>0</td>\n",
       "    </tr>\n",
       "    <tr>\n",
       "      <th>3</th>\n",
       "      <td>0</td>\n",
       "      <td>0</td>\n",
       "      <td>1</td>\n",
       "    </tr>\n",
       "    <tr>\n",
       "      <th>4</th>\n",
       "      <td>0</td>\n",
       "      <td>0</td>\n",
       "      <td>1</td>\n",
       "    </tr>\n",
       "  </tbody>\n",
       "</table>\n",
       "</div>"
      ],
      "text/plain": [
       "   Occupation_Large Business  Occupation_Salaried  Occupation_Small Business\n",
       "0                          1                    0                          0\n",
       "1                          0                    1                          0\n",
       "2                          1                    0                          0\n",
       "3                          0                    0                          1\n",
       "4                          0                    0                          1"
      ]
     },
     "execution_count": 41,
     "metadata": {},
     "output_type": "execute_result"
    }
   ],
   "source": [
    "# Occupationのダミー変数の一部を確認します。\n",
    "train[['Occupation_Large Business', 'Occupation_Salaried', 'Occupation_Small Business']].head()"
   ]
  },
  {
   "cell_type": "markdown",
   "metadata": {
    "id": "eJ6FtShME-iv"
   },
   "source": [
    "# 5. データの分割\n",
    "学習に使う特徴量を数値データに変換できたので、次にデータの分割を行います。\n",
    "\n",
    "データの分割は、機械学習モデルの性能を測るために重要です。"
   ]
  },
  {
   "cell_type": "markdown",
   "metadata": {
    "id": "ZhpqebsvE-iv"
   },
   "source": [
    "まず、使用する特徴量を選定します。\n",
    "\n",
    "チュートリアルでは、以下の特徴量を使用してAIモデルの学習・推論を行います：\n",
    "\n",
    "- PreferredPropertyStar\n",
    "- TypeofContact\n",
    "- Occupation\n",
    "- CityTier\n",
    "- NumberOfPersonVisiting\n",
    "- Passport\n",
    "\n",
    "それ以外のデータは削除して学習を行います。\n",
    "\n",
    "特徴量を削除するには、以下のように drop を使用します："
   ]
  },
  {
   "cell_type": "code",
   "execution_count": 42,
   "metadata": {
    "id": "RUArhiaHE-i2",
    "vscode": {
     "languageId": "python"
    }
   },
   "outputs": [],
   "source": [
    "# \"ProdTaken\"は予測対象とするため、別途target変数に格納する\n",
    "target = train[\"ProdTaken\"]\n",
    "# 学習に不要な特徴量を削除します。\n",
    "# 削除する特徴量は: 'id', 'Age', 'DurationOfPitch', 'Gender', 'NumberOfFollowups', 'ProductPitched', 'NumberOfTrips', 'PitchSatisfactionScore', 'Designation', 'MonthlyIncome', 'customer_info', 'ProdTaken'\n",
    "train = train.drop(columns=['id', 'Age', 'DurationOfPitch', 'Gender', 'NumberOfFollowups', 'ProductPitched',\n",
    "                            'NumberOfTrips', 'PitchSatisfactionScore', 'Designation', 'MonthlyIncome', 'customer_info',\n",
    "                            \"ProdTaken\"], axis=1)\n",
    "test = test.drop(columns=['id', 'Age', 'DurationOfPitch', 'Gender', 'NumberOfFollowups', 'ProductPitched',\n",
    "                          'NumberOfTrips', 'PitchSatisfactionScore', 'Designation', 'MonthlyIncome', 'customer_info'], axis=1)"
   ]
  },
  {
   "cell_type": "code",
   "execution_count": 43,
   "metadata": {
    "colab": {
     "base_uri": "https://localhost:8080/",
     "height": 224
    },
    "id": "RmQpi7wCE-i2",
    "outputId": "0e82936f-cc17-46be-e139-f44c92c632fa",
    "vscode": {
     "languageId": "python"
    }
   },
   "outputs": [
    {
     "data": {
      "text/html": [
       "<div>\n",
       "<style scoped>\n",
       "    .dataframe tbody tr th:only-of-type {\n",
       "        vertical-align: middle;\n",
       "    }\n",
       "\n",
       "    .dataframe tbody tr th {\n",
       "        vertical-align: top;\n",
       "    }\n",
       "\n",
       "    .dataframe thead th {\n",
       "        text-align: right;\n",
       "    }\n",
       "</style>\n",
       "<table border=\"1\" class=\"dataframe\">\n",
       "  <thead>\n",
       "    <tr style=\"text-align: right;\">\n",
       "      <th></th>\n",
       "      <th>CityTier</th>\n",
       "      <th>NumberOfPersonVisiting</th>\n",
       "      <th>PreferredPropertyStar</th>\n",
       "      <th>Passport</th>\n",
       "      <th>TypeofContact_Company Invited</th>\n",
       "      <th>TypeofContact_Self Enquiry</th>\n",
       "      <th>Occupation_Large Business</th>\n",
       "      <th>Occupation_Salaried</th>\n",
       "      <th>Occupation_Small Business</th>\n",
       "    </tr>\n",
       "  </thead>\n",
       "  <tbody>\n",
       "    <tr>\n",
       "      <th>0</th>\n",
       "      <td>2</td>\n",
       "      <td>1.0</td>\n",
       "      <td>3.0</td>\n",
       "      <td>1</td>\n",
       "      <td>0</td>\n",
       "      <td>1</td>\n",
       "      <td>1</td>\n",
       "      <td>0</td>\n",
       "      <td>0</td>\n",
       "    </tr>\n",
       "    <tr>\n",
       "      <th>1</th>\n",
       "      <td>1</td>\n",
       "      <td>1.0</td>\n",
       "      <td>3.0</td>\n",
       "      <td>1</td>\n",
       "      <td>1</td>\n",
       "      <td>0</td>\n",
       "      <td>0</td>\n",
       "      <td>1</td>\n",
       "      <td>0</td>\n",
       "    </tr>\n",
       "    <tr>\n",
       "      <th>2</th>\n",
       "      <td>1</td>\n",
       "      <td>1.0</td>\n",
       "      <td>3.0</td>\n",
       "      <td>0</td>\n",
       "      <td>0</td>\n",
       "      <td>1</td>\n",
       "      <td>1</td>\n",
       "      <td>0</td>\n",
       "      <td>0</td>\n",
       "    </tr>\n",
       "    <tr>\n",
       "      <th>3</th>\n",
       "      <td>2</td>\n",
       "      <td>1.0</td>\n",
       "      <td>4.0</td>\n",
       "      <td>0</td>\n",
       "      <td>0</td>\n",
       "      <td>1</td>\n",
       "      <td>0</td>\n",
       "      <td>0</td>\n",
       "      <td>1</td>\n",
       "    </tr>\n",
       "    <tr>\n",
       "      <th>4</th>\n",
       "      <td>3</td>\n",
       "      <td>1.0</td>\n",
       "      <td>4.0</td>\n",
       "      <td>0</td>\n",
       "      <td>1</td>\n",
       "      <td>0</td>\n",
       "      <td>0</td>\n",
       "      <td>0</td>\n",
       "      <td>1</td>\n",
       "    </tr>\n",
       "  </tbody>\n",
       "</table>\n",
       "</div>"
      ],
      "text/plain": [
       "   CityTier  NumberOfPersonVisiting  PreferredPropertyStar  Passport  \\\n",
       "0         2                     1.0                    3.0         1   \n",
       "1         1                     1.0                    3.0         1   \n",
       "2         1                     1.0                    3.0         0   \n",
       "3         2                     1.0                    4.0         0   \n",
       "4         3                     1.0                    4.0         0   \n",
       "\n",
       "   TypeofContact_Company Invited  TypeofContact_Self Enquiry  \\\n",
       "0                              0                           1   \n",
       "1                              1                           0   \n",
       "2                              0                           1   \n",
       "3                              0                           1   \n",
       "4                              1                           0   \n",
       "\n",
       "   Occupation_Large Business  Occupation_Salaried  Occupation_Small Business  \n",
       "0                          1                    0                          0  \n",
       "1                          0                    1                          0  \n",
       "2                          1                    0                          0  \n",
       "3                          0                    0                          1  \n",
       "4                          0                    0                          1  "
      ]
     },
     "execution_count": 43,
     "metadata": {},
     "output_type": "execute_result"
    }
   ],
   "source": [
    "# データの先頭5行を確認します。\n",
    "train.head()"
   ]
  },
  {
   "cell_type": "code",
   "execution_count": 44,
   "metadata": {
    "colab": {
     "base_uri": "https://localhost:8080/",
     "height": 224
    },
    "id": "dU8whTotE-i2",
    "outputId": "21c650eb-4096-4a0b-b8db-a1115fdffddf",
    "vscode": {
     "languageId": "python"
    }
   },
   "outputs": [
    {
     "data": {
      "text/html": [
       "<div>\n",
       "<style scoped>\n",
       "    .dataframe tbody tr th:only-of-type {\n",
       "        vertical-align: middle;\n",
       "    }\n",
       "\n",
       "    .dataframe tbody tr th {\n",
       "        vertical-align: top;\n",
       "    }\n",
       "\n",
       "    .dataframe thead th {\n",
       "        text-align: right;\n",
       "    }\n",
       "</style>\n",
       "<table border=\"1\" class=\"dataframe\">\n",
       "  <thead>\n",
       "    <tr style=\"text-align: right;\">\n",
       "      <th></th>\n",
       "      <th>CityTier</th>\n",
       "      <th>NumberOfPersonVisiting</th>\n",
       "      <th>PreferredPropertyStar</th>\n",
       "      <th>Passport</th>\n",
       "      <th>TypeofContact_Company Invited</th>\n",
       "      <th>TypeofContact_Self Enquiry</th>\n",
       "      <th>Occupation_Large Business</th>\n",
       "      <th>Occupation_Salaried</th>\n",
       "      <th>Occupation_Small Business</th>\n",
       "    </tr>\n",
       "  </thead>\n",
       "  <tbody>\n",
       "    <tr>\n",
       "      <th>0</th>\n",
       "      <td>2</td>\n",
       "      <td>1.0</td>\n",
       "      <td>3.0</td>\n",
       "      <td>0</td>\n",
       "      <td>0</td>\n",
       "      <td>1</td>\n",
       "      <td>0</td>\n",
       "      <td>0</td>\n",
       "      <td>1</td>\n",
       "    </tr>\n",
       "    <tr>\n",
       "      <th>1</th>\n",
       "      <td>2</td>\n",
       "      <td>1.0</td>\n",
       "      <td>3.0</td>\n",
       "      <td>1</td>\n",
       "      <td>0</td>\n",
       "      <td>1</td>\n",
       "      <td>0</td>\n",
       "      <td>0</td>\n",
       "      <td>1</td>\n",
       "    </tr>\n",
       "    <tr>\n",
       "      <th>2</th>\n",
       "      <td>1</td>\n",
       "      <td>1.0</td>\n",
       "      <td>3.0</td>\n",
       "      <td>0</td>\n",
       "      <td>0</td>\n",
       "      <td>1</td>\n",
       "      <td>0</td>\n",
       "      <td>1</td>\n",
       "      <td>0</td>\n",
       "    </tr>\n",
       "    <tr>\n",
       "      <th>3</th>\n",
       "      <td>2</td>\n",
       "      <td>1.0</td>\n",
       "      <td>4.0</td>\n",
       "      <td>0</td>\n",
       "      <td>1</td>\n",
       "      <td>0</td>\n",
       "      <td>0</td>\n",
       "      <td>1</td>\n",
       "      <td>0</td>\n",
       "    </tr>\n",
       "    <tr>\n",
       "      <th>4</th>\n",
       "      <td>1</td>\n",
       "      <td>1.0</td>\n",
       "      <td>3.0</td>\n",
       "      <td>0</td>\n",
       "      <td>1</td>\n",
       "      <td>0</td>\n",
       "      <td>0</td>\n",
       "      <td>1</td>\n",
       "      <td>0</td>\n",
       "    </tr>\n",
       "  </tbody>\n",
       "</table>\n",
       "</div>"
      ],
      "text/plain": [
       "   CityTier  NumberOfPersonVisiting  PreferredPropertyStar  Passport  \\\n",
       "0         2                     1.0                    3.0         0   \n",
       "1         2                     1.0                    3.0         1   \n",
       "2         1                     1.0                    3.0         0   \n",
       "3         2                     1.0                    4.0         0   \n",
       "4         1                     1.0                    3.0         0   \n",
       "\n",
       "   TypeofContact_Company Invited  TypeofContact_Self Enquiry  \\\n",
       "0                              0                           1   \n",
       "1                              0                           1   \n",
       "2                              0                           1   \n",
       "3                              1                           0   \n",
       "4                              1                           0   \n",
       "\n",
       "   Occupation_Large Business  Occupation_Salaried  Occupation_Small Business  \n",
       "0                          0                    0                          1  \n",
       "1                          0                    0                          1  \n",
       "2                          0                    1                          0  \n",
       "3                          0                    1                          0  \n",
       "4                          0                    1                          0  "
      ]
     },
     "execution_count": 44,
     "metadata": {},
     "output_type": "execute_result"
    }
   ],
   "source": [
    "# データの先頭5行を確認します。\n",
    "test.head()"
   ]
  },
  {
   "cell_type": "markdown",
   "metadata": {
    "id": "cZFXbW95E-i3"
   },
   "source": [
    "データを確認すると、全てのデータが数値となっていることを確認できます。"
   ]
  },
  {
   "cell_type": "markdown",
   "metadata": {
    "id": "EELK_JKeE-i3"
   },
   "source": [
    "それでは、データの分割を行います。\n",
    "\n",
    "データの分割は、モデルの性能を適切に評価するために重要で、実際に運用する機械学習モデルの性能を担保するために必要な作業です。\n",
    "\n",
    "データ分割の方法にも様々な方法がありますが、本チュートリアルではscikit-learnのtrain_test_splitを利用します。\n",
    "\n",
    "train_test_splitはデータを学習用と評価用の2つに分割する方法です。"
   ]
  },
  {
   "cell_type": "code",
   "execution_count": 45,
   "metadata": {
    "id": "nnkbFAbTE-i3",
    "vscode": {
     "languageId": "python"
    }
   },
   "outputs": [
    {
     "ename": "ModuleNotFoundError",
     "evalue": "No module named 'sklearn'",
     "output_type": "error",
     "traceback": [
      "\u001b[0;31m---------------------------------------------------------------------------\u001b[0m",
      "\u001b[0;31mModuleNotFoundError\u001b[0m                       Traceback (most recent call last)",
      "\u001b[0;32m<ipython-input-45-3be312665972>\u001b[0m in \u001b[0;36m<module>\u001b[0;34m\u001b[0m\n\u001b[1;32m      1\u001b[0m \u001b[0;31m# scikit-learnからtrain_test_splitをインポートします。\u001b[0m\u001b[0;34m\u001b[0m\u001b[0;34m\u001b[0m\u001b[0;34m\u001b[0m\u001b[0m\n\u001b[0;32m----> 2\u001b[0;31m \u001b[0;32mfrom\u001b[0m \u001b[0msklearn\u001b[0m\u001b[0;34m.\u001b[0m\u001b[0mmodel_selection\u001b[0m \u001b[0;32mimport\u001b[0m \u001b[0mtrain_test_split\u001b[0m\u001b[0;34m\u001b[0m\u001b[0;34m\u001b[0m\u001b[0m\n\u001b[0m",
      "\u001b[0;31mModuleNotFoundError\u001b[0m: No module named 'sklearn'"
     ]
    }
   ],
   "source": [
    "# scikit-learnからtrain_test_splitをインポートします。\n",
    "import skl\n",
    "from sklearn.model_selection import train_test_split"
   ]
  },
  {
   "cell_type": "code",
   "execution_count": null,
   "metadata": {
    "colab": {
     "base_uri": "https://localhost:8080/"
    },
    "id": "_bzxHnSnE-i3",
    "outputId": "d1d44d3c-1cbc-418a-b067-a73f94e6e562",
    "vscode": {
     "languageId": "python"
    }
   },
   "outputs": [
    {
     "name": "stdout",
     "output_type": "stream",
     "text": [
      "(2616, 9) (873, 9) (2616,) (873,)\n"
     ]
    }
   ],
   "source": [
    "X_train, X_valid, y_train, y_valid = train_test_split(train, target, random_state = 42)\n",
    "print(X_train.shape, X_valid.shape, y_train.shape, y_valid.shape)"
   ]
  },
  {
   "cell_type": "markdown",
   "metadata": {
    "id": "lR1rQISdE-i3"
   },
   "source": [
    "データを分割することができました。\n",
    "\n",
    "train_test_split で出力された X_train, X_valid, y_train, y_valid は、分割後のデータです。\n",
    "\n",
    "- X はデータの特徴量を表し、\n",
    "\n",
    "- y は予測対象を表します。\n",
    "\n",
    "- X_train, y_train はモデルの学習に使用するデータです。\n",
    "\n",
    "- X_valid, y_valid は学習したモデルの評価用に使用します。\n",
    "\n",
    "詳しくは次の「学習と検証」のステップで確認しましょう。"
   ]
  },
  {
   "cell_type": "markdown",
   "metadata": {
    "id": "SoZCYfxBE-i3"
   },
   "source": [
    "# 6. 学習と検証\n",
    "それでは機械学習モデルの学習を行ってみましょう。\n",
    "\n",
    "本チュートリアルでは、機械学習アルゴリズムの一つであるランダムフォレストを使って予測を行います。（詳細は省略しますが、ランダムフォレストは決定木のアンサンブル学習法の一種です。）\n",
    "\n",
    "機械学習アルゴリズムは、scikit-learnライブラリからインポートできます。\n",
    "\n",
    "また、本コンペティションで使用する評価指標AUC（Area Under the ROC Curve）もscikit-learnからインポートできます。AUCは、モデルの予測能力を評価するための指標で、高いほど良いモデルとされます。\n",
    "\n",
    "これらをインポートしましょう。"
   ]
  },
  {
   "cell_type": "code",
   "execution_count": null,
   "metadata": {
    "id": "NKA06VdtE-i3",
    "vscode": {
     "languageId": "python"
    }
   },
   "outputs": [],
   "source": [
    "# ランダムフォレストとAUC評価指標をインポートします。\n",
    "from sklearn.ensemble import RandomForestClassifier\n",
    "from sklearn.metrics import roc_auc_score"
   ]
  },
  {
   "cell_type": "markdown",
   "metadata": {
    "id": "77LByOdSE-i3"
   },
   "source": [
    "それではランダムフォレストを呼び出し、分割した学習用データX_train, y_trainで学習してみましょう。"
   ]
  },
  {
   "cell_type": "code",
   "execution_count": null,
   "metadata": {
    "colab": {
     "base_uri": "https://localhost:8080/",
     "height": 75
    },
    "id": "KVeMBzTnE-i3",
    "outputId": "b6cbdc44-6e61-420e-d2ba-09ab335b419b",
    "vscode": {
     "languageId": "python"
    }
   },
   "outputs": [
    {
     "data": {
      "text/html": [
       "<style>#sk-container-id-1 {color: black;}#sk-container-id-1 pre{padding: 0;}#sk-container-id-1 div.sk-toggleable {background-color: white;}#sk-container-id-1 label.sk-toggleable__label {cursor: pointer;display: block;width: 100%;margin-bottom: 0;padding: 0.3em;box-sizing: border-box;text-align: center;}#sk-container-id-1 label.sk-toggleable__label-arrow:before {content: \"▸\";float: left;margin-right: 0.25em;color: #696969;}#sk-container-id-1 label.sk-toggleable__label-arrow:hover:before {color: black;}#sk-container-id-1 div.sk-estimator:hover label.sk-toggleable__label-arrow:before {color: black;}#sk-container-id-1 div.sk-toggleable__content {max-height: 0;max-width: 0;overflow: hidden;text-align: left;background-color: #f0f8ff;}#sk-container-id-1 div.sk-toggleable__content pre {margin: 0.2em;color: black;border-radius: 0.25em;background-color: #f0f8ff;}#sk-container-id-1 input.sk-toggleable__control:checked~div.sk-toggleable__content {max-height: 200px;max-width: 100%;overflow: auto;}#sk-container-id-1 input.sk-toggleable__control:checked~label.sk-toggleable__label-arrow:before {content: \"▾\";}#sk-container-id-1 div.sk-estimator input.sk-toggleable__control:checked~label.sk-toggleable__label {background-color: #d4ebff;}#sk-container-id-1 div.sk-label input.sk-toggleable__control:checked~label.sk-toggleable__label {background-color: #d4ebff;}#sk-container-id-1 input.sk-hidden--visually {border: 0;clip: rect(1px 1px 1px 1px);clip: rect(1px, 1px, 1px, 1px);height: 1px;margin: -1px;overflow: hidden;padding: 0;position: absolute;width: 1px;}#sk-container-id-1 div.sk-estimator {font-family: monospace;background-color: #f0f8ff;border: 1px dotted black;border-radius: 0.25em;box-sizing: border-box;margin-bottom: 0.5em;}#sk-container-id-1 div.sk-estimator:hover {background-color: #d4ebff;}#sk-container-id-1 div.sk-parallel-item::after {content: \"\";width: 100%;border-bottom: 1px solid gray;flex-grow: 1;}#sk-container-id-1 div.sk-label:hover label.sk-toggleable__label {background-color: #d4ebff;}#sk-container-id-1 div.sk-serial::before {content: \"\";position: absolute;border-left: 1px solid gray;box-sizing: border-box;top: 0;bottom: 0;left: 50%;z-index: 0;}#sk-container-id-1 div.sk-serial {display: flex;flex-direction: column;align-items: center;background-color: white;padding-right: 0.2em;padding-left: 0.2em;position: relative;}#sk-container-id-1 div.sk-item {position: relative;z-index: 1;}#sk-container-id-1 div.sk-parallel {display: flex;align-items: stretch;justify-content: center;background-color: white;position: relative;}#sk-container-id-1 div.sk-item::before, #sk-container-id-1 div.sk-parallel-item::before {content: \"\";position: absolute;border-left: 1px solid gray;box-sizing: border-box;top: 0;bottom: 0;left: 50%;z-index: -1;}#sk-container-id-1 div.sk-parallel-item {display: flex;flex-direction: column;z-index: 1;position: relative;background-color: white;}#sk-container-id-1 div.sk-parallel-item:first-child::after {align-self: flex-end;width: 50%;}#sk-container-id-1 div.sk-parallel-item:last-child::after {align-self: flex-start;width: 50%;}#sk-container-id-1 div.sk-parallel-item:only-child::after {width: 0;}#sk-container-id-1 div.sk-dashed-wrapped {border: 1px dashed gray;margin: 0 0.4em 0.5em 0.4em;box-sizing: border-box;padding-bottom: 0.4em;background-color: white;}#sk-container-id-1 div.sk-label label {font-family: monospace;font-weight: bold;display: inline-block;line-height: 1.2em;}#sk-container-id-1 div.sk-label-container {text-align: center;}#sk-container-id-1 div.sk-container {/* jupyter's `normalize.less` sets `[hidden] { display: none; }` but bootstrap.min.css set `[hidden] { display: none !important; }` so we also need the `!important` here to be able to override the default hidden behavior on the sphinx rendered scikit-learn.org. See: https://github.com/scikit-learn/scikit-learn/issues/21755 */display: inline-block !important;position: relative;}#sk-container-id-1 div.sk-text-repr-fallback {display: none;}</style><div id=\"sk-container-id-1\" class=\"sk-top-container\"><div class=\"sk-text-repr-fallback\"><pre>RandomForestClassifier(random_state=42)</pre><b>In a Jupyter environment, please rerun this cell to show the HTML representation or trust the notebook. <br />On GitHub, the HTML representation is unable to render, please try loading this page with nbviewer.org.</b></div><div class=\"sk-container\" hidden><div class=\"sk-item\"><div class=\"sk-estimator sk-toggleable\"><input class=\"sk-toggleable__control sk-hidden--visually\" id=\"sk-estimator-id-1\" type=\"checkbox\" checked><label for=\"sk-estimator-id-1\" class=\"sk-toggleable__label sk-toggleable__label-arrow\">RandomForestClassifier</label><div class=\"sk-toggleable__content\"><pre>RandomForestClassifier(random_state=42)</pre></div></div></div></div></div>"
      ],
      "text/plain": [
       "RandomForestClassifier(random_state=42)"
      ]
     },
     "execution_count": 25,
     "metadata": {},
     "output_type": "execute_result"
    }
   ],
   "source": [
    "# ランダムフォレストモデルを呼び出します。ランダムフォレストは実行するたびに学習結果が変わることがあるのでrandom_stateに数字を指定して結果を固定します。\n",
    "model = RandomForestClassifier(random_state=42)\n",
    "# model.fit() で学習します。訓練データと訓練データの目的変数を指定します。\n",
    "model.fit(X_train, y_train)"
   ]
  },
  {
   "cell_type": "markdown",
   "metadata": {
    "id": "c9EwopmfE-i3"
   },
   "source": [
    "学習できました。\n",
    "\n",
    "それでは次に予測をしてみましょう!\n",
    "\n",
    "分類における予測方法には、予測を0と1の**二値**で判定する`model.predict()`と、**確率**を計算する`model.predict_proba()`の二つがあります。\n",
    "\n",
    "今回の評価指標である`roc_auc_score`は確率からスコアを計算するため、`model.predict_proba()`を使います。\n",
    "\n",
    "分割した評価用データX_validを予測してみましょう。"
   ]
  },
  {
   "cell_type": "code",
   "execution_count": null,
   "metadata": {
    "id": "303eg8N4E-i4",
    "vscode": {
     "languageId": "python"
    }
   },
   "outputs": [],
   "source": [
    "# predict_proba() で予測します。予測したいデータを入力します。\n",
    "pred = model.predict_proba(X_valid)"
   ]
  },
  {
   "cell_type": "code",
   "execution_count": null,
   "metadata": {
    "colab": {
     "base_uri": "https://localhost:8080/"
    },
    "id": "0y8KBzACE-i4",
    "outputId": "a430ed76-abdc-44b9-ef50-24a3cc59cc2a",
    "vscode": {
     "languageId": "python"
    }
   },
   "outputs": [
    {
     "name": "stdout",
     "output_type": "stream",
     "text": [
      "[[0.88942315 0.11057685]\n",
      " [0.65010806 0.34989194]\n",
      " [0.92741608 0.07258392]\n",
      " [0.8826726  0.1173274 ]\n",
      " [0.94218052 0.05781948]]\n"
     ]
    }
   ],
   "source": [
    "# 予測の中身を確認します\n",
    "print(pred[:5])"
   ]
  },
  {
   "cell_type": "markdown",
   "metadata": {
    "id": "4FJYMcZ0E-i4"
   },
   "source": [
    "これで予測できました!\n",
    "\n",
    "2列の予測結果が出力されていますが、1列目が0の確率(成約していない確率)、2列目が1の確率(成約している確率)を表します。\n",
    "\n",
    "それでは最後に検証データ(y_valid)と予測結果(pred)の目的変数と比較してモデルの精度を評価しましょう。"
   ]
  },
  {
   "cell_type": "code",
   "execution_count": null,
   "metadata": {
    "colab": {
     "base_uri": "https://localhost:8080/"
    },
    "id": "d-roGmaAE-i4",
    "outputId": "f7c25f8b-df5c-4ab0-ee99-4a84ab689b92",
    "vscode": {
     "languageId": "python"
    }
   },
   "outputs": [
    {
     "name": "stdout",
     "output_type": "stream",
     "text": [
      "0.6376585475361993\n"
     ]
    }
   ],
   "source": [
    "# AUCの評価はroc_auc_score(正解データ, 予測データ)で可能です。\n",
    "# 成約したかどうかを判定するため、2列目の1の確率(成約している確率)を予測データとして入力します。\n",
    "score = roc_auc_score(y_valid, pred[:, 1])\n",
    "print(score)"
   ]
  },
  {
   "cell_type": "markdown",
   "metadata": {
    "id": "MfmISODjE-i4"
   },
   "source": [
    "スコアは約0.637659でした。\n",
    "\n",
    "このスコアは、モデルが成約の有無を予測する際の性能を示します。\n",
    "\n",
    "最後にスコアをROCカーブでみてみましょう。"
   ]
  },
  {
   "cell_type": "code",
   "execution_count": null,
   "metadata": {
    "colab": {
     "base_uri": "https://localhost:8080/",
     "height": 472
    },
    "id": "QvslN9GOE-i4",
    "outputId": "9b36b22f-3eb5-4f4b-b640-584d0451dfc6",
    "vscode": {
     "languageId": "python"
    }
   },
   "outputs": [
    {
     "data": {
      "image/png": "[encoded data removed]",
      "text/plain": [
       "<Figure size 640x480 with 1 Axes>"
      ]
     },
     "metadata": {},
     "output_type": "display_data"
    }
   ],
   "source": [
    "from sklearn.metrics import roc_curve\n",
    "fpr, tpr, thresholds = roc_curve(y_valid, pred[:, 1])\n",
    "\n",
    "plt.plot([0, 1], [0, 1], 'k--')\n",
    "plt.plot(fpr,tpr,label='LogisticRegression')\n",
    "plt.xlabel('False Positive Rate')\n",
    "plt.ylabel('True Positive Rate')\n",
    "plt.title('ROC Curve')\n",
    "plt.show()"
   ]
  },
  {
   "cell_type": "markdown",
   "metadata": {
    "id": "9pvPlzkpE-i4"
   },
   "source": [
    "ROCカーブは0.5がランダムの予測となり、今回の予測では約0.637659とランダムより良い予測となっています。"
   ]
  },
  {
   "cell_type": "markdown",
   "metadata": {
    "id": "kwDh1eAkE-i4"
   },
   "source": [
    "# 7. 提出\n",
    "それでは最後に、学習したモデルをテストデータに対して予測をし、提出を行います。\n",
    "\n",
    "まずテストデータを`model.predict_proba()`で予測しましょう。"
   ]
  },
  {
   "cell_type": "code",
   "execution_count": null,
   "metadata": {
    "id": "SduDlgxaE-i4",
    "vscode": {
     "languageId": "python"
    }
   },
   "outputs": [],
   "source": [
    "# テストデータを用いて予測します。\n",
    "predict = model.predict_proba(test)"
   ]
  },
  {
   "cell_type": "markdown",
   "metadata": {
    "id": "USUMVozJE-i5"
   },
   "source": [
    "次に、提出ファイルを作成します。\n",
    "\n",
    "提出ファイルの見本は submit_sample.csv にあります。確認してみましょう。"
   ]
  },
  {
   "cell_type": "code",
   "execution_count": null,
   "metadata": {
    "colab": {
     "base_uri": "https://localhost:8080/",
     "height": 206
    },
    "id": "gs-VGyucE-i5",
    "outputId": "7992e909-b957-46b3-b6ba-49606dce2108",
    "vscode": {
     "languageId": "python"
    }
   },
   "outputs": [
    {
     "data": {
      "application/vnd.google.colaboratory.intrinsic+json": {
       "summary": "{\n  \"name\": \"submit\",\n  \"rows\": 3489,\n  \"fields\": [\n    {\n      \"column\": 0,\n      \"properties\": {\n        \"dtype\": \"number\",\n        \"std\": 1007,\n        \"min\": 3489,\n        \"max\": 6977,\n        \"num_unique_values\": 3489,\n        \"samples\": [\n          3784,\n          6357,\n          6863\n        ],\n        \"semantic_type\": \"\",\n        \"description\": \"\"\n      }\n    },\n    {\n      \"column\": 1,\n      \"properties\": {\n        \"dtype\": \"number\",\n        \"std\": 0.06577448490261434,\n        \"min\": 0.1194506547428936,\n        \"max\": 0.3435754189944134,\n        \"num_unique_values\": 2,\n        \"samples\": [\n          0.3435754189944134,\n          0.1194506547428936\n        ],\n        \"semantic_type\": \"\",\n        \"description\": \"\"\n      }\n    }\n  ]\n}",
       "type": "dataframe",
       "variable_name": "submit"
      },
      "text/html": [
       "\n",
       "  <div id=\"df-dc52eee7-5da9-420b-8289-3eb28e4b7be1\" class=\"colab-df-container\">\n",
       "    <div>\n",
       "<style scoped>\n",
       "    .dataframe tbody tr th:only-of-type {\n",
       "        vertical-align: middle;\n",
       "    }\n",
       "\n",
       "    .dataframe tbody tr th {\n",
       "        vertical-align: top;\n",
       "    }\n",
       "\n",
       "    .dataframe thead th {\n",
       "        text-align: right;\n",
       "    }\n",
       "</style>\n",
       "<table border=\"1\" class=\"dataframe\">\n",
       "  <thead>\n",
       "    <tr style=\"text-align: right;\">\n",
       "      <th></th>\n",
       "      <th>0</th>\n",
       "      <th>1</th>\n",
       "    </tr>\n",
       "  </thead>\n",
       "  <tbody>\n",
       "    <tr>\n",
       "      <th>0</th>\n",
       "      <td>3489</td>\n",
       "      <td>0.119451</td>\n",
       "    </tr>\n",
       "    <tr>\n",
       "      <th>1</th>\n",
       "      <td>3490</td>\n",
       "      <td>0.343575</td>\n",
       "    </tr>\n",
       "    <tr>\n",
       "      <th>2</th>\n",
       "      <td>3491</td>\n",
       "      <td>0.119451</td>\n",
       "    </tr>\n",
       "    <tr>\n",
       "      <th>3</th>\n",
       "      <td>3492</td>\n",
       "      <td>0.119451</td>\n",
       "    </tr>\n",
       "    <tr>\n",
       "      <th>4</th>\n",
       "      <td>3493</td>\n",
       "      <td>0.119451</td>\n",
       "    </tr>\n",
       "  </tbody>\n",
       "</table>\n",
       "</div>\n",
       "    <div class=\"colab-df-buttons\">\n",
       "\n",
       "  <div class=\"colab-df-container\">\n",
       "    <button class=\"colab-df-convert\" onclick=\"convertToInteractive('df-dc52eee7-5da9-420b-8289-3eb28e4b7be1')\"\n",
       "            title=\"Convert this dataframe to an interactive table.\"\n",
       "            style=\"display:none;\">\n",
       "\n",
       "  <svg xmlns=\"http://www.w3.org/2000/svg\" height=\"24px\" viewBox=\"0 -960 960 960\">\n",
       "    <path d=\"M120-120v-720h720v720H120Zm60-500h600v-160H180v160Zm220 220h160v-160H400v160Zm0 220h160v-160H400v160ZM180-400h160v-160H180v160Zm440 0h160v-160H620v160ZM180-180h160v-160H180v160Zm440 0h160v-160H620v160Z\"/>\n",
       "  </svg>\n",
       "    </button>\n",
       "\n",
       "  <style>\n",
       "    .colab-df-container {\n",
       "      display:flex;\n",
       "      gap: 12px;\n",
       "    }\n",
       "\n",
       "    .colab-df-convert {\n",
       "      background-color: #E8F0FE;\n",
       "      border: none;\n",
       "      border-radius: 50%;\n",
       "      cursor: pointer;\n",
       "      display: none;\n",
       "      fill: #1967D2;\n",
       "      height: 32px;\n",
       "      padding: 0 0 0 0;\n",
       "      width: 32px;\n",
       "    }\n",
       "\n",
       "    .colab-df-convert:hover {\n",
       "      background-color: #E2EBFA;\n",
       "      box-shadow: 0px 1px 2px rgba(60, 64, 67, 0.3), 0px 1px 3px 1px rgba(60, 64, 67, 0.15);\n",
       "      fill: #174EA6;\n",
       "    }\n",
       "\n",
       "    .colab-df-buttons div {\n",
       "      margin-bottom: 4px;\n",
       "    }\n",
       "\n",
       "    [theme=dark] .colab-df-convert {\n",
       "      background-color: #3B4455;\n",
       "      fill: #D2E3FC;\n",
       "    }\n",
       "\n",
       "    [theme=dark] .colab-df-convert:hover {\n",
       "      background-color: #434B5C;\n",
       "      box-shadow: 0px 1px 3px 1px rgba(0, 0, 0, 0.15);\n",
       "      filter: drop-shadow(0px 1px 2px rgba(0, 0, 0, 0.3));\n",
       "      fill: #FFFFFF;\n",
       "    }\n",
       "  </style>\n",
       "\n",
       "    <script>\n",
       "      const buttonEl =\n",
       "        document.querySelector('#df-dc52eee7-5da9-420b-8289-3eb28e4b7be1 button.colab-df-convert');\n",
       "      buttonEl.style.display =\n",
       "        google.colab.kernel.accessAllowed ? 'block' : 'none';\n",
       "\n",
       "      async function convertToInteractive(key) {\n",
       "        const element = document.querySelector('#df-dc52eee7-5da9-420b-8289-3eb28e4b7be1');\n",
       "        const dataTable =\n",
       "          await google.colab.kernel.invokeFunction('convertToInteractive',\n",
       "                                                    [key], {});\n",
       "        if (!dataTable) return;\n",
       "\n",
       "        const docLinkHtml = 'Like what you see? Visit the ' +\n",
       "          '<a target=\"_blank\" href=https://colab.research.google.com/notebooks/data_table.ipynb>data table notebook</a>'\n",
       "          + ' to learn more about interactive tables.';\n",
       "        element.innerHTML = '';\n",
       "        dataTable['output_type'] = 'display_data';\n",
       "        await google.colab.output.renderOutput(dataTable, element);\n",
       "        const docLink = document.createElement('div');\n",
       "        docLink.innerHTML = docLinkHtml;\n",
       "        element.appendChild(docLink);\n",
       "      }\n",
       "    </script>\n",
       "  </div>\n",
       "\n",
       "\n",
       "<div id=\"df-696e4c47-d948-4637-8e88-6049a13f74fc\">\n",
       "  <button class=\"colab-df-quickchart\" onclick=\"quickchart('df-696e4c47-d948-4637-8e88-6049a13f74fc')\"\n",
       "            title=\"Suggest charts\"\n",
       "            style=\"display:none;\">\n",
       "\n",
       "<svg xmlns=\"http://www.w3.org/2000/svg\" height=\"24px\"viewBox=\"0 0 24 24\"\n",
       "     width=\"24px\">\n",
       "    <g>\n",
       "        <path d=\"M19 3H5c-1.1 0-2 .9-2 2v14c0 1.1.9 2 2 2h14c1.1 0 2-.9 2-2V5c0-1.1-.9-2-2-2zM9 17H7v-7h2v7zm4 0h-2V7h2v10zm4 0h-2v-4h2v4z\"/>\n",
       "    </g>\n",
       "</svg>\n",
       "  </button>\n",
       "\n",
       "<style>\n",
       "  .colab-df-quickchart {\n",
       "      --bg-color: #E8F0FE;\n",
       "      --fill-color: #1967D2;\n",
       "      --hover-bg-color: #E2EBFA;\n",
       "      --hover-fill-color: #174EA6;\n",
       "      --disabled-fill-color: #AAA;\n",
       "      --disabled-bg-color: #DDD;\n",
       "  }\n",
       "\n",
       "  [theme=dark] .colab-df-quickchart {\n",
       "      --bg-color: #3B4455;\n",
       "      --fill-color: #D2E3FC;\n",
       "      --hover-bg-color: #434B5C;\n",
       "      --hover-fill-color: #FFFFFF;\n",
       "      --disabled-bg-color: #3B4455;\n",
       "      --disabled-fill-color: #666;\n",
       "  }\n",
       "\n",
       "  .colab-df-quickchart {\n",
       "    background-color: var(--bg-color);\n",
       "    border: none;\n",
       "    border-radius: 50%;\n",
       "    cursor: pointer;\n",
       "    display: none;\n",
       "    fill: var(--fill-color);\n",
       "    height: 32px;\n",
       "    padding: 0;\n",
       "    width: 32px;\n",
       "  }\n",
       "\n",
       "  .colab-df-quickchart:hover {\n",
       "    background-color: var(--hover-bg-color);\n",
       "    box-shadow: 0 1px 2px rgba(60, 64, 67, 0.3), 0 1px 3px 1px rgba(60, 64, 67, 0.15);\n",
       "    fill: var(--button-hover-fill-color);\n",
       "  }\n",
       "\n",
       "  .colab-df-quickchart-complete:disabled,\n",
       "  .colab-df-quickchart-complete:disabled:hover {\n",
       "    background-color: var(--disabled-bg-color);\n",
       "    fill: var(--disabled-fill-color);\n",
       "    box-shadow: none;\n",
       "  }\n",
       "\n",
       "  .colab-df-spinner {\n",
       "    border: 2px solid var(--fill-color);\n",
       "    border-color: transparent;\n",
       "    border-bottom-color: var(--fill-color);\n",
       "    animation:\n",
       "      spin 1s steps(1) infinite;\n",
       "  }\n",
       "\n",
       "  @keyframes spin {\n",
       "    0% {\n",
       "      border-color: transparent;\n",
       "      border-bottom-color: var(--fill-color);\n",
       "      border-left-color: var(--fill-color);\n",
       "    }\n",
       "    20% {\n",
       "      border-color: transparent;\n",
       "      border-left-color: var(--fill-color);\n",
       "      border-top-color: var(--fill-color);\n",
       "    }\n",
       "    30% {\n",
       "      border-color: transparent;\n",
       "      border-left-color: var(--fill-color);\n",
       "      border-top-color: var(--fill-color);\n",
       "      border-right-color: var(--fill-color);\n",
       "    }\n",
       "    40% {\n",
       "      border-color: transparent;\n",
       "      border-right-color: var(--fill-color);\n",
       "      border-top-color: var(--fill-color);\n",
       "    }\n",
       "    60% {\n",
       "      border-color: transparent;\n",
       "      border-right-color: var(--fill-color);\n",
       "    }\n",
       "    80% {\n",
       "      border-color: transparent;\n",
       "      border-right-color: var(--fill-color);\n",
       "      border-bottom-color: var(--fill-color);\n",
       "    }\n",
       "    90% {\n",
       "      border-color: transparent;\n",
       "      border-bottom-color: var(--fill-color);\n",
       "    }\n",
       "  }\n",
       "</style>\n",
       "\n",
       "  <script>\n",
       "    async function quickchart(key) {\n",
       "      const quickchartButtonEl =\n",
       "        document.querySelector('#' + key + ' button');\n",
       "      quickchartButtonEl.disabled = true;  // To prevent multiple clicks.\n",
       "      quickchartButtonEl.classList.add('colab-df-spinner');\n",
       "      try {\n",
       "        const charts = await google.colab.kernel.invokeFunction(\n",
       "            'suggestCharts', [key], {});\n",
       "      } catch (error) {\n",
       "        console.error('Error during call to suggestCharts:', error);\n",
       "      }\n",
       "      quickchartButtonEl.classList.remove('colab-df-spinner');\n",
       "      quickchartButtonEl.classList.add('colab-df-quickchart-complete');\n",
       "    }\n",
       "    (() => {\n",
       "      let quickchartButtonEl =\n",
       "        document.querySelector('#df-696e4c47-d948-4637-8e88-6049a13f74fc button');\n",
       "      quickchartButtonEl.style.display =\n",
       "        google.colab.kernel.accessAllowed ? 'block' : 'none';\n",
       "    })();\n",
       "  </script>\n",
       "</div>\n",
       "\n",
       "    </div>\n",
       "  </div>\n"
      ],
      "text/plain": [
       "      0         1\n",
       "0  3489  0.119451\n",
       "1  3490  0.343575\n",
       "2  3491  0.119451\n",
       "3  3492  0.119451\n",
       "4  3493  0.119451"
      ]
     },
     "execution_count": 31,
     "metadata": {},
     "output_type": "execute_result"
    }
   ],
   "source": [
    "# submit_sample.csvを読み込みます。\n",
    "submit = pd.read_csv(\"/content/drive/MyDrive/Colab Notebooks/SIGNATE_Cup 2024/data/sample_submit.csv\", header=None)\n",
    "submit.head()"
   ]
  },
  {
   "cell_type": "markdown",
   "metadata": {
    "id": "USzrq0-nE-i5"
   },
   "source": [
    "submit_sample.csv の最初の列はid、二番目の列は ProdTaken の予測確率であることが確認できます。\n",
    "\n",
    "sample_submit.csv の id はテストデータの id と一致しているため、二番目の列をモデルで予測した確率に変更することで提出ファイルを作成できます。"
   ]
  },
  {
   "cell_type": "code",
   "execution_count": null,
   "metadata": {
    "id": "giBZuEB_E-i5",
    "vscode": {
     "languageId": "python"
    }
   },
   "outputs": [],
   "source": [
    "# 提出ファイルの2列目を予測値で置き換えます。\n",
    "submit[1] = predict[:, 1]"
   ]
  },
  {
   "cell_type": "code",
   "execution_count": null,
   "metadata": {
    "colab": {
     "base_uri": "https://localhost:8080/",
     "height": 206
    },
    "id": "IvWVZlooE-i5",
    "outputId": "5a8e2d7f-aacd-43a5-f46c-011ab37525b5",
    "vscode": {
     "languageId": "python"
    }
   },
   "outputs": [
    {
     "data": {
      "application/vnd.google.colaboratory.intrinsic+json": {
       "summary": "{\n  \"name\": \"submit\",\n  \"rows\": 3489,\n  \"fields\": [\n    {\n      \"column\": 0,\n      \"properties\": {\n        \"dtype\": \"number\",\n        \"std\": 1007,\n        \"min\": 3489,\n        \"max\": 6977,\n        \"num_unique_values\": 3489,\n        \"samples\": [\n          3784,\n          6357,\n          6863\n        ],\n        \"semantic_type\": \"\",\n        \"description\": \"\"\n      }\n    },\n    {\n      \"column\": 1,\n      \"properties\": {\n        \"dtype\": \"number\",\n        \"std\": 0.1355090732813583,\n        \"min\": 0.0,\n        \"max\": 0.99,\n        \"num_unique_values\": 249,\n        \"samples\": [\n          0.36976190476190474,\n          0.3292174706395647,\n          0.22285714285714278\n        ],\n        \"semantic_type\": \"\",\n        \"description\": \"\"\n      }\n    }\n  ]\n}",
       "type": "dataframe",
       "variable_name": "submit"
      },
      "text/html": [
       "\n",
       "  <div id=\"df-d3ea12e5-19eb-4e46-b2cd-833cfefb87e8\" class=\"colab-df-container\">\n",
       "    <div>\n",
       "<style scoped>\n",
       "    .dataframe tbody tr th:only-of-type {\n",
       "        vertical-align: middle;\n",
       "    }\n",
       "\n",
       "    .dataframe tbody tr th {\n",
       "        vertical-align: top;\n",
       "    }\n",
       "\n",
       "    .dataframe thead th {\n",
       "        text-align: right;\n",
       "    }\n",
       "</style>\n",
       "<table border=\"1\" class=\"dataframe\">\n",
       "  <thead>\n",
       "    <tr style=\"text-align: right;\">\n",
       "      <th></th>\n",
       "      <th>0</th>\n",
       "      <th>1</th>\n",
       "    </tr>\n",
       "  </thead>\n",
       "  <tbody>\n",
       "    <tr>\n",
       "      <th>0</th>\n",
       "      <td>3489</td>\n",
       "      <td>0.320317</td>\n",
       "    </tr>\n",
       "    <tr>\n",
       "      <th>1</th>\n",
       "      <td>3490</td>\n",
       "      <td>0.090497</td>\n",
       "    </tr>\n",
       "    <tr>\n",
       "      <th>2</th>\n",
       "      <td>3491</td>\n",
       "      <td>0.000000</td>\n",
       "    </tr>\n",
       "    <tr>\n",
       "      <th>3</th>\n",
       "      <td>3492</td>\n",
       "      <td>0.211412</td>\n",
       "    </tr>\n",
       "    <tr>\n",
       "      <th>4</th>\n",
       "      <td>3493</td>\n",
       "      <td>0.167033</td>\n",
       "    </tr>\n",
       "  </tbody>\n",
       "</table>\n",
       "</div>\n",
       "    <div class=\"colab-df-buttons\">\n",
       "\n",
       "  <div class=\"colab-df-container\">\n",
       "    <button class=\"colab-df-convert\" onclick=\"convertToInteractive('df-d3ea12e5-19eb-4e46-b2cd-833cfefb87e8')\"\n",
       "            title=\"Convert this dataframe to an interactive table.\"\n",
       "            style=\"display:none;\">\n",
       "\n",
       "  <svg xmlns=\"http://www.w3.org/2000/svg\" height=\"24px\" viewBox=\"0 -960 960 960\">\n",
       "    <path d=\"M120-120v-720h720v720H120Zm60-500h600v-160H180v160Zm220 220h160v-160H400v160Zm0 220h160v-160H400v160ZM180-400h160v-160H180v160Zm440 0h160v-160H620v160ZM180-180h160v-160H180v160Zm440 0h160v-160H620v160Z\"/>\n",
       "  </svg>\n",
       "    </button>\n",
       "\n",
       "  <style>\n",
       "    .colab-df-container {\n",
       "      display:flex;\n",
       "      gap: 12px;\n",
       "    }\n",
       "\n",
       "    .colab-df-convert {\n",
       "      background-color: #E8F0FE;\n",
       "      border: none;\n",
       "      border-radius: 50%;\n",
       "      cursor: pointer;\n",
       "      display: none;\n",
       "      fill: #1967D2;\n",
       "      height: 32px;\n",
       "      padding: 0 0 0 0;\n",
       "      width: 32px;\n",
       "    }\n",
       "\n",
       "    .colab-df-convert:hover {\n",
       "      background-color: #E2EBFA;\n",
       "      box-shadow: 0px 1px 2px rgba(60, 64, 67, 0.3), 0px 1px 3px 1px rgba(60, 64, 67, 0.15);\n",
       "      fill: #174EA6;\n",
       "    }\n",
       "\n",
       "    .colab-df-buttons div {\n",
       "      margin-bottom: 4px;\n",
       "    }\n",
       "\n",
       "    [theme=dark] .colab-df-convert {\n",
       "      background-color: #3B4455;\n",
       "      fill: #D2E3FC;\n",
       "    }\n",
       "\n",
       "    [theme=dark] .colab-df-convert:hover {\n",
       "      background-color: #434B5C;\n",
       "      box-shadow: 0px 1px 3px 1px rgba(0, 0, 0, 0.15);\n",
       "      filter: drop-shadow(0px 1px 2px rgba(0, 0, 0, 0.3));\n",
       "      fill: #FFFFFF;\n",
       "    }\n",
       "  </style>\n",
       "\n",
       "    <script>\n",
       "      const buttonEl =\n",
       "        document.querySelector('#df-d3ea12e5-19eb-4e46-b2cd-833cfefb87e8 button.colab-df-convert');\n",
       "      buttonEl.style.display =\n",
       "        google.colab.kernel.accessAllowed ? 'block' : 'none';\n",
       "\n",
       "      async function convertToInteractive(key) {\n",
       "        const element = document.querySelector('#df-d3ea12e5-19eb-4e46-b2cd-833cfefb87e8');\n",
       "        const dataTable =\n",
       "          await google.colab.kernel.invokeFunction('convertToInteractive',\n",
       "                                                    [key], {});\n",
       "        if (!dataTable) return;\n",
       "\n",
       "        const docLinkHtml = 'Like what you see? Visit the ' +\n",
       "          '<a target=\"_blank\" href=https://colab.research.google.com/notebooks/data_table.ipynb>data table notebook</a>'\n",
       "          + ' to learn more about interactive tables.';\n",
       "        element.innerHTML = '';\n",
       "        dataTable['output_type'] = 'display_data';\n",
       "        await google.colab.output.renderOutput(dataTable, element);\n",
       "        const docLink = document.createElement('div');\n",
       "        docLink.innerHTML = docLinkHtml;\n",
       "        element.appendChild(docLink);\n",
       "      }\n",
       "    </script>\n",
       "  </div>\n",
       "\n",
       "\n",
       "<div id=\"df-ede7e5b7-e386-4f69-8028-774dbfcaa0a0\">\n",
       "  <button class=\"colab-df-quickchart\" onclick=\"quickchart('df-ede7e5b7-e386-4f69-8028-774dbfcaa0a0')\"\n",
       "            title=\"Suggest charts\"\n",
       "            style=\"display:none;\">\n",
       "\n",
       "<svg xmlns=\"http://www.w3.org/2000/svg\" height=\"24px\"viewBox=\"0 0 24 24\"\n",
       "     width=\"24px\">\n",
       "    <g>\n",
       "        <path d=\"M19 3H5c-1.1 0-2 .9-2 2v14c0 1.1.9 2 2 2h14c1.1 0 2-.9 2-2V5c0-1.1-.9-2-2-2zM9 17H7v-7h2v7zm4 0h-2V7h2v10zm4 0h-2v-4h2v4z\"/>\n",
       "    </g>\n",
       "</svg>\n",
       "  </button>\n",
       "\n",
       "<style>\n",
       "  .colab-df-quickchart {\n",
       "      --bg-color: #E8F0FE;\n",
       "      --fill-color: #1967D2;\n",
       "      --hover-bg-color: #E2EBFA;\n",
       "      --hover-fill-color: #174EA6;\n",
       "      --disabled-fill-color: #AAA;\n",
       "      --disabled-bg-color: #DDD;\n",
       "  }\n",
       "\n",
       "  [theme=dark] .colab-df-quickchart {\n",
       "      --bg-color: #3B4455;\n",
       "      --fill-color: #D2E3FC;\n",
       "      --hover-bg-color: #434B5C;\n",
       "      --hover-fill-color: #FFFFFF;\n",
       "      --disabled-bg-color: #3B4455;\n",
       "      --disabled-fill-color: #666;\n",
       "  }\n",
       "\n",
       "  .colab-df-quickchart {\n",
       "    background-color: var(--bg-color);\n",
       "    border: none;\n",
       "    border-radius: 50%;\n",
       "    cursor: pointer;\n",
       "    display: none;\n",
       "    fill: var(--fill-color);\n",
       "    height: 32px;\n",
       "    padding: 0;\n",
       "    width: 32px;\n",
       "  }\n",
       "\n",
       "  .colab-df-quickchart:hover {\n",
       "    background-color: var(--hover-bg-color);\n",
       "    box-shadow: 0 1px 2px rgba(60, 64, 67, 0.3), 0 1px 3px 1px rgba(60, 64, 67, 0.15);\n",
       "    fill: var(--button-hover-fill-color);\n",
       "  }\n",
       "\n",
       "  .colab-df-quickchart-complete:disabled,\n",
       "  .colab-df-quickchart-complete:disabled:hover {\n",
       "    background-color: var(--disabled-bg-color);\n",
       "    fill: var(--disabled-fill-color);\n",
       "    box-shadow: none;\n",
       "  }\n",
       "\n",
       "  .colab-df-spinner {\n",
       "    border: 2px solid var(--fill-color);\n",
       "    border-color: transparent;\n",
       "    border-bottom-color: var(--fill-color);\n",
       "    animation:\n",
       "      spin 1s steps(1) infinite;\n",
       "  }\n",
       "\n",
       "  @keyframes spin {\n",
       "    0% {\n",
       "      border-color: transparent;\n",
       "      border-bottom-color: var(--fill-color);\n",
       "      border-left-color: var(--fill-color);\n",
       "    }\n",
       "    20% {\n",
       "      border-color: transparent;\n",
       "      border-left-color: var(--fill-color);\n",
       "      border-top-color: var(--fill-color);\n",
       "    }\n",
       "    30% {\n",
       "      border-color: transparent;\n",
       "      border-left-color: var(--fill-color);\n",
       "      border-top-color: var(--fill-color);\n",
       "      border-right-color: var(--fill-color);\n",
       "    }\n",
       "    40% {\n",
       "      border-color: transparent;\n",
       "      border-right-color: var(--fill-color);\n",
       "      border-top-color: var(--fill-color);\n",
       "    }\n",
       "    60% {\n",
       "      border-color: transparent;\n",
       "      border-right-color: var(--fill-color);\n",
       "    }\n",
       "    80% {\n",
       "      border-color: transparent;\n",
       "      border-right-color: var(--fill-color);\n",
       "      border-bottom-color: var(--fill-color);\n",
       "    }\n",
       "    90% {\n",
       "      border-color: transparent;\n",
       "      border-bottom-color: var(--fill-color);\n",
       "    }\n",
       "  }\n",
       "</style>\n",
       "\n",
       "  <script>\n",
       "    async function quickchart(key) {\n",
       "      const quickchartButtonEl =\n",
       "        document.querySelector('#' + key + ' button');\n",
       "      quickchartButtonEl.disabled = true;  // To prevent multiple clicks.\n",
       "      quickchartButtonEl.classList.add('colab-df-spinner');\n",
       "      try {\n",
       "        const charts = await google.colab.kernel.invokeFunction(\n",
       "            'suggestCharts', [key], {});\n",
       "      } catch (error) {\n",
       "        console.error('Error during call to suggestCharts:', error);\n",
       "      }\n",
       "      quickchartButtonEl.classList.remove('colab-df-spinner');\n",
       "      quickchartButtonEl.classList.add('colab-df-quickchart-complete');\n",
       "    }\n",
       "    (() => {\n",
       "      let quickchartButtonEl =\n",
       "        document.querySelector('#df-ede7e5b7-e386-4f69-8028-774dbfcaa0a0 button');\n",
       "      quickchartButtonEl.style.display =\n",
       "        google.colab.kernel.accessAllowed ? 'block' : 'none';\n",
       "    })();\n",
       "  </script>\n",
       "</div>\n",
       "\n",
       "    </div>\n",
       "  </div>\n"
      ],
      "text/plain": [
       "      0         1\n",
       "0  3489  0.320317\n",
       "1  3490  0.090497\n",
       "2  3491  0.000000\n",
       "3  3492  0.211412\n",
       "4  3493  0.167033"
      ]
     },
     "execution_count": 33,
     "metadata": {},
     "output_type": "execute_result"
    }
   ],
   "source": [
    "#確認してみましょう\n",
    "submit.head()"
   ]
  },
  {
   "cell_type": "markdown",
   "metadata": {
    "id": "xBQADS_WE-i5"
   },
   "source": [
    "ProdTakenの部分が予測データに変わっていることが確認できました。\n",
    "\n",
    "ではこのデータをcsv形式で保存し提出しましょう。\n",
    "\n",
    "`to_csv()`でデータをcsvに保存することができます。"
   ]
  },
  {
   "cell_type": "code",
   "execution_count": null,
   "metadata": {
    "id": "Vym_mWzXE-i5",
    "vscode": {
     "languageId": "python"
    }
   },
   "outputs": [],
   "source": [
    "#submission.csvでデータを保存(提出様式はindex=False, header=Noneとしてください。)\n",
    "submit.to_csv(\"submission.csv\", index=False, header=None)"
   ]
  },
  {
   "cell_type": "markdown",
   "metadata": {
    "id": "dDSKJdanE-i5"
   },
   "source": [
    "これで本チュートリアルは終了です!\n",
    "\n",
    "ここまでのチュートリアルお疲れ様でした!"
   ]
  },
  {
   "cell_type": "markdown",
   "metadata": {
    "id": "kmP5ivY-E-i5"
   },
   "source": [
    "# 今後の方針\n",
    "提出が完了したからといって、このコンペティションは終わりではありません。次のステップは、精度を改善することです。\n",
    "\n",
    "では、どのようにして精度を向上させるのでしょうか？以下にいくつかのヒントを示します。\n",
    "\n",
    "## 予測モデルを変更する\n",
    "\n",
    "ランダムフォレスト以外にも、勾配ブースティングやロジスティック回帰などが存在します。どのモデルが最適かはデータによって異なるため、様々なモデルを試してみる価値があります。\n",
    "\n",
    "## 予測モデルのパラメータを調整する\n",
    "\n",
    "ランダムフォレストには様々なパラメータが存在します。例えば、max_depth(木の深さ)などがあります。これらのパラメータを変更して、予測性能がどう変化するかを確認してみましょう。\n",
    "\n",
    "参考リンク: [ランダムフォレストのパラメータ](https://scikit-learn.org/stable/modules/generated/sklearn.ensemble.RandomForestClassifier.html#sklearn.ensemble.RandomForestClassifier)\n",
    "\n",
    "## 予測に使用する特徴量を増やす\n",
    "\n",
    "本データセットに存在する以下の特徴量はまだ使われていません。これらを追加してみるとどうなるでしょうか?\n",
    "- Age\n",
    "- DurationOfPitch\n",
    "- Gender\n",
    "- NumberOfFollowups\n",
    "- ProductPitched\n",
    "- NumberOfTrips\n",
    "- Passport\n",
    "- PitchSatisfactionScore\n",
    "- Designation\n",
    "- MonthlyIncome\n",
    "- customer_info\n",
    "\n",
    "## データの前処理\n",
    "\n",
    "このデータには前処理が必要です。生データをそのまま使用すると、人間が解釈するのと機械学習モデルが解釈するのとで異なる結果が出ることがあります。\n",
    "\n",
    "例えばAgeの場合、\"50歳\"のデータが存在しますが、機械学習モデルでは\"50歳\"というカテゴリデータで解釈されます。年齢は大きければ大きいほど、成約に影響を与えるかもしれませんが、カテゴリデータではその大きさを比較できません。このためAgeをカテゴリデータから数値に直す必要があるかもしれません。\n",
    "\n",
    "## Genderなどの一部特徴量の違和感の確認\n",
    "\n",
    "Genderの場合、全角や大文字が混在しています。\n",
    "\n",
    "例えば、機械学習ではfemaleとFemaleは異なるデータとして扱われますが、これは正しい扱い方でしょうか?この点を確認してみましょう。"
   ]
  },
  {
   "cell_type": "markdown",
   "metadata": {
    "id": "FbuRWptKE-i5"
   },
   "source": [
    "### Tips1 ChatGPTの利用\n",
    "\n",
    "初学者にとってはpythonのコードを理解し、前処理をするのは時間がかかり苦労するものです。\n",
    "\n",
    "ですが、ChatGPTを使うと、データ分析のヒントや前処理について、コードを含めた前処理についての方法の情報を提供してくれたり、コードの提案をしてくれます。\n",
    "\n",
    "以下にChatGPT(GPT3.5)を使った本データの前処理の例を掲載します。ぜひこれらを活用してデータ分析を進めて精度を上げてください。\n",
    "\n",
    "※ChatGPTが出力が常に同じになるとは限らないため、リンクに記載されているコードが、手元でも同じ回答でないらないことがあります。また提案されたコードが完璧な分析・前処理であるとは限りません。<br>\n",
    "※GPT3.5を使用しているため、データ分析機能を利用しておりません。\n",
    "\n",
    "- Ageの前処理の例\n",
    "\n",
    "https://chat.openai.com/share/787e2f8a-9f4b-4e36-b577-2f752e11b2a2\n",
    "\n",
    "- Genderの前処理の例\n",
    "\n",
    "https://chatgpt.com/share/ffac983c-036d-4993-9c3a-2a86fcc7ef1b\n",
    "\n",
    "- DurationOfPitchの前処理の例\n",
    "\n",
    "https://chat.openai.com/share/4604c7ca-7b84-492f-bd08-9ecaccc1bf2b"
   ]
  },
  {
   "cell_type": "markdown",
   "metadata": {
    "id": "Wqb8hBZfIm96"
   },
   "source": [
    "また他にもデータを直接アップロードして分析・処理する機能も利用可能です。アップロードしたデータを分析するにはGPT4かGPT4-oを使用する必要があります。\n",
    "\n",
    "- ChatGPTを用いたデータ分析例\n",
    "\n",
    "https://chatgpt.com/share/47fe9dea-f4db-46ce-ba4a-a3bffe0c2749\n",
    "\n",
    "- Designationの例\n",
    "\n",
    "https://chatgpt.com/share/d8a911cc-bc56-45dc-a455-d7262106089a"
   ]
  }
 ],
 "metadata": {
  "colab": {
   "provenance": []
  },
  "kernelspec": {
   "display_name": "venv",
   "language": "python",
   "name": "venv"
  },
  "language_info": {
   "codemirror_mode": {
    "name": "ipython",
    "version": 3
   },
   "file_extension": ".py",
   "mimetype": "text/x-python",
   "name": "python",
   "nbconvert_exporter": "python",
   "pygments_lexer": "ipython3",
   "version": "3.6.9"
  }
 },
 "nbformat": 4,
 "nbformat_minor": 1
}
