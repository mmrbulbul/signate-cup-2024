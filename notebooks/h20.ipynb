{
 "cells": [
  {
   "cell_type": "code",
   "execution_count": 1,
   "id": "a8d2454b",
   "metadata": {},
   "outputs": [],
   "source": [
    "import os\n",
    "import re\n",
    "import random\n",
    "import unicodedata\n",
    "import pandas as pd\n",
    "import numpy as np\n",
    "import matplotlib.pyplot as plt\n",
    "import seaborn as sns\n",
    "from sklearn.ensemble import RandomForestClassifier\n",
    "from sklearn.model_selection import StratifiedKFold\n",
    "from sklearn.metrics import roc_auc_score\n",
    "from scripts.data_cleaning import clean_data"
   ]
  },
  {
   "cell_type": "code",
   "execution_count": 2,
   "id": "1eb32506",
   "metadata": {},
   "outputs": [],
   "source": [
    "import warnings\n",
    "warnings.filterwarnings('ignore')"
   ]
  },
  {
   "cell_type": "code",
   "execution_count": 3,
   "id": "fb1e6f7a",
   "metadata": {},
   "outputs": [],
   "source": [
    "train = pd.read_csv(\"../data/train.csv\")\n",
    "test = pd.read_csv(\"../data/test.csv\")"
   ]
  },
  {
   "cell_type": "code",
   "execution_count": 4,
   "id": "dd871709",
   "metadata": {},
   "outputs": [],
   "source": [
    "SEED = 1971"
   ]
  },
  {
   "cell_type": "code",
   "execution_count": 5,
   "id": "8001866b",
   "metadata": {},
   "outputs": [],
   "source": [
    "# clean data \n",
    "train.set_index(\"id\", inplace=True)\n",
    "test.set_index(\"id\", inplace=True)\n",
    "cleaned_train_orig = clean_data(train)\n",
    "cleaned_test_orig = clean_data(test)"
   ]
  },
  {
   "cell_type": "code",
   "execution_count": 6,
   "id": "e8c80b90",
   "metadata": {},
   "outputs": [],
   "source": [
    "# chnage pass to cat col\n",
    "cleaned_test_orig[\"passport\"] = cleaned_test_orig[\"passport\"].astype('object')\n",
    "cleaned_train_orig[\"passport\"] = cleaned_train_orig[\"passport\"].astype('object')"
   ]
  },
  {
   "cell_type": "code",
   "execution_count": 7,
   "id": "f2ce1557",
   "metadata": {},
   "outputs": [
    {
     "name": "stdout",
     "output_type": "stream",
     "text": [
      "<class 'pandas.core.frame.DataFrame'>\n",
      "Int64Index: 3489 entries, 0 to 3488\n",
      "Data columns (total 19 columns):\n",
      " #   Column                     Non-Null Count  Dtype  \n",
      "---  ------                     --------------  -----  \n",
      " 0   age                        3389 non-null   float64\n",
      " 1   typeof_contact             3483 non-null   object \n",
      " 2   city_tier                  3489 non-null   int64  \n",
      " 3   duration_of_pitch          3368 non-null   float64\n",
      " 4   occupation                 3489 non-null   object \n",
      " 5   gender                     3489 non-null   object \n",
      " 6   number_of_person_visiting  3489 non-null   float64\n",
      " 7   number_of_followups        3456 non-null   float64\n",
      " 8   product_pitched            3489 non-null   object \n",
      " 9   preferred_property_star    3489 non-null   float64\n",
      " 10  number_of_trips            3467 non-null   float64\n",
      " 11  passport                   3489 non-null   object \n",
      " 12  pitch_satisfaction_score   3489 non-null   int64  \n",
      " 13  designation                3489 non-null   object \n",
      " 14  monthly_income             3433 non-null   float64\n",
      " 15  prod_taken                 3489 non-null   int64  \n",
      " 16  marital_status             3489 non-null   object \n",
      " 17  car_ownership              3489 non-null   object \n",
      " 18  children                   3489 non-null   object \n",
      "dtypes: float64(7), int64(3), object(9)\n",
      "memory usage: 545.2+ KB\n"
     ]
    }
   ],
   "source": [
    "cleaned_train_orig.info()"
   ]
  },
  {
   "cell_type": "code",
   "execution_count": 8,
   "id": "9d545982",
   "metadata": {},
   "outputs": [],
   "source": [
    "CAT_COL  = cleaned_test_orig.select_dtypes(include=['object', 'category']).columns\n",
    "NUM_COL = [col for col in cleaned_test_orig.columns if col not in CAT_COL]"
   ]
  },
  {
   "cell_type": "code",
   "execution_count": 9,
   "id": "f0eee81a",
   "metadata": {},
   "outputs": [
    {
     "data": {
      "text/plain": [
       "typeof_contact     6\n",
       "occupation         0\n",
       "gender             0\n",
       "product_pitched    0\n",
       "passport           0\n",
       "designation        0\n",
       "marital_status     0\n",
       "car_ownership      0\n",
       "children           0\n",
       "dtype: int64"
      ]
     },
     "execution_count": 9,
     "metadata": {},
     "output_type": "execute_result"
    }
   ],
   "source": [
    "cleaned_train_orig[CAT_COL].isna().sum()"
   ]
  },
  {
   "cell_type": "code",
   "execution_count": 10,
   "id": "1d2ece94",
   "metadata": {},
   "outputs": [
    {
     "data": {
      "text/plain": [
       "typeof_contact     12\n",
       "occupation          0\n",
       "gender              0\n",
       "product_pitched     0\n",
       "passport            0\n",
       "designation         0\n",
       "marital_status      0\n",
       "car_ownership       0\n",
       "children            0\n",
       "dtype: int64"
      ]
     },
     "execution_count": 10,
     "metadata": {},
     "output_type": "execute_result"
    }
   ],
   "source": [
    "cleaned_test_orig[CAT_COL].isna().sum()"
   ]
  },
  {
   "cell_type": "code",
   "execution_count": 11,
   "id": "1cc5c4dc",
   "metadata": {},
   "outputs": [],
   "source": [
    "# create new category for type of contact\n",
    "cleaned_test_orig.fillna(\"unknown\", inplace = True)\n",
    "cleaned_train_orig.fillna(\"unknown\", inplace = True)"
   ]
  },
  {
   "cell_type": "code",
   "execution_count": 12,
   "id": "6834980f",
   "metadata": {},
   "outputs": [],
   "source": [
    "target_name = \"prod_taken\""
   ]
  },
  {
   "cell_type": "code",
   "execution_count": 22,
   "id": "417a5619",
   "metadata": {},
   "outputs": [
    {
     "ename": "AttributeError",
     "evalue": "'list' object has no attribute 'tolist'",
     "output_type": "error",
     "traceback": [
      "\u001b[0;31m---------------------------------------------------------------------------\u001b[0m",
      "\u001b[0;31mAttributeError\u001b[0m                            Traceback (most recent call last)",
      "\u001b[0;32m<ipython-input-22-fcc71cd4198d>\u001b[0m in \u001b[0;36m<module>\u001b[0;34m\u001b[0m\n\u001b[0;32m----> 1\u001b[0;31m \u001b[0mCAT_COL\u001b[0m \u001b[0;34m=\u001b[0m \u001b[0mCAT_COL\u001b[0m\u001b[0;34m.\u001b[0m\u001b[0mtolist\u001b[0m\u001b[0;34m(\u001b[0m\u001b[0;34m)\u001b[0m\u001b[0;34m\u001b[0m\u001b[0;34m\u001b[0m\u001b[0m\n\u001b[0m",
      "\u001b[0;31mAttributeError\u001b[0m: 'list' object has no attribute 'tolist'"
     ]
    }
   ],
   "source": [
    "CAT_COL = CAT_COL.tolist()"
   ]
  },
  {
   "cell_type": "code",
   "execution_count": 23,
   "id": "59e930f6",
   "metadata": {},
   "outputs": [
    {
     "data": {
      "text/plain": [
       "['typeof_contact',\n",
       " 'occupation',\n",
       " 'gender',\n",
       " 'product_pitched',\n",
       " 'passport',\n",
       " 'designation',\n",
       " 'marital_status',\n",
       " 'car_ownership',\n",
       " 'children',\n",
       " 'prod_taken']"
      ]
     },
     "execution_count": 23,
     "metadata": {},
     "output_type": "execute_result"
    }
   ],
   "source": [
    "CAT_COL"
   ]
  },
  {
   "cell_type": "code",
   "execution_count": 27,
   "id": "3b2e9b8b",
   "metadata": {},
   "outputs": [
    {
     "data": {
      "text/plain": [
       "['typeof_contact',\n",
       " 'occupation',\n",
       " 'gender',\n",
       " 'product_pitched',\n",
       " 'passport',\n",
       " 'designation',\n",
       " 'marital_status',\n",
       " 'car_ownership',\n",
       " 'children']"
      ]
     },
     "execution_count": 27,
     "metadata": {},
     "output_type": "execute_result"
    }
   ],
   "source": [
    "CAT_COL"
   ]
  },
  {
   "cell_type": "code",
   "execution_count": 24,
   "id": "59e8faa9",
   "metadata": {},
   "outputs": [],
   "source": [
    "# data preparation \n",
    "data = cleaned_train_orig[CAT_COL]\n",
    "# y = cleaned_train_orig[\"prod_taken\"]"
   ]
  },
  {
   "cell_type": "code",
   "execution_count": 32,
   "id": "42d9cc04",
   "metadata": {},
   "outputs": [
    {
     "name": "stdout",
     "output_type": "stream",
     "text": [
      "Checking whether there is an H2O instance running at http://localhost:54321. connected.\n"
     ]
    },
    {
     "data": {
      "text/html": [
       "\n",
       "<style>\n",
       "\n",
       "#h2o-table-8.h2o-container {\n",
       "  overflow-x: auto;\n",
       "}\n",
       "#h2o-table-8 .h2o-table {\n",
       "  /* width: 100%; */\n",
       "  margin-top: 1em;\n",
       "  margin-bottom: 1em;\n",
       "}\n",
       "#h2o-table-8 .h2o-table caption {\n",
       "  white-space: nowrap;\n",
       "  caption-side: top;\n",
       "  text-align: left;\n",
       "  /* margin-left: 1em; */\n",
       "  margin: 0;\n",
       "  font-size: larger;\n",
       "}\n",
       "#h2o-table-8 .h2o-table thead {\n",
       "  white-space: nowrap; \n",
       "  position: sticky;\n",
       "  top: 0;\n",
       "  box-shadow: 0 -1px inset;\n",
       "}\n",
       "#h2o-table-8 .h2o-table tbody {\n",
       "  overflow: auto;\n",
       "}\n",
       "#h2o-table-8 .h2o-table th,\n",
       "#h2o-table-8 .h2o-table td {\n",
       "  text-align: right;\n",
       "  /* border: 1px solid; */\n",
       "}\n",
       "#h2o-table-8 .h2o-table tr:nth-child(even) {\n",
       "  /* background: #F5F5F5 */\n",
       "}\n",
       "\n",
       "</style>      \n",
       "<div id=\"h2o-table-8\" class=\"h2o-container\">\n",
       "  <table class=\"h2o-table\">\n",
       "    <caption></caption>\n",
       "    <thead></thead>\n",
       "    <tbody><tr><td>H2O_cluster_uptime:</td>\n",
       "<td>17 mins 02 secs</td></tr>\n",
       "<tr><td>H2O_cluster_timezone:</td>\n",
       "<td>Asia/Tokyo</td></tr>\n",
       "<tr><td>H2O_data_parsing_timezone:</td>\n",
       "<td>UTC</td></tr>\n",
       "<tr><td>H2O_cluster_version:</td>\n",
       "<td>3.46.0.4</td></tr>\n",
       "<tr><td>H2O_cluster_version_age:</td>\n",
       "<td>1 month and 7 days</td></tr>\n",
       "<tr><td>H2O_cluster_name:</td>\n",
       "<td>H2O_from_python_bulbul_xpnwy7</td></tr>\n",
       "<tr><td>H2O_cluster_total_nodes:</td>\n",
       "<td>1</td></tr>\n",
       "<tr><td>H2O_cluster_free_memory:</td>\n",
       "<td>3.506 Gb</td></tr>\n",
       "<tr><td>H2O_cluster_total_cores:</td>\n",
       "<td>8</td></tr>\n",
       "<tr><td>H2O_cluster_allowed_cores:</td>\n",
       "<td>8</td></tr>\n",
       "<tr><td>H2O_cluster_status:</td>\n",
       "<td>locked, healthy</td></tr>\n",
       "<tr><td>H2O_connection_url:</td>\n",
       "<td>http://localhost:54321</td></tr>\n",
       "<tr><td>H2O_connection_proxy:</td>\n",
       "<td>{\"http\": null, \"https\": null}</td></tr>\n",
       "<tr><td>H2O_internal_security:</td>\n",
       "<td>False</td></tr>\n",
       "<tr><td>Python_version:</td>\n",
       "<td>3.6.9 final</td></tr></tbody>\n",
       "  </table>\n",
       "</div>\n"
      ],
      "text/plain": [
       "--------------------------  -----------------------------\n",
       "H2O_cluster_uptime:         17 mins 02 secs\n",
       "H2O_cluster_timezone:       Asia/Tokyo\n",
       "H2O_data_parsing_timezone:  UTC\n",
       "H2O_cluster_version:        3.46.0.4\n",
       "H2O_cluster_version_age:    1 month and 7 days\n",
       "H2O_cluster_name:           H2O_from_python_bulbul_xpnwy7\n",
       "H2O_cluster_total_nodes:    1\n",
       "H2O_cluster_free_memory:    3.506 Gb\n",
       "H2O_cluster_total_cores:    8\n",
       "H2O_cluster_allowed_cores:  8\n",
       "H2O_cluster_status:         locked, healthy\n",
       "H2O_connection_url:         http://localhost:54321\n",
       "H2O_connection_proxy:       {\"http\": null, \"https\": null}\n",
       "H2O_internal_security:      False\n",
       "Python_version:             3.6.9 final\n",
       "--------------------------  -----------------------------"
      ]
     },
     "metadata": {},
     "output_type": "display_data"
    },
    {
     "name": "stdout",
     "output_type": "stream",
     "text": [
      "targetencoder Model Build progress: |████████████████████████████████████████████| (done) 100%\n",
      "gbm Model Build progress: |██████████████████████████████████████████████████████| (done) 100%\n",
      "auc_with_te 0.8069209167497056\n",
      "gbm Model Build progress: |██████████████████████████████████████████████████████| (done) 100%\n",
      "0.8069209167497056\n"
     ]
    }
   ],
   "source": [
    "import h2o\n",
    "h2o.init()\n",
    "from h2o.estimators import H2OTargetEncoderEstimator\n",
    "from h2o.estimators.gbm import H2OGradientBoostingEstimator\n",
    "\n",
    "seed = 1971\n",
    "#Import the  dataset\n",
    "data = h2o.H2OFrame(data)\n",
    "# Set prod_taken column as a factor\n",
    "data['prod_taken'] = data['prod_taken'].asfactor()\n",
    "response='prod_taken'\n",
    "\n",
    "# Split the dataset into train and test\n",
    "train, test = data.split_frame(ratios = [.8], seed = seed)\n",
    "\n",
    "# Choose which columns to encode\n",
    "encoded_columns = CAT_COL\n",
    "\n",
    "# For k_fold strategy we need to provide fold column\n",
    "fold_column = \"kfold_column\"\n",
    "train[fold_column] = train.kfold_column(n_folds=5, seed=seed)\n",
    "\n",
    "# Train a TE model\n",
    "titanic_te = H2OTargetEncoderEstimator(fold_column=fold_column,\n",
    "                                       data_leakage_handling=\"k_fold\",\n",
    "                                       blending=True,\n",
    "                                       inflection_point=1,\n",
    "                                       smoothing=1,\n",
    "                                       noise=0.0,     # In general, the less data you have the more regularization you need\n",
    "                                       seed=seed)\n",
    "\n",
    "titanic_te.train(x=encoded_columns,\n",
    "                 y=response,\n",
    "                 training_frame=train)\n",
    "\n",
    "# New target encoded train and test sets\n",
    "train_te = titanic_te.transform(frame=train, as_training=True)\n",
    "test_te = titanic_te.transform(frame=test, noise=0)\n",
    "\n",
    "gbm_with_te=H2OGradientBoostingEstimator(fold_column=fold_column,\n",
    "                                         model_id=\"gbm_with_te\")\n",
    "\n",
    "# Training is based on training data with early stopping based on xval performance\n",
    "# x_with_te = [\"pclass\", \"sex\", \"age\", \"sibsp\", \"parch\", \"fare\", \"cabin_te\", \"embarked_te\", \"home.dest_te\"]\n",
    "gbm_with_te.train(x=CAT_COL, y=response, training_frame=train_te)\n",
    "\n",
    "# To prevent overly optimistic results ( overfitting to xval metrics ) metric is computed on yet unseen test split\n",
    "my_gbm_metrics = gbm_with_te.model_performance(test_te)\n",
    "auc_with_te = my_gbm_metrics.auc()\n",
    "\n",
    "print(\"auc_with_te\", auc_with_te)\n",
    "\n",
    "# Train a GBM estimator\n",
    "gbm_baseline=H2OGradientBoostingEstimator(fold_column=fold_column,\n",
    "                                          model_id=\"gbm_baseline\")\n",
    "\n",
    "# x_baseline = [\"pclass\", \"sex\", \"age\", \"sibsp\", \"parch\", \"fare\", \"cabin\", \"embarked\", \"home.dest\"]\n",
    "gbm_baseline.train(x=CAT_COL, y=response, training_frame=train)\n",
    "\n",
    "# Measuring performance on a test split\n",
    "gbm_baseline_metrics = gbm_baseline.model_performance(test)\n",
    "auc_baseline = gbm_baseline_metrics.auc()\n",
    "\n",
    "print(auc_baseline)"
   ]
  },
  {
   "cell_type": "code",
   "execution_count": null,
   "id": "fbd762c6",
   "metadata": {},
   "outputs": [],
   "source": []
  },
  {
   "cell_type": "code",
   "execution_count": null,
   "id": "0e3bf506",
   "metadata": {},
   "outputs": [],
   "source": []
  },
  {
   "cell_type": "code",
   "execution_count": null,
   "id": "4c1b6fbd",
   "metadata": {},
   "outputs": [],
   "source": []
  },
  {
   "cell_type": "code",
   "execution_count": null,
   "id": "ade0803e",
   "metadata": {},
   "outputs": [],
   "source": []
  },
  {
   "cell_type": "code",
   "execution_count": null,
   "id": "a7f710ee",
   "metadata": {},
   "outputs": [],
   "source": []
  },
  {
   "cell_type": "code",
   "execution_count": null,
   "id": "9d356300",
   "metadata": {},
   "outputs": [],
   "source": []
  },
  {
   "cell_type": "code",
   "execution_count": null,
   "id": "3b8ee7ee",
   "metadata": {},
   "outputs": [],
   "source": []
  },
  {
   "cell_type": "code",
   "execution_count": null,
   "id": "ec218908",
   "metadata": {},
   "outputs": [],
   "source": []
  }
 ],
 "metadata": {
  "kernelspec": {
   "display_name": ".venv",
   "language": "python",
   "name": ".venv"
  },
  "language_info": {
   "codemirror_mode": {
    "name": "ipython",
    "version": 3
   },
   "file_extension": ".py",
   "mimetype": "text/x-python",
   "name": "python",
   "nbconvert_exporter": "python",
   "pygments_lexer": "ipython3",
   "version": "3.6.9"
  }
 },
 "nbformat": 4,
 "nbformat_minor": 5
}
