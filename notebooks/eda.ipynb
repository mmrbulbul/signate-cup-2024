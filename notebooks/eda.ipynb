{
 "cells": [
  {
   "cell_type": "code",
   "execution_count": 68,
   "id": "ba747b66",
   "metadata": {},
   "outputs": [],
   "source": [
    "# import libraries\n",
    "import os\n",
    "import re\n",
    "import random\n",
    "import unicodedata\n",
    "import pandas as pd\n",
    "import numpy as np\n",
    "import matplotlib.pyplot as plt\n",
    "import seaborn as sns\n",
    "from sklearn.ensemble import RandomForestClassifier\n",
    "\n",
    "from scripts.data_cleaning import clean_data\n",
    "from scripts.feature_engineering import create_features\n",
    "from scripts.visualization import dist_visualization\n",
    "from scripts.encoders import LowDimFeature\n",
    "from scripts.feature_engineering import make_mi_scores, plot_mi_scores\n",
    "\n",
    "\n",
    "import warnings\n",
    "warnings.filterwarnings('ignore')"
   ]
  },
  {
   "cell_type": "code",
   "execution_count": 69,
   "id": "401e3431",
   "metadata": {},
   "outputs": [],
   "source": [
    "train = pd.read_csv(\"../data/train.csv\")\n",
    "test = pd.read_csv(\"../data/test.csv\")"
   ]
  },
  {
   "cell_type": "code",
   "execution_count": 70,
   "id": "6a712bfa",
   "metadata": {},
   "outputs": [],
   "source": [
    "train.set_index(\"id\", inplace=True)\n",
    "test.set_index(\"id\", inplace=True)"
   ]
  },
  {
   "cell_type": "code",
   "execution_count": 71,
   "id": "c74d2ba4",
   "metadata": {},
   "outputs": [],
   "source": [
    "def seed_everything(seed,\n",
    "                    tensorflow_init=False,\n",
    "                    pytorch_init=False):\n",
    "    \"\"\"\n",
    "    Seeds basic parameters for reproducibility of results\n",
    "    \"\"\"\n",
    "    random.seed(seed)\n",
    "    os.environ[\"PYTHONHASHSEED\"] = str(seed)\n",
    "    np.random.seed(seed)\n",
    "    if tensorflow_init is True:\n",
    "        tf.random.set_seed(seed)\n",
    "    if pytorch_init is True:\n",
    "        torch.manual_seed(seed)\n",
    "        torch.cuda.manual_seed(seed)\n",
    "        torch.backends.cudnn.deterministic = True\n",
    "        torch.backends.cudnn.benchmark = False"
   ]
  },
  {
   "cell_type": "code",
   "execution_count": 72,
   "id": "372c97cd",
   "metadata": {},
   "outputs": [],
   "source": [
    "SEED = 1971\n",
    "seed_everything(SEED)"
   ]
  },
  {
   "cell_type": "markdown",
   "id": "67f373ce",
   "metadata": {},
   "source": [
    "## DATA CLEANING"
   ]
  },
  {
   "cell_type": "code",
   "execution_count": 73,
   "id": "943cad96",
   "metadata": {},
   "outputs": [],
   "source": [
    "train_df = clean_data(train)\n",
    "test_df = clean_data(test)"
   ]
  },
  {
   "cell_type": "code",
   "execution_count": 74,
   "id": "f4468869",
   "metadata": {},
   "outputs": [],
   "source": [
    "# feature importance\n",
    "\n"
   ]
  },
  {
   "cell_type": "code",
   "execution_count": 75,
   "id": "85154006",
   "metadata": {},
   "outputs": [],
   "source": [
    "target = train_df[\"prod_taken\"]\n",
    "train = train_df.drop(columns=[\"prod_taken\"])"
   ]
  },
  {
   "cell_type": "code",
   "execution_count": 80,
   "id": "3e55a9ef",
   "metadata": {},
   "outputs": [
    {
     "data": {
      "text/plain": [
       "Index(['designation', 'monthly_income', 'product_pitched', 'marital_status',\n",
       "       'passport', 'age', 'children', 'occupation', 'duration_of_pitch',\n",
       "       'number_of_followups', 'number_of_person_visiting',\n",
       "       'preferred_property_star', 'gender', 'typeof_contact',\n",
       "       'pitch_satisfaction_score', 'number_of_trips', 'car_ownership',\n",
       "       'city_tier'],\n",
       "      dtype='object')"
      ]
     },
     "execution_count": 80,
     "metadata": {},
     "output_type": "execute_result"
    }
   ],
   "source": [
    "train = train.fillna(-1)\n",
    "# Label encoding for categoricals\n",
    "for colname in train.select_dtypes(\"object\"):\n",
    "    train[colname], _ = train[colname].factorize()\n",
    "    \n",
    "discrete_features = train.dtypes == int\n",
    "\n",
    "mi_scores = make_mi_scores(train, target, discrete_features)\n",
    "mi_scores.index"
   ]
  },
  {
   "cell_type": "code",
   "execution_count": 77,
   "id": "58995dd9",
   "metadata": {},
   "outputs": [
    {
     "data": {
      "image/png": "[encoded data removed]",
      "text/plain": [
       "<Figure size 432x288 with 1 Axes>"
      ]
     },
     "metadata": {
      "needs_background": "light"
     },
     "output_type": "display_data"
    }
   ],
   "source": [
    "plot_mi_scores(mi_scores)"
   ]
  },
  {
   "cell_type": "code",
   "execution_count": 61,
   "id": "4573774d",
   "metadata": {},
   "outputs": [
    {
     "data": {
      "text/plain": [
       "marital_status\n",
       "Divorced     0.116173\n",
       "Married      0.098266\n",
       "Single       0.334365\n",
       "Unmarried    0.074010\n",
       "Name: prod_taken, dtype: float64"
      ]
     },
     "execution_count": 61,
     "metadata": {},
     "output_type": "execute_result"
    }
   ],
   "source": [
    "train_df.groupby(\"marital_status\")[\"prod_taken\"].mean()"
   ]
  },
  {
   "cell_type": "code",
   "execution_count": 65,
   "id": "bc98a143",
   "metadata": {},
   "outputs": [
    {
     "data": {
      "text/plain": [
       "prod_taken\n",
       "0    200000.0\n",
       "1    240000.0\n",
       "Name: monthly_income, dtype: float64"
      ]
     },
     "execution_count": 65,
     "metadata": {},
     "output_type": "execute_result"
    }
   ],
   "source": [
    "train_df.groupby(\"prod_taken\")[\"monthly_income\"].min()"
   ]
  },
  {
   "cell_type": "markdown",
   "id": "8cfc95e0",
   "metadata": {},
   "source": [
    "## eda"
   ]
  },
  {
   "cell_type": "code",
   "execution_count": 19,
   "id": "a9098c5a",
   "metadata": {},
   "outputs": [
    {
     "name": "stdout",
     "output_type": "stream",
     "text": [
      "Not taken 85.76 % of the dataset\n",
      "Taken 14.24 % of the dataset\n"
     ]
    }
   ],
   "source": [
    "print('Not taken', round(train['prod_taken'].value_counts()[0]/len(train) * 100,2), '% of the dataset')\n",
    "print('Taken', round(train['prod_taken'].value_counts()[1]/len(train) * 100,2), '% of the dataset')"
   ]
  },
  {
   "cell_type": "code",
   "execution_count": 20,
   "id": "369c4832",
   "metadata": {},
   "outputs": [
    {
     "data": {
      "text/plain": [
       "Text(0.5, 1.0, 'Class Distributions \\n (0: Not taken || 1: taken)')"
      ]
     },
     "execution_count": 20,
     "metadata": {},
     "output_type": "execute_result"
    },
    {
     "data": {
      "image/png": "[encoded data removed]",
      "text/plain": [
       "<Figure size 432x288 with 1 Axes>"
      ]
     },
     "metadata": {
      "needs_background": "light"
     },
     "output_type": "display_data"
    }
   ],
   "source": [
    "sns.countplot('prod_taken', data=train)\n",
    "plt.title('Class Distributions \\n (0: Not taken || 1: taken)', fontsize=14)"
   ]
  },
  {
   "cell_type": "code",
   "execution_count": 35,
   "id": "1e38a50b",
   "metadata": {},
   "outputs": [],
   "source": [
    "def check_nan(df):\n",
    "    nan_val = df.isna().sum().to_dict()\n",
    "    for col in df.columns:\n",
    "        if nan_val[col]!=0:\n",
    "           df[col].value_counts(dropna=False)"
   ]
  },
  {
   "cell_type": "code",
   "execution_count": 36,
   "id": "a866e2a7",
   "metadata": {},
   "outputs": [],
   "source": [
    "check_nan(train)"
   ]
  },
  {
   "cell_type": "code",
   "execution_count": 10,
   "id": "1e7c399b",
   "metadata": {},
   "outputs": [],
   "source": [
    "## Distribution check"
   ]
  },
  {
   "cell_type": "code",
   "execution_count": 11,
   "id": "ce62e8ca",
   "metadata": {},
   "outputs": [],
   "source": [
    "CONT_COL = [\"age\", \"duration_of_pitch\", \"monthly_income\"]"
   ]
  },
  {
   "cell_type": "code",
   "execution_count": 12,
   "id": "af73c92a",
   "metadata": {},
   "outputs": [],
   "source": [
    "# train[CONT_COL]"
   ]
  },
  {
   "cell_type": "code",
   "execution_count": 13,
   "id": "3e14f3b9",
   "metadata": {},
   "outputs": [],
   "source": [
    "NUM_COL = []\n",
    "CAT_COL = []\n",
    "\n",
    "for col in test.columns:\n",
    "    if test[col].dtype == object:\n",
    "\n",
    "        CAT_COL.append(col)\n",
    "    else:\n",
    "        NUM_COL.append(col)"
   ]
  },
  {
   "cell_type": "code",
   "execution_count": 14,
   "id": "6e80131b",
   "metadata": {},
   "outputs": [],
   "source": [
    "# dist_visualization(train, test, NUM_COL)"
   ]
  },
  {
   "cell_type": "markdown",
   "id": "52fa50bc",
   "metadata": {},
   "source": [
    "There is skewness in age, monthly_income and duration of pitch column, we will have to deal with that"
   ]
  },
  {
   "cell_type": "markdown",
   "id": "e3179cd4",
   "metadata": {},
   "source": [
    "## Outlier treatment"
   ]
  },
  {
   "cell_type": "code",
   "execution_count": 15,
   "id": "a44ee514",
   "metadata": {},
   "outputs": [
    {
     "data": {
      "image/png": "[encoded data removed]",
      "text/plain": [
       "<Figure size 432x288 with 1 Axes>"
      ]
     },
     "metadata": {
      "needs_background": "light"
     },
     "output_type": "display_data"
    },
    {
     "data": {
      "image/png": "[encoded data removed]",
      "text/plain": [
       "<Figure size 432x288 with 1 Axes>"
      ]
     },
     "metadata": {
      "needs_background": "light"
     },
     "output_type": "display_data"
    },
    {
     "data": {
      "image/png": "[encoded data removed]",
      "text/plain": [
       "<Figure size 432x288 with 1 Axes>"
      ]
     },
     "metadata": {
      "needs_background": "light"
     },
     "output_type": "display_data"
    }
   ],
   "source": [
    "for col in CONT_COL:\n",
    "    plt.subplots()\n",
    "    sns.boxplot(data=train, y=col, x='prod_taken')\n",
    "    plt.xlabel(f\"{col}\")"
   ]
  },
  {
   "cell_type": "code",
   "execution_count": 16,
   "id": "cb76f404",
   "metadata": {},
   "outputs": [],
   "source": [
    "# len(train[col].loc[train['prod_taken']==1].values)"
   ]
  },
  {
   "cell_type": "code",
   "execution_count": null,
   "id": "630c5ab2",
   "metadata": {},
   "outputs": [],
   "source": []
  },
  {
   "cell_type": "code",
   "execution_count": 17,
   "id": "006a0171",
   "metadata": {},
   "outputs": [],
   "source": [
    "# for col in CONT_COL: \n",
    "#     # iqr \n",
    "#     prod_taken = train[col].loc[train['prod_taken']==1]\n",
    "#     q25, q75 = prod_taken.quantile(0.25), prod_taken.quantile(0.75)\n",
    "#     iqr = q75 - q25\n",
    "\n",
    "#     cut_off = iqr * 1.5\n",
    "#     q_low, q_hi = q25 - cut_off, q75 + cut_off\n",
    "    \n",
    "    \n",
    "#     print(col, iqr, q_low, q_hi)\n",
    "\n",
    "#     print(f\"col: {col} before {len(train)}\")\n",
    "#     train = train[(train[col] < q_hi) & (train[col] > q_low)]\n",
    "#     print(f\"col: {col} after {len(train)} \")\n",
    "    "
   ]
  },
  {
   "cell_type": "code",
   "execution_count": 18,
   "id": "5c198726",
   "metadata": {},
   "outputs": [],
   "source": [
    "# len(train)"
   ]
  },
  {
   "cell_type": "code",
   "execution_count": 19,
   "id": "ccbbf1c5",
   "metadata": {},
   "outputs": [],
   "source": [
    "# dist_visualization(train, test, NUM_COL)"
   ]
  },
  {
   "cell_type": "code",
   "execution_count": 20,
   "id": "c14cc133",
   "metadata": {},
   "outputs": [],
   "source": [
    "# target"
   ]
  },
  {
   "cell_type": "code",
   "execution_count": 21,
   "id": "12e64a44",
   "metadata": {},
   "outputs": [],
   "source": [
    "# seperate target from tarin\n",
    "target = train[\"prod_taken\"]\n",
    "train = train.drop(columns=[\"prod_taken\"])"
   ]
  },
  {
   "cell_type": "code",
   "execution_count": 22,
   "id": "b925ff9c",
   "metadata": {},
   "outputs": [],
   "source": [
    "# does missing happens randomly?\n",
    "# train.isnull().sum().sum(), test.isnull().sum().sum()"
   ]
  },
  {
   "cell_type": "code",
   "execution_count": 23,
   "id": "a6abf346",
   "metadata": {},
   "outputs": [],
   "source": [
    "# X = train.isna().astype(int).append(test.isna().astype(int))"
   ]
  },
  {
   "cell_type": "code",
   "execution_count": null,
   "id": "3291386c",
   "metadata": {},
   "outputs": [],
   "source": []
  },
  {
   "cell_type": "code",
   "execution_count": null,
   "id": "69180e61",
   "metadata": {},
   "outputs": [],
   "source": []
  },
  {
   "cell_type": "code",
   "execution_count": 24,
   "id": "8c9cacc7",
   "metadata": {},
   "outputs": [],
   "source": [
    "# plt.figure(figsize=(15, 15))\n",
    "# plt.scatter(projection_2D_train[:, 0], projection_2D_train[:, 1],\n",
    "#             c=target,\n",
    "#             edgecolor='none', \n",
    "#             alpha=0.80, \n",
    "#             s=10)\n",
    "# plt.axis('off')\n",
    "# plt.show();\n",
    "\n",
    "\n",
    "\n",
    "# plt.figure(figsize=(15, 15))\n",
    "# plt.scatter(projection_2D_test[:, 0], projection_2D_test[:, 1],\n",
    "#             c=target,\n",
    "#             edgecolor='none', \n",
    "#             alpha=0.80, \n",
    "#             s=10)\n",
    "# plt.axis('off')\n",
    "# plt.show();"
   ]
  },
  {
   "cell_type": "code",
   "execution_count": 25,
   "id": "932db199",
   "metadata": {},
   "outputs": [],
   "source": [
    "# train[\"nan_count\"] = train.isnull().sum(axis=1).astype('bool')"
   ]
  },
  {
   "cell_type": "code",
   "execution_count": 26,
   "id": "0326f01c",
   "metadata": {},
   "outputs": [],
   "source": [
    "# train[\"nan_count\"].value_counts()"
   ]
  },
  {
   "cell_type": "code",
   "execution_count": 27,
   "id": "18b3b2a4",
   "metadata": {},
   "outputs": [],
   "source": [
    "# train[train[\"nan_count\"]==False].prod_taken.value_counts()/len(train[train[\"nan_count\"]==False])"
   ]
  },
  {
   "cell_type": "code",
   "execution_count": 28,
   "id": "32cd759a",
   "metadata": {},
   "outputs": [],
   "source": [
    "# train[train[\"nan_count\"]==True].prod_taken.value_counts()/len(train[train[\"nan_count\"]==True])"
   ]
  },
  {
   "cell_type": "code",
   "execution_count": 29,
   "id": "697a6c71",
   "metadata": {},
   "outputs": [],
   "source": [
    "# train.corr()"
   ]
  },
  {
   "cell_type": "code",
   "execution_count": 30,
   "id": "4b8632a0",
   "metadata": {},
   "outputs": [],
   "source": [
    "NUM_COL = []\n",
    "CAT_COL = []\n",
    "\n",
    "for col in test.columns:\n",
    "#     if col == 'age':\n",
    "#         continue\n",
    "    if col == \"passport\" or test[col].dtype == object:\n",
    "#     if col not in CONT_COL:\n",
    "\n",
    "        CAT_COL.append(col)\n",
    "    else:\n",
    "        NUM_COL.append(col)"
   ]
  },
  {
   "cell_type": "code",
   "execution_count": 31,
   "id": "5bbdb0a1",
   "metadata": {},
   "outputs": [],
   "source": [
    "# CAT_COL"
   ]
  },
  {
   "cell_type": "code",
   "execution_count": 32,
   "id": "e4dbc9b9",
   "metadata": {},
   "outputs": [],
   "source": [
    "# "
   ]
  },
  {
   "cell_type": "code",
   "execution_count": 33,
   "id": "cf963374",
   "metadata": {},
   "outputs": [],
   "source": [
    "# train[\"passport\"]"
   ]
  },
  {
   "cell_type": "code",
   "execution_count": 34,
   "id": "8af31db2",
   "metadata": {},
   "outputs": [],
   "source": [
    "# NUM_COL"
   ]
  },
  {
   "cell_type": "code",
   "execution_count": 35,
   "id": "09e5f884",
   "metadata": {},
   "outputs": [],
   "source": [
    "# crete new feature based on features \n",
    "train[\"income_by_age\"] = train[\"monthly_income\"]/train[\"age\"]\n",
    "test[\"income_by_age\"] = test[\"monthly_income\"]/test[\"age\"]\n",
    "# train['age'] = train['age']//10\n",
    "# test['age'] = test['age']//10"
   ]
  },
  {
   "cell_type": "code",
   "execution_count": 36,
   "id": "c8c67c52",
   "metadata": {},
   "outputs": [],
   "source": [
    "\n",
    "# train_df.reset_index(drop=True, inplace=True)\n",
    "# test_df.reset_index(drop=True, inplace=True)"
   ]
  },
  {
   "cell_type": "code",
   "execution_count": 37,
   "id": "3e193ec2",
   "metadata": {},
   "outputs": [],
   "source": [
    "# train_df"
   ]
  },
  {
   "cell_type": "code",
   "execution_count": 38,
   "id": "4cd3836a",
   "metadata": {},
   "outputs": [],
   "source": [
    "# from sklearn.manifold import TSNE\n",
    "# lowdim = TSNE()\n",
    "# projection_2D_train = lowdim.fit_transform(train_df)\n",
    "# projection_2D_test = lowdim.fit_transform(test_df)\n",
    "# # projection_2D_train = projection_2D[:len(train), :]\n",
    "# # projection_2D_test = projection_2D[len(test):, :]\n",
    "\n",
    "# projection_2D_train = pd.DataFrame(projection_2D_train, columns=[\n",
    "#                                f\"tsne{i+1}\" for i in range(2)])\n",
    "# projection_2D_test = pd.DataFrame(projection_2D_test, columns=[\n",
    "#                                f\"tsne{i+1}\" for i in range(2)])"
   ]
  },
  {
   "cell_type": "code",
   "execution_count": 39,
   "id": "d3778c63",
   "metadata": {},
   "outputs": [],
   "source": [
    "# train_df = projection_2D_train\n",
    "# test_df = projection_2D_test"
   ]
  },
  {
   "cell_type": "code",
   "execution_count": 40,
   "id": "5e32f8ab",
   "metadata": {},
   "outputs": [],
   "source": [
    "# train_df = pd.concat([projection_2D_train, train_df], axis=1)\n",
    "# test_df = pd.concat([projection_2D_test, test_df], axis=1)"
   ]
  },
  {
   "cell_type": "code",
   "execution_count": 41,
   "id": "869082d2",
   "metadata": {},
   "outputs": [],
   "source": [
    "# train_df"
   ]
  },
  {
   "cell_type": "code",
   "execution_count": 42,
   "id": "c3721827",
   "metadata": {},
   "outputs": [],
   "source": [
    "# test_df.head()"
   ]
  },
  {
   "cell_type": "code",
   "execution_count": 43,
   "id": "9f839466",
   "metadata": {},
   "outputs": [],
   "source": [
    "# # use top 10 feat \n",
    "# train_df = train_df[top10_feat]\n",
    "# test_df = test_df[top10_feat]"
   ]
  },
  {
   "cell_type": "code",
   "execution_count": 44,
   "id": "a3c2133a",
   "metadata": {},
   "outputs": [],
   "source": [
    "# xgbbost with optuna\n",
    "\n",
    "import xgboost as xgb\n",
    "from sklearn.model_selection import StratifiedKFold\n",
    "from sklearn.metrics import roc_auc_score\n",
    "import optuna\n",
    "\n",
    "def objective(trial):\n",
    "    params = {\n",
    "        \"objective\": \"binary:logistic\",\n",
    "        \"n_estimators\": trial.suggest_int(\"n_estimators\", 400, 1000),\n",
    "        \"verbosity\": 0,\n",
    "        'random_state': SEED,\n",
    "        \"learning_rate\": trial.suggest_float(\"learning_rate\", 1e-3, 0.1, log=True),\n",
    "        \"max_depth\": trial.suggest_int(\"max_depth\", 1, 10),\n",
    "        \"subsample\": trial.suggest_float(\"subsample\", 0.05, 1.0),\n",
    "        \"colsample_bytree\": trial.suggest_float(\"colsample_bytree\", 0.05, 1.0),\n",
    "        \"min_child_weight\": trial.suggest_int(\"min_child_weight\", 1, 20),\n",
    "    }\n",
    "\n",
    "    scores = []\n",
    "    skf = StratifiedKFold(n_splits=5, random_state=1971, shuffle=True)\n",
    "    for i, (train_index, valid_index) in enumerate(skf.split(train, target)):\n",
    "    \n",
    "        X_train, X_valid, y_train, y_valid = train.iloc[train_index], train.iloc[valid_index], target.iloc[train_index], target.iloc[valid_index]\n",
    "\n",
    "        X_train, X_valid = create_features(X_train, X_valid, y_train, True)\n",
    "    \n",
    "        model = xgb.XGBClassifier(**params)\n",
    "        model.fit(X_train, y_train, verbose=False)\n",
    "        predictions = model.predict_proba(X_valid)\n",
    "        auc_score = roc_auc_score(y_valid, predictions[:,1])\n",
    "        scores.append(auc_score)\n",
    "    return np.mean(scores)"
   ]
  },
  {
   "cell_type": "code",
   "execution_count": 45,
   "id": "e8acb859",
   "metadata": {},
   "outputs": [
    {
     "name": "stderr",
     "output_type": "stream",
     "text": [
      "\u001b[32m[I 2024-08-10 20:27:59,713]\u001b[0m A new study created in memory with name: no-name-3528e5dd-554a-4517-bb54-8a5d2a4bd3d0\u001b[0m\n",
      "\u001b[32m[I 2024-08-10 20:28:08,466]\u001b[0m Trial 0 finished with value: 0.8400600734059035 and parameters: {'n_estimators': 528, 'learning_rate': 0.018768615971126633, 'max_depth': 1, 'subsample': 0.6180301820309303, 'colsample_bytree': 0.9416678672737021, 'min_child_weight': 3}. Best is trial 0 with value: 0.8400600734059035.\u001b[0m\n",
      "\u001b[32m[I 2024-08-10 20:28:16,182]\u001b[0m Trial 1 finished with value: 0.8261912517732363 and parameters: {'n_estimators': 400, 'learning_rate': 0.04325282617332957, 'max_depth': 4, 'subsample': 0.6782592649320195, 'colsample_bytree': 0.5052408243898059, 'min_child_weight': 2}. Best is trial 0 with value: 0.8400600734059035.\u001b[0m\n",
      "\u001b[32m[I 2024-08-10 20:28:39,139]\u001b[0m Trial 2 finished with value: 0.8366729099133107 and parameters: {'n_estimators': 825, 'learning_rate': 0.0185496028231172, 'max_depth': 3, 'subsample': 0.24133046673504516, 'colsample_bytree': 0.40157749362207423, 'min_child_weight': 7}. Best is trial 0 with value: 0.8400600734059035.\u001b[0m\n",
      "\u001b[32m[I 2024-08-10 20:28:55,322]\u001b[0m Trial 3 finished with value: 0.81571602654763 and parameters: {'n_estimators': 790, 'learning_rate': 0.044064261230986015, 'max_depth': 2, 'subsample': 0.2539515780388595, 'colsample_bytree': 0.33877748210343545, 'min_child_weight': 19}. Best is trial 0 with value: 0.8400600734059035.\u001b[0m\n",
      "\u001b[32m[I 2024-08-10 20:29:15,058]\u001b[0m Trial 4 finished with value: 0.8290400610817248 and parameters: {'n_estimators': 829, 'learning_rate': 0.0030246665938937715, 'max_depth': 9, 'subsample': 0.6252751620809897, 'colsample_bytree': 0.8449255293455578, 'min_child_weight': 16}. Best is trial 0 with value: 0.8400600734059035.\u001b[0m\n",
      "\u001b[32m[I 2024-08-10 20:29:26,626]\u001b[0m Trial 5 finished with value: 0.8358167967298403 and parameters: {'n_estimators': 645, 'learning_rate': 0.008731413220176419, 'max_depth': 3, 'subsample': 0.6778148807535878, 'colsample_bytree': 0.19227463522995875, 'min_child_weight': 20}. Best is trial 0 with value: 0.8400600734059035.\u001b[0m\n",
      "\u001b[32m[I 2024-08-10 20:29:43,681]\u001b[0m Trial 6 finished with value: 0.8164256590392904 and parameters: {'n_estimators': 728, 'learning_rate': 0.027591639250449145, 'max_depth': 7, 'subsample': 0.7013826490472894, 'colsample_bytree': 0.3887086476821858, 'min_child_weight': 3}. Best is trial 0 with value: 0.8400600734059035.\u001b[0m\n",
      "\u001b[32m[I 2024-08-10 20:29:55,771]\u001b[0m Trial 7 finished with value: 0.8116845412940353 and parameters: {'n_estimators': 711, 'learning_rate': 0.059983847684392105, 'max_depth': 6, 'subsample': 0.09851380616993977, 'colsample_bytree': 0.7194648644259477, 'min_child_weight': 9}. Best is trial 0 with value: 0.8400600734059035.\u001b[0m\n",
      "\u001b[32m[I 2024-08-10 20:30:14,751]\u001b[0m Trial 8 finished with value: 0.8205262996743727 and parameters: {'n_estimators': 494, 'learning_rate': 0.0016059377294696568, 'max_depth': 4, 'subsample': 0.47821914623482126, 'colsample_bytree': 0.9546817416026482, 'min_child_weight': 14}. Best is trial 0 with value: 0.8400600734059035.\u001b[0m\n",
      "\u001b[32m[I 2024-08-10 20:30:30,094]\u001b[0m Trial 9 finished with value: 0.8156478366503771 and parameters: {'n_estimators': 438, 'learning_rate': 0.07648019102879752, 'max_depth': 3, 'subsample': 0.23801411552512963, 'colsample_bytree': 0.9732820242549725, 'min_child_weight': 14}. Best is trial 0 with value: 0.8400600734059035.\u001b[0m\n",
      "\u001b[32m[I 2024-08-10 20:30:48,539]\u001b[0m Trial 10 finished with value: 0.8284479262561574 and parameters: {'n_estimators': 558, 'learning_rate': 0.007998674588710925, 'max_depth': 1, 'subsample': 0.828232852274245, 'colsample_bytree': 0.6652374370044275, 'min_child_weight': 6}. Best is trial 0 with value: 0.8400600734059035.\u001b[0m\n",
      "\u001b[32m[I 2024-08-10 20:31:06,430]\u001b[0m Trial 11 finished with value: 0.839837066992108 and parameters: {'n_estimators': 985, 'learning_rate': 0.018009876350271504, 'max_depth': 1, 'subsample': 0.41745074715970265, 'colsample_bytree': 0.1351060148421775, 'min_child_weight': 7}. Best is trial 0 with value: 0.8400600734059035.\u001b[0m\n",
      "\u001b[32m[I 2024-08-10 20:31:22,229]\u001b[0m Trial 12 finished with value: 0.8358026412386579 and parameters: {'n_estimators': 942, 'learning_rate': 0.014057282423654793, 'max_depth': 1, 'subsample': 0.4489197047972435, 'colsample_bytree': 0.09395516922376151, 'min_child_weight': 5}. Best is trial 0 with value: 0.8400600734059035.\u001b[0m\n",
      "\u001b[32m[I 2024-08-10 20:31:38,749]\u001b[0m Trial 13 finished with value: 0.8320204743398836 and parameters: {'n_estimators': 978, 'learning_rate': 0.005471312290159508, 'max_depth': 1, 'subsample': 0.9781267397010616, 'colsample_bytree': 0.6657049172472568, 'min_child_weight': 1}. Best is trial 0 with value: 0.8400600734059035.\u001b[0m\n",
      "\u001b[32m[I 2024-08-10 20:31:49,872]\u001b[0m Trial 14 finished with value: 0.8374654629443047 and parameters: {'n_estimators': 583, 'learning_rate': 0.02672691956438006, 'max_depth': 8, 'subsample': 0.3869821007374306, 'colsample_bytree': 0.20673222981253572, 'min_child_weight': 11}. Best is trial 0 with value: 0.8400600734059035.\u001b[0m\n",
      "\u001b[32m[I 2024-08-10 20:32:06,023]\u001b[0m Trial 15 finished with value: 0.8222128076934639 and parameters: {'n_estimators': 929, 'learning_rate': 0.004054840031378294, 'max_depth': 5, 'subsample': 0.5788647768706379, 'colsample_bytree': 0.05015127397217034, 'min_child_weight': 9}. Best is trial 0 with value: 0.8400600734059035.\u001b[0m\n",
      "\u001b[32m[I 2024-08-10 20:32:22,030]\u001b[0m Trial 16 finished with value: 0.831567391154892 and parameters: {'n_estimators': 619, 'learning_rate': 0.01482230696160748, 'max_depth': 10, 'subsample': 0.3620391790438123, 'colsample_bytree': 0.5501924684989631, 'min_child_weight': 4}. Best is trial 0 with value: 0.8400600734059035.\u001b[0m\n",
      "\u001b[32m[I 2024-08-10 20:32:36,754]\u001b[0m Trial 17 finished with value: 0.836870713601642 and parameters: {'n_estimators': 489, 'learning_rate': 0.028847881443194584, 'max_depth': 2, 'subsample': 0.8045461943623686, 'colsample_bytree': 0.8214118663695311, 'min_child_weight': 8}. Best is trial 0 with value: 0.8400600734059035.\u001b[0m\n",
      "\u001b[32m[I 2024-08-10 20:32:54,707]\u001b[0m Trial 18 finished with value: 0.8278407813344302 and parameters: {'n_estimators': 866, 'learning_rate': 0.0014499421065198841, 'max_depth': 5, 'subsample': 0.5366722575557039, 'colsample_bytree': 0.28170999336046665, 'min_child_weight': 11}. Best is trial 0 with value: 0.8400600734059035.\u001b[0m\n",
      "\u001b[32m[I 2024-08-10 20:33:07,819]\u001b[0m Trial 19 finished with value: 0.8185646274076266 and parameters: {'n_estimators': 671, 'learning_rate': 0.009250291630527195, 'max_depth': 2, 'subsample': 0.07849546167481103, 'colsample_bytree': 0.5064593009100646, 'min_child_weight': 5}. Best is trial 0 with value: 0.8400600734059035.\u001b[0m\n",
      "\u001b[32m[I 2024-08-10 20:33:26,803]\u001b[0m Trial 20 finished with value: 0.8390810642423474 and parameters: {'n_estimators': 753, 'learning_rate': 0.018482692130683265, 'max_depth': 4, 'subsample': 0.8041674753401542, 'colsample_bytree': 0.16414765146532156, 'min_child_weight': 1}. Best is trial 0 with value: 0.8400600734059035.\u001b[0m\n",
      "\u001b[32m[I 2024-08-10 20:33:42,682]\u001b[0m Trial 21 finished with value: 0.8408872848619527 and parameters: {'n_estimators': 758, 'learning_rate': 0.01899269365668951, 'max_depth': 1, 'subsample': 0.8312015667442509, 'colsample_bytree': 0.1658379077025716, 'min_child_weight': 1}. Best is trial 21 with value: 0.8408872848619527.\u001b[0m\n",
      "\u001b[32m[I 2024-08-10 20:34:17,812]\u001b[0m Trial 22 finished with value: 0.8391684658038727 and parameters: {'n_estimators': 906, 'learning_rate': 0.012770744481343705, 'max_depth': 1, 'subsample': 0.8652644104709043, 'colsample_bytree': 0.26032007976110727, 'min_child_weight': 3}. Best is trial 21 with value: 0.8408872848619527.\u001b[0m\n",
      "\u001b[32m[I 2024-08-10 20:34:51,795]\u001b[0m Trial 23 finished with value: 0.8353999658451281 and parameters: {'n_estimators': 546, 'learning_rate': 0.02256536131147621, 'max_depth': 2, 'subsample': 0.9822570724937383, 'colsample_bytree': 0.09847139507520415, 'min_child_weight': 4}. Best is trial 21 with value: 0.8408872848619527.\u001b[0m\n",
      "\u001b[32m[I 2024-08-10 20:35:20,457]\u001b[0m Trial 24 finished with value: 0.8405165098142525 and parameters: {'n_estimators': 865, 'learning_rate': 0.04534911041991971, 'max_depth': 1, 'subsample': 0.7504978631086153, 'colsample_bytree': 0.31249919640777624, 'min_child_weight': 1}. Best is trial 21 with value: 0.8408872848619527.\u001b[0m\n"
     ]
    },
    {
     "name": "stderr",
     "output_type": "stream",
     "text": [
      "\u001b[32m[I 2024-08-10 20:35:44,317]\u001b[0m Trial 25 finished with value: 0.8085585017516499 and parameters: {'n_estimators': 775, 'learning_rate': 0.09995698181014073, 'max_depth': 3, 'subsample': 0.7409651791924778, 'colsample_bytree': 0.42795068049662055, 'min_child_weight': 1}. Best is trial 21 with value: 0.8408872848619527.\u001b[0m\n",
      "\u001b[32m[I 2024-08-10 20:36:10,287]\u001b[0m Trial 26 finished with value: 0.8339702311753557 and parameters: {'n_estimators': 877, 'learning_rate': 0.04094096410722949, 'max_depth': 2, 'subsample': 0.908006174483629, 'colsample_bytree': 0.29938997387201693, 'min_child_weight': 3}. Best is trial 21 with value: 0.8408872848619527.\u001b[0m\n",
      "\u001b[32m[I 2024-08-10 20:36:24,017]\u001b[0m Trial 27 finished with value: 0.8403189993412102 and parameters: {'n_estimators': 682, 'learning_rate': 0.03794526591923844, 'max_depth': 1, 'subsample': 0.7538480038000419, 'colsample_bytree': 0.588102741640192, 'min_child_weight': 1}. Best is trial 21 with value: 0.8408872848619527.\u001b[0m\n",
      "\u001b[32m[I 2024-08-10 20:36:37,362]\u001b[0m Trial 28 finished with value: 0.8317376424757568 and parameters: {'n_estimators': 676, 'learning_rate': 0.059510870343229744, 'max_depth': 2, 'subsample': 0.7516317677519002, 'colsample_bytree': 0.46078396031362706, 'min_child_weight': 1}. Best is trial 21 with value: 0.8408872848619527.\u001b[0m\n",
      "\u001b[32m[I 2024-08-10 20:36:52,749]\u001b[0m Trial 29 finished with value: 0.8406926750150964 and parameters: {'n_estimators': 825, 'learning_rate': 0.03675744135827711, 'max_depth': 1, 'subsample': 0.9173771744875304, 'colsample_bytree': 0.5850929561064424, 'min_child_weight': 2}. Best is trial 21 with value: 0.8408872848619527.\u001b[0m\n"
     ]
    }
   ],
   "source": [
    "sampler = optuna.samplers.TPESampler(seed=SEED)\n",
    "study = optuna.create_study(direction='maximize', sampler=sampler)\n",
    "study.optimize(objective, n_trials=30)"
   ]
  },
  {
   "cell_type": "code",
   "execution_count": 46,
   "id": "62baf210",
   "metadata": {},
   "outputs": [
    {
     "name": "stdout",
     "output_type": "stream",
     "text": [
      "Best hyperparameters: {'n_estimators': 758, 'learning_rate': 0.01899269365668951, 'max_depth': 1, 'subsample': 0.8312015667442509, 'colsample_bytree': 0.1658379077025716, 'min_child_weight': 1}\n",
      "Best auc: 0.8408872848619527\n"
     ]
    }
   ],
   "source": [
    "print('Best hyperparameters:', study.best_params)\n",
    "print('Best auc:', study.best_value)\n"
   ]
  },
  {
   "cell_type": "code",
   "execution_count": 47,
   "id": "6f6750d7",
   "metadata": {},
   "outputs": [],
   "source": [
    "# print('Best hyperparameters:', study.best_params)\n",
    "# print('Best auc:', study.best_value)"
   ]
  },
  {
   "cell_type": "code",
   "execution_count": 101,
   "id": "1b5ff6cc",
   "metadata": {},
   "outputs": [],
   "source": [
    "params = study.best_params\n",
    "params.update({\"objective\": \"binary:logistic\",\n",
    "        \"verbosity\": 0,\n",
    "        'random_state': SEED})"
   ]
  },
  {
   "cell_type": "code",
   "execution_count": 102,
   "id": "8fa8e06c",
   "metadata": {},
   "outputs": [
    {
     "data": {
      "text/plain": [
       "{'n_estimators': 758,\n",
       " 'learning_rate': 0.01899269365668951,\n",
       " 'max_depth': 1,\n",
       " 'subsample': 0.8312015667442509,\n",
       " 'colsample_bytree': 0.1658379077025716,\n",
       " 'min_child_weight': 1,\n",
       " 'objective': 'binary:logistic',\n",
       " 'verbosity': 0,\n",
       " 'random_state': 1971}"
      ]
     },
     "execution_count": 102,
     "metadata": {},
     "output_type": "execute_result"
    }
   ],
   "source": [
    "params"
   ]
  },
  {
   "cell_type": "code",
   "execution_count": 115,
   "id": "e73703bd",
   "metadata": {},
   "outputs": [],
   "source": [
    "params = {'n_estimators': 528,\n",
    " 'learning_rate': 0.018768615971126633,\n",
    " 'max_depth': 1,\n",
    " 'subsample': 0.6180301820309303,\n",
    " 'colsample_bytree': 0.9416678672737021,\n",
    " 'min_child_weight': 3,\n",
    " 'objective': 'binary:logistic',\n",
    " 'verbosity': 0,\n",
    " 'random_state': 1971}"
   ]
  },
  {
   "cell_type": "code",
   "execution_count": 116,
   "id": "1b05257b",
   "metadata": {},
   "outputs": [
    {
     "name": "stdout",
     "output_type": "stream",
     "text": [
      "Fold 0: train score 0.8524675458587695 val score: 0.8247157190635451\n",
      "Fold 1: train score 0.8459498873127403 val score: 0.854314381270903\n",
      "Fold 2: train score 0.8436772244003133 val score: 0.859580782786125\n",
      "Fold 3: train score 0.8533027653940408 val score: 0.8192610579922767\n",
      "Fold 4: train score 0.8492939845425961 val score: 0.8396337961555354\n",
      "val score (avg) 0.8395011474536771\n"
     ]
    }
   ],
   "source": [
    "# k-fold validation\n",
    "# import random\n",
    "# random.seed(1971)\n",
    "from sklearn.linear_model import LogisticRegression\n",
    "from sklearn.ensemble import RandomForestClassifier\n",
    "from sklearn.svm import SVC\n",
    "\n",
    "\n",
    "from sklearn.model_selection import StratifiedKFold\n",
    "\n",
    "from sklearn.metrics import roc_auc_score\n",
    "\n",
    "from sklearn.preprocessing import StandardScaler\n",
    "import xgboost as xgb\n",
    "from xgboost import XGBClassifier\n",
    "\n",
    "skf = StratifiedKFold(n_splits=5, random_state=1971, shuffle=True)\n",
    "\n",
    "\n",
    "\n",
    "models = []\n",
    "val_scores = []\n",
    "\n",
    "scalers = []\n",
    "\n",
    "for i, (train_index, valid_index) in enumerate(skf.split(train, target)):\n",
    "    \n",
    "\n",
    "    # under-sampleing \n",
    "#     train_index = random.choices(train_index, k=len(valid_index))\n",
    "    X_train, X_valid, y_train, y_valid = train.iloc[train_index], train.iloc[valid_index], target.iloc[train_index], target.iloc[valid_index]\n",
    "#     model = XGBClassifier(n_estimators=50, max_depth=5, learning_rate=0.01)\n",
    "#     model.fit(\n",
    "#     X_train, y_train,\n",
    "#     eval_set=[(X_valid, y_valid)],  # Validation data\n",
    "#     early_stopping_rounds=10,  # Stop training if validation score doesn't improve for 10 rounds\n",
    "#     verbose=True  # Print training and validation metrics\n",
    "# )\n",
    "    X_train, X_valid = create_features(X_train, X_valid, y_train, False)\n",
    "#     model = RandomForestClassifier(max_depth=5, random_state=1971)\n",
    "    model = xgb.XGBClassifier(**params)\n",
    "    model.fit(X_train, y_train, verbose=False)\n",
    "#     model = models[2]\n",
    "#     model = LogisticRegression(random_state=42)\n",
    "#     model = SVC(gamma='auto', kernel='linear', probability=True)\n",
    "#     scaler = StandardScaler()\n",
    "#     X_train[NUM_COL] = scaler.fit_transform(X_train[NUM_COL])\n",
    "#     X_valid[NUM_COL] = scaler.transform(X_valid[NUM_COL])\n",
    "#     scalers.append(scaler)\n",
    "    \n",
    "#     model.fit(X_train, y_train)\n",
    "#     models.append(model)\n",
    "    \n",
    "    train_pred = model.predict_proba(X_train)\n",
    "    train_score = roc_auc_score(y_train, train_pred[:, 1])\n",
    "    \n",
    "#     pred = model.predict_proba(X_valid)\n",
    "    pred = model.predict_proba(X_valid)\n",
    "    val_score = roc_auc_score(y_valid, pred[:, 1])\n",
    "\n",
    "    val_scores.append(val_score)\n",
    "    \n",
    "    print(f\"Fold {i}: train score {train_score} val score: {val_score}\")\n",
    "    \n",
    "print(\"val score (avg)\", np.mean(val_scores))"
   ]
  },
  {
   "cell_type": "code",
   "execution_count": 85,
   "id": "1fb56c03",
   "metadata": {},
   "outputs": [],
   "source": [
    "# basic modelling\n",
    "# from sklearn.model_selection import train_test_split\n",
    "# target = train[\"ProdTaken\"]\n",
    "# X_train, X_valid, y_train, y_valid = train_test_split(train_df, target, random_state = 42)\n",
    "# print(X_train.shape, X_valid.shape, y_train.shape, y_valid.shape)\n",
    "\n",
    "# model = RandomForestClassifier(random_state=42)\n",
    "# model = LogisticRegression(random_state=42)\n",
    "# model.fit() で学習します。訓練データと訓練データの目的変数を指定します。\n",
    "# model.fit(X_train, y_train)\n",
    "# pred = model.predict_proba(X_valid)\n",
    "# score = roc_auc_score(y_valid, pred[:, 1])\n",
    "# print(score)\n",
    "\n",
    "\n",
    "# from sklearn.metrics import roc_curve\n",
    "# fpr, tpr, thresholds = roc_curve(y_valid, pred[:, 1])\n",
    "\n",
    "# plt.plot([0, 1], [0, 1], 'k--')\n",
    "# plt.plot(fpr,tpr,label='LogisticRegression')\n",
    "# plt.xlabel('False Positive Rate')\n",
    "# plt.ylabel('True Positive Rate')\n",
    "# plt.title('ROC Curve')\n",
    "# plt.show()"
   ]
  },
  {
   "cell_type": "code",
   "execution_count": null,
   "id": "126e3b57",
   "metadata": {},
   "outputs": [],
   "source": []
  },
  {
   "cell_type": "code",
   "execution_count": 117,
   "id": "6069b354",
   "metadata": {},
   "outputs": [],
   "source": [
    "train_df, test_df = create_features(train, test, target, False)\n",
    "# model.fit(train_df, target)\n",
    "# models.append(model)\n",
    "\n",
    "# train_pred = model.predict_proba(train_df)\n",
    "# train_score = roc_auc_score(target, train_pred[:, 1])\n",
    "\n",
    "# print(train_score)"
   ]
  },
  {
   "cell_type": "code",
   "execution_count": 118,
   "id": "797b4b5d",
   "metadata": {},
   "outputs": [
    {
     "name": "stdout",
     "output_type": "stream",
     "text": [
      "0.8472600307728725\n"
     ]
    }
   ],
   "source": [
    "# all data \n",
    "\n",
    "modelall = xgb.XGBClassifier(**params)\n",
    "modelall.fit(train_df, target, verbose=False)\n",
    "\n",
    "train_pred = modelall.predict_proba(train_df)\n",
    "train_score = roc_auc_score(target, train_pred[:, 1])\n",
    "print(train_score)"
   ]
  },
  {
   "cell_type": "code",
   "execution_count": 61,
   "id": "e4235d0b",
   "metadata": {},
   "outputs": [],
   "source": [
    "# val_scores = np.array(val_scores)"
   ]
  },
  {
   "cell_type": "code",
   "execution_count": 62,
   "id": "7bc8f960",
   "metadata": {},
   "outputs": [],
   "source": [
    "def plot_importance(model, feature_names, topk=10):\n",
    "    # plot feature importance\n",
    "    if isinstance(model, RandomForestClassifier):\n",
    "        importances = model.feature_importances_\n",
    "        std = np.std([tree.feature_importances_ for tree in model.estimators_], axis=0)\n",
    "        forest_importances = pd.Series(importances, index=feature_names)\n",
    "        forest_importances = forest_importances.nlargest(topk)\n",
    "        fig, ax = plt.subplots(figsize=(8,5))\n",
    "        forest_importances.plot.bar( ax=ax)\n",
    "        ax.set_title(\"Feature importances using MDI\")\n",
    "        ax.set_ylabel(\"importance\")\n",
    "        fig.tight_layout()\n",
    "        return forest_importances"
   ]
  },
  {
   "cell_type": "code",
   "execution_count": 63,
   "id": "a55f2d24",
   "metadata": {},
   "outputs": [],
   "source": [
    "feat_importance = plot_importance(model, train_df.columns)"
   ]
  },
  {
   "cell_type": "code",
   "execution_count": 64,
   "id": "ccf64dcd",
   "metadata": {},
   "outputs": [],
   "source": [
    "# top10_feat = feat_importance.index.tolist()"
   ]
  },
  {
   "cell_type": "code",
   "execution_count": 119,
   "id": "00daac7e",
   "metadata": {},
   "outputs": [],
   "source": [
    "models = [modelall]\n",
    "weighted_val = [1]"
   ]
  },
  {
   "cell_type": "code",
   "execution_count": 120,
   "id": "1ef15add",
   "metadata": {},
   "outputs": [],
   "source": [
    "# weighted_val = val_scores /np.sum(val_scores)"
   ]
  },
  {
   "cell_type": "code",
   "execution_count": 121,
   "id": "6be5b38e",
   "metadata": {},
   "outputs": [
    {
     "data": {
      "text/plain": [
       "[1]"
      ]
     },
     "execution_count": 121,
     "metadata": {},
     "output_type": "execute_result"
    }
   ],
   "source": [
    "weighted_val"
   ]
  },
  {
   "cell_type": "code",
   "execution_count": 122,
   "id": "7f958fcb",
   "metadata": {},
   "outputs": [],
   "source": [
    "# weighted_val = [1]\n",
    "# models = [model]"
   ]
  },
  {
   "cell_type": "code",
   "execution_count": 123,
   "id": "57a5eed4",
   "metadata": {},
   "outputs": [
    {
     "data": {
      "text/html": [
       "<div>\n",
       "<style scoped>\n",
       "    .dataframe tbody tr th:only-of-type {\n",
       "        vertical-align: middle;\n",
       "    }\n",
       "\n",
       "    .dataframe tbody tr th {\n",
       "        vertical-align: top;\n",
       "    }\n",
       "\n",
       "    .dataframe thead th {\n",
       "        text-align: right;\n",
       "    }\n",
       "</style>\n",
       "<table border=\"1\" class=\"dataframe\">\n",
       "  <thead>\n",
       "    <tr style=\"text-align: right;\">\n",
       "      <th></th>\n",
       "      <th>0</th>\n",
       "      <th>1</th>\n",
       "    </tr>\n",
       "  </thead>\n",
       "  <tbody>\n",
       "    <tr>\n",
       "      <th>0</th>\n",
       "      <td>3489</td>\n",
       "      <td>0.119451</td>\n",
       "    </tr>\n",
       "    <tr>\n",
       "      <th>1</th>\n",
       "      <td>3490</td>\n",
       "      <td>0.343575</td>\n",
       "    </tr>\n",
       "    <tr>\n",
       "      <th>2</th>\n",
       "      <td>3491</td>\n",
       "      <td>0.119451</td>\n",
       "    </tr>\n",
       "    <tr>\n",
       "      <th>3</th>\n",
       "      <td>3492</td>\n",
       "      <td>0.119451</td>\n",
       "    </tr>\n",
       "    <tr>\n",
       "      <th>4</th>\n",
       "      <td>3493</td>\n",
       "      <td>0.119451</td>\n",
       "    </tr>\n",
       "  </tbody>\n",
       "</table>\n",
       "</div>"
      ],
      "text/plain": [
       "      0         1\n",
       "0  3489  0.119451\n",
       "1  3490  0.343575\n",
       "2  3491  0.119451\n",
       "3  3492  0.119451\n",
       "4  3493  0.119451"
      ]
     },
     "execution_count": 123,
     "metadata": {},
     "output_type": "execute_result"
    }
   ],
   "source": [
    "# submission\n",
    "predict = np.zeros((len(test_df), 2))\n",
    "for model, weight in zip(models,weighted_val):\n",
    "#     test_df[NUM_COL] = scaler.transform(test_df[NUM_COL])\n",
    "    predict += weight*model.predict_proba(test_df)\n",
    "# predict = predict/5\n",
    "\n",
    "submit = pd.read_csv(\"../data/sample_submit.csv\", header=None)\n",
    "submit.head()"
   ]
  },
  {
   "cell_type": "code",
   "execution_count": 124,
   "id": "e4cc001e",
   "metadata": {},
   "outputs": [],
   "source": [
    "submit[1] = predict[:, 1]"
   ]
  },
  {
   "cell_type": "code",
   "execution_count": 125,
   "id": "8448a801",
   "metadata": {},
   "outputs": [],
   "source": [
    "submit.to_csv(\"submission.csv\", index=False, header=None)"
   ]
  },
  {
   "cell_type": "code",
   "execution_count": 126,
   "id": "493ded02",
   "metadata": {},
   "outputs": [],
   "source": [
    "# submit[1].value_counts()"
   ]
  },
  {
   "cell_type": "code",
   "execution_count": 127,
   "id": "8d97a6ec",
   "metadata": {},
   "outputs": [
    {
     "data": {
      "text/plain": [
       "147"
      ]
     },
     "execution_count": 127,
     "metadata": {},
     "output_type": "execute_result"
    }
   ],
   "source": [
    "sum(submit.loc[:, 1]> .5)"
   ]
  },
  {
   "cell_type": "code",
   "execution_count": 81,
   "id": "c52963fe",
   "metadata": {
    "scrolled": true
   },
   "outputs": [],
   "source": [
    "# submit"
   ]
  },
  {
   "cell_type": "code",
   "execution_count": 82,
   "id": "65de29fd",
   "metadata": {},
   "outputs": [],
   "source": [
    "# submit_old = submit"
   ]
  },
  {
   "cell_type": "code",
   "execution_count": null,
   "id": "88f941a3",
   "metadata": {},
   "outputs": [],
   "source": [
    "# plt.scatter(x=submit[1], y=submit_old[1])"
   ]
  },
  {
   "cell_type": "code",
   "execution_count": null,
   "id": "bafcc8cf",
   "metadata": {},
   "outputs": [],
   "source": [
    "# (submit[1] == submit_old[1]).sum()"
   ]
  },
  {
   "cell_type": "code",
   "execution_count": null,
   "id": "5fe767ab",
   "metadata": {},
   "outputs": [],
   "source": []
  }
 ],
 "metadata": {
  "kernelspec": {
   "display_name": ".venv",
   "language": "python",
   "name": ".venv"
  },
  "language_info": {
   "codemirror_mode": {
    "name": "ipython",
    "version": 3
   },
   "file_extension": ".py",
   "mimetype": "text/x-python",
   "name": "python",
   "nbconvert_exporter": "python",
   "pygments_lexer": "ipython3",
   "version": "3.6.9"
  }
 },
 "nbformat": 4,
 "nbformat_minor": 5
}
