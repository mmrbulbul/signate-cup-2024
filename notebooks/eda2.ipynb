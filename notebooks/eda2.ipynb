{
 "cells": [
  {
   "cell_type": "code",
   "execution_count": 78,
   "id": "dc5b898e",
   "metadata": {},
   "outputs": [],
   "source": [
    "import os\n",
    "import re\n",
    "import random\n",
    "import unicodedata\n",
    "import pandas as pd\n",
    "import numpy as np\n",
    "import matplotlib.pyplot as plt\n",
    "import seaborn as sns\n",
    "from sklearn.ensemble import RandomForestClassifier\n",
    "\n",
    "from scripts.data_cleaning import clean_data"
   ]
  },
  {
   "cell_type": "code",
   "execution_count": 136,
   "id": "2e60da91",
   "metadata": {},
   "outputs": [],
   "source": [
    "import warnings\n",
    "warnings.filterwarnings('ignore')"
   ]
  },
  {
   "cell_type": "code",
   "execution_count": 137,
   "id": "2567ebef",
   "metadata": {},
   "outputs": [],
   "source": [
    "train = pd.read_csv(\"../data/train.csv\")\n",
    "test = pd.read_csv(\"../data/test.csv\")"
   ]
  },
  {
   "cell_type": "code",
   "execution_count": 138,
   "id": "2da1ecca",
   "metadata": {},
   "outputs": [],
   "source": [
    "# clean data \n",
    "train.set_index(\"id\", inplace=True)\n",
    "test.set_index(\"id\", inplace=True)\n",
    "cleaned_train_orig = clean_data(train)\n",
    "cleaned_test_orig = clean_data(test)"
   ]
  },
  {
   "cell_type": "code",
   "execution_count": 139,
   "id": "90f3a11e",
   "metadata": {},
   "outputs": [],
   "source": [
    "# imp col\n",
    "imp_col = ['designation', 'product_pitched', 'monthly_income', 'children', 'age',\n",
    "       'marital_status', 'city_tier', 'number_of_followups',\n",
    "       'pitch_satisfaction_score', 'typeof_contact', 'passport', 'gender'] \n",
    "#['city_tier', 'designation', 'product_pitched', 'marital_status',\n",
    "#        'occupation', 'children', 'pitch_satisfaction_score', 'monthly_income',\n",
    "#        'passport', 'number_of_followups', 'age']\n",
    "\n",
    "\n"
   ]
  },
  {
   "cell_type": "code",
   "execution_count": 140,
   "id": "1065f198",
   "metadata": {},
   "outputs": [],
   "source": [
    "import numpy as np\n",
    "import pandas as pd\n",
    "import matplotlib.pyplot as plt\n",
    "from sklearn.feature_selection import mutual_info_regression\n",
    "\n",
    "def make_mi_scores(X, y, discrete_features):\n",
    "    \"\"\"ref :https://www.kaggle.com/code/ryanholbrook/mutual-information\n",
    "\n",
    "    \"\"\"\n",
    "    mi_scores = mutual_info_regression(X, y, discrete_features=discrete_features)\n",
    "    mi_scores = pd.Series(mi_scores, name=\"MI Scores\", index=X.columns)\n",
    "    mi_scores = mi_scores.sort_values(ascending=False)\n",
    "    return mi_scores\n",
    "\n",
    "def plot_mi_scores(scores):\n",
    "    scores = scores.sort_values(ascending=True)\n",
    "    width = np.arange(len(scores))\n",
    "    ticks = list(scores.index)\n",
    "    plt.barh(width, scores)\n",
    "    plt.yticks(width, ticks)\n",
    "    plt.title(\"Mutual Information Scores\")"
   ]
  },
  {
   "cell_type": "code",
   "execution_count": 141,
   "id": "ea80a133",
   "metadata": {},
   "outputs": [],
   "source": [
    "y = cleaned_train_orig['prod_taken']\n",
    "cleaned_train = cleaned_train_orig[imp_col]\n",
    "cleaned_test = cleaned_test_orig[imp_col]\n",
    "# X = cleaned_train.drop(columns=[\"prod_taken\"], axis=1)\n",
    "X = cleaned_train"
   ]
  },
  {
   "cell_type": "code",
   "execution_count": 142,
   "id": "d325f539",
   "metadata": {},
   "outputs": [
    {
     "data": {
      "text/plain": [
       "<AxesSubplot:>"
      ]
     },
     "execution_count": 142,
     "metadata": {},
     "output_type": "execute_result"
    },
    {
     "data": {
      "image/png": "[encoded data removed]",
      "text/plain": [
       "<Figure size 432x288 with 2 Axes>"
      ]
     },
     "metadata": {
      "needs_background": "light"
     },
     "output_type": "display_data"
    }
   ],
   "source": [
    "sns.heatmap(cleaned_train.corr(),)"
   ]
  },
  {
   "cell_type": "code",
   "execution_count": 148,
   "id": "c99c467f",
   "metadata": {},
   "outputs": [],
   "source": [
    "def create_feat(train, test):\n",
    "    CAT_COL =  list(test.select_dtypes(include=\"object\").columns)\n",
    "    GRP_COL = ['passport', 'city_tier','gender', \n",
    "               'designation', 'marital_status',  'children']\n",
    "    def scale(X):\n",
    "#         X[\"age\"] = X[\"age\"]//10.0\n",
    "        X[\"age_2\"] = X[\"age\"]**2\n",
    "        X[\"monthly_income_2\"] = X[\"monthly_income\"] **2\n",
    "        X[\"monthly_income_log\"] = X[\"monthly_income\"].apply(np.log)\n",
    "        X[\"age_log\"] = X[\"age\"].apply(np.log)\n",
    "#         X[\"duration_of_pitch_log\"] = X[\"duration_of_pitch\"].apply(np.log)\n",
    "        X[\"salary_age\"] = X[\"monthly_income\"]/X[\"age\"]\n",
    "        \n",
    "        return X\n",
    "    \n",
    "    \n",
    "#     train[CAT_COL] = train[CAT_COL].fillna(train.mode())\n",
    "#     test[CAT_COL] = test[CAT_COL].fillna(train.mode())\n",
    "    # create groupby feat\n",
    "    for col in GRP_COL:\n",
    "        for col2 in [\"age\", \"monthly_income\"]:\n",
    "           train[f\"{col2}_by_{col}\"] =  train[col].map(train.groupby(col)[col2].mean())\n",
    "           train[f\"{col2}_by_{col}_diff\"] = train[col2] - train[f\"{col2}_by_{col}\"]\n",
    "            \n",
    "           test[f\"{col2}_by_{col}\"] =  test[col].map(train.groupby(col)[col2].mean())\n",
    "           test[f\"{col2}_by_{col}_diff\"] = test[col2] - test[f\"{col2}_by_{col}\"]\n",
    "    \n",
    "    # mathmatical transform\n",
    "    train = scale(train)\n",
    "    test = scale(test)\n",
    "    \n",
    "    # dummy variable\n",
    "    train = pd.concat([pd.get_dummies(train[CAT_COL]), train], axis=1)\n",
    "    test = pd.concat([pd.get_dummies(test[CAT_COL]), test], axis=1)\n",
    "    \n",
    "    \n",
    "    \n",
    "    train.drop(columns=CAT_COL, axis=1, inplace=True)\n",
    "    test.drop(columns=CAT_COL, axis=1, inplace=True)\n",
    "    \n",
    "    \n",
    "    train = train.fillna(train.mean())\n",
    "    test = test.fillna(train.mean())\n",
    "    return train, test\n",
    "    \n",
    "    \n",
    "    "
   ]
  },
  {
   "cell_type": "code",
   "execution_count": 149,
   "id": "3a37616e",
   "metadata": {},
   "outputs": [],
   "source": [
    "\n",
    "\n",
    "\n",
    "\n",
    "\n",
    "\n",
    "# for colname in CAT_COL:\n",
    "#     X[f\"{colname}_encoded\"], _ = X[colname].factorize()\n",
    "\n"
   ]
  },
  {
   "cell_type": "code",
   "execution_count": null,
   "id": "13453d4a",
   "metadata": {},
   "outputs": [],
   "source": []
  },
  {
   "cell_type": "code",
   "execution_count": null,
   "id": "e6695a92",
   "metadata": {},
   "outputs": [],
   "source": []
  },
  {
   "cell_type": "code",
   "execution_count": 197,
   "id": "063cb49c",
   "metadata": {
    "scrolled": true
   },
   "outputs": [
    {
     "name": "stdout",
     "output_type": "stream",
     "text": [
      "[0]\tvalidation_0-auc:0.76565\n",
      "[1]\tvalidation_0-auc:0.76430\n",
      "[2]\tvalidation_0-auc:0.76774\n",
      "[3]\tvalidation_0-auc:0.76877\n",
      "[4]\tvalidation_0-auc:0.76852\n",
      "[5]\tvalidation_0-auc:0.78208\n",
      "[6]\tvalidation_0-auc:0.78274\n",
      "[7]\tvalidation_0-auc:0.78466\n",
      "[8]\tvalidation_0-auc:0.78639\n",
      "[9]\tvalidation_0-auc:0.78705\n",
      "[10]\tvalidation_0-auc:0.78802\n",
      "[11]\tvalidation_0-auc:0.78815\n",
      "[12]\tvalidation_0-auc:0.78835\n",
      "[13]\tvalidation_0-auc:0.78900\n",
      "[14]\tvalidation_0-auc:0.79242\n",
      "[15]\tvalidation_0-auc:0.79199\n",
      "[16]\tvalidation_0-auc:0.79564\n",
      "[17]\tvalidation_0-auc:0.79964\n",
      "[18]\tvalidation_0-auc:0.80279\n",
      "[19]\tvalidation_0-auc:0.80268\n",
      "[20]\tvalidation_0-auc:0.80374\n",
      "[21]\tvalidation_0-auc:0.80326\n",
      "[22]\tvalidation_0-auc:0.80275\n",
      "[23]\tvalidation_0-auc:0.80220\n",
      "[24]\tvalidation_0-auc:0.80469\n",
      "[25]\tvalidation_0-auc:0.80478\n",
      "[26]\tvalidation_0-auc:0.80518\n",
      "[27]\tvalidation_0-auc:0.80673\n",
      "[28]\tvalidation_0-auc:0.80560\n",
      "[29]\tvalidation_0-auc:0.80482\n",
      "[30]\tvalidation_0-auc:0.80569\n",
      "[31]\tvalidation_0-auc:0.80542\n",
      "[32]\tvalidation_0-auc:0.80598\n",
      "[33]\tvalidation_0-auc:0.80522\n",
      "[34]\tvalidation_0-auc:0.80562\n",
      "[35]\tvalidation_0-auc:0.80604\n",
      "[36]\tvalidation_0-auc:0.80586\n",
      "[37]\tvalidation_0-auc:0.80490\n",
      "Fold 0: train score 0.9113084979451146 val score: 0.8067307692307693\n",
      "[0]\tvalidation_0-auc:0.80904\n",
      "[1]\tvalidation_0-auc:0.83241\n",
      "[2]\tvalidation_0-auc:0.82782\n",
      "[3]\tvalidation_0-auc:0.83181\n",
      "[4]\tvalidation_0-auc:0.82781\n",
      "[5]\tvalidation_0-auc:0.82521\n",
      "[6]\tvalidation_0-auc:0.82437\n",
      "[7]\tvalidation_0-auc:0.83449\n",
      "[8]\tvalidation_0-auc:0.83135\n",
      "[9]\tvalidation_0-auc:0.83721\n",
      "[10]\tvalidation_0-auc:0.83926\n",
      "[11]\tvalidation_0-auc:0.83869\n",
      "[12]\tvalidation_0-auc:0.83704\n",
      "[13]\tvalidation_0-auc:0.83730\n",
      "[14]\tvalidation_0-auc:0.83979\n",
      "[15]\tvalidation_0-auc:0.84170\n",
      "[16]\tvalidation_0-auc:0.84140\n",
      "[17]\tvalidation_0-auc:0.83865\n",
      "[18]\tvalidation_0-auc:0.83854\n",
      "[19]\tvalidation_0-auc:0.84192\n",
      "[20]\tvalidation_0-auc:0.84201\n",
      "[21]\tvalidation_0-auc:0.84128\n",
      "[22]\tvalidation_0-auc:0.84080\n",
      "[23]\tvalidation_0-auc:0.84196\n",
      "[24]\tvalidation_0-auc:0.84103\n",
      "[25]\tvalidation_0-auc:0.84156\n",
      "[26]\tvalidation_0-auc:0.84196\n",
      "[27]\tvalidation_0-auc:0.83995\n",
      "[28]\tvalidation_0-auc:0.83869\n",
      "[29]\tvalidation_0-auc:0.83947\n",
      "Fold 1: train score 0.9046414314543707 val score: 0.8420150501672241\n",
      "[0]\tvalidation_0-auc:0.80734\n",
      "[1]\tvalidation_0-auc:0.80824\n",
      "[2]\tvalidation_0-auc:0.80744\n",
      "[3]\tvalidation_0-auc:0.80859\n",
      "[4]\tvalidation_0-auc:0.81006\n",
      "[5]\tvalidation_0-auc:0.81233\n",
      "[6]\tvalidation_0-auc:0.83180\n",
      "[7]\tvalidation_0-auc:0.83175\n",
      "[8]\tvalidation_0-auc:0.83210\n",
      "[9]\tvalidation_0-auc:0.83571\n",
      "[10]\tvalidation_0-auc:0.83538\n",
      "[11]\tvalidation_0-auc:0.83390\n",
      "[12]\tvalidation_0-auc:0.83355\n",
      "[13]\tvalidation_0-auc:0.83233\n",
      "[14]\tvalidation_0-auc:0.83333\n",
      "[15]\tvalidation_0-auc:0.83133\n",
      "[16]\tvalidation_0-auc:0.83002\n",
      "[17]\tvalidation_0-auc:0.83274\n",
      "[18]\tvalidation_0-auc:0.83335\n",
      "[19]\tvalidation_0-auc:0.83344\n",
      "Fold 2: train score 0.8628133353772625 val score: 0.8357110335407498\n",
      "[0]\tvalidation_0-auc:0.75543\n",
      "[1]\tvalidation_0-auc:0.75156\n",
      "[2]\tvalidation_0-auc:0.75311\n",
      "[3]\tvalidation_0-auc:0.75366\n",
      "[4]\tvalidation_0-auc:0.75328\n",
      "[5]\tvalidation_0-auc:0.77104\n",
      "[6]\tvalidation_0-auc:0.77526\n",
      "[7]\tvalidation_0-auc:0.78125\n",
      "[8]\tvalidation_0-auc:0.77897\n",
      "[9]\tvalidation_0-auc:0.77914\n",
      "[10]\tvalidation_0-auc:0.77775\n",
      "[11]\tvalidation_0-auc:0.78333\n",
      "[12]\tvalidation_0-auc:0.78130\n",
      "[13]\tvalidation_0-auc:0.78107\n",
      "[14]\tvalidation_0-auc:0.78028\n",
      "[15]\tvalidation_0-auc:0.77909\n",
      "[16]\tvalidation_0-auc:0.78084\n",
      "[17]\tvalidation_0-auc:0.78060\n",
      "[18]\tvalidation_0-auc:0.78122\n",
      "[19]\tvalidation_0-auc:0.78083\n",
      "[20]\tvalidation_0-auc:0.77838\n",
      "[21]\tvalidation_0-auc:0.77318\n",
      "Fold 3: train score 0.8821415896868379 val score: 0.783325744928416\n",
      "[0]\tvalidation_0-auc:0.79110\n",
      "[1]\tvalidation_0-auc:0.78855\n",
      "[2]\tvalidation_0-auc:0.80165\n",
      "[3]\tvalidation_0-auc:0.80618\n",
      "[4]\tvalidation_0-auc:0.80503\n",
      "[5]\tvalidation_0-auc:0.81353\n",
      "[6]\tvalidation_0-auc:0.80990\n",
      "[7]\tvalidation_0-auc:0.81230\n",
      "[8]\tvalidation_0-auc:0.81505\n",
      "[9]\tvalidation_0-auc:0.81515\n",
      "[10]\tvalidation_0-auc:0.81342\n",
      "[11]\tvalidation_0-auc:0.81942\n",
      "[12]\tvalidation_0-auc:0.82385\n",
      "[13]\tvalidation_0-auc:0.82376\n",
      "[14]\tvalidation_0-auc:0.82216\n",
      "[15]\tvalidation_0-auc:0.82617\n",
      "[16]\tvalidation_0-auc:0.82687\n",
      "[17]\tvalidation_0-auc:0.82354\n",
      "[18]\tvalidation_0-auc:0.82534\n",
      "[19]\tvalidation_0-auc:0.82550\n",
      "[20]\tvalidation_0-auc:0.82554\n",
      "[21]\tvalidation_0-auc:0.82702\n",
      "[22]\tvalidation_0-auc:0.82646\n",
      "[23]\tvalidation_0-auc:0.82818\n",
      "[24]\tvalidation_0-auc:0.82707\n",
      "[25]\tvalidation_0-auc:0.82640\n",
      "[26]\tvalidation_0-auc:0.83021\n",
      "[27]\tvalidation_0-auc:0.82928\n",
      "[28]\tvalidation_0-auc:0.82838\n",
      "[29]\tvalidation_0-auc:0.82682\n",
      "[30]\tvalidation_0-auc:0.82815\n",
      "[31]\tvalidation_0-auc:0.82667\n",
      "[32]\tvalidation_0-auc:0.82718\n",
      "[33]\tvalidation_0-auc:0.82611\n",
      "[34]\tvalidation_0-auc:0.82645\n",
      "[35]\tvalidation_0-auc:0.82808\n",
      "Fold 4: train score 0.9123001179666084 val score: 0.8302084389040911\n",
      "val score (avg) 0.81959820735425\n",
      "oof 0.7886594298410785\n"
     ]
    }
   ],
   "source": [
    "from sklearn.model_selection import StratifiedKFold\n",
    "from sklearn.metrics import roc_auc_score\n",
    "from sklearn.preprocessing import StandardScaler, MinMaxScaler\n",
    "from sklearn.linear_model import LogisticRegression\n",
    "from sklearn.pipeline import make_pipeline\n",
    "from sklearn.svm import LinearSVC, SVC\n",
    "from imblearn.over_sampling import SMOTE, SMOTENC\n",
    "import xgboost as xgb\n",
    "skf = StratifiedKFold(n_splits=5, random_state=1971, shuffle=True)\n",
    "\n",
    "models = []\n",
    "val_scores = []\n",
    "oof_pred = np.zeros(len(X))\n",
    "# smote = RandomOverSampler(random_state=42)\n",
    "CAT_COL  = X.select_dtypes(include=['object', 'category']).columns\n",
    "categorical_indices = [X.columns.get_loc(col) for col in CAT_COL]\n",
    "smote = SMOTENC(categorical_features=categorical_indices, random_state=0)\n",
    "\n",
    "for col in CAT_COL:\n",
    "    X[col] = X[col].fillna(X[col].mode()[0])\n",
    "X = X.fillna(X.mean())\n",
    "\n",
    "\n",
    "for i, (train_index, valid_index) in enumerate(skf.split(X, y)):\n",
    "    \n",
    "\n",
    "    X_train, X_valid, y_train, y_valid = X.loc[train_index], X.loc[valid_index], y.loc[train_index], y.loc[valid_index]\n",
    "#     model = make_pipeline(MinMaxScaler(), LogisticRegression())\n",
    "#     model =  xgb.XGBClassifier(max_depth=5, objective=\"binary:logistic\",booster=\"gbtree\",learning_rate=0.1,  eval_metric=\"auc\", random_state=42)\n",
    "    \n",
    "#     X_train, y_train = smote.fit_resample(X_train, y_train)\n",
    "    # Check the class distribution after SMOTE\n",
    "#     print(\"Class distribution before SMOTE:\", y_train.value_counts())\n",
    "#     print(\"Class distribution after SMOTE:\", pd.Series(y_train_smote).value_counts())\n",
    "    # feature eng\n",
    "    X_train, X_valid = create_feat(X_train, X_valid)\n",
    "    ###################################################################\n",
    "#     model.fit(X_train, y_train)\n",
    "    model.fit(X_train, y_train, eval_set=[(X_valid, y_valid)], early_stopping_rounds=10)\n",
    "    models.append(model)\n",
    "    train_pred = model.predict_proba(X_train)\n",
    "    train_score = roc_auc_score(y_train, train_pred[:, 1])\n",
    "    \n",
    "    pred = model.predict_proba(X_valid)\n",
    "    oof_pred[valid_index] = pred[:, 1]\n",
    "    val_score = roc_auc_score(y_valid, pred[:, 1])\n",
    "    \n",
    "    val_scores.append(val_score)\n",
    "    \n",
    "    print(f\"Fold {i}: train score {train_score} val score: {val_score}\")\n",
    "    \n",
    "print(\"val score (avg)\", np.mean(val_scores))\n",
    "print(\"oof\",  roc_auc_score(y, oof_pred))"
   ]
  },
  {
   "cell_type": "code",
   "execution_count": 192,
   "id": "ebae779d",
   "metadata": {},
   "outputs": [
    {
     "data": {
      "text/plain": [
       "Index(['designation_avp', 'designation_executive', 'designation_manager',\n",
       "       'designation_senior manager', 'designation_vp', 'product_pitched_basic',\n",
       "       'product_pitched_deluxe', 'product_pitched_king',\n",
       "       'product_pitched_standard', 'product_pitched_super deluxe',\n",
       "       'children_1 Children', 'children_2 Children', 'children_3 Children',\n",
       "       'children_No Children', 'children_unknown', 'marital_status_Divorced',\n",
       "       'marital_status_Married', 'marital_status_Single',\n",
       "       'marital_status_Unmarried', 'typeof_contact_Company Invited',\n",
       "       'typeof_contact_Self Enquiry', 'gender_female', 'gender_male',\n",
       "       'monthly_income', 'age', 'city_tier', 'number_of_followups',\n",
       "       'pitch_satisfaction_score', 'passport', 'age_by_passport',\n",
       "       'age_by_passport_diff', 'monthly_income_by_passport',\n",
       "       'monthly_income_by_passport_diff', 'age_by_city_tier',\n",
       "       'age_by_city_tier_diff', 'monthly_income_by_city_tier',\n",
       "       'monthly_income_by_city_tier_diff', 'age_by_gender',\n",
       "       'age_by_gender_diff', 'monthly_income_by_gender',\n",
       "       'monthly_income_by_gender_diff', 'age_by_designation',\n",
       "       'age_by_designation_diff', 'monthly_income_by_designation',\n",
       "       'monthly_income_by_designation_diff', 'age_by_marital_status',\n",
       "       'age_by_marital_status_diff', 'monthly_income_by_marital_status',\n",
       "       'monthly_income_by_marital_status_diff', 'age_by_children',\n",
       "       'age_by_children_diff', 'monthly_income_by_children',\n",
       "       'monthly_income_by_children_diff', 'age_2', 'monthly_income_2',\n",
       "       'monthly_income_log', 'age_log', 'salary_age'],\n",
       "      dtype='object')"
      ]
     },
     "execution_count": 192,
     "metadata": {},
     "output_type": "execute_result"
    }
   ],
   "source": [
    "X_valid.columns"
   ]
  },
  {
   "cell_type": "code",
   "execution_count": 176,
   "id": "cc1ac498",
   "metadata": {},
   "outputs": [
    {
     "name": "stdout",
     "output_type": "stream",
     "text": [
      "len of wrongly predicted samples: 875\n"
     ]
    }
   ],
   "source": [
    "pred_label = oof_pred>=.5\n",
    "pred_label = pred_label.astype('int')\n",
    "wrongly_predicted_indices = np.where(pred_label != y)[0]\n",
    "\n",
    "# Output the wrongly predicted indices\n",
    "print(\"len of wrongly predicted samples:\", len(wrongly_predicted_indices))"
   ]
  },
  {
   "cell_type": "code",
   "execution_count": 177,
   "id": "1971aa53",
   "metadata": {},
   "outputs": [
    {
     "data": {
      "text/plain": [
       "0    711\n",
       "1    164\n",
       "Name: prod_taken, dtype: int64"
      ]
     },
     "execution_count": 177,
     "metadata": {},
     "output_type": "execute_result"
    }
   ],
   "source": [
    "cleaned_train_orig.loc[wrongly_predicted_indices][\"prod_taken\"].value_counts()"
   ]
  },
  {
   "cell_type": "code",
   "execution_count": 178,
   "id": "440b6e5b",
   "metadata": {},
   "outputs": [],
   "source": [
    "# cleaned_train[\"prod_taken\"].value_counts()"
   ]
  },
  {
   "cell_type": "code",
   "execution_count": 179,
   "id": "491da0a0",
   "metadata": {},
   "outputs": [],
   "source": [
    "# cleaned_train.describe()"
   ]
  },
  {
   "cell_type": "code",
   "execution_count": 180,
   "id": "2ffd0773",
   "metadata": {},
   "outputs": [
    {
     "data": {
      "text/plain": [
       "(array([2445.,    0.,    0.,    0.,    0.,    0.,    0.,    0.,    0.,\n",
       "        1044.]),\n",
       " array([0. , 0.1, 0.2, 0.3, 0.4, 0.5, 0.6, 0.7, 0.8, 0.9, 1. ]),\n",
       " <BarContainer object of 10 artists>)"
      ]
     },
     "execution_count": 180,
     "metadata": {},
     "output_type": "execute_result"
    },
    {
     "data": {
      "image/png": "[encoded data removed]",
      "text/plain": [
       "<Figure size 432x288 with 1 Axes>"
      ]
     },
     "metadata": {
      "needs_background": "light"
     },
     "output_type": "display_data"
    }
   ],
   "source": [
    "plt.hist(pred_label)"
   ]
  },
  {
   "cell_type": "code",
   "execution_count": 181,
   "id": "83dd81ae",
   "metadata": {},
   "outputs": [
    {
     "data": {
      "text/plain": [
       "array([0.77555292, 0.46321854, 0.35356239, ..., 0.2617469 , 0.19127307,\n",
       "       0.77619719])"
      ]
     },
     "execution_count": 181,
     "metadata": {},
     "output_type": "execute_result"
    }
   ],
   "source": [
    "oof_pred"
   ]
  },
  {
   "cell_type": "code",
   "execution_count": 182,
   "id": "a5d091a9",
   "metadata": {},
   "outputs": [],
   "source": [
    "test_X = cleaned_test\n",
    "_, test_X = create_feat(X, test_X)"
   ]
  },
  {
   "cell_type": "code",
   "execution_count": 183,
   "id": "2051c384",
   "metadata": {},
   "outputs": [],
   "source": [
    "# val_scores"
   ]
  },
  {
   "cell_type": "code",
   "execution_count": 184,
   "id": "803c4e58",
   "metadata": {},
   "outputs": [],
   "source": [
    "weighted_val = val_scores /np.sum(val_scores)\n",
    "\n",
    "predict = np.zeros((len(test_X), 2))\n",
    "\n",
    "for model, weight in zip(models,weighted_val):\n",
    "    predict += weight*model.predict_proba(test_X)"
   ]
  },
  {
   "cell_type": "code",
   "execution_count": 185,
   "id": "efb55e2b",
   "metadata": {},
   "outputs": [],
   "source": [
    "submit = pd.read_csv(\"../data/sample_submit.csv\", header=None)\n",
    "submit[1] = predict[:, 1]\n",
    "submit.to_csv(\"submission.csv\", index=False, header=None)"
   ]
  },
  {
   "cell_type": "code",
   "execution_count": 186,
   "id": "2ae22c9c",
   "metadata": {},
   "outputs": [
    {
     "data": {
      "text/plain": [
       "697"
      ]
     },
     "execution_count": 186,
     "metadata": {},
     "output_type": "execute_result"
    }
   ],
   "source": [
    "sum(submit.loc[:, 1]> .5)"
   ]
  },
  {
   "cell_type": "code",
   "execution_count": 187,
   "id": "52b96506",
   "metadata": {},
   "outputs": [
    {
     "data": {
      "image/png": "[encoded data removed]",
      "text/plain": [
       "<Figure size 720x432 with 1 Axes>"
      ]
     },
     "metadata": {
      "needs_background": "light"
     },
     "output_type": "display_data"
    }
   ],
   "source": [
    "coefficients = model[1].coef_[0][:30]\n",
    "feature_names = test_X.columns[:30]\n",
    "\n",
    "# Create a dataframe for coefficients and sort by absolute value\n",
    "importance = pd.DataFrame({'Feature': feature_names, 'Coefficient': coefficients})\n",
    "importance['AbsCoefficient'] = np.abs(importance['Coefficient'])\n",
    "importance = importance.sort_values(by='AbsCoefficient', ascending=False)\n",
    "\n",
    "# Plot the feature importance\n",
    "plt.figure(figsize=(10, 6))\n",
    "plt.barh(importance['Feature'], importance['AbsCoefficient'], color='skyblue')\n",
    "plt.xlabel('Coefficient Value')\n",
    "plt.title('Feature Importance in Logistic Regression')\n",
    "plt.gca().invert_yaxis()  # Invert y-axis to have the most important feature on top\n",
    "plt.show()"
   ]
  },
  {
   "cell_type": "code",
   "execution_count": null,
   "id": "818a0a2c",
   "metadata": {},
   "outputs": [],
   "source": [
    "feature_names"
   ]
  },
  {
   "cell_type": "code",
   "execution_count": null,
   "id": "d320c003",
   "metadata": {},
   "outputs": [],
   "source": [
    "# cleaned_train.sort_values(\"monthly_income\")"
   ]
  },
  {
   "cell_type": "code",
   "execution_count": 46,
   "id": "9aaed66b",
   "metadata": {},
   "outputs": [
    {
     "name": "stdout",
     "output_type": "stream",
     "text": [
      "<class 'pandas.core.frame.DataFrame'>\n",
      "Int64Index: 3489 entries, 0 to 3488\n",
      "Data columns (total 18 columns):\n",
      " #   Column                     Non-Null Count  Dtype  \n",
      "---  ------                     --------------  -----  \n",
      " 0   age                        3489 non-null   float64\n",
      " 1   typeof_contact             3489 non-null   object \n",
      " 2   city_tier                  3489 non-null   int64  \n",
      " 3   duration_of_pitch          3489 non-null   float64\n",
      " 4   occupation                 3489 non-null   object \n",
      " 5   gender                     3489 non-null   object \n",
      " 6   number_of_person_visiting  3489 non-null   float64\n",
      " 7   number_of_followups        3489 non-null   float64\n",
      " 8   product_pitched            3489 non-null   object \n",
      " 9   preferred_property_star    3489 non-null   float64\n",
      " 10  number_of_trips            3489 non-null   float64\n",
      " 11  passport                   3489 non-null   int64  \n",
      " 12  pitch_satisfaction_score   3489 non-null   int64  \n",
      " 13  designation                3489 non-null   object \n",
      " 14  monthly_income             3489 non-null   float64\n",
      " 15  marital_status             3489 non-null   object \n",
      " 16  car_ownership              3489 non-null   object \n",
      " 17  children                   3489 non-null   object \n",
      "dtypes: float64(7), int64(3), object(8)\n",
      "memory usage: 677.9+ KB\n"
     ]
    }
   ],
   "source": [
    "X.info()"
   ]
  },
  {
   "cell_type": "code",
   "execution_count": 33,
   "id": "b87d054f",
   "metadata": {},
   "outputs": [
    {
     "data": {
      "text/plain": [
       "'1 Children'"
      ]
     },
     "execution_count": 33,
     "metadata": {},
     "output_type": "execute_result"
    }
   ],
   "source": [
    "X[\"children\"].mode()[0]"
   ]
  },
  {
   "cell_type": "code",
   "execution_count": 47,
   "id": "d1d6d949",
   "metadata": {},
   "outputs": [
    {
     "data": {
      "text/plain": [
       "1 Children     1588\n",
       "No Children     985\n",
       "2 Children      807\n",
       "3 Children       72\n",
       "unknown          37\n",
       "Name: children, dtype: int64"
      ]
     },
     "execution_count": 47,
     "metadata": {},
     "output_type": "execute_result"
    }
   ],
   "source": [
    "X[\"children\"].value_counts(dropna=False)"
   ]
  },
  {
   "cell_type": "code",
   "execution_count": 48,
   "id": "542ca763",
   "metadata": {},
   "outputs": [
    {
     "data": {
      "text/plain": [
       "(3489, 18)"
      ]
     },
     "execution_count": 48,
     "metadata": {},
     "output_type": "execute_result"
    }
   ],
   "source": [
    "for idx, col in X.columns:\n",
    "    if col"
   ]
  },
  {
   "cell_type": "code",
   "execution_count": null,
   "id": "ebadffd7",
   "metadata": {},
   "outputs": [],
   "source": []
  }
 ],
 "metadata": {
  "kernelspec": {
   "display_name": ".venv",
   "language": "python",
   "name": ".venv"
  },
  "language_info": {
   "codemirror_mode": {
    "name": "ipython",
    "version": 3
   },
   "file_extension": ".py",
   "mimetype": "text/x-python",
   "name": "python",
   "nbconvert_exporter": "python",
   "pygments_lexer": "ipython3",
   "version": "3.6.9"
  }
 },
 "nbformat": 4,
 "nbformat_minor": 5
}
