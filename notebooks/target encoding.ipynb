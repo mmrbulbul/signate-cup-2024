{
 "cells": [
  {
   "cell_type": "code",
   "execution_count": 276,
   "id": "a8d2454b",
   "metadata": {},
   "outputs": [],
   "source": [
    "import os\n",
    "import re\n",
    "import random\n",
    "import unicodedata\n",
    "import pandas as pd\n",
    "import numpy as np\n",
    "import matplotlib.pyplot as plt\n",
    "import seaborn as sns\n",
    "from sklearn.ensemble import RandomForestClassifier\n",
    "from sklearn.model_selection import StratifiedKFold, KFold\n",
    "from sklearn.metrics import roc_auc_score, make_scorer\n",
    "from sklearn.preprocessing import StandardScaler\n",
    "from scripts.data_cleaning import clean_data\n",
    "import itertools"
   ]
  },
  {
   "cell_type": "code",
   "execution_count": 277,
   "id": "1eb32506",
   "metadata": {},
   "outputs": [],
   "source": [
    "import warnings\n",
    "warnings.filterwarnings('ignore')"
   ]
  },
  {
   "cell_type": "code",
   "execution_count": 278,
   "id": "fb1e6f7a",
   "metadata": {},
   "outputs": [],
   "source": [
    "train = pd.read_csv(\"../data/train.csv\")\n",
    "test = pd.read_csv(\"../data/test.csv\")"
   ]
  },
  {
   "cell_type": "code",
   "execution_count": 279,
   "id": "dd871709",
   "metadata": {},
   "outputs": [],
   "source": [
    "SEED = 1971"
   ]
  },
  {
   "cell_type": "code",
   "execution_count": 280,
   "id": "8001866b",
   "metadata": {},
   "outputs": [],
   "source": [
    "# clean data \n",
    "train.set_index(\"id\", inplace=True)\n",
    "test.set_index(\"id\", inplace=True)\n",
    "cleaned_train_orig = clean_data(train)\n",
    "cleaned_test_orig = clean_data(test)"
   ]
  },
  {
   "cell_type": "code",
   "execution_count": 281,
   "id": "e8c80b90",
   "metadata": {},
   "outputs": [],
   "source": [
    "# # # chnage pass to cat col\n",
    "# cleaned_test_orig[\"passport\"] = cleaned_test_orig[\"passport\"].astype('object')\n",
    "# cleaned_train_orig[\"passport\"] = cleaned_train_orig[\"passport\"].astype('object')"
   ]
  },
  {
   "cell_type": "code",
   "execution_count": 282,
   "id": "9d545982",
   "metadata": {},
   "outputs": [],
   "source": [
    "CAT_COL  = cleaned_test_orig.select_dtypes(include=['object', 'category']).columns\n",
    "NUM_COL = [col for col in cleaned_test_orig.columns if col not in CAT_COL]\n",
    "CONT_COl = [\"age\", \"duration_of_pitch\", \"monthly_income\"]"
   ]
  },
  {
   "cell_type": "code",
   "execution_count": 8,
   "id": "27c69fef",
   "metadata": {},
   "outputs": [],
   "source": [
    "# plt.figure(figsize=(8, 15)) \n",
    "\n",
    "# for i, column in enumerate(NUM_COL):\n",
    "#     plt.subplots()\n",
    "#     sns.histplot(data=cleaned_train_orig, x=column, kde=True, bins=20, color=\"red\", alpha=0.5)\n",
    "#     sns.histplot(data=cleaned_test_orig, x=column, kde=True, bins=20)\n",
    "    \n",
    "#     plt.title(f'Distribution of {column}')\n",
    "#     sns.despine()\n",
    "\n",
    "# plt.tight_layout()  # Adjust subplots to fit into figure area.\n",
    "# plt.show()"
   ]
  },
  {
   "cell_type": "code",
   "execution_count": 9,
   "id": "d524b242",
   "metadata": {},
   "outputs": [],
   "source": [
    "# for column in NUM_COL:\n",
    "#     plt.figure(figsize=(8, 6))\n",
    "#     sns.violinplot(data=cleaned_train_orig, x='prod_taken', y=column) \n",
    "#     plt.title(f'Distribution of {column} by class')\n",
    "\n",
    "#     plt.tight_layout()\n",
    "#     plt.show()"
   ]
  },
  {
   "cell_type": "code",
   "execution_count": 10,
   "id": "a9005f23",
   "metadata": {
    "scrolled": true
   },
   "outputs": [],
   "source": [
    "# # Plot mosaic plots for each categorical column, excluding \"Unknown\" values\n",
    "# from statsmodels.graphics.mosaicplot import mosaic\n",
    "# for column in CAT_COL:\n",
    "#     # Exclude \"Unknown\" values from the DataFrame\n",
    "#     filtered_data = cleaned_train_orig.loc[cleaned_train_orig[column] != 'Unknown']\n",
    "    \n",
    "#     plt.figure(figsize=(8, 6))\n",
    "#     mosaic(filtered_data, [column, 'prod_taken'])\n",
    "#     plt.title(f'Mosaic Plot of {column} and class')\n",
    "\n",
    "#     plt.tight_layout()\n",
    "#     plt.show()"
   ]
  },
  {
   "cell_type": "code",
   "execution_count": 11,
   "id": "b6faf9ca",
   "metadata": {},
   "outputs": [],
   "source": [
    "# # Calculate the Z-scores for the numerical columns in the DataFrame\n",
    "# from scipy import stats\n",
    "# z_scores = stats.zscore(cleaned_train_orig[NUM_COL].fillna(cleaned_train_orig[NUM_COL].mean()))\n",
    "\n",
    "# # Generate descriptive statistics for the Z-scores and round the results to 3 decimal places\n",
    "# pd.DataFrame(z_scores, columns=NUM_COL).describe().round(3)"
   ]
  },
  {
   "cell_type": "code",
   "execution_count": 12,
   "id": "96507796",
   "metadata": {},
   "outputs": [],
   "source": [
    "# cleaned_train_orig"
   ]
  },
  {
   "cell_type": "code",
   "execution_count": 283,
   "id": "59e8faa9",
   "metadata": {},
   "outputs": [],
   "source": [
    "# data preparation \n",
    "train = cleaned_train_orig.drop(\"prod_taken\", axis=1)\n",
    "y = cleaned_train_orig[\"prod_taken\"]\n",
    "test = cleaned_test_orig.copy()"
   ]
  },
  {
   "cell_type": "code",
   "execution_count": 14,
   "id": "f7da0184",
   "metadata": {},
   "outputs": [],
   "source": [
    "# train"
   ]
  },
  {
   "cell_type": "code",
   "execution_count": 15,
   "id": "46d6c99e",
   "metadata": {},
   "outputs": [],
   "source": [
    "\n",
    "# k = 3\n",
    "# f=1.5\n",
    "\n",
    "\n",
    "# scores = []\n",
    "# tr_scores = []\n",
    "\n",
    "# skf = StratifiedKFold(n_splits=5, random_state = SEED, shuffle = True)\n",
    "\n",
    "# for train_index, valid_index in skf.split(train, y):\n",
    "#     train_df, valid_df, train_y, valid_y = train.loc[train_index], train.loc[valid_index], y.loc[train_index], y.loc[valid_index]\n",
    "\n",
    "#     te = TargetEncoder(\n",
    "#         categories= CAT_COL,\n",
    "#         k = 1 , f = 1\n",
    "#     )\n",
    "\n",
    "#     X_tr = te.fit_transform(train_df, train_y)\n",
    "#     X_val = te.transform(valid_df).values\n",
    "\n",
    "#     model = get_model(\"linear\")\n",
    "# #                 model = xgb.XGBClassifier(**params)\n",
    "#     model.fit(X_tr, train_y)\n",
    "\n",
    "#     predictions = model.predict_proba(X_val)[:,1]\n",
    "#     scores.append(roc_auc_score(valid_y, predictions))\n",
    "\n",
    "#     train_preds = model.predict_proba(X_tr)[:,1]\n",
    "#     tr_scores.append(roc_auc_score(train_y, train_preds))\n",
    "\n",
    "# print(\"Train AUC score: {:.4f} Valid AUC score: {:.4f}, STD: {:.4f}\".format(\n",
    "#     np.mean(tr_scores), np.mean(scores), np.std(scores)\n",
    "# ))\n",
    "\n",
    "\n"
   ]
  },
  {
   "cell_type": "code",
   "execution_count": 137,
   "id": "07f4b0b8",
   "metadata": {},
   "outputs": [],
   "source": [
    "import optuna\n",
    "from sklearn.svm import SVC\n",
    "def objective(trial):\n",
    "    \n",
    "    params = {\n",
    "            \"objective\": \"binary:logistic\",\n",
    "            \"n_estimators\": trial.suggest_int(\"n_estimators\", 200, 3000),\n",
    "            \"verbosity\": 0,\n",
    "            \"booster\" : \"gbtree\",\n",
    "            \"eval_metric\": \"auc\",\n",
    "            \"tree_method\": 'exact',\n",
    "            'random_state': 1971,\n",
    "        \n",
    "            'learning_rate': trial.suggest_loguniform('learning_rate', 0.01, 0.5),\n",
    "            \"max_depth\": trial.suggest_int(\"max_depth\", 1, 10),\n",
    "            'subsample': trial.suggest_uniform('subsample', 0.1, 1.0),\n",
    "            \"colsample_bytree\": trial.suggest_float(\"colsample_bytree\", 0.05, 1.0),\n",
    "            \"min_child_weight\": trial.suggest_int(\"min_child_weight\", 1, 20),\n",
    "            'gamma': trial.suggest_uniform('gamma', 1, 9)\n",
    "\n",
    "        }\n",
    "    \n",
    "#     svc_params = {\n",
    "     # Hyperparameters to be tuned\n",
    "#      \"C\" : trial.suggest_loguniform('C', 1e-5, 1e2),\n",
    "#      \"kernel\" : trial.suggest_categorical('kernel', ['linear', 'poly', 'rbf', 'sigmoid']),\n",
    "    #      \"degree\" = trial.suggest_int('degree', 2, 5) if kernel == 'poly' else 3\n",
    "#      \"degree\": 3,\n",
    "#      \"gamma\" : trial.suggest_categorical('gamma', ['scale', 'auto'])}\n",
    "#     log_params  = {\n",
    "#         'tol' : trial.suggest_uniform('tol' , 1e-6 , 1e-3),\n",
    "#         'C' : trial.suggest_loguniform(\"C\", 1e-2, 1),\n",
    "#        # 'fit_intercept' : trial.suggest_categorical('fit_intercept' , [True, False]),\n",
    "#        #  'random_state' : trial.suggest_categorical('random_state' , [0, 42, 2021, 555]),\n",
    "#        # 'solver' : trial.suggest_categorical('solver' , ['lbfgs','liblinear']),\n",
    "#         \"n_jobs\" : -1\n",
    "#     }\n",
    "\n",
    "    \n",
    "    k = trial.suggest_float(\"k\", 1, 5)\n",
    "    f = trial.suggest_float(\"f\", 1.5, 40)\n",
    "    w = trial.suggest_int(\"smoothing\", 10, 30)\n",
    "    missing_col = trial.suggest_int(\"missing\", 5, 50)\n",
    "#     k = 1\n",
    "#     f = 25\n",
    "    \n",
    "    scores = []\n",
    "    tr_scores = []\n",
    "\n",
    "    skf = StratifiedKFold(n_splits=5, random_state = SEED, shuffle = True)\n",
    "\n",
    "    for train_index, valid_index in skf.split(train, y):\n",
    "        train_df, valid_df, train_y, valid_y = train.loc[train_index], train.loc[valid_index], y.loc[train_index], y.loc[valid_index]\n",
    "\n",
    "        train_df = create_random_nan(train_df, 40)\n",
    "        X_tr, X_val = create_feature(train_df, valid_df, train_y, CAT_COL, NUM_COL, CONT_COl, cv =skf, w=w, k=k,f=f)\n",
    "\n",
    "        \n",
    "\n",
    "#         model = get_model(\"xgb\")\n",
    "#         model = LogisticRegression(**log_params)\n",
    "        model = xgb.XGBClassifier(**params)\n",
    "        evaluation = [( X_tr, train_y), ( X_val, valid_y)]\n",
    "\n",
    "        model.fit(X_tr, train_y, eval_set=evaluation, early_stopping_rounds=20, verbose=False)\n",
    "\n",
    "        predictions = model.predict_proba(X_val)[:,1]\n",
    "        scores.append(roc_auc_score(valid_y, predictions))\n",
    "\n",
    "        train_preds = model.predict_proba(X_tr)[:,1]\n",
    "        tr_scores.append(roc_auc_score(train_y, train_preds))\n",
    "\n",
    "#     print(scores)\n",
    "    print(\"Train AUC score: {:.4f} Valid AUC score: {:.4f}, STD: {:.4f}\".format(\n",
    "        np.mean(tr_scores), np.mean(scores), np.std(scores)))\n",
    "\n",
    "\n",
    "    return np.mean(scores)\n"
   ]
  },
  {
   "cell_type": "code",
   "execution_count": 138,
   "id": "ecc4ec3c",
   "metadata": {},
   "outputs": [
    {
     "name": "stderr",
     "output_type": "stream",
     "text": [
      "\u001b[32m[I 2024-08-18 19:08:21,137]\u001b[0m A new study created in memory with name: target_enc\u001b[0m\n",
      "\u001b[32m[I 2024-08-18 19:08:29,246]\u001b[0m Trial 0 finished with value: 0.8379820910260047 and parameters: {'n_estimators': 799, 'learning_rate': 0.12071509934476166, 'max_depth': 1, 'subsample': 0.6381338566608813, 'colsample_bytree': 0.9416678672737021, 'min_child_weight': 3, 'gamma': 1.0132881972643952, 'k': 4.272028979734923, 'f': 14.631645378533952, 'smoothing': 23, 'missing': 27}. Best is trial 0 with value: 0.8379820910260047.\u001b[0m\n"
     ]
    },
    {
     "name": "stdout",
     "output_type": "stream",
     "text": [
      "Train AUC score: 0.8490 Valid AUC score: 0.8380, STD: 0.0173\n"
     ]
    },
    {
     "name": "stderr",
     "output_type": "stream",
     "text": [
      "\u001b[32m[I 2024-08-18 19:08:35,909]\u001b[0m Trial 1 finished with value: 0.8311996622412533 and parameters: {'n_estimators': 370, 'learning_rate': 0.1591168509416555, 'max_depth': 7, 'subsample': 0.35099248825336493, 'colsample_bytree': 0.24133046673504516, 'min_child_weight': 8, 'gamma': 3.5923452785268584, 'k': 3.598531265617436, 'f': 33.14866499525509, 'smoothing': 13, 'missing': 14}. Best is trial 0 with value: 0.8379820910260047.\u001b[0m\n"
     ]
    },
    {
     "name": "stdout",
     "output_type": "stream",
     "text": [
      "Train AUC score: 0.8703 Valid AUC score: 0.8312, STD: 0.0192\n"
     ]
    },
    {
     "name": "stderr",
     "output_type": "stream",
     "text": [
      "\u001b[32m[I 2024-08-18 19:08:43,994]\u001b[0m Trial 2 finished with value: 0.8251413363680186 and parameters: {'n_estimators': 1051, 'learning_rate': 0.34753426470361587, 'max_depth': 8, 'subsample': 0.3163048793925822, 'colsample_bytree': 0.8947396976060866, 'min_child_weight': 13, 'gamma': 7.694109720804697, 'k': 4.0453083593782555, 'f': 17.22567005825312, 'smoothing': 19, 'missing': 18}. Best is trial 0 with value: 0.8379820910260047.\u001b[0m\n"
     ]
    },
    {
     "name": "stdout",
     "output_type": "stream",
     "text": [
      "Train AUC score: 0.8451 Valid AUC score: 0.8251, STD: 0.0235\n"
     ]
    },
    {
     "name": "stderr",
     "output_type": "stream",
     "text": [
      "\u001b[32m[I 2024-08-18 19:08:54,088]\u001b[0m Trial 3 finished with value: 0.8218748302337616 and parameters: {'n_estimators': 2051, 'learning_rate': 0.017965630391859264, 'max_depth': 10, 'subsample': 0.5924709329864083, 'colsample_bytree': 0.7343693140063804, 'min_child_weight': 14, 'gamma': 6.485327570924542, 'k': 2.426141674451309, 'f': 6.823575954071607, 'smoothing': 20, 'missing': 45}. Best is trial 0 with value: 0.8379820910260047.\u001b[0m\n"
     ]
    },
    {
     "name": "stdout",
     "output_type": "stream",
     "text": [
      "Train AUC score: 0.8319 Valid AUC score: 0.8219, STD: 0.0157\n"
     ]
    },
    {
     "name": "stderr",
     "output_type": "stream",
     "text": [
      "\u001b[32m[I 2024-08-18 19:09:03,834]\u001b[0m Trial 4 finished with value: 0.8205281911075625 and parameters: {'n_estimators': 1707, 'learning_rate': 0.012211290992287282, 'max_depth': 8, 'subsample': 0.4720598603683397, 'colsample_bytree': 0.19894465698017433, 'min_child_weight': 3, 'gamma': 3.573469779792495, 'k': 2.803027984146616, 'f': 38.16341794915995, 'smoothing': 24, 'missing': 7}. Best is trial 0 with value: 0.8379820910260047.\u001b[0m\n"
     ]
    },
    {
     "name": "stdout",
     "output_type": "stream",
     "text": [
      "Train AUC score: 0.8449 Valid AUC score: 0.8205, STD: 0.0247\n"
     ]
    },
    {
     "name": "stderr",
     "output_type": "stream",
     "text": [
      "\u001b[32m[I 2024-08-18 19:09:20,190]\u001b[0m Trial 5 finished with value: 0.8313097979984094 and parameters: {'n_estimators': 2837, 'learning_rate': 0.02233673071988183, 'max_depth': 2, 'subsample': 0.9746882335047107, 'colsample_bytree': 0.6975099530700135, 'min_child_weight': 3, 'gamma': 2.166287191152761, 'k': 2.6843783800754584, 'f': 8.74237886104141, 'smoothing': 23, 'missing': 23}. Best is trial 0 with value: 0.8379820910260047.\u001b[0m\n"
     ]
    },
    {
     "name": "stdout",
     "output_type": "stream",
     "text": [
      "Train AUC score: 0.8577 Valid AUC score: 0.8313, STD: 0.0208\n"
     ]
    },
    {
     "name": "stderr",
     "output_type": "stream",
     "text": [
      "\u001b[32m[I 2024-08-18 19:09:28,240]\u001b[0m Trial 6 finished with value: 0.8294203483402148 and parameters: {'n_estimators': 2422, 'learning_rate': 0.36218975292714783, 'max_depth': 3, 'subsample': 0.8450555914478488, 'colsample_bytree': 0.7905244987889579, 'min_child_weight': 19, 'gamma': 6.844208536066087, 'k': 2.413566701273322, 'f': 19.150664274902752, 'smoothing': 28, 'missing': 35}. Best is trial 0 with value: 0.8379820910260047.\u001b[0m\n"
     ]
    },
    {
     "name": "stdout",
     "output_type": "stream",
     "text": [
      "Train AUC score: 0.8579 Valid AUC score: 0.8294, STD: 0.0145\n"
     ]
    },
    {
     "name": "stderr",
     "output_type": "stream",
     "text": [
      "\u001b[32m[I 2024-08-18 19:09:36,110]\u001b[0m Trial 7 finished with value: 0.8322806235847174 and parameters: {'n_estimators': 1045, 'learning_rate': 0.3135101068815588, 'max_depth': 10, 'subsample': 0.4722482011524167, 'colsample_bytree': 0.3474855570622388, 'min_child_weight': 6, 'gamma': 3.3298122143196345, 'k': 4.404356138534416, 'f': 25.04299753283757, 'smoothing': 14, 'missing': 6}. Best is trial 0 with value: 0.8379820910260047.\u001b[0m\n"
     ]
    },
    {
     "name": "stdout",
     "output_type": "stream",
     "text": [
      "Train AUC score: 0.8814 Valid AUC score: 0.8323, STD: 0.0184\n"
     ]
    },
    {
     "name": "stderr",
     "output_type": "stream",
     "text": [
      "\u001b[32m[I 2024-08-18 19:09:45,288]\u001b[0m Trial 8 finished with value: 0.8332178171968764 and parameters: {'n_estimators': 273, 'learning_rate': 0.19307560283920278, 'max_depth': 10, 'subsample': 0.7297220454372869, 'colsample_bytree': 0.0841097914914904, 'min_child_weight': 14, 'gamma': 4.342183957525648, 'k': 2.6001627107803276, 'f': 22.61592268313252, 'smoothing': 18, 'missing': 10}. Best is trial 0 with value: 0.8379820910260047.\u001b[0m\n"
     ]
    },
    {
     "name": "stdout",
     "output_type": "stream",
     "text": [
      "Train AUC score: 0.8561 Valid AUC score: 0.8332, STD: 0.0181\n"
     ]
    },
    {
     "name": "stderr",
     "output_type": "stream",
     "text": [
      "\u001b[32m[I 2024-08-18 19:09:53,170]\u001b[0m Trial 9 finished with value: 0.8281583963486774 and parameters: {'n_estimators': 2622, 'learning_rate': 0.4259080134567616, 'max_depth': 4, 'subsample': 0.9682434115890504, 'colsample_bytree': 0.9450636769231806, 'min_child_weight': 8, 'gamma': 1.7877637296175521, 'k': 1.3679504979870725, 'f': 21.77317211118162, 'smoothing': 12, 'missing': 39}. Best is trial 0 with value: 0.8379820910260047.\u001b[0m\n"
     ]
    },
    {
     "name": "stdout",
     "output_type": "stream",
     "text": [
      "Train AUC score: 0.9182 Valid AUC score: 0.8282, STD: 0.0192\n"
     ]
    },
    {
     "name": "stderr",
     "output_type": "stream",
     "text": [
      "\u001b[32m[I 2024-08-18 19:10:02,805]\u001b[0m Trial 10 finished with value: 0.8240187260458365 and parameters: {'n_estimators': 937, 'learning_rate': 0.05849251189498842, 'max_depth': 1, 'subsample': 0.1053812145529317, 'colsample_bytree': 0.5233871754946897, 'min_child_weight': 2, 'gamma': 1.244735978871753, 'k': 4.8121340125495555, 'f': 12.705523771015724, 'smoothing': 29, 'missing': 29}. Best is trial 0 with value: 0.8379820910260047.\u001b[0m\n"
     ]
    },
    {
     "name": "stdout",
     "output_type": "stream",
     "text": [
      "Train AUC score: 0.8265 Valid AUC score: 0.8240, STD: 0.0243\n"
     ]
    },
    {
     "name": "stderr",
     "output_type": "stream",
     "text": [
      "\u001b[32m[I 2024-08-18 19:10:13,748]\u001b[0m Trial 11 finished with value: 0.8269134731212834 and parameters: {'n_estimators': 301, 'learning_rate': 0.10649470035523248, 'max_depth': 5, 'subsample': 0.7267148162717806, 'colsample_bytree': 0.05799230949571389, 'min_child_weight': 17, 'gamma': 5.625839552056291, 'k': 1.5431642087878243, 'f': 27.67391645567224, 'smoothing': 16, 'missing': 27}. Best is trial 0 with value: 0.8379820910260047.\u001b[0m\n"
     ]
    },
    {
     "name": "stdout",
     "output_type": "stream",
     "text": [
      "Train AUC score: 0.8377 Valid AUC score: 0.8269, STD: 0.0238\n"
     ]
    },
    {
     "name": "stderr",
     "output_type": "stream",
     "text": [
      "\u001b[32m[I 2024-08-18 19:10:26,959]\u001b[0m Trial 12 finished with value: 0.8274681275713794 and parameters: {'n_estimators': 653, 'learning_rate': 0.05174475663950424, 'max_depth': 6, 'subsample': 0.6450226488003313, 'colsample_bytree': 0.4867209484831351, 'min_child_weight': 12, 'gamma': 8.691366767434523, 'k': 3.5361670679398576, 'f': 13.881689092555458, 'smoothing': 24, 'missing': 50}. Best is trial 0 with value: 0.8379820910260047.\u001b[0m\n"
     ]
    },
    {
     "name": "stdout",
     "output_type": "stream",
     "text": [
      "Train AUC score: 0.8419 Valid AUC score: 0.8275, STD: 0.0216\n"
     ]
    },
    {
     "name": "stderr",
     "output_type": "stream",
     "text": [
      "\u001b[32m[I 2024-08-18 19:10:45,593]\u001b[0m Trial 13 finished with value: 0.837898375607601 and parameters: {'n_estimators': 1422, 'learning_rate': 0.14470877222955517, 'max_depth': 1, 'subsample': 0.7344181402028118, 'colsample_bytree': 0.61977365120927, 'min_child_weight': 15, 'gamma': 4.463763345564596, 'k': 3.3932247209024227, 'f': 2.640310829381379, 'smoothing': 18, 'missing': 14}. Best is trial 0 with value: 0.8379820910260047.\u001b[0m\n"
     ]
    },
    {
     "name": "stdout",
     "output_type": "stream",
     "text": [
      "Train AUC score: 0.8459 Valid AUC score: 0.8379, STD: 0.0186\n"
     ]
    },
    {
     "name": "stderr",
     "output_type": "stream",
     "text": [
      "\u001b[32m[I 2024-08-18 19:11:00,969]\u001b[0m Trial 14 finished with value: 0.8368891348141185 and parameters: {'n_estimators': 1429, 'learning_rate': 0.09766189634615398, 'max_depth': 1, 'subsample': 0.7778147829936404, 'colsample_bytree': 0.6332605544192279, 'min_child_weight': 17, 'gamma': 5.194355102680207, 'k': 3.7264749056824615, 'f': 1.6591061658486854, 'smoothing': 10, 'missing': 19}. Best is trial 0 with value: 0.8379820910260047.\u001b[0m\n"
     ]
    },
    {
     "name": "stdout",
     "output_type": "stream",
     "text": [
      "Train AUC score: 0.8484 Valid AUC score: 0.8369, STD: 0.0182\n"
     ]
    },
    {
     "name": "stderr",
     "output_type": "stream",
     "text": [
      "\u001b[32m[I 2024-08-18 19:11:13,906]\u001b[0m Trial 15 finished with value: 0.8312898357278122 and parameters: {'n_estimators': 1500, 'learning_rate': 0.038220956750406265, 'max_depth': 3, 'subsample': 0.8433077222902552, 'colsample_bytree': 0.9889172098402343, 'min_child_weight': 10, 'gamma': 2.5256914691489767, 'k': 4.9568875080148445, 'f': 1.6292505823214078, 'smoothing': 22, 'missing': 31}. Best is trial 0 with value: 0.8379820910260047.\u001b[0m\n"
     ]
    },
    {
     "name": "stdout",
     "output_type": "stream",
     "text": [
      "Train AUC score: 0.8592 Valid AUC score: 0.8313, STD: 0.0196\n"
     ]
    },
    {
     "name": "stderr",
     "output_type": "stream",
     "text": [
      "\u001b[32m[I 2024-08-18 19:11:24,570]\u001b[0m Trial 16 finished with value: 0.834256086275793 and parameters: {'n_estimators': 1927, 'learning_rate': 0.18164560835696003, 'max_depth': 2, 'subsample': 0.5201767819109737, 'colsample_bytree': 0.854157205684158, 'min_child_weight': 5, 'gamma': 1.1085241667654173, 'k': 3.3072836191401196, 'f': 9.272151003863979, 'smoothing': 26, 'missing': 22}. Best is trial 0 with value: 0.8379820910260047.\u001b[0m\n"
     ]
    },
    {
     "name": "stdout",
     "output_type": "stream",
     "text": [
      "Train AUC score: 0.8709 Valid AUC score: 0.8343, STD: 0.0174\n"
     ]
    },
    {
     "name": "stderr",
     "output_type": "stream",
     "text": [
      "\u001b[32m[I 2024-08-18 19:11:36,161]\u001b[0m Trial 17 finished with value: 0.8368663753520034 and parameters: {'n_estimators': 1332, 'learning_rate': 0.10163205008221969, 'max_depth': 1, 'subsample': 0.6731908998311108, 'colsample_bytree': 0.5991282325290336, 'min_child_weight': 20, 'gamma': 4.544189141266158, 'k': 4.24503971532906, 'f': 6.462881735841398, 'smoothing': 17, 'missing': 14}. Best is trial 0 with value: 0.8379820910260047.\u001b[0m\n"
     ]
    },
    {
     "name": "stdout",
     "output_type": "stream",
     "text": [
      "Train AUC score: 0.8494 Valid AUC score: 0.8369, STD: 0.0183\n"
     ]
    },
    {
     "name": "stderr",
     "output_type": "stream",
     "text": [
      "\u001b[32m[I 2024-08-18 19:11:46,561]\u001b[0m Trial 18 finished with value: 0.8203378485329562 and parameters: {'n_estimators': 831, 'learning_rate': 0.031457659643281746, 'max_depth': 4, 'subsample': 0.3647845751753662, 'colsample_bytree': 0.3980999717060614, 'min_child_weight': 16, 'gamma': 2.7752918412941163, 'k': 1.8498294222482452, 'f': 15.012655523933748, 'smoothing': 21, 'missing': 38}. Best is trial 0 with value: 0.8379820910260047.\u001b[0m\n"
     ]
    },
    {
     "name": "stdout",
     "output_type": "stream",
     "text": [
      "Train AUC score: 0.8330 Valid AUC score: 0.8203, STD: 0.0240\n"
     ]
    },
    {
     "name": "stderr",
     "output_type": "stream",
     "text": [
      "\u001b[32m[I 2024-08-18 19:11:55,727]\u001b[0m Trial 19 finished with value: 0.834615304191264 and parameters: {'n_estimators': 576, 'learning_rate': 0.2294681104496143, 'max_depth': 2, 'subsample': 0.8706170139705511, 'colsample_bytree': 0.8204648443133564, 'min_child_weight': 11, 'gamma': 6.336692372453561, 'k': 3.2656957542744927, 'f': 28.359517271348942, 'smoothing': 16, 'missing': 26}. Best is trial 0 with value: 0.8379820910260047.\u001b[0m\n"
     ]
    },
    {
     "name": "stdout",
     "output_type": "stream",
     "text": [
      "Train AUC score: 0.8581 Valid AUC score: 0.8346, STD: 0.0180\n"
     ]
    },
    {
     "name": "stderr",
     "output_type": "stream",
     "text": [
      "\u001b[32m[I 2024-08-18 19:12:05,373]\u001b[0m Trial 20 finished with value: 0.8347999381760722 and parameters: {'n_estimators': 1216, 'learning_rate': 0.12793630324695202, 'max_depth': 3, 'subsample': 0.6155506405331245, 'colsample_bytree': 0.6243535407428831, 'min_child_weight': 1, 'gamma': 8.93455347275599, 'k': 4.621649448586342, 'f': 4.6922976838554575, 'smoothing': 26, 'missing': 14}. Best is trial 0 with value: 0.8379820910260047.\u001b[0m\n"
     ]
    },
    {
     "name": "stdout",
     "output_type": "stream",
     "text": [
      "Train AUC score: 0.8584 Valid AUC score: 0.8348, STD: 0.0171\n"
     ]
    },
    {
     "name": "stderr",
     "output_type": "stream",
     "text": [
      "\u001b[32m[I 2024-08-18 19:12:17,440]\u001b[0m Trial 21 finished with value: 0.8352907081828835 and parameters: {'n_estimators': 1723, 'learning_rate': 0.07469696848127783, 'max_depth': 1, 'subsample': 0.7617398079184804, 'colsample_bytree': 0.6450693710042213, 'min_child_weight': 17, 'gamma': 5.509627087890714, 'k': 3.930256696339333, 'f': 2.3337546408443934, 'smoothing': 10, 'missing': 20}. Best is trial 0 with value: 0.8379820910260047.\u001b[0m\n"
     ]
    },
    {
     "name": "stdout",
     "output_type": "stream",
     "text": [
      "Train AUC score: 0.8446 Valid AUC score: 0.8353, STD: 0.0204\n"
     ]
    },
    {
     "name": "stderr",
     "output_type": "stream",
     "text": [
      "\u001b[32m[I 2024-08-18 19:12:30,375]\u001b[0m Trial 22 finished with value: 0.8369850064003727 and parameters: {'n_estimators': 1357, 'learning_rate': 0.07729190222827435, 'max_depth': 1, 'subsample': 0.7722429814422044, 'colsample_bytree': 0.44530182289468495, 'min_child_weight': 16, 'gamma': 4.9894330681934065, 'k': 3.768972556433335, 'f': 10.406459981803517, 'smoothing': 11, 'missing': 19}. Best is trial 0 with value: 0.8379820910260047.\u001b[0m\n"
     ]
    },
    {
     "name": "stdout",
     "output_type": "stream",
     "text": [
      "Train AUC score: 0.8479 Valid AUC score: 0.8370, STD: 0.0182\n"
     ]
    },
    {
     "name": "stderr",
     "output_type": "stream",
     "text": [
      "\u001b[32m[I 2024-08-18 19:12:41,675]\u001b[0m Trial 23 finished with value: 0.8370637557421329 and parameters: {'n_estimators': 1232, 'learning_rate': 0.06921005020680362, 'max_depth': 2, 'subsample': 0.890686803568629, 'colsample_bytree': 0.4275307742930964, 'min_child_weight': 15, 'gamma': 4.453783244425863, 'k': 3.1174521143654523, 'f': 10.435765233576525, 'smoothing': 15, 'missing': 16}. Best is trial 0 with value: 0.8379820910260047.\u001b[0m\n"
     ]
    },
    {
     "name": "stdout",
     "output_type": "stream",
     "text": [
      "Train AUC score: 0.8553 Valid AUC score: 0.8371, STD: 0.0179\n"
     ]
    },
    {
     "name": "stderr",
     "output_type": "stream",
     "text": [
      "\u001b[32m[I 2024-08-18 19:12:49,889]\u001b[0m Trial 24 finished with value: 0.8366996389487135 and parameters: {'n_estimators': 625, 'learning_rate': 0.24411356724116215, 'max_depth': 2, 'subsample': 0.9078425961629679, 'colsample_bytree': 0.31164181947790387, 'min_child_weight': 9, 'gamma': 4.151907426579704, 'k': 3.0251528868837463, 'f': 10.6152454484668, 'smoothing': 15, 'missing': 10}. Best is trial 0 with value: 0.8379820910260047.\u001b[0m\n"
     ]
    },
    {
     "name": "stdout",
     "output_type": "stream",
     "text": [
      "Train AUC score: 0.8614 Valid AUC score: 0.8367, STD: 0.0180\n"
     ]
    },
    {
     "name": "stderr",
     "output_type": "stream",
     "text": [
      "\u001b[32m[I 2024-08-18 19:12:59,065]\u001b[0m Trial 25 finished with value: 0.8317711023501835 and parameters: {'n_estimators': 2033, 'learning_rate': 0.13359383481078993, 'max_depth': 3, 'subsample': 0.6769543358735073, 'colsample_bytree': 0.5732695692463484, 'min_child_weight': 15, 'gamma': 3.1177444243723422, 'k': 2.0611293751944384, 'f': 5.88614973807621, 'smoothing': 19, 'missing': 16}. Best is trial 0 with value: 0.8379820910260047.\u001b[0m\n"
     ]
    },
    {
     "name": "stdout",
     "output_type": "stream",
     "text": [
      "Train AUC score: 0.8670 Valid AUC score: 0.8318, STD: 0.0139\n"
     ]
    },
    {
     "name": "stderr",
     "output_type": "stream",
     "text": [
      "\u001b[32m[I 2024-08-18 19:13:09,902]\u001b[0m Trial 26 finished with value: 0.825406056534096 and parameters: {'n_estimators': 1178, 'learning_rate': 0.04780042653476428, 'max_depth': 4, 'subsample': 0.9182638215048632, 'colsample_bytree': 0.7431713992566182, 'min_child_weight': 12, 'gamma': 7.662267910007777, 'k': 3.3477969536805463, 'f': 14.93476108083184, 'smoothing': 21, 'missing': 33}. Best is trial 0 with value: 0.8379820910260047.\u001b[0m\n"
     ]
    },
    {
     "name": "stdout",
     "output_type": "stream",
     "text": [
      "Train AUC score: 0.8463 Valid AUC score: 0.8254, STD: 0.0183\n"
     ]
    },
    {
     "name": "stderr",
     "output_type": "stream",
     "text": [
      "\u001b[32m[I 2024-08-18 19:13:20,391]\u001b[0m Trial 27 finished with value: 0.8354377654919499 and parameters: {'n_estimators': 801, 'learning_rate': 0.07352532494544856, 'max_depth': 2, 'subsample': 0.5796856561376135, 'colsample_bytree': 0.4347173022641335, 'min_child_weight': 6, 'gamma': 1.94866715400634, 'k': 4.307055627421486, 'f': 17.44053131396211, 'smoothing': 18, 'missing': 10}. Best is trial 0 with value: 0.8379820910260047.\u001b[0m\n"
     ]
    },
    {
     "name": "stdout",
     "output_type": "stream",
     "text": [
      "Train AUC score: 0.8529 Valid AUC score: 0.8354, STD: 0.0144\n"
     ]
    },
    {
     "name": "stderr",
     "output_type": "stream",
     "text": [
      "\u001b[32m[I 2024-08-18 19:13:31,176]\u001b[0m Trial 28 finished with value: 0.833833048944394 and parameters: {'n_estimators': 1668, 'learning_rate': 0.13664813557678712, 'max_depth': 5, 'subsample': 0.8283040331352974, 'colsample_bytree': 0.24750064414345235, 'min_child_weight': 19, 'gamma': 4.02917847550406, 'k': 3.040742062970456, 'f': 12.232189731207386, 'smoothing': 14, 'missing': 23}. Best is trial 0 with value: 0.8379820910260047.\u001b[0m\n"
     ]
    },
    {
     "name": "stdout",
     "output_type": "stream",
     "text": [
      "Train AUC score: 0.8666 Valid AUC score: 0.8338, STD: 0.0185\n"
     ]
    },
    {
     "name": "stderr",
     "output_type": "stream",
     "text": [
      "\u001b[32m[I 2024-08-18 19:13:43,674]\u001b[0m Trial 29 finished with value: 0.8379914960234333 and parameters: {'n_estimators': 2277, 'learning_rate': 0.16930932320144249, 'max_depth': 1, 'subsample': 0.3966771258760083, 'colsample_bytree': 0.1640640265834592, 'min_child_weight': 11, 'gamma': 5.928781158535099, 'k': 1.0640100808335542, 'f': 4.003780047904594, 'smoothing': 14, 'missing': 13}. Best is trial 29 with value: 0.8379914960234333.\u001b[0m\n"
     ]
    },
    {
     "name": "stdout",
     "output_type": "stream",
     "text": [
      "Train AUC score: 0.8393 Valid AUC score: 0.8380, STD: 0.0156\n"
     ]
    },
    {
     "name": "stderr",
     "output_type": "stream",
     "text": [
      "\u001b[32m[I 2024-08-18 19:13:52,606]\u001b[0m Trial 30 finished with value: 0.831774448833932 and parameters: {'n_estimators': 2362, 'learning_rate': 0.26078499209384765, 'max_depth': 6, 'subsample': 0.35572784816888725, 'colsample_bytree': 0.30515241640721763, 'min_child_weight': 10, 'gamma': 7.128544124446455, 'k': 2.1030242279961917, 'f': 33.426766455125936, 'smoothing': 13, 'missing': 11}. Best is trial 29 with value: 0.8379914960234333.\u001b[0m\n"
     ]
    },
    {
     "name": "stdout",
     "output_type": "stream",
     "text": [
      "Train AUC score: 0.8424 Valid AUC score: 0.8318, STD: 0.0179\n"
     ]
    },
    {
     "name": "stderr",
     "output_type": "stream",
     "text": [
      "\u001b[32m[I 2024-08-18 19:14:01,152]\u001b[0m Trial 31 finished with value: 0.8146610743421734 and parameters: {'n_estimators': 2172, 'learning_rate': 0.1397658559387046, 'max_depth': 1, 'subsample': 0.26139409967360155, 'colsample_bytree': 0.15759064079461543, 'min_child_weight': 13, 'gamma': 6.073248793835903, 'k': 3.480250739816877, 'f': 5.023537284786839, 'smoothing': 16, 'missing': 14}. Best is trial 29 with value: 0.8379914960234333.\u001b[0m\n"
     ]
    },
    {
     "name": "stdout",
     "output_type": "stream",
     "text": [
      "Train AUC score: 0.8149 Valid AUC score: 0.8147, STD: 0.0180\n"
     ]
    },
    {
     "name": "stderr",
     "output_type": "stream",
     "text": [
      "\u001b[32m[I 2024-08-18 19:14:09,730]\u001b[0m Trial 32 finished with value: 0.8324692011995489 and parameters: {'n_estimators': 1846, 'learning_rate': 0.18435797468432236, 'max_depth': 2, 'subsample': 0.4426237346753615, 'colsample_bytree': 0.16466628664703825, 'min_child_weight': 8, 'gamma': 4.882243996408427, 'k': 4.014098456325224, 'f': 7.825222124267972, 'smoothing': 13, 'missing': 17}. Best is trial 29 with value: 0.8379914960234333.\u001b[0m\n"
     ]
    },
    {
     "name": "stdout",
     "output_type": "stream",
     "text": [
      "Train AUC score: 0.8478 Valid AUC score: 0.8325, STD: 0.0135\n"
     ]
    },
    {
     "name": "stderr",
     "output_type": "stream",
     "text": [
      "\u001b[32m[I 2024-08-18 19:14:20,957]\u001b[0m Trial 33 finished with value: 0.8341995959167333 and parameters: {'n_estimators': 1558, 'learning_rate': 0.09316787751365789, 'max_depth': 1, 'subsample': 0.4235583775413687, 'colsample_bytree': 0.8967674076427878, 'min_child_weight': 13, 'gamma': 5.897321811289363, 'k': 2.9653264953700273, 'f': 3.819709913308936, 'smoothing': 19, 'missing': 5}. Best is trial 29 with value: 0.8379914960234333.\u001b[0m\n"
     ]
    },
    {
     "name": "stdout",
     "output_type": "stream",
     "text": [
      "Train AUC score: 0.8423 Valid AUC score: 0.8342, STD: 0.0172\n"
     ]
    },
    {
     "name": "stderr",
     "output_type": "stream",
     "text": [
      "\u001b[32m[I 2024-08-18 19:14:30,685]\u001b[0m Trial 34 finished with value: 0.8157030640800329 and parameters: {'n_estimators': 1140, 'learning_rate': 0.1490388755115693, 'max_depth': 2, 'subsample': 0.25790236215746015, 'colsample_bytree': 0.2409215859878219, 'min_child_weight': 15, 'gamma': 3.685755583416534, 'k': 1.104690539211037, 'f': 11.638965646417159, 'smoothing': 15, 'missing': 25}. Best is trial 29 with value: 0.8379914960234333.\u001b[0m\n"
     ]
    },
    {
     "name": "stdout",
     "output_type": "stream",
     "text": [
      "Train AUC score: 0.8246 Valid AUC score: 0.8157, STD: 0.0211\n"
     ]
    },
    {
     "name": "stderr",
     "output_type": "stream",
     "text": [
      "\u001b[32m[I 2024-08-18 19:14:42,867]\u001b[0m Trial 35 finished with value: 0.8306968163779154 and parameters: {'n_estimators': 463, 'learning_rate': 0.05696920737635038, 'max_depth': 3, 'subsample': 0.542919668028379, 'colsample_bytree': 0.3771901807848473, 'min_child_weight': 11, 'gamma': 8.31526567121382, 'k': 2.4135737826412287, 'f': 17.207520012536342, 'smoothing': 17, 'missing': 8}. Best is trial 29 with value: 0.8379914960234333.\u001b[0m\n"
     ]
    },
    {
     "name": "stdout",
     "output_type": "stream",
     "text": [
      "Train AUC score: 0.8418 Valid AUC score: 0.8307, STD: 0.0136\n"
     ]
    },
    {
     "name": "stderr",
     "output_type": "stream",
     "text": [
      "\u001b[32m[I 2024-08-18 19:14:52,028]\u001b[0m Trial 36 finished with value: 0.8316186832168905 and parameters: {'n_estimators': 2782, 'learning_rate': 0.11575837944714004, 'max_depth': 9, 'subsample': 0.6901654432032736, 'colsample_bytree': 0.6895642377073234, 'min_child_weight': 4, 'gamma': 6.6954240287689135, 'k': 3.876911914427161, 'f': 7.534416169659278, 'smoothing': 20, 'missing': 13}. Best is trial 29 with value: 0.8379914960234333.\u001b[0m\n"
     ]
    },
    {
     "name": "stdout",
     "output_type": "stream",
     "text": [
      "Train AUC score: 0.8716 Valid AUC score: 0.8316, STD: 0.0206\n"
     ]
    },
    {
     "name": "stderr",
     "output_type": "stream",
     "text": [
      "\u001b[32m[I 2024-08-18 19:14:59,530]\u001b[0m Trial 37 finished with value: 0.8195596433680923 and parameters: {'n_estimators': 990, 'learning_rate': 0.48334515673613393, 'max_depth': 7, 'subsample': 0.5041423698640779, 'colsample_bytree': 0.5531082990083113, 'min_child_weight': 7, 'gamma': 4.820113935684436, 'k': 4.650214777856815, 'f': 4.179267452808365, 'smoothing': 26, 'missing': 21}. Best is trial 29 with value: 0.8379914960234333.\u001b[0m\n"
     ]
    },
    {
     "name": "stdout",
     "output_type": "stream",
     "text": [
      "Train AUC score: 0.8502 Valid AUC score: 0.8196, STD: 0.0236\n"
     ]
    },
    {
     "name": "stderr",
     "output_type": "stream",
     "text": [
      "\u001b[32m[I 2024-08-18 19:15:17,228]\u001b[0m Trial 38 finished with value: 0.8249661199010841 and parameters: {'n_estimators': 800, 'learning_rate': 0.02510009701203743, 'max_depth': 1, 'subsample': 0.5895199281452818, 'colsample_bytree': 0.7753654923295854, 'min_child_weight': 14, 'gamma': 7.26273826056574, 'k': 2.830759889275474, 'f': 9.055426125755899, 'smoothing': 24, 'missing': 16}. Best is trial 29 with value: 0.8379914960234333.\u001b[0m\n"
     ]
    },
    {
     "name": "stdout",
     "output_type": "stream",
     "text": [
      "Train AUC score: 0.8281 Valid AUC score: 0.8250, STD: 0.0195\n"
     ]
    },
    {
     "name": "stderr",
     "output_type": "stream",
     "text": [
      "\u001b[32m[I 2024-08-18 19:15:25,529]\u001b[0m Trial 39 finished with value: 0.8385179488194658 and parameters: {'n_estimators': 2991, 'learning_rate': 0.29477696382312174, 'max_depth': 2, 'subsample': 0.8106475810248849, 'colsample_bytree': 0.4924734232564929, 'min_child_weight': 12, 'gamma': 3.787515652628702, 'k': 2.5936753485317654, 'f': 17.034602314030657, 'smoothing': 12, 'missing': 7}. Best is trial 39 with value: 0.8385179488194658.\u001b[0m\n"
     ]
    },
    {
     "name": "stdout",
     "output_type": "stream",
     "text": [
      "Train AUC score: 0.8676 Valid AUC score: 0.8385, STD: 0.0186\n"
     ]
    },
    {
     "name": "stderr",
     "output_type": "stream",
     "text": [
      "\u001b[32m[I 2024-08-18 19:15:33,206]\u001b[0m Trial 40 finished with value: 0.8317716544341354 and parameters: {'n_estimators': 2623, 'learning_rate': 0.3165314735983027, 'max_depth': 3, 'subsample': 0.8136064348743312, 'colsample_bytree': 0.5186504274985256, 'min_child_weight': 9, 'gamma': 3.704805106608009, 'k': 1.5350940779504663, 'f': 19.802792215089752, 'smoothing': 12, 'missing': 8}. Best is trial 39 with value: 0.8385179488194658.\u001b[0m\n"
     ]
    },
    {
     "name": "stdout",
     "output_type": "stream",
     "text": [
      "Train AUC score: 0.8643 Valid AUC score: 0.8318, STD: 0.0167\n"
     ]
    },
    {
     "name": "stderr",
     "output_type": "stream",
     "text": [
      "\u001b[32m[I 2024-08-18 19:15:44,942]\u001b[0m Trial 41 finished with value: 0.8391146895614849 and parameters: {'n_estimators': 2992, 'learning_rate': 0.20647194614081582, 'max_depth': 2, 'subsample': 0.9117761131326138, 'colsample_bytree': 0.4642281827943393, 'min_child_weight': 12, 'gamma': 4.584770124369323, 'k': 2.1196266061385605, 'f': 17.526788268634963, 'smoothing': 14, 'missing': 12}. Best is trial 41 with value: 0.8391146895614849.\u001b[0m\n"
     ]
    },
    {
     "name": "stdout",
     "output_type": "stream",
     "text": [
      "Train AUC score: 0.8642 Valid AUC score: 0.8391, STD: 0.0211\n"
     ]
    },
    {
     "name": "stderr",
     "output_type": "stream",
     "text": [
      "\u001b[32m[I 2024-08-18 19:15:53,874]\u001b[0m Trial 42 finished with value: 0.8359438628923275 and parameters: {'n_estimators': 2907, 'learning_rate': 0.21788800377020492, 'max_depth': 1, 'subsample': 0.7236274346016967, 'colsample_bytree': 0.48291882697459315, 'min_child_weight': 12, 'gamma': 5.541114669545388, 'k': 1.0124283320255065, 'f': 24.3714631461239, 'smoothing': 12, 'missing': 12}. Best is trial 41 with value: 0.8391146895614849.\u001b[0m\n"
     ]
    },
    {
     "name": "stdout",
     "output_type": "stream",
     "text": [
      "Train AUC score: 0.8453 Valid AUC score: 0.8359, STD: 0.0207\n"
     ]
    },
    {
     "name": "stderr",
     "output_type": "stream",
     "text": [
      "\u001b[32m[I 2024-08-18 19:16:02,010]\u001b[0m Trial 43 finished with value: 0.8380075800015554 and parameters: {'n_estimators': 2974, 'learning_rate': 0.2843590166053076, 'max_depth': 2, 'subsample': 0.9638624496322056, 'colsample_bytree': 0.6912264765643525, 'min_child_weight': 9, 'gamma': 3.09575853162864, 'k': 2.2130863006326686, 'f': 17.597479745981428, 'smoothing': 14, 'missing': 7}. Best is trial 41 with value: 0.8391146895614849.\u001b[0m\n"
     ]
    },
    {
     "name": "stdout",
     "output_type": "stream",
     "text": [
      "Train AUC score: 0.8708 Valid AUC score: 0.8380, STD: 0.0220\n"
     ]
    },
    {
     "name": "stderr",
     "output_type": "stream",
     "text": [
      "\u001b[32m[I 2024-08-18 19:16:10,285]\u001b[0m Trial 44 finished with value: 0.8369599253544597 and parameters: {'n_estimators': 2964, 'learning_rate': 0.2879831559871449, 'max_depth': 2, 'subsample': 0.9155432756129809, 'colsample_bytree': 0.702669628236797, 'min_child_weight': 9, 'gamma': 1.4841937787122297, 'k': 2.064569771665189, 'f': 17.642953922008964, 'smoothing': 14, 'missing': 5}. Best is trial 41 with value: 0.8391146895614849.\u001b[0m\n"
     ]
    },
    {
     "name": "stdout",
     "output_type": "stream",
     "text": [
      "Train AUC score: 0.8710 Valid AUC score: 0.8370, STD: 0.0185\n"
     ]
    },
    {
     "name": "stderr",
     "output_type": "stream",
     "text": [
      "\u001b[32m[I 2024-08-18 19:16:17,718]\u001b[0m Trial 45 finished with value: 0.8288275636922657 and parameters: {'n_estimators': 2706, 'learning_rate': 0.4045331511486169, 'max_depth': 4, 'subsample': 0.9838823789863131, 'colsample_bytree': 0.9149117185586693, 'min_child_weight': 7, 'gamma': 2.4236681049122204, 'k': 2.675332519217809, 'f': 21.029313879880632, 'smoothing': 11, 'missing': 8}. Best is trial 41 with value: 0.8391146895614849.\u001b[0m\n"
     ]
    },
    {
     "name": "stdout",
     "output_type": "stream",
     "text": [
      "Train AUC score: 0.8836 Valid AUC score: 0.8288, STD: 0.0160\n"
     ]
    },
    {
     "name": "stderr",
     "output_type": "stream",
     "text": [
      "\u001b[32m[I 2024-08-18 19:16:25,609]\u001b[0m Trial 46 finished with value: 0.8346085902435615 and parameters: {'n_estimators': 2435, 'learning_rate': 0.3747385757829253, 'max_depth': 3, 'subsample': 0.9384113496191749, 'colsample_bytree': 0.3458778674829297, 'min_child_weight': 11, 'gamma': 2.7261244799649047, 'k': 2.2468191030734443, 'f': 15.712104154612815, 'smoothing': 14, 'missing': 44}. Best is trial 41 with value: 0.8391146895614849.\u001b[0m\n"
     ]
    },
    {
     "name": "stdout",
     "output_type": "stream",
     "text": [
      "Train AUC score: 0.8881 Valid AUC score: 0.8346, STD: 0.0193\n"
     ]
    },
    {
     "name": "stderr",
     "output_type": "stream",
     "text": [
      "\u001b[32m[I 2024-08-18 19:16:34,383]\u001b[0m Trial 47 finished with value: 0.8366114692409603 and parameters: {'n_estimators': 2993, 'learning_rate': 0.16873428398870655, 'max_depth': 2, 'subsample': 0.9971179117498895, 'colsample_bytree': 0.9853086988733898, 'min_child_weight': 2, 'gamma': 3.1621498174601332, 'k': 1.7425349664724161, 'f': 23.395778309584106, 'smoothing': 11, 'missing': 7}. Best is trial 41 with value: 0.8391146895614849.\u001b[0m\n"
     ]
    },
    {
     "name": "stdout",
     "output_type": "stream",
     "text": [
      "Train AUC score: 0.8710 Valid AUC score: 0.8366, STD: 0.0183\n"
     ]
    },
    {
     "name": "stderr",
     "output_type": "stream",
     "text": [
      "\u001b[32m[I 2024-08-18 19:16:43,307]\u001b[0m Trial 48 finished with value: 0.835983096327511 and parameters: {'n_estimators': 2474, 'learning_rate': 0.20200991403399657, 'max_depth': 4, 'subsample': 0.95853947257834, 'colsample_bytree': 0.085415195068334, 'min_child_weight': 13, 'gamma': 1.5206781318451572, 'k': 2.4891914080754862, 'f': 18.89411914309679, 'smoothing': 13, 'missing': 10}. Best is trial 41 with value: 0.8391146895614849.\u001b[0m\n"
     ]
    },
    {
     "name": "stdout",
     "output_type": "stream",
     "text": [
      "Train AUC score: 0.8860 Valid AUC score: 0.8360, STD: 0.0193\n"
     ]
    },
    {
     "name": "stderr",
     "output_type": "stream",
     "text": [
      "\u001b[32m[I 2024-08-18 19:16:56,332]\u001b[0m Trial 49 finished with value: 0.8264602391269662 and parameters: {'n_estimators': 2820, 'learning_rate': 0.013638833435786176, 'max_depth': 3, 'subsample': 0.8667421298772613, 'colsample_bytree': 0.48480962286178736, 'min_child_weight': 10, 'gamma': 3.9130364168795526, 'k': 1.2208570508561716, 'f': 13.786944259826818, 'smoothing': 23, 'missing': 7}. Best is trial 41 with value: 0.8391146895614849.\u001b[0m\n"
     ]
    },
    {
     "name": "stdout",
     "output_type": "stream",
     "text": [
      "Train AUC score: 0.8461 Valid AUC score: 0.8265, STD: 0.0194\n"
     ]
    },
    {
     "name": "stderr",
     "output_type": "stream",
     "text": [
      "\u001b[32m[I 2024-08-18 19:17:05,434]\u001b[0m Trial 50 finished with value: 0.8385364459723899 and parameters: {'n_estimators': 2315, 'learning_rate': 0.29037708176723903, 'max_depth': 1, 'subsample': 0.7990154242941108, 'colsample_bytree': 0.833468880227526, 'min_child_weight': 4, 'gamma': 3.413749516155665, 'k': 1.7981687678835243, 'f': 22.078379039115156, 'smoothing': 12, 'missing': 29}. Best is trial 41 with value: 0.8391146895614849.\u001b[0m\n"
     ]
    },
    {
     "name": "stdout",
     "output_type": "stream",
     "text": [
      "Train AUC score: 0.8589 Valid AUC score: 0.8385, STD: 0.0213\n"
     ]
    },
    {
     "name": "stderr",
     "output_type": "stream",
     "text": [
      "\u001b[32m[I 2024-08-18 19:17:15,934]\u001b[0m Trial 51 finished with value: 0.8397346426165836 and parameters: {'n_estimators': 2284, 'learning_rate': 0.32226318669035403, 'max_depth': 1, 'subsample': 0.8223245619238463, 'colsample_bytree': 0.8438362046184491, 'min_child_weight': 4, 'gamma': 3.3605466739771477, 'k': 1.8697136892246744, 'f': 26.71668106371243, 'smoothing': 12, 'missing': 29}. Best is trial 51 with value: 0.8397346426165836.\u001b[0m\n"
     ]
    },
    {
     "name": "stdout",
     "output_type": "stream",
     "text": [
      "Train AUC score: 0.8512 Valid AUC score: 0.8397, STD: 0.0214\n"
     ]
    },
    {
     "name": "stderr",
     "output_type": "stream",
     "text": [
      "\u001b[32m[I 2024-08-18 19:17:24,930]\u001b[0m Trial 52 finished with value: 0.8417344671047582 and parameters: {'n_estimators': 2248, 'learning_rate': 0.28261082351645667, 'max_depth': 1, 'subsample': 0.7994394145580069, 'colsample_bytree': 0.8645398215892203, 'min_child_weight': 5, 'gamma': 3.368602550641483, 'k': 1.8135107342945935, 'f': 26.567947289214946, 'smoothing': 12, 'missing': 29}. Best is trial 52 with value: 0.8417344671047582.\u001b[0m\n"
     ]
    },
    {
     "name": "stdout",
     "output_type": "stream",
     "text": [
      "Train AUC score: 0.8576 Valid AUC score: 0.8417, STD: 0.0229\n"
     ]
    },
    {
     "name": "stderr",
     "output_type": "stream",
     "text": [
      "\u001b[32m[I 2024-08-18 19:17:33,728]\u001b[0m Trial 53 finished with value: 0.8422219217597385 and parameters: {'n_estimators': 2624, 'learning_rate': 0.3276385858799709, 'max_depth': 1, 'subsample': 0.8133932420501181, 'colsample_bytree': 0.8522043673517928, 'min_child_weight': 4, 'gamma': 3.3845940011540527, 'k': 1.8283437301081713, 'f': 26.865671429737848, 'smoothing': 10, 'missing': 29}. Best is trial 53 with value: 0.8422219217597385.\u001b[0m\n"
     ]
    },
    {
     "name": "stdout",
     "output_type": "stream",
     "text": [
      "Train AUC score: 0.8565 Valid AUC score: 0.8422, STD: 0.0204\n"
     ]
    },
    {
     "name": "stderr",
     "output_type": "stream",
     "text": [
      "\u001b[32m[I 2024-08-18 19:17:42,376]\u001b[0m Trial 54 finished with value: 0.8392352367173446 and parameters: {'n_estimators': 2554, 'learning_rate': 0.336653492874984, 'max_depth': 1, 'subsample': 0.8011116636229715, 'colsample_bytree': 0.8682494199042511, 'min_child_weight': 4, 'gamma': 3.449530943993385, 'k': 1.7483401090621877, 'f': 27.11029582605974, 'smoothing': 10, 'missing': 31}. Best is trial 53 with value: 0.8422219217597385.\u001b[0m\n"
     ]
    },
    {
     "name": "stdout",
     "output_type": "stream",
     "text": [
      "Train AUC score: 0.8551 Valid AUC score: 0.8392, STD: 0.0204\n"
     ]
    },
    {
     "name": "stderr",
     "output_type": "stream",
     "text": [
      "\u001b[32m[I 2024-08-18 19:17:50,465]\u001b[0m Trial 55 finished with value: 0.8395649299568513 and parameters: {'n_estimators': 2529, 'learning_rate': 0.4466551006281763, 'max_depth': 1, 'subsample': 0.7935154244250495, 'colsample_bytree': 0.8571418767588534, 'min_child_weight': 4, 'gamma': 3.411838715639723, 'k': 1.7648932578242609, 'f': 27.166313828712852, 'smoothing': 10, 'missing': 29}. Best is trial 53 with value: 0.8422219217597385.\u001b[0m\n"
     ]
    },
    {
     "name": "stdout",
     "output_type": "stream",
     "text": [
      "Train AUC score: 0.8544 Valid AUC score: 0.8396, STD: 0.0201\n"
     ]
    },
    {
     "name": "stderr",
     "output_type": "stream",
     "text": [
      "\u001b[32m[I 2024-08-18 19:17:58,635]\u001b[0m Trial 56 finished with value: 0.8416498527522336 and parameters: {'n_estimators': 2592, 'learning_rate': 0.495037065414964, 'max_depth': 1, 'subsample': 0.855060842860972, 'colsample_bytree': 0.8610509298250907, 'min_child_weight': 4, 'gamma': 2.8151131437980244, 'k': 1.598855938633761, 'f': 27.383054195926356, 'smoothing': 10, 'missing': 35}. Best is trial 53 with value: 0.8422219217597385.\u001b[0m\n"
     ]
    },
    {
     "name": "stdout",
     "output_type": "stream",
     "text": [
      "Train AUC score: 0.8571 Valid AUC score: 0.8416, STD: 0.0201\n"
     ]
    },
    {
     "name": "stderr",
     "output_type": "stream",
     "text": [
      "\u001b[32m[I 2024-08-18 19:18:06,796]\u001b[0m Trial 57 finished with value: 0.838739267454699 and parameters: {'n_estimators': 2534, 'learning_rate': 0.47984850749910835, 'max_depth': 1, 'subsample': 0.8625288785895727, 'colsample_bytree': 0.8737639863324931, 'min_child_weight': 4, 'gamma': 2.2854081266076824, 'k': 1.540935260858888, 'f': 27.32553164768351, 'smoothing': 10, 'missing': 36}. Best is trial 53 with value: 0.8422219217597385.\u001b[0m\n"
     ]
    },
    {
     "name": "stdout",
     "output_type": "stream",
     "text": [
      "Train AUC score: 0.8572 Valid AUC score: 0.8387, STD: 0.0175\n"
     ]
    },
    {
     "name": "stderr",
     "output_type": "stream",
     "text": [
      "\u001b[32m[I 2024-08-18 19:18:15,207]\u001b[0m Trial 58 finished with value: 0.8402364625647996 and parameters: {'n_estimators': 2201, 'learning_rate': 0.35258173281224675, 'max_depth': 1, 'subsample': 0.7522721575129835, 'colsample_bytree': 0.8005835519951672, 'min_child_weight': 5, 'gamma': 2.7909403331321885, 'k': 1.382562649492075, 'f': 31.273025724029484, 'smoothing': 10, 'missing': 31}. Best is trial 53 with value: 0.8422219217597385.\u001b[0m\n"
     ]
    },
    {
     "name": "stdout",
     "output_type": "stream",
     "text": [
      "Train AUC score: 0.8556 Valid AUC score: 0.8402, STD: 0.0204\n"
     ]
    },
    {
     "name": "stderr",
     "output_type": "stream",
     "text": [
      "\u001b[32m[I 2024-08-18 19:18:26,407]\u001b[0m Trial 59 finished with value: 0.840847029769727 and parameters: {'n_estimators': 2195, 'learning_rate': 0.4221978780887805, 'max_depth': 1, 'subsample': 0.7568522854234041, 'colsample_bytree': 0.9400629615701177, 'min_child_weight': 5, 'gamma': 2.802650853487577, 'k': 1.374607601154044, 'f': 31.18452345807707, 'smoothing': 11, 'missing': 29}. Best is trial 53 with value: 0.8422219217597385.\u001b[0m\n"
     ]
    },
    {
     "name": "stdout",
     "output_type": "stream",
     "text": [
      "Train AUC score: 0.8548 Valid AUC score: 0.8408, STD: 0.0227\n"
     ]
    },
    {
     "name": "stderr",
     "output_type": "stream",
     "text": [
      "\u001b[32m[I 2024-08-18 19:18:36,482]\u001b[0m Trial 60 finished with value: 0.8423182147548482 and parameters: {'n_estimators': 2212, 'learning_rate': 0.373343868093484, 'max_depth': 1, 'subsample': 0.7536925169889097, 'colsample_bytree': 0.9463628292966336, 'min_child_weight': 5, 'gamma': 2.7996331382121045, 'k': 1.3404209072201638, 'f': 31.411778831043513, 'smoothing': 11, 'missing': 33}. Best is trial 60 with value: 0.8423182147548482.\u001b[0m\n"
     ]
    },
    {
     "name": "stdout",
     "output_type": "stream",
     "text": [
      "Train AUC score: 0.8583 Valid AUC score: 0.8423, STD: 0.0179\n"
     ]
    },
    {
     "name": "stderr",
     "output_type": "stream",
     "text": [
      "\u001b[32m[I 2024-08-18 19:18:44,957]\u001b[0m Trial 61 finished with value: 0.8422095955507076 and parameters: {'n_estimators': 2142, 'learning_rate': 0.37101140306979086, 'max_depth': 1, 'subsample': 0.7530164184603724, 'colsample_bytree': 0.9491709581760281, 'min_child_weight': 5, 'gamma': 2.80482161187652, 'k': 1.3265546715252745, 'f': 31.298506176520615, 'smoothing': 11, 'missing': 33}. Best is trial 60 with value: 0.8423182147548482.\u001b[0m\n"
     ]
    },
    {
     "name": "stdout",
     "output_type": "stream",
     "text": [
      "Train AUC score: 0.8565 Valid AUC score: 0.8422, STD: 0.0178\n"
     ]
    },
    {
     "name": "stderr",
     "output_type": "stream",
     "text": [
      "\u001b[32m[I 2024-08-18 19:18:53,768]\u001b[0m Trial 62 finished with value: 0.8414467480371524 and parameters: {'n_estimators': 2046, 'learning_rate': 0.3897487446702111, 'max_depth': 1, 'subsample': 0.754774659429584, 'colsample_bytree': 0.9405302006157854, 'min_child_weight': 6, 'gamma': 2.745996593875501, 'k': 1.368358106552546, 'f': 31.350885695116894, 'smoothing': 11, 'missing': 34}. Best is trial 60 with value: 0.8423182147548482.\u001b[0m\n"
     ]
    },
    {
     "name": "stdout",
     "output_type": "stream",
     "text": [
      "Train AUC score: 0.8568 Valid AUC score: 0.8414, STD: 0.0197\n"
     ]
    },
    {
     "name": "stderr",
     "output_type": "stream",
     "text": [
      "\u001b[32m[I 2024-08-18 19:19:02,493]\u001b[0m Trial 63 finished with value: 0.8427687722502268 and parameters: {'n_estimators': 2084, 'learning_rate': 0.390847220586157, 'max_depth': 1, 'subsample': 0.7113433792242354, 'colsample_bytree': 0.9489136845832957, 'min_child_weight': 6, 'gamma': 2.0270445702227686, 'k': 1.409909059587222, 'f': 30.974750642190024, 'smoothing': 11, 'missing': 34}. Best is trial 63 with value: 0.8427687722502268.\u001b[0m\n"
     ]
    },
    {
     "name": "stdout",
     "output_type": "stream",
     "text": [
      "Train AUC score: 0.8579 Valid AUC score: 0.8428, STD: 0.0238\n"
     ]
    },
    {
     "name": "stderr",
     "output_type": "stream",
     "text": [
      "\u001b[32m[I 2024-08-18 19:19:10,387]\u001b[0m Trial 64 finished with value: 0.8385069183637087 and parameters: {'n_estimators': 2085, 'learning_rate': 0.3865084369573938, 'max_depth': 2, 'subsample': 0.6989489583568874, 'colsample_bytree': 0.9596216016473224, 'min_child_weight': 6, 'gamma': 2.0054764969643175, 'k': 1.319804929267023, 'f': 36.372693512332546, 'smoothing': 11, 'missing': 35}. Best is trial 63 with value: 0.8427687722502268.\u001b[0m\n"
     ]
    },
    {
     "name": "stdout",
     "output_type": "stream",
     "text": [
      "Train AUC score: 0.8667 Valid AUC score: 0.8385, STD: 0.0216\n"
     ]
    },
    {
     "name": "stderr",
     "output_type": "stream",
     "text": [
      "\u001b[32m[I 2024-08-18 19:19:19,068]\u001b[0m Trial 65 finished with value: 0.8417583761636894 and parameters: {'n_estimators': 1837, 'learning_rate': 0.24700741204790647, 'max_depth': 1, 'subsample': 0.6502112885525633, 'colsample_bytree': 0.9226280739684898, 'min_child_weight': 2, 'gamma': 1.8083718403284268, 'k': 1.630062778190707, 'f': 29.574918886444586, 'smoothing': 11, 'missing': 33}. Best is trial 63 with value: 0.8427687722502268.\u001b[0m\n"
     ]
    },
    {
     "name": "stdout",
     "output_type": "stream",
     "text": [
      "Train AUC score: 0.8523 Valid AUC score: 0.8418, STD: 0.0181\n"
     ]
    },
    {
     "name": "stderr",
     "output_type": "stream",
     "text": [
      "\u001b[32m[I 2024-08-18 19:19:30,760]\u001b[0m Trial 66 finished with value: 0.8380128520113278 and parameters: {'n_estimators': 1910, 'learning_rate': 0.26467442692583226, 'max_depth': 2, 'subsample': 0.6233044315498563, 'colsample_bytree': 0.9959537363552791, 'min_child_weight': 2, 'gamma': 1.575174839827684, 'k': 1.6057191253120888, 'f': 29.443583061376344, 'smoothing': 11, 'missing': 39}. Best is trial 63 with value: 0.8427687722502268.\u001b[0m\n"
     ]
    },
    {
     "name": "stdout",
     "output_type": "stream",
     "text": [
      "Train AUC score: 0.8735 Valid AUC score: 0.8380, STD: 0.0167\n"
     ]
    },
    {
     "name": "stderr",
     "output_type": "stream",
     "text": [
      "\u001b[32m[I 2024-08-18 19:19:40,405]\u001b[0m Trial 67 finished with value: 0.8419846276287084 and parameters: {'n_estimators': 1860, 'learning_rate': 0.24262665977736012, 'max_depth': 1, 'subsample': 0.6660209625939859, 'colsample_bytree': 0.9047693781096631, 'min_child_weight': 3, 'gamma': 2.09373930800518, 'k': 1.9438975279866801, 'f': 34.40543808240603, 'smoothing': 13, 'missing': 38}. Best is trial 63 with value: 0.8427687722502268.\u001b[0m\n"
     ]
    },
    {
     "name": "stdout",
     "output_type": "stream",
     "text": [
      "Train AUC score: 0.8564 Valid AUC score: 0.8420, STD: 0.0201\n"
     ]
    },
    {
     "name": "stderr",
     "output_type": "stream",
     "text": [
      "\u001b[32m[I 2024-08-18 19:19:49,680]\u001b[0m Trial 68 finished with value: 0.8409960318084728 and parameters: {'n_estimators': 1755, 'learning_rate': 0.2366030649420807, 'max_depth': 1, 'subsample': 0.6472231251782131, 'colsample_bytree': 0.9107537431465401, 'min_child_weight': 1, 'gamma': 1.0212512617761167, 'k': 1.9133792501800082, 'f': 33.39493057504248, 'smoothing': 13, 'missing': 37}. Best is trial 63 with value: 0.8427687722502268.\u001b[0m\n"
     ]
    },
    {
     "name": "stdout",
     "output_type": "stream",
     "text": [
      "Train AUC score: 0.8571 Valid AUC score: 0.8410, STD: 0.0165\n"
     ]
    },
    {
     "name": "stderr",
     "output_type": "stream",
     "text": [
      "\u001b[32m[I 2024-08-18 19:19:58,096]\u001b[0m Trial 69 finished with value: 0.8393746402839458 and parameters: {'n_estimators': 1973, 'learning_rate': 0.2563967102709665, 'max_depth': 2, 'subsample': 0.652170875624433, 'colsample_bytree': 0.9701668948725282, 'min_child_weight': 3, 'gamma': 2.11858962937053, 'k': 1.1998217028903815, 'f': 35.06770440362988, 'smoothing': 13, 'missing': 40}. Best is trial 63 with value: 0.8427687722502268.\u001b[0m\n"
     ]
    },
    {
     "name": "stdout",
     "output_type": "stream",
     "text": [
      "Train AUC score: 0.8701 Valid AUC score: 0.8394, STD: 0.0208\n"
     ]
    },
    {
     "name": "stderr",
     "output_type": "stream",
     "text": [
      "\u001b[32m[I 2024-08-18 19:20:06,126]\u001b[0m Trial 70 finished with value: 0.8225540417660617 and parameters: {'n_estimators': 1845, 'learning_rate': 0.3246475013066305, 'max_depth': 8, 'subsample': 0.7209316821637308, 'colsample_bytree': 0.924524881845475, 'min_child_weight': 2, 'gamma': 2.440209073819166, 'k': 1.9707744118555535, 'f': 39.3233066146216, 'smoothing': 12, 'missing': 32}. Best is trial 63 with value: 0.8427687722502268.\u001b[0m\n"
     ]
    },
    {
     "name": "stdout",
     "output_type": "stream",
     "text": [
      "Train AUC score: 0.9348 Valid AUC score: 0.8226, STD: 0.0143\n"
     ]
    },
    {
     "name": "stderr",
     "output_type": "stream",
     "text": [
      "\u001b[32m[I 2024-08-18 19:20:14,641]\u001b[0m Trial 71 finished with value: 0.8363176264067242 and parameters: {'n_estimators': 2120, 'learning_rate': 0.4948089078230966, 'max_depth': 1, 'subsample': 0.6957265231384662, 'colsample_bytree': 0.8869689221618465, 'min_child_weight': 3, 'gamma': 1.8533419671150364, 'k': 1.6374597519115035, 'f': 29.521457359429824, 'smoothing': 10, 'missing': 33}. Best is trial 63 with value: 0.8427687722502268.\u001b[0m\n"
     ]
    },
    {
     "name": "stdout",
     "output_type": "stream",
     "text": [
      "Train AUC score: 0.8548 Valid AUC score: 0.8363, STD: 0.0252\n"
     ]
    },
    {
     "name": "stderr",
     "output_type": "stream",
     "text": [
      "\u001b[32m[I 2024-08-18 19:20:26,060]\u001b[0m Trial 72 finished with value: 0.8388205687395278 and parameters: {'n_estimators': 2365, 'learning_rate': 0.4316554684498423, 'max_depth': 1, 'subsample': 0.6633357650285456, 'colsample_bytree': 0.7507713540590746, 'min_child_weight': 3, 'gamma': 3.0561953356090172, 'k': 1.2190496396446073, 'f': 32.30246994760523, 'smoothing': 11, 'missing': 42}. Best is trial 63 with value: 0.8427687722502268.\u001b[0m\n"
     ]
    },
    {
     "name": "stdout",
     "output_type": "stream",
     "text": [
      "Train AUC score: 0.8561 Valid AUC score: 0.8388, STD: 0.0231\n"
     ]
    },
    {
     "name": "stderr",
     "output_type": "stream",
     "text": [
      "\u001b[32m[I 2024-08-18 19:20:36,010]\u001b[0m Trial 73 finished with value: 0.8386075619033084 and parameters: {'n_estimators': 1650, 'learning_rate': 0.36658587806175147, 'max_depth': 1, 'subsample': 0.6223070291741722, 'colsample_bytree': 0.8048822620948329, 'min_child_weight': 5, 'gamma': 1.7086126123288592, 'k': 1.4430985263675027, 'f': 25.896561143627927, 'smoothing': 10, 'missing': 36}. Best is trial 63 with value: 0.8427687722502268.\u001b[0m\n"
     ]
    },
    {
     "name": "stdout",
     "output_type": "stream",
     "text": [
      "Train AUC score: 0.8562 Valid AUC score: 0.8386, STD: 0.0228\n"
     ]
    },
    {
     "name": "stderr",
     "output_type": "stream",
     "text": [
      "\u001b[32m[I 2024-08-18 19:20:44,000]\u001b[0m Trial 74 finished with value: 0.8373865447739295 and parameters: {'n_estimators': 1999, 'learning_rate': 0.34699028619089856, 'max_depth': 2, 'subsample': 0.7785491331577913, 'colsample_bytree': 0.8946430085460236, 'min_child_weight': 7, 'gamma': 2.2241640261779025, 'k': 1.6430472074902625, 'f': 29.593725866587356, 'smoothing': 12, 'missing': 25}. Best is trial 63 with value: 0.8427687722502268.\u001b[0m\n"
     ]
    },
    {
     "name": "stdout",
     "output_type": "stream",
     "text": [
      "Train AUC score: 0.8684 Valid AUC score: 0.8374, STD: 0.0188\n"
     ]
    },
    {
     "name": "stderr",
     "output_type": "stream",
     "text": [
      "\u001b[32m[I 2024-08-18 19:20:52,197]\u001b[0m Trial 75 finished with value: 0.8397253768950075 and parameters: {'n_estimators': 1769, 'learning_rate': 0.43207502988013635, 'max_depth': 1, 'subsample': 0.5617910530697355, 'colsample_bytree': 0.8283440168444954, 'min_child_weight': 1, 'gamma': 1.2328943012323812, 'k': 1.4904237665177074, 'f': 35.38985265387733, 'smoothing': 11, 'missing': 34}. Best is trial 63 with value: 0.8427687722502268.\u001b[0m\n"
     ]
    },
    {
     "name": "stdout",
     "output_type": "stream",
     "text": [
      "Train AUC score: 0.8545 Valid AUC score: 0.8397, STD: 0.0219\n"
     ]
    },
    {
     "name": "stderr",
     "output_type": "stream",
     "text": [
      "\u001b[32m[I 2024-08-18 19:21:01,203]\u001b[0m Trial 76 finished with value: 0.8414531679235896 and parameters: {'n_estimators': 2664, 'learning_rate': 0.2551726557018231, 'max_depth': 1, 'subsample': 0.8475922789406574, 'colsample_bytree': 0.9584974153315083, 'min_child_weight': 3, 'gamma': 2.9240497467190103, 'k': 1.1619995249911803, 'f': 28.829406019137057, 'smoothing': 13, 'missing': 41}. Best is trial 63 with value: 0.8427687722502268.\u001b[0m\n"
     ]
    },
    {
     "name": "stdout",
     "output_type": "stream",
     "text": [
      "Train AUC score: 0.8546 Valid AUC score: 0.8415, STD: 0.0189\n"
     ]
    },
    {
     "name": "stderr",
     "output_type": "stream",
     "text": [
      "\u001b[32m[I 2024-08-18 19:21:09,654]\u001b[0m Trial 77 finished with value: 0.8350620607727743 and parameters: {'n_estimators': 2147, 'learning_rate': 0.2258000170196389, 'max_depth': 2, 'subsample': 0.7131217465580999, 'colsample_bytree': 0.7643117617703051, 'min_child_weight': 5, 'gamma': 2.4059469887672074, 'k': 1.6502936202210379, 'f': 25.222888644526925, 'smoothing': 10, 'missing': 38}. Best is trial 63 with value: 0.8427687722502268.\u001b[0m\n"
     ]
    },
    {
     "name": "stdout",
     "output_type": "stream",
     "text": [
      "Train AUC score: 0.8685 Valid AUC score: 0.8351, STD: 0.0207\n"
     ]
    },
    {
     "name": "stderr",
     "output_type": "stream",
     "text": [
      "\u001b[32m[I 2024-08-18 19:21:18,277]\u001b[0m Trial 78 finished with value: 0.8407126713785275 and parameters: {'n_estimators': 1865, 'learning_rate': 0.3046607439055306, 'max_depth': 1, 'subsample': 0.7376737970242835, 'colsample_bytree': 0.9304480156110061, 'min_child_weight': 6, 'gamma': 2.582932271975019, 'k': 1.302661021507885, 'f': 34.308516915093925, 'smoothing': 30, 'missing': 27}. Best is trial 63 with value: 0.8427687722502268.\u001b[0m\n"
     ]
    },
    {
     "name": "stdout",
     "output_type": "stream",
     "text": [
      "Train AUC score: 0.8532 Valid AUC score: 0.8407, STD: 0.0224\n"
     ]
    },
    {
     "name": "stderr",
     "output_type": "stream",
     "text": [
      "\u001b[32m[I 2024-08-18 19:21:26,465]\u001b[0m Trial 79 finished with value: 0.833485895436574 and parameters: {'n_estimators': 2743, 'learning_rate': 0.2706456685918714, 'max_depth': 2, 'subsample': 0.8856284269844881, 'colsample_bytree': 0.9984775716591489, 'min_child_weight': 5, 'gamma': 2.074951226039232, 'k': 1.9719268489948552, 'f': 36.85150344192324, 'smoothing': 12, 'missing': 33}. Best is trial 63 with value: 0.8427687722502268.\u001b[0m\n"
     ]
    },
    {
     "name": "stdout",
     "output_type": "stream",
     "text": [
      "Train AUC score: 0.8708 Valid AUC score: 0.8335, STD: 0.0215\n"
     ]
    },
    {
     "name": "stderr",
     "output_type": "stream",
     "text": [
      "\u001b[32m[I 2024-08-18 19:21:34,556]\u001b[0m Trial 80 finished with value: 0.8381675545749001 and parameters: {'n_estimators': 2391, 'learning_rate': 0.4495960199970214, 'max_depth': 1, 'subsample': 0.8406099633476787, 'colsample_bytree': 0.8995797535293147, 'min_child_weight': 2, 'gamma': 4.221633713567981, 'k': 1.4725554375464713, 'f': 30.42110641660729, 'smoothing': 11, 'missing': 31}. Best is trial 63 with value: 0.8427687722502268.\u001b[0m\n"
     ]
    },
    {
     "name": "stdout",
     "output_type": "stream",
     "text": [
      "Train AUC score: 0.8553 Valid AUC score: 0.8382, STD: 0.0186\n"
     ]
    },
    {
     "name": "stderr",
     "output_type": "stream",
     "text": [
      "\u001b[32m[I 2024-08-18 19:21:49,462]\u001b[0m Trial 81 finished with value: 0.8402304748875119 and parameters: {'n_estimators': 2622, 'learning_rate': 0.19038720218066826, 'max_depth': 1, 'subsample': 0.8510251050048011, 'colsample_bytree': 0.9499712506339267, 'min_child_weight': 3, 'gamma': 3.0553766980274917, 'k': 1.1430558761747565, 'f': 28.438382173623165, 'smoothing': 13, 'missing': 41}. Best is trial 63 with value: 0.8427687722502268.\u001b[0m\n"
     ]
    },
    {
     "name": "stdout",
     "output_type": "stream",
     "text": [
      "Train AUC score: 0.8612 Valid AUC score: 0.8402, STD: 0.0196\n"
     ]
    },
    {
     "name": "stderr",
     "output_type": "stream",
     "text": [
      "\u001b[32m[I 2024-08-18 19:21:57,905]\u001b[0m Trial 82 finished with value: 0.8389936491734054 and parameters: {'n_estimators': 2237, 'learning_rate': 0.37707618338871074, 'max_depth': 1, 'subsample': 0.7833683434768697, 'colsample_bytree': 0.9693184365819218, 'min_child_weight': 2, 'gamma': 1.839267149098262, 'k': 1.0038667083436796, 'f': 32.404908568425775, 'smoothing': 13, 'missing': 48}. Best is trial 63 with value: 0.8427687722502268.\u001b[0m\n"
     ]
    },
    {
     "name": "stdout",
     "output_type": "stream",
     "text": [
      "Train AUC score: 0.8593 Valid AUC score: 0.8390, STD: 0.0221\n"
     ]
    },
    {
     "name": "stderr",
     "output_type": "stream",
     "text": [
      "\u001b[32m[I 2024-08-18 19:22:06,951]\u001b[0m Trial 83 finished with value: 0.8393946778182098 and parameters: {'n_estimators': 1962, 'learning_rate': 0.24529300258542672, 'max_depth': 1, 'subsample': 0.8861291343389547, 'colsample_bytree': 0.8764009726808472, 'min_child_weight': 1, 'gamma': 2.887596063472218, 'k': 1.2597521967878251, 'f': 28.58083345159769, 'smoothing': 12, 'missing': 35}. Best is trial 63 with value: 0.8427687722502268.\u001b[0m\n"
     ]
    },
    {
     "name": "stdout",
     "output_type": "stream",
     "text": [
      "Train AUC score: 0.8555 Valid AUC score: 0.8394, STD: 0.0213\n"
     ]
    },
    {
     "name": "stderr",
     "output_type": "stream",
     "text": [
      "\u001b[32m[I 2024-08-18 19:22:14,737]\u001b[0m Trial 84 finished with value: 0.8372630376325665 and parameters: {'n_estimators': 2674, 'learning_rate': 0.3283806220615553, 'max_depth': 2, 'subsample': 0.6810338979406299, 'colsample_bytree': 0.9680436328175677, 'min_child_weight': 3, 'gamma': 1.3290723430191036, 'k': 1.6844416318748712, 'f': 23.931722305148906, 'smoothing': 10, 'missing': 43}. Best is trial 63 with value: 0.8427687722502268.\u001b[0m\n"
     ]
    },
    {
     "name": "stdout",
     "output_type": "stream",
     "text": [
      "Train AUC score: 0.8608 Valid AUC score: 0.8373, STD: 0.0208\n"
     ]
    },
    {
     "name": "stderr",
     "output_type": "stream",
     "text": [
      "\u001b[32m[I 2024-08-18 19:22:23,526]\u001b[0m Trial 85 finished with value: 0.8375613195849823 and parameters: {'n_estimators': 2083, 'learning_rate': 0.4926814322980713, 'max_depth': 1, 'subsample': 0.8339726057779604, 'colsample_bytree': 0.9110766202751835, 'min_child_weight': 4, 'gamma': 2.571282501057183, 'k': 1.1307932751436418, 'f': 25.852935902915195, 'smoothing': 15, 'missing': 38}. Best is trial 63 with value: 0.8427687722502268.\u001b[0m\n"
     ]
    },
    {
     "name": "stdout",
     "output_type": "stream",
     "text": [
      "Train AUC score: 0.8637 Valid AUC score: 0.8376, STD: 0.0195\n"
     ]
    },
    {
     "name": "stderr",
     "output_type": "stream",
     "text": [
      "\u001b[32m[I 2024-08-18 19:22:31,941]\u001b[0m Trial 86 finished with value: 0.8350110352214222 and parameters: {'n_estimators': 2852, 'learning_rate': 0.27714668669037534, 'max_depth': 2, 'subsample': 0.7363388843264875, 'colsample_bytree': 0.8530029158092411, 'min_child_weight': 6, 'gamma': 3.2422015179391446, 'k': 2.2502288016758345, 'f': 32.50604188619145, 'smoothing': 11, 'missing': 30}. Best is trial 63 with value: 0.8427687722502268.\u001b[0m\n"
     ]
    },
    {
     "name": "stdout",
     "output_type": "stream",
     "text": [
      "Train AUC score: 0.8736 Valid AUC score: 0.8350, STD: 0.0202\n"
     ]
    },
    {
     "name": "stderr",
     "output_type": "stream",
     "text": [
      "\u001b[32m[I 2024-08-18 19:22:44,885]\u001b[0m Trial 87 finished with value: 0.8416278702344971 and parameters: {'n_estimators': 1556, 'learning_rate': 0.22190403501761186, 'max_depth': 1, 'subsample': 0.7680616537623763, 'colsample_bytree': 0.8105786905817763, 'min_child_weight': 7, 'gamma': 2.9545570008068043, 'k': 1.4182649128248073, 'f': 30.598989165767314, 'smoothing': 13, 'missing': 27}. Best is trial 63 with value: 0.8427687722502268.\u001b[0m\n"
     ]
    },
    {
     "name": "stdout",
     "output_type": "stream",
     "text": [
      "Train AUC score: 0.8563 Valid AUC score: 0.8416, STD: 0.0214\n"
     ]
    },
    {
     "name": "stderr",
     "output_type": "stream",
     "text": [
      "\u001b[32m[I 2024-08-18 19:22:53,345]\u001b[0m Trial 88 finished with value: 0.8322779102576229 and parameters: {'n_estimators': 1465, 'learning_rate': 0.15871253035046812, 'max_depth': 7, 'subsample': 0.7730577104007734, 'colsample_bytree': 0.8096539166598158, 'min_child_weight': 7, 'gamma': 2.2341291756791444, 'k': 1.4393434916622305, 'f': 30.514106475568667, 'smoothing': 12, 'missing': 27}. Best is trial 63 with value: 0.8427687722502268.\u001b[0m\n"
     ]
    },
    {
     "name": "stdout",
     "output_type": "stream",
     "text": [
      "Train AUC score: 0.9003 Valid AUC score: 0.8323, STD: 0.0169\n"
     ]
    },
    {
     "name": "stderr",
     "output_type": "stream",
     "text": [
      "\u001b[32m[I 2024-08-18 19:23:03,237]\u001b[0m Trial 89 finished with value: 0.8403974941569846 and parameters: {'n_estimators': 1604, 'learning_rate': 0.20880933379215041, 'max_depth': 1, 'subsample': 0.696990407291462, 'colsample_bytree': 0.8246236422428994, 'min_child_weight': 8, 'gamma': 2.637009810398739, 'k': 1.8412607610634109, 'f': 29.96513645543069, 'smoothing': 11, 'missing': 24}. Best is trial 63 with value: 0.8427687722502268.\u001b[0m\n"
     ]
    },
    {
     "name": "stdout",
     "output_type": "stream",
     "text": [
      "Train AUC score: 0.8534 Valid AUC score: 0.8404, STD: 0.0190\n"
     ]
    },
    {
     "name": "stderr",
     "output_type": "stream",
     "text": [
      "\u001b[32m[I 2024-08-18 19:23:11,558]\u001b[0m Trial 90 finished with value: 0.8366969645647151 and parameters: {'n_estimators': 1344, 'learning_rate': 0.3063827785028497, 'max_depth': 2, 'subsample': 0.6649906838603351, 'colsample_bytree': 0.7848789725622932, 'min_child_weight': 5, 'gamma': 3.5681996819863033, 'k': 1.5601750517204445, 'f': 34.17674593296381, 'smoothing': 10, 'missing': 32}. Best is trial 63 with value: 0.8427687722502268.\u001b[0m\n"
     ]
    },
    {
     "name": "stdout",
     "output_type": "stream",
     "text": [
      "Train AUC score: 0.8672 Valid AUC score: 0.8367, STD: 0.0204\n"
     ]
    },
    {
     "name": "stderr",
     "output_type": "stream",
     "text": [
      "\u001b[32m[I 2024-08-18 19:23:21,135]\u001b[0m Trial 91 finished with value: 0.840969726325065 and parameters: {'n_estimators': 1536, 'learning_rate': 0.23118177547651092, 'max_depth': 1, 'subsample': 0.8118644027535491, 'colsample_bytree': 0.9305950644641077, 'min_child_weight': 3, 'gamma': 2.9477466310985467, 'k': 1.7178671162076955, 'f': 28.19251834585208, 'smoothing': 13, 'missing': 37}. Best is trial 63 with value: 0.8427687722502268.\u001b[0m\n"
     ]
    },
    {
     "name": "stdout",
     "output_type": "stream",
     "text": [
      "Train AUC score: 0.8516 Valid AUC score: 0.8410, STD: 0.0187\n"
     ]
    },
    {
     "name": "stderr",
     "output_type": "stream",
     "text": [
      "\u001b[32m[I 2024-08-18 19:23:29,808]\u001b[0m Trial 92 finished with value: 0.8416601453195052 and parameters: {'n_estimators': 1836, 'learning_rate': 0.4052502911435645, 'max_depth': 1, 'subsample': 0.7458657999930685, 'colsample_bytree': 0.866012887026914, 'min_child_weight': 4, 'gamma': 3.906351536861618, 'k': 1.31101949216028, 'f': 28.971657150166205, 'smoothing': 13, 'missing': 28}. Best is trial 63 with value: 0.8427687722502268.\u001b[0m\n"
     ]
    },
    {
     "name": "stdout",
     "output_type": "stream",
     "text": [
      "Train AUC score: 0.8593 Valid AUC score: 0.8417, STD: 0.0233\n"
     ]
    },
    {
     "name": "stderr",
     "output_type": "stream",
     "text": [
      "\u001b[32m[I 2024-08-18 19:23:38,243]\u001b[0m Trial 93 finished with value: 0.8402880312609572 and parameters: {'n_estimators': 1898, 'learning_rate': 0.3949886609470262, 'max_depth': 1, 'subsample': 0.6084069872062673, 'colsample_bytree': 0.8838417154813342, 'min_child_weight': 5, 'gamma': 3.9182122198452354, 'k': 1.5574411625376312, 'f': 31.747798190076427, 'smoothing': 15, 'missing': 28}. Best is trial 63 with value: 0.8427687722502268.\u001b[0m\n"
     ]
    },
    {
     "name": "stdout",
     "output_type": "stream",
     "text": [
      "Train AUC score: 0.8556 Valid AUC score: 0.8403, STD: 0.0215\n"
     ]
    },
    {
     "name": "stderr",
     "output_type": "stream",
     "text": [
      "\u001b[32m[I 2024-08-18 19:23:50,493]\u001b[0m Trial 94 finished with value: 0.8270471289575958 and parameters: {'n_estimators': 1822, 'learning_rate': 0.3503439575315317, 'max_depth': 9, 'subsample': 0.7449839609277202, 'colsample_bytree': 0.7137604802120849, 'min_child_weight': 6, 'gamma': 3.246171536001885, 'k': 1.9508763807536977, 'f': 26.06629282910069, 'smoothing': 12, 'missing': 26}. Best is trial 63 with value: 0.8427687722502268.\u001b[0m\n"
     ]
    },
    {
     "name": "stdout",
     "output_type": "stream",
     "text": [
      "Train AUC score: 0.9180 Valid AUC score: 0.8270, STD: 0.0189\n"
     ]
    },
    {
     "name": "stderr",
     "output_type": "stream",
     "text": [
      "\u001b[32m[I 2024-08-18 19:23:58,510]\u001b[0m Trial 95 finished with value: 0.8247322718815788 and parameters: {'n_estimators': 1692, 'learning_rate': 0.3506847984087352, 'max_depth': 6, 'subsample': 0.716241362220864, 'colsample_bytree': 0.8670955447703477, 'min_child_weight': 4, 'gamma': 3.652980115977254, 'k': 1.3097283708461684, 'f': 27.83259608954006, 'smoothing': 14, 'missing': 30}. Best is trial 63 with value: 0.8427687722502268.\u001b[0m\n"
     ]
    },
    {
     "name": "stdout",
     "output_type": "stream",
     "text": [
      "Train AUC score: 0.9025 Valid AUC score: 0.8247, STD: 0.0148\n"
     ]
    },
    {
     "name": "stderr",
     "output_type": "stream",
     "text": [
      "\u001b[32m[I 2024-08-18 19:24:06,751]\u001b[0m Trial 96 finished with value: 0.8401426489280158 and parameters: {'n_estimators': 1780, 'learning_rate': 0.41870543706195257, 'max_depth': 1, 'subsample': 0.766287430397686, 'colsample_bytree': 0.8435879640823499, 'min_child_weight': 4, 'gamma': 2.3117017902478194, 'k': 1.4299527113027952, 'f': 30.40000612956447, 'smoothing': 11, 'missing': 34}. Best is trial 63 with value: 0.8427687722502268.\u001b[0m\n"
     ]
    },
    {
     "name": "stdout",
     "output_type": "stream",
     "text": [
      "Train AUC score: 0.8552 Valid AUC score: 0.8401, STD: 0.0219\n"
     ]
    },
    {
     "name": "stderr",
     "output_type": "stream",
     "text": [
      "\u001b[32m[I 2024-08-18 19:24:14,394]\u001b[0m Trial 97 finished with value: 0.8306119101354639 and parameters: {'n_estimators': 2459, 'learning_rate': 0.4649158524417854, 'max_depth': 5, 'subsample': 0.7941357411495696, 'colsample_bytree': 0.9210142117594334, 'min_child_weight': 7, 'gamma': 1.6906117053271328, 'k': 1.8154990549141397, 'f': 32.90775602249976, 'smoothing': 12, 'missing': 32}. Best is trial 63 with value: 0.8427687722502268.\u001b[0m\n"
     ]
    },
    {
     "name": "stdout",
     "output_type": "stream",
     "text": [
      "Train AUC score: 0.8785 Valid AUC score: 0.8306, STD: 0.0149\n"
     ]
    },
    {
     "name": "stderr",
     "output_type": "stream",
     "text": [
      "\u001b[32m[I 2024-08-18 19:24:22,940]\u001b[0m Trial 98 finished with value: 0.8407609788089211 and parameters: {'n_estimators': 2020, 'learning_rate': 0.3084288814720832, 'max_depth': 1, 'subsample': 0.7084602544543959, 'colsample_bytree': 0.9797760863219621, 'min_child_weight': 5, 'gamma': 5.293396217670271, 'k': 1.0801510675295707, 'f': 34.14270653794263, 'smoothing': 10, 'missing': 30}. Best is trial 63 with value: 0.8427687722502268.\u001b[0m\n"
     ]
    },
    {
     "name": "stdout",
     "output_type": "stream",
     "text": [
      "Train AUC score: 0.8502 Valid AUC score: 0.8408, STD: 0.0218\n"
     ]
    },
    {
     "name": "stderr",
     "output_type": "stream",
     "text": [
      "\u001b[32m[I 2024-08-18 19:24:33,268]\u001b[0m Trial 99 finished with value: 0.8245292212243653 and parameters: {'n_estimators': 2241, 'learning_rate': 0.010025055237076547, 'max_depth': 2, 'subsample': 0.1648223321591178, 'colsample_bytree': 0.901896068636985, 'min_child_weight': 6, 'gamma': 3.4921577612089876, 'k': 1.4981639158788373, 'f': 24.842306339101135, 'smoothing': 11, 'missing': 28}. Best is trial 63 with value: 0.8427687722502268.\u001b[0m\n"
     ]
    },
    {
     "name": "stdout",
     "output_type": "stream",
     "text": [
      "Train AUC score: 0.8295 Valid AUC score: 0.8245, STD: 0.0210\n",
      "Best hyperparameters: {'n_estimators': 2084, 'learning_rate': 0.390847220586157, 'max_depth': 1, 'subsample': 0.7113433792242354, 'colsample_bytree': 0.9489136845832957, 'min_child_weight': 6, 'gamma': 2.0270445702227686, 'k': 1.409909059587222, 'f': 30.974750642190024, 'smoothing': 11, 'missing': 34}\n",
      "Best auc: 0.8427687722502268\n"
     ]
    }
   ],
   "source": [
    "sampler = optuna.samplers.TPESampler(seed=SEED)\n",
    "study = optuna.create_study(study_name=\"target_enc\", direction='maximize', sampler=sampler)\n",
    "\n",
    "study.optimize(objective,  n_trials=100)\n",
    "\n",
    "\n",
    "# log best hyperparameters\n",
    "\n",
    "print('Best hyperparameters:', study.best_params)\n",
    "print('Best auc:', study.best_value)"
   ]
  },
  {
   "cell_type": "code",
   "execution_count": 18,
   "id": "3855f16e",
   "metadata": {},
   "outputs": [],
   "source": [
    "# te cv svc\n",
    "# Train AUC score: 0.8142 Valid AUC score: 0.8176, STD: 0.0199\n",
    "# Best hyperparameters: {'n_estimators': 2009, 'learning_rate': 0.016296991864927442, 'max_depth': 9, 'subsample': 0.05042111617444048, 'colsample_bytree': 0.06484362645859659, 'min_child_weight': 3, 'C': 0.7581899882382325, 'kernel': 'poly', 'gamma': 'auto'}\n",
    "# Best auc: 0.8181595470452624"
   ]
  },
  {
   "cell_type": "code",
   "execution_count": 19,
   "id": "7f6c5830",
   "metadata": {},
   "outputs": [],
   "source": [
    "# te xgbcv\n",
    "# Train AUC score: 0.8523 Valid AUC score: 0.8219, STD: 0.0157\n",
    "# Best hyperparameters: {'n_estimators': 1053, 'learning_rate': 0.00924892081713675, 'max_depth': 2, 'subsample': 0.6353394948682476, 'colsample_bytree': 0.31149632335611505, 'min_child_weight': 20, 'k': 1.8476080861393709, 'f': 39.789076849724836}\n",
    "# Best auc: 0.8222792136528799"
   ]
  },
  {
   "cell_type": "code",
   "execution_count": 20,
   "id": "7bbcd94b",
   "metadata": {},
   "outputs": [],
   "source": [
    "# te logcv\n",
    "# Train AUC score: 0.8091 Valid AUC score: 0.8163, STD: 0.0202\n",
    "# Best hyperparameters: {'tol': 0.000927656829384099, 'C': 0.9770426896378136, 'k': 4.999819234730798, 'f': 15.849155918716843}\n",
    "# Best auc: 0.8181871312778259"
   ]
  },
  {
   "cell_type": "code",
   "execution_count": 21,
   "id": "42d9cc04",
   "metadata": {},
   "outputs": [],
   "source": [
    "# te log \n",
    "# Train AUC score: 0.8203 Valid AUC score: 0.8163, STD: 0.0205\n",
    "# Best hyperparameters: {'tol': 0.0006295537850716717, 'C': 0.9770426896378136, 'k': 3.1823537908091675, 'f': 6.260977899097072}\n",
    "# Best auc: 0.8180713757019558"
   ]
  },
  {
   "cell_type": "code",
   "execution_count": 22,
   "id": "fbd762c6",
   "metadata": {},
   "outputs": [],
   "source": [
    "# te xgb\n",
    "# Train AUC score: 0.8325 Valid AUC score: 0.8226, STD: 0.0188\n",
    "# Best hyperparameters: {'n_estimators': 528, 'learning_rate': 0.018768615971126633, 'max_depth': 1, 'subsample': 0.6180301820309303, 'colsample_bytree': 0.9416678672737021, 'min_child_weight': 3, 'k': 1.0066440986321976, 'f': 32.993278929948644}\n",
    "# Best auc: 0.8244982191076768"
   ]
  },
  {
   "cell_type": "code",
   "execution_count": 23,
   "id": "0e3bf506",
   "metadata": {},
   "outputs": [],
   "source": [
    "# teCV xgb\n",
    "# Best hyperparameters: {'n_estimators': 528, 'learning_rate': 0.018768615971126633, 'max_depth': 1, 'subsample': 0.6180301820309303, 'colsample_bytree': 0.9416678672737021, 'min_child_weight': 3, 'k': 1.0066440986321976, 'f': 32.993278929948644}\n",
    "# Best auc: 0.8234627618556629"
   ]
  },
  {
   "cell_type": "code",
   "execution_count": null,
   "id": "4c1b6fbd",
   "metadata": {},
   "outputs": [],
   "source": []
  },
  {
   "cell_type": "code",
   "execution_count": 284,
   "id": "a7f710ee",
   "metadata": {},
   "outputs": [],
   "source": [
    "import numpy as np\n",
    "import pandas as pd\n",
    "\n",
    "from sklearn.model_selection import StratifiedKFold, KFold\n",
    "\n",
    "from sklearn.base import BaseEstimator, TransformerMixin\n",
    "\n",
    "class TargetEncoder(BaseEstimator, TransformerMixin):\n",
    "    \n",
    "    def __init__(self, categories='auto', k=1, f=1, \n",
    "                 noise_level=0, random_state=None):\n",
    "        if type(categories)==str and categories!='auto':\n",
    "            self.categories = [categories]\n",
    "        else:\n",
    "            self.categories = categories\n",
    "        self.k = k\n",
    "        self.f = f\n",
    "        self.noise_level = noise_level\n",
    "        self.encodings = dict()\n",
    "        self.prior = None\n",
    "        self.random_state = random_state\n",
    "        \n",
    "    def add_noise(self, series, noise_level):\n",
    "        return series * (1 + noise_level *   \n",
    "                         np.random.randn(len(series)))\n",
    "        \n",
    "    def fit(self, X, y=None):\n",
    "        if type(self.categories)=='auto':\n",
    "            self.categories = np.where(X.dtypes == type(object()))[0]\n",
    "        \n",
    "        temp = X.loc[:, self.categories].copy()\n",
    "        temp['target'] = y\n",
    "        self.prior = np.mean(y)\n",
    "        for variable in self.categories:\n",
    "            avg = (temp.groupby(by=variable)['target']\n",
    "                       .agg(['mean', 'count']))\n",
    "            # Compute smoothing \n",
    "            smoothing = (1 / (1 + np.exp(-(avg['count'] - self.k) /                 \n",
    "                         self.f)))\n",
    "            # The bigger the count the less full_avg is accounted\n",
    "            self.encodings[variable] = dict(self.prior * (1 -  \n",
    "                             smoothing) + avg['mean'] * smoothing)\n",
    "            \n",
    "        return self\n",
    "    \n",
    "    def transform(self, X, y=None):\n",
    "        Xt = X.copy()\n",
    "        for variable in self.categories:\n",
    "            Xt[variable].replace(self.encodings[variable], \n",
    "                                 inplace=True)\n",
    "            unknown_value = {value:self.prior for value in \n",
    "                             X[variable].unique() \n",
    "                             if value not in \n",
    "                             self.encodings[variable].keys()}\n",
    "            if len(unknown_value) > 0:\n",
    "                Xt[variable].replace(unknown_value, inplace=True)\n",
    "            Xt[variable] = Xt[variable].astype(float)\n",
    "            if self.noise_level > 0:\n",
    "                if self.random_state is not None:\n",
    "                    np.random.seed(self.random_state)\n",
    "                Xt[variable] = self.add_noise(Xt[variable], \n",
    "                                              self.noise_level)\n",
    "                \n",
    "        Xt = Xt.fillna(self.prior)\n",
    "        return Xt\n",
    "    \n",
    "    def fit_transform(self, X, y=None):\n",
    "        self.fit(X, y)\n",
    "        return self.transform(X).astype('float32')"
   ]
  },
  {
   "cell_type": "code",
   "execution_count": 285,
   "id": "a2ab134c",
   "metadata": {},
   "outputs": [],
   "source": [
    "class TargetEncoderCV():\n",
    "    \"\"\"Cross-fold target encoder.\n",
    "    \"\"\"\n",
    "    \n",
    "    def __init__(self, cols, k=1, f=1, cv=None, n_splits=3, shuffle=True):\n",
    "        \"\"\"Cross-fold target encoding for categorical features.\n",
    "        \n",
    "        Parameters\n",
    "        ----------\n",
    "        te: TargetEncoder object\n",
    "        n_splits : int\n",
    "            Number of cross-fold splits. Default = 3.\n",
    "        shuffle : bool\n",
    "            Whether to shuffle the data when splitting into folds.\n",
    "\n",
    "        \"\"\"\n",
    "        self.cols = cols\n",
    "        self.k = k\n",
    "        self.f = f\n",
    "        self.n_splits = n_splits\n",
    "        self.shuffle = shuffle\n",
    "        self.cv = cv\n",
    "\n",
    "        \n",
    "\n",
    "    def fit(self, X, y):\n",
    "        \"\"\"Fit cross-fold target encoder to X and y\n",
    "        \n",
    "        Parameters\n",
    "        ----------\n",
    "        X : pandas DataFrame, shape [n_samples, n_columns]\n",
    "            DataFrame containing columns to encode\n",
    "        y : pandas Series, shape = [n_samples]\n",
    "            Target values.\n",
    "            \n",
    "        Returns\n",
    "        -------\n",
    "        self : encoder\n",
    "            Returns self.\n",
    "        \"\"\"\n",
    "        self._target_encoder = TargetEncoder(self.cols, self.k, self.f)\n",
    "        self._target_encoder.fit(X, y)\n",
    "        return self\n",
    "\n",
    "    \n",
    "    def transform(self, X, y=None):\n",
    "        \"\"\"Perform the target encoding transformation.\n",
    "\n",
    "        Uses cross-fold target encoding for the training fold,\n",
    "        and uses normal target encoding for the test fold.\n",
    "\n",
    "        Parameters\n",
    "        ----------\n",
    "        X : pandas DataFrame, shape [n_samples, n_columns]\n",
    "            DataFrame containing columns to encode\n",
    "\n",
    "        Returns\n",
    "        -------\n",
    "        pandas DataFrame\n",
    "            Input DataFrame with transformed columns\n",
    "        \"\"\"\n",
    "\n",
    "        # Use target encoding from fit() if this is test data\n",
    "        if y is None:\n",
    "            return self._target_encoder.transform(X)\n",
    "\n",
    "        # Compute means for each fold\n",
    "        self._train_ix = []\n",
    "        self._test_ix = []\n",
    "        self._fit_tes = []\n",
    "        \n",
    "        if self.cv is None:\n",
    "            cv = KFold(n_splits=self.n_splits, shuffle=self.shuffle)\n",
    "        else:\n",
    "            cv = self.cv\n",
    "        \n",
    "        for train_ix, test_ix in cv.split(X, y):\n",
    "            self._train_ix.append(train_ix)\n",
    "            self._test_ix.append(test_ix)\n",
    "            te = TargetEncoder(self.cols, self.k, self.f)\n",
    "            if isinstance(X, pd.DataFrame):\n",
    "                self._fit_tes.append(te.fit(X.iloc[train_ix,:],\n",
    "                                            y.iloc[train_ix]))\n",
    "            elif isinstance(X, np.ndarray):\n",
    "                self._fit_tes.append(te.fit(X[train_ix,:], y[train_ix]))\n",
    "            else:\n",
    "                raise TypeError('X must be DataFrame or ndarray')\n",
    "\n",
    "        # Apply means across folds\n",
    "        Xo = X.copy()\n",
    "        for ix in range(len(self._test_ix)):\n",
    "            test_ix = self._test_ix[ix]\n",
    "            if isinstance(X, pd.DataFrame):\n",
    "                Xo.iloc[test_ix,:] = self._fit_tes[ix].transform(X.iloc[test_ix,:])\n",
    "            elif isinstance(X, np.ndarray):\n",
    "                Xo[test_ix,:] = self._fit_tes[ix].transform(X[test_ix,:])\n",
    "            else:\n",
    "                raise TypeError('X must be DataFrame or ndarray')\n",
    "        return Xo.astype('float32')\n",
    "\n",
    "            \n",
    "    def fit_transform(self, X, y=None):\n",
    "        \"\"\"Fit and transform the data via target encoding.\n",
    "        \n",
    "        Parameters\n",
    "        ----------\n",
    "        X : pandas DataFrame, shape [n_samples, n_columns]\n",
    "            DataFrame containing columns to encode\n",
    "        y : pandas Series, shape = [n_samples]\n",
    "            Target values (required!).\n",
    "\n",
    "        Returns\n",
    "        -------\n",
    "        pandas DataFrame\n",
    "            Input DataFrame with transformed columns\n",
    "        \"\"\"\n",
    "        return self.fit(X, y).transform(X, y).astype('float32')"
   ]
  },
  {
   "cell_type": "code",
   "execution_count": 286,
   "id": "e0915ca8",
   "metadata": {},
   "outputs": [],
   "source": [
    "class TargetEncodingExpandingMean(BaseEstimator, TransformerMixin):\n",
    "    def __init__(self, columns_names):\n",
    "        self.columns_names = columns_names\n",
    "        self.learned_values = {}\n",
    "        self.dataset_mean = np.nan\n",
    "    def fit(self, X, y, **fit_params):\n",
    "        X_ = X.copy()\n",
    "        self.learned_values = {}\n",
    "        self.dataset_mean = np.mean(y)\n",
    "        X_[\"__target__\"] = y\n",
    "        for c in [x for x in X_.columns if x in self.columns_names]:\n",
    "            stats = (X_[[c,\"__target__\"]]\n",
    "                     .groupby(c)[\"__target__\"]\n",
    "                     .agg(['mean', 'size'])) #\n",
    "            stats[\"__target__\"] = stats[\"mean\"]\n",
    "            stats = (stats\n",
    "                     .drop([x for x in stats.columns if x not in [\"__target__\",c]], axis = 1)\n",
    "                     .reset_index())\n",
    "            self.learned_values[c] = stats\n",
    "        return self\n",
    "    def transform(self, X, **fit_params):\n",
    "        transformed_X = X[self.columns_names].copy()\n",
    "        for c in transformed_X.columns:\n",
    "            transformed_X[c] = (transformed_X[[c]]\n",
    "                                .merge(self.learned_values[c], on = c, how = 'left')\n",
    "                               )[\"__target__\"]\n",
    "        transformed_X = transformed_X.fillna(self.dataset_mean)\n",
    "        return transformed_X\n",
    "    \n",
    "    def fit_transform(self, X, y, **fit_params):\n",
    "        self.fit(X,y)\n",
    "    \n",
    "        #Expanding mean transform\n",
    "        X_ = X[self.columns_names].copy().reset_index(drop = True)\n",
    "        X_[\"__target__\"] = y\n",
    "        X_[\"index\"] = X_.index\n",
    "        X_transformed = pd.DataFrame()\n",
    "        for c in self.columns_names:\n",
    "            X_shuffled = X_[[c,\"__target__\", \"index\"]].copy()\n",
    "            X_shuffled = X_shuffled.sample(n = len(X_shuffled),replace=False)\n",
    "            X_shuffled[\"cnt\"] = 1\n",
    "            X_shuffled[\"cumsum\"] = (X_shuffled\n",
    "                                    .groupby(c,sort=False)['__target__']\n",
    "                                    .apply(lambda x : x.shift().cumsum()))\n",
    "            X_shuffled[\"cumcnt\"] = (X_shuffled\n",
    "                                    .groupby(c,sort=False)['cnt']\n",
    "                                    .apply(lambda x : x.shift().cumsum()))\n",
    "            X_shuffled[\"encoded\"] = X_shuffled[\"cumsum\"] / X_shuffled[\"cumcnt\"]\n",
    "            X_shuffled[\"encoded\"] = X_shuffled[\"encoded\"].fillna(self.dataset_mean)\n",
    "            X_transformed[c] = X_shuffled.sort_values(\"index\")[\"encoded\"].values\n",
    "        return X_transformed"
   ]
  },
  {
   "cell_type": "code",
   "execution_count": 287,
   "id": "7ed3d857",
   "metadata": {},
   "outputs": [],
   "source": [
    "# from copy import copy\n",
    "# def scale(X, scaler=StandardScaler(), num_col=[], train=False):\n",
    "#     X[\"age_2\"] = X[\"age\"]**2\n",
    "#     X[\"monthly_income_log\"] = X[\"monthly_income\"].apply(np.log)\n",
    "#     X[\"age_log\"] = X[\"age\"].apply(np.log)\n",
    "#     X[\"duration_of_pitch_log\"] = X[\"duration_of_pitch\"]//60\n",
    "#     X[\"salary_age\"] = X[\"monthly_income\"]/X[\"age\"]\n",
    "\n",
    "#     new_col = copy(num_col)\n",
    "#     new_col.extend([\"age_2\", \"monthly_income_log\", \"age_log\",\"duration_of_pitch_log\", \"salary_age\"])\n",
    "    \n",
    "\n",
    "#     if train:\n",
    "#         scaled = scaler.fit_transform(X[new_col])\n",
    "#     else:\n",
    "#         scaled = scaler.transform(X[new_col])\n",
    "#     X[new_col] = scaled # pd.DataFrame(scaled, columns=col_names)\n",
    "\n",
    "#     X = X.fillna(0)\n",
    "#     return X, scaler"
   ]
  },
  {
   "cell_type": "code",
   "execution_count": 325,
   "id": "395dfe22",
   "metadata": {},
   "outputs": [],
   "source": [
    "\n",
    "def encode_nan_value(X_train, X_test):\n",
    "    X_train = X_train.copy()\n",
    "    X_test = X_test.copy()\n",
    "    \n",
    "    for col in X_train.columns:\n",
    "        if X_train[col].isna().sum()>0 or  X_test[col].isna().sum()>0:\n",
    "            X_train[f'{col}_is_nan'] = X_train[col].isna().astype(int)\n",
    "            X_test[f'{col}_is_nan'] = X_test[col].isna().astype(int)\n",
    "            \n",
    "    return X_train, X_test\n",
    "\n",
    "def fill_na_num(X_train, X_test, num_coulumns):\n",
    "    X_train = X_train.copy()\n",
    "    X_test = X_test.copy()\n",
    "    for col in num_coulumns:\n",
    "        if X_train[col].skew() >1:\n",
    "            X_train[col].fillna(X_train[col].median(), inplace=True)\n",
    "            X_test[col].fillna(X_train[col].median(), inplace=True)\n",
    "\n",
    "        else:\n",
    "            X_train[col].fillna(X_train[col].mean(), inplace=True)\n",
    "            X_test[col].fillna(X_train[col].mean(), inplace=True)\n",
    "            \n",
    "    return X_train, X_test\n",
    "\n",
    "def outlier_handling(X_train, X_test, columns):\n",
    "    \n",
    "         \n",
    "    # first encode outlier, then fill with median\n",
    "    for col in columns:\n",
    "        X_train[f\"OL_{col}\"] = 0\n",
    "        X_test[f\"OL_{col}\"] = 0\n",
    "        # calculate iqr\n",
    "        q1 = X_train[col].quantile(0.25)\n",
    "        q3 = X_train[col].quantile(0.75)\n",
    "        iqr = q3-q1\n",
    "        Lower_tail = q1 - 1.5 * iqr\n",
    "        Upper_tail = q3 + 1.5 * iqr\n",
    "        med = np.median(train[col])\n",
    "        train_index = X_train[(X_train[col] > Upper_tail) | (X_train[col] < Lower_tail)].index\n",
    "        test_index = X_test[(X_test[col] > Upper_tail) | (X_test[col] < Lower_tail)].index\n",
    "        \n",
    "        X_train.loc[train_index, f\"OL_{col}\"]= 1\n",
    "        X_test.loc[test_index, f\"OL_{col}\"]= 1\n",
    "        \n",
    "        X_train.loc[train_index, col]= med\n",
    "        X_test.loc[test_index, col]= med\n",
    "        \n",
    "    return X_train, X_test\n",
    "        \n",
    "            \n",
    "                    \n",
    "    \n",
    "def binning_cont_col(X_train, X_test, columns): \n",
    "    X_train = X_train.copy()\n",
    "    X_test = X_test.copy()\n",
    "    n_bins = int(np.floor(1 + np.log2(len(X_train))))\n",
    "    new_col_names = []\n",
    "    for col in columns:\n",
    "        bins = pd.cut(X_train[col], bins=n_bins, retbins=True)[1]\n",
    "        # Apply the same bins to the training data\n",
    "        X_train[f'{col}_binned'] = pd.cut(X_train[col], bins=bins, labels=False, include_lowest=True)\n",
    "        # Apply the same bins to the test data\n",
    "        X_test[f'{col}_binned'] = pd.cut(X_test[col], bins=bins, labels=False, include_lowest=True)\n",
    "        new_col_names.append(f'{col}_binned')\n",
    "\n",
    "#     print(X_test.shape, X_test.index)\n",
    "#     print(\"here\", pd.get_dummies(X_train[new_col_names]))\n",
    "#     ohe_train = pd.get_dummies(X_train[new_col_names]) #.reset_index(drop=True)\n",
    "#     ohe_test = pd.get_dummies(X_test[new_col_names]) #.reset_index(drop=True)                    \n",
    "#     X_train = pd.concat([X_train, ohe_train], ignore_index=True).drop(columns=columns, axis=1)\n",
    "#     X_test = pd.concat([X_test, ohe_test], ignore_index=True).drop(columns=columns, axis=1)\n",
    "    \n",
    "    return X_train, X_test\n",
    "\n",
    "def get_group_col(X_train, X_test, y, columns, n_columns=[2], w=10):\n",
    "    X_train = X_train.copy()\n",
    "    X_test = X_test.copy()\n",
    "    X_train[\"_target\"] = y\n",
    "    prior = np.mean(y)\n",
    "    for n in n_columns:\n",
    "        combinations = list(itertools.combinations(columns, n))\n",
    "        for comb in combinations:\n",
    "            comb = list(comb)\n",
    "#             new_cols = comb.copy()\n",
    "            col_name = \"_\".join(comb) + \"_CG\"\n",
    "            new_df = X_train.groupby(comb)[\"_target\"].agg(['mean', 'count']).reset_index()\n",
    "            new_df.columns = comb + [col_name, 'TE_count']\n",
    "            # smoothing\n",
    "            new_df[col_name] = ((new_df[col_name]*new_df['TE_count'])+(prior*w))/(new_df['TE_count']+w)\n",
    "            \n",
    "            X_train = X_train.merge(new_df, on=comb, how='left')\n",
    "            X_test = X_test.merge(new_df, on=comb, how='left')\n",
    "            X_train.drop(columns=['TE_count'], axis=1, inplace=True)\n",
    "            X_test.drop(columns=['TE_count'], axis=1, inplace=True)\n",
    "\n",
    "\n",
    "    X_test.fillna(prior, inplace=True)\n",
    "    X_train.drop(columns=['_target'], axis=1, inplace=True)\n",
    "    \n",
    "    return X_train, X_test\n",
    "    \n",
    "def create_feature(X_train, X_test, target, cat_columns, num_columns, conti_columns,outlier_removal, cv, w, k, f ):\n",
    "    X_train = X_train.copy()\n",
    "    X_test = X_test.copy()\n",
    "    \n",
    "    # outlier removal \n",
    "    X_train, X_test = outlier_handling(X_train, X_test, outlier_removal)\n",
    "    # create encode nan\n",
    "    X_train, X_test = encode_nan_value(X_train, X_test)\n",
    "    \n",
    "    \n",
    "    # missing value handling\n",
    "    # num colif skew is greater than 1, fill with median else mean \n",
    "    X_train, X_test = fill_na_num(X_train, X_test, num_columns)\n",
    "    # cat column, fill with unknown\n",
    "    X_train[cat_columns].fillna(\"unknown\", inplace=True)\n",
    "    X_test[cat_columns].fillna(\"unknown\", inplace=True)\n",
    "\n",
    "    # num feature generation\n",
    "    X_train[\"m_a\"] = X_train[\"monthly_income\"]/ X_train[\"age\"]\n",
    "    X_test[\"m_a\"] = X_test[\"monthly_income\"]/ X_test[\"age\"]\n",
    "    \n",
    "    X_test[\"age2\"] = X_test[\"age\"] **2 \n",
    "    X_train[\"age2\"] = X_train[\"age\"] **2 \n",
    "    \n",
    "    \n",
    "    # binning\n",
    "    X_train, X_test = binning_cont_col(X_train, X_test, conti_columns)\n",
    "    \n",
    "    \n",
    "#     scaled_col = set(num_columns) - set(conti_columns)\n",
    "#     # scaling num col\n",
    "# #     scaler = StandardScaler()\n",
    "# #     X_train[scaled_col]\n",
    "    \n",
    "    \n",
    "#     group_col = [col for col in X_train.columns if \"_binned\" in col]\n",
    "#     group_col.extend(cat_columns)\n",
    "    # todo handle outlier\n",
    "    # get groups\n",
    "    X_train, X_test = get_group_col(X_train, X_test, y, cat_columns, [2], w)\n",
    "#     X_train, X_test = get_group_col(X_train, X_test, X_train[\"age\"], cat_columns, [2])\n",
    "#     X_train, X_test = get_group_col(X_train, X_test, X_train[\"monthly_income\"], cat_columns, [2], w)\n",
    "    \n",
    "    # numorical feature\n",
    "#     X_train, scaler = scale(X_train, StandardScaler(), num_coulumns, train=True)\n",
    "#     X_test, _ = scale(X_test, scaler, num_coulumns, train=False)\n",
    "    \n",
    "    te = TargetEncoderCV(cat_columns, k=k, f=f, cv=cv)\n",
    "#     te = TargetEncodingExpandingMean(cat_columns)\n",
    "    X_train = te.fit_transform(X_train, target)\n",
    "    X_test = te.transform(X_test)\n",
    "    return X_train, X_test\n",
    "    \n",
    "    "
   ]
  },
  {
   "cell_type": "code",
   "execution_count": 326,
   "id": "485c9e60",
   "metadata": {},
   "outputs": [],
   "source": [
    "def create_random_nan(df, num_nan = 5):\n",
    "    df = df.copy()\n",
    "    \n",
    "\n",
    "    # Randomly select the rows and columns\n",
    "    row_indices = np.random.choice(df.index, size=num_nan, replace=True)\n",
    "    col_indices = np.random.choice(df.columns, size=num_nan, replace=True)\n",
    "\n",
    "    # Set the selected values to NaN\n",
    "    df.loc[row_indices, col_indices] = np.nan\n",
    "    return df"
   ]
  },
  {
   "cell_type": "code",
   "execution_count": 327,
   "id": "c23fe1de",
   "metadata": {},
   "outputs": [],
   "source": [
    "models = []"
   ]
  },
  {
   "cell_type": "code",
   "execution_count": 328,
   "id": "e8fdca2e",
   "metadata": {
    "scrolled": true
   },
   "outputs": [
    {
     "name": "stdout",
     "output_type": "stream",
     "text": [
      "[0]\tvalidation_0-auc:0.66063\tvalidation_1-auc:0.69321\n",
      "[1]\tvalidation_0-auc:0.76743\tvalidation_1-auc:0.76217\n",
      "[2]\tvalidation_0-auc:0.79050\tvalidation_1-auc:0.76941\n",
      "[3]\tvalidation_0-auc:0.80112\tvalidation_1-auc:0.76910\n",
      "[4]\tvalidation_0-auc:0.80889\tvalidation_1-auc:0.77072\n",
      "[5]\tvalidation_0-auc:0.81312\tvalidation_1-auc:0.78135\n",
      "[6]\tvalidation_0-auc:0.81293\tvalidation_1-auc:0.78149\n",
      "[7]\tvalidation_0-auc:0.81788\tvalidation_1-auc:0.78229\n",
      "[8]\tvalidation_0-auc:0.82096\tvalidation_1-auc:0.77920\n",
      "[9]\tvalidation_0-auc:0.82464\tvalidation_1-auc:0.78395\n",
      "[10]\tvalidation_0-auc:0.82698\tvalidation_1-auc:0.78468\n",
      "[11]\tvalidation_0-auc:0.82881\tvalidation_1-auc:0.78563\n",
      "[12]\tvalidation_0-auc:0.83153\tvalidation_1-auc:0.78861\n",
      "[13]\tvalidation_0-auc:0.83255\tvalidation_1-auc:0.78562\n",
      "[14]\tvalidation_0-auc:0.83445\tvalidation_1-auc:0.78646\n",
      "[15]\tvalidation_0-auc:0.83574\tvalidation_1-auc:0.78816\n",
      "[16]\tvalidation_0-auc:0.83669\tvalidation_1-auc:0.78925\n",
      "[17]\tvalidation_0-auc:0.83765\tvalidation_1-auc:0.79015\n",
      "[18]\tvalidation_0-auc:0.83868\tvalidation_1-auc:0.79119\n",
      "[19]\tvalidation_0-auc:0.83978\tvalidation_1-auc:0.79269\n",
      "[20]\tvalidation_0-auc:0.84062\tvalidation_1-auc:0.79251\n",
      "[21]\tvalidation_0-auc:0.84128\tvalidation_1-auc:0.79261\n",
      "[22]\tvalidation_0-auc:0.84195\tvalidation_1-auc:0.79334\n",
      "[23]\tvalidation_0-auc:0.84250\tvalidation_1-auc:0.79336\n",
      "[24]\tvalidation_0-auc:0.84297\tvalidation_1-auc:0.79408\n",
      "[25]\tvalidation_0-auc:0.84342\tvalidation_1-auc:0.79391\n",
      "[26]\tvalidation_0-auc:0.84372\tvalidation_1-auc:0.79440\n",
      "[27]\tvalidation_0-auc:0.84412\tvalidation_1-auc:0.79415\n",
      "[28]\tvalidation_0-auc:0.84450\tvalidation_1-auc:0.79453\n",
      "[29]\tvalidation_0-auc:0.84473\tvalidation_1-auc:0.79482\n",
      "[30]\tvalidation_0-auc:0.84507\tvalidation_1-auc:0.79607\n",
      "[31]\tvalidation_0-auc:0.84530\tvalidation_1-auc:0.79661\n",
      "[32]\tvalidation_0-auc:0.84557\tvalidation_1-auc:0.79724\n",
      "[33]\tvalidation_0-auc:0.84575\tvalidation_1-auc:0.79600\n",
      "[34]\tvalidation_0-auc:0.84607\tvalidation_1-auc:0.79661\n",
      "[35]\tvalidation_0-auc:0.84617\tvalidation_1-auc:0.79686\n",
      "[36]\tvalidation_0-auc:0.84643\tvalidation_1-auc:0.79706\n",
      "[37]\tvalidation_0-auc:0.84661\tvalidation_1-auc:0.79726\n",
      "[38]\tvalidation_0-auc:0.84674\tvalidation_1-auc:0.79751\n",
      "[39]\tvalidation_0-auc:0.84687\tvalidation_1-auc:0.79768\n",
      "[40]\tvalidation_0-auc:0.84701\tvalidation_1-auc:0.79753\n",
      "[41]\tvalidation_0-auc:0.84714\tvalidation_1-auc:0.79799\n",
      "[42]\tvalidation_0-auc:0.84724\tvalidation_1-auc:0.79771\n",
      "[43]\tvalidation_0-auc:0.84738\tvalidation_1-auc:0.79788\n",
      "[44]\tvalidation_0-auc:0.84754\tvalidation_1-auc:0.79814\n",
      "[45]\tvalidation_0-auc:0.84767\tvalidation_1-auc:0.79846\n",
      "[46]\tvalidation_0-auc:0.84789\tvalidation_1-auc:0.79886\n",
      "[47]\tvalidation_0-auc:0.84798\tvalidation_1-auc:0.79915\n",
      "[48]\tvalidation_0-auc:0.84803\tvalidation_1-auc:0.79905\n",
      "[49]\tvalidation_0-auc:0.84816\tvalidation_1-auc:0.79901\n",
      "[50]\tvalidation_0-auc:0.84823\tvalidation_1-auc:0.79936\n",
      "[51]\tvalidation_0-auc:0.84833\tvalidation_1-auc:0.79925\n",
      "[52]\tvalidation_0-auc:0.84844\tvalidation_1-auc:0.79970\n",
      "[53]\tvalidation_0-auc:0.84850\tvalidation_1-auc:0.79992\n",
      "[54]\tvalidation_0-auc:0.84856\tvalidation_1-auc:0.79993\n",
      "[55]\tvalidation_0-auc:0.84861\tvalidation_1-auc:0.80013\n",
      "[56]\tvalidation_0-auc:0.84869\tvalidation_1-auc:0.80008\n",
      "[57]\tvalidation_0-auc:0.84873\tvalidation_1-auc:0.80002\n",
      "[58]\tvalidation_0-auc:0.84879\tvalidation_1-auc:0.80069\n",
      "[59]\tvalidation_0-auc:0.84886\tvalidation_1-auc:0.80100\n",
      "[60]\tvalidation_0-auc:0.84893\tvalidation_1-auc:0.80097\n",
      "[61]\tvalidation_0-auc:0.84903\tvalidation_1-auc:0.80114\n",
      "[62]\tvalidation_0-auc:0.84909\tvalidation_1-auc:0.80119\n",
      "[63]\tvalidation_0-auc:0.84918\tvalidation_1-auc:0.80109\n",
      "[64]\tvalidation_0-auc:0.84927\tvalidation_1-auc:0.80137\n",
      "[65]\tvalidation_0-auc:0.84934\tvalidation_1-auc:0.80164\n",
      "[66]\tvalidation_0-auc:0.84944\tvalidation_1-auc:0.80172\n",
      "[67]\tvalidation_0-auc:0.84952\tvalidation_1-auc:0.80186\n",
      "[68]\tvalidation_0-auc:0.84957\tvalidation_1-auc:0.80174\n",
      "[69]\tvalidation_0-auc:0.84968\tvalidation_1-auc:0.80214\n",
      "[70]\tvalidation_0-auc:0.84974\tvalidation_1-auc:0.80204\n",
      "[71]\tvalidation_0-auc:0.84980\tvalidation_1-auc:0.80207\n",
      "[72]\tvalidation_0-auc:0.84984\tvalidation_1-auc:0.80207\n",
      "[73]\tvalidation_0-auc:0.84991\tvalidation_1-auc:0.80224\n",
      "[74]\tvalidation_0-auc:0.84992\tvalidation_1-auc:0.80201\n",
      "[75]\tvalidation_0-auc:0.85004\tvalidation_1-auc:0.80254\n",
      "[76]\tvalidation_0-auc:0.85008\tvalidation_1-auc:0.80264\n",
      "[77]\tvalidation_0-auc:0.85015\tvalidation_1-auc:0.80288\n",
      "[78]\tvalidation_0-auc:0.85021\tvalidation_1-auc:0.80293\n",
      "[79]\tvalidation_0-auc:0.85025\tvalidation_1-auc:0.80299\n",
      "[80]\tvalidation_0-auc:0.85031\tvalidation_1-auc:0.80309\n",
      "[81]\tvalidation_0-auc:0.85039\tvalidation_1-auc:0.80313\n",
      "[82]\tvalidation_0-auc:0.85039\tvalidation_1-auc:0.80313\n",
      "[83]\tvalidation_0-auc:0.85042\tvalidation_1-auc:0.80323\n",
      "[84]\tvalidation_0-auc:0.85047\tvalidation_1-auc:0.80319\n",
      "[85]\tvalidation_0-auc:0.85054\tvalidation_1-auc:0.80363\n",
      "[86]\tvalidation_0-auc:0.85056\tvalidation_1-auc:0.80376\n",
      "[87]\tvalidation_0-auc:0.85060\tvalidation_1-auc:0.80401\n",
      "[88]\tvalidation_0-auc:0.85067\tvalidation_1-auc:0.80398\n",
      "[89]\tvalidation_0-auc:0.85069\tvalidation_1-auc:0.80378\n",
      "[90]\tvalidation_0-auc:0.85074\tvalidation_1-auc:0.80401\n",
      "[91]\tvalidation_0-auc:0.85080\tvalidation_1-auc:0.80413\n",
      "[92]\tvalidation_0-auc:0.85082\tvalidation_1-auc:0.80403\n",
      "[93]\tvalidation_0-auc:0.85086\tvalidation_1-auc:0.80423\n",
      "[94]\tvalidation_0-auc:0.85091\tvalidation_1-auc:0.80415\n",
      "[95]\tvalidation_0-auc:0.85093\tvalidation_1-auc:0.80411\n",
      "[96]\tvalidation_0-auc:0.85095\tvalidation_1-auc:0.80425\n",
      "[97]\tvalidation_0-auc:0.85102\tvalidation_1-auc:0.80456\n",
      "[98]\tvalidation_0-auc:0.85106\tvalidation_1-auc:0.80453\n",
      "[99]\tvalidation_0-auc:0.85109\tvalidation_1-auc:0.80451\n",
      "[100]\tvalidation_0-auc:0.85116\tvalidation_1-auc:0.80458\n",
      "[101]\tvalidation_0-auc:0.85118\tvalidation_1-auc:0.80465\n",
      "[102]\tvalidation_0-auc:0.85123\tvalidation_1-auc:0.80460\n",
      "[103]\tvalidation_0-auc:0.85120\tvalidation_1-auc:0.80461\n",
      "[104]\tvalidation_0-auc:0.85129\tvalidation_1-auc:0.80438\n",
      "[105]\tvalidation_0-auc:0.85130\tvalidation_1-auc:0.80446\n",
      "[106]\tvalidation_0-auc:0.85134\tvalidation_1-auc:0.80473\n",
      "[107]\tvalidation_0-auc:0.85137\tvalidation_1-auc:0.80475\n",
      "[108]\tvalidation_0-auc:0.85143\tvalidation_1-auc:0.80482\n",
      "[109]\tvalidation_0-auc:0.85146\tvalidation_1-auc:0.80487\n",
      "[110]\tvalidation_0-auc:0.85142\tvalidation_1-auc:0.80456\n",
      "[111]\tvalidation_0-auc:0.85143\tvalidation_1-auc:0.80468\n",
      "[112]\tvalidation_0-auc:0.85149\tvalidation_1-auc:0.80465\n",
      "[113]\tvalidation_0-auc:0.85152\tvalidation_1-auc:0.80475\n",
      "[114]\tvalidation_0-auc:0.85162\tvalidation_1-auc:0.80487\n",
      "[115]\tvalidation_0-auc:0.85163\tvalidation_1-auc:0.80502\n",
      "[116]\tvalidation_0-auc:0.85166\tvalidation_1-auc:0.80482\n",
      "[117]\tvalidation_0-auc:0.85171\tvalidation_1-auc:0.80503\n",
      "[118]\tvalidation_0-auc:0.85183\tvalidation_1-auc:0.80542\n",
      "[119]\tvalidation_0-auc:0.85184\tvalidation_1-auc:0.80547\n",
      "[120]\tvalidation_0-auc:0.85186\tvalidation_1-auc:0.80532\n",
      "[121]\tvalidation_0-auc:0.85192\tvalidation_1-auc:0.80544\n",
      "[122]\tvalidation_0-auc:0.85194\tvalidation_1-auc:0.80547\n",
      "[123]\tvalidation_0-auc:0.85199\tvalidation_1-auc:0.80549\n",
      "[124]\tvalidation_0-auc:0.85201\tvalidation_1-auc:0.80557\n",
      "[125]\tvalidation_0-auc:0.85209\tvalidation_1-auc:0.80554\n",
      "[126]\tvalidation_0-auc:0.85213\tvalidation_1-auc:0.80550\n",
      "[127]\tvalidation_0-auc:0.85213\tvalidation_1-auc:0.80545\n",
      "[128]\tvalidation_0-auc:0.85219\tvalidation_1-auc:0.80557\n",
      "[129]\tvalidation_0-auc:0.85219\tvalidation_1-auc:0.80542\n",
      "[130]\tvalidation_0-auc:0.85225\tvalidation_1-auc:0.80555\n",
      "[131]\tvalidation_0-auc:0.85234\tvalidation_1-auc:0.80574\n",
      "[132]\tvalidation_0-auc:0.85234\tvalidation_1-auc:0.80577\n",
      "[133]\tvalidation_0-auc:0.85239\tvalidation_1-auc:0.80574\n",
      "[134]\tvalidation_0-auc:0.85242\tvalidation_1-auc:0.80577\n",
      "[135]\tvalidation_0-auc:0.85248\tvalidation_1-auc:0.80577\n",
      "[136]\tvalidation_0-auc:0.85250\tvalidation_1-auc:0.80569\n",
      "[137]\tvalidation_0-auc:0.85256\tvalidation_1-auc:0.80584\n",
      "[138]\tvalidation_0-auc:0.85262\tvalidation_1-auc:0.80585\n",
      "[139]\tvalidation_0-auc:0.85266\tvalidation_1-auc:0.80585\n",
      "[140]\tvalidation_0-auc:0.85266\tvalidation_1-auc:0.80577\n",
      "[141]\tvalidation_0-auc:0.85267\tvalidation_1-auc:0.80574\n",
      "[142]\tvalidation_0-auc:0.85272\tvalidation_1-auc:0.80569\n",
      "[143]\tvalidation_0-auc:0.85272\tvalidation_1-auc:0.80592\n",
      "[144]\tvalidation_0-auc:0.85275\tvalidation_1-auc:0.80575\n",
      "[145]\tvalidation_0-auc:0.85277\tvalidation_1-auc:0.80579\n",
      "[146]\tvalidation_0-auc:0.85284\tvalidation_1-auc:0.80587\n",
      "[147]\tvalidation_0-auc:0.85283\tvalidation_1-auc:0.80579\n",
      "[148]\tvalidation_0-auc:0.85286\tvalidation_1-auc:0.80585\n"
     ]
    },
    {
     "name": "stdout",
     "output_type": "stream",
     "text": [
      "[149]\tvalidation_0-auc:0.85287\tvalidation_1-auc:0.80579\n",
      "[150]\tvalidation_0-auc:0.85291\tvalidation_1-auc:0.80558\n",
      "[151]\tvalidation_0-auc:0.85297\tvalidation_1-auc:0.80577\n",
      "[152]\tvalidation_0-auc:0.85300\tvalidation_1-auc:0.80560\n",
      "[153]\tvalidation_0-auc:0.85303\tvalidation_1-auc:0.80562\n",
      "[154]\tvalidation_0-auc:0.85304\tvalidation_1-auc:0.80575\n",
      "[155]\tvalidation_0-auc:0.85307\tvalidation_1-auc:0.80545\n",
      "[156]\tvalidation_0-auc:0.85313\tvalidation_1-auc:0.80575\n",
      "[157]\tvalidation_0-auc:0.85316\tvalidation_1-auc:0.80569\n",
      "[158]\tvalidation_0-auc:0.85320\tvalidation_1-auc:0.80558\n",
      "[159]\tvalidation_0-auc:0.85327\tvalidation_1-auc:0.80554\n",
      "[160]\tvalidation_0-auc:0.85329\tvalidation_1-auc:0.80560\n",
      "[161]\tvalidation_0-auc:0.85334\tvalidation_1-auc:0.80549\n",
      "[162]\tvalidation_0-auc:0.85337\tvalidation_1-auc:0.80572\n",
      "[0.8054849498327759]\n",
      "[0]\tvalidation_0-auc:0.71749\tvalidation_1-auc:0.67781\n",
      "[1]\tvalidation_0-auc:0.74700\tvalidation_1-auc:0.71642\n",
      "[2]\tvalidation_0-auc:0.77548\tvalidation_1-auc:0.75239\n",
      "[3]\tvalidation_0-auc:0.79015\tvalidation_1-auc:0.77983\n",
      "[4]\tvalidation_0-auc:0.79823\tvalidation_1-auc:0.78736\n",
      "[5]\tvalidation_0-auc:0.80458\tvalidation_1-auc:0.79553\n",
      "[6]\tvalidation_0-auc:0.80929\tvalidation_1-auc:0.80418\n",
      "[7]\tvalidation_0-auc:0.81461\tvalidation_1-auc:0.81008\n",
      "[8]\tvalidation_0-auc:0.81798\tvalidation_1-auc:0.81197\n",
      "[9]\tvalidation_0-auc:0.82035\tvalidation_1-auc:0.81416\n",
      "[10]\tvalidation_0-auc:0.82300\tvalidation_1-auc:0.81768\n",
      "[11]\tvalidation_0-auc:0.82514\tvalidation_1-auc:0.82122\n",
      "[12]\tvalidation_0-auc:0.82675\tvalidation_1-auc:0.82416\n",
      "[13]\tvalidation_0-auc:0.82888\tvalidation_1-auc:0.82358\n",
      "[14]\tvalidation_0-auc:0.82998\tvalidation_1-auc:0.82559\n",
      "[15]\tvalidation_0-auc:0.83102\tvalidation_1-auc:0.82731\n",
      "[16]\tvalidation_0-auc:0.83252\tvalidation_1-auc:0.82789\n",
      "[17]\tvalidation_0-auc:0.83301\tvalidation_1-auc:0.82826\n",
      "[18]\tvalidation_0-auc:0.83382\tvalidation_1-auc:0.82834\n",
      "[19]\tvalidation_0-auc:0.83451\tvalidation_1-auc:0.82916\n",
      "[20]\tvalidation_0-auc:0.83522\tvalidation_1-auc:0.83023\n",
      "[21]\tvalidation_0-auc:0.83582\tvalidation_1-auc:0.83152\n",
      "[22]\tvalidation_0-auc:0.83638\tvalidation_1-auc:0.83202\n",
      "[23]\tvalidation_0-auc:0.83675\tvalidation_1-auc:0.83221\n",
      "[24]\tvalidation_0-auc:0.83723\tvalidation_1-auc:0.83246\n",
      "[25]\tvalidation_0-auc:0.83776\tvalidation_1-auc:0.83293\n",
      "[26]\tvalidation_0-auc:0.83817\tvalidation_1-auc:0.83286\n",
      "[27]\tvalidation_0-auc:0.83849\tvalidation_1-auc:0.83391\n",
      "[28]\tvalidation_0-auc:0.83883\tvalidation_1-auc:0.83431\n",
      "[29]\tvalidation_0-auc:0.83939\tvalidation_1-auc:0.83411\n",
      "[30]\tvalidation_0-auc:0.83977\tvalidation_1-auc:0.83421\n",
      "[31]\tvalidation_0-auc:0.83997\tvalidation_1-auc:0.83503\n",
      "[32]\tvalidation_0-auc:0.84026\tvalidation_1-auc:0.83530\n",
      "[33]\tvalidation_0-auc:0.84055\tvalidation_1-auc:0.83527\n",
      "[34]\tvalidation_0-auc:0.84082\tvalidation_1-auc:0.83539\n",
      "[35]\tvalidation_0-auc:0.84102\tvalidation_1-auc:0.83520\n",
      "[36]\tvalidation_0-auc:0.84116\tvalidation_1-auc:0.83569\n",
      "[37]\tvalidation_0-auc:0.84135\tvalidation_1-auc:0.83580\n",
      "[38]\tvalidation_0-auc:0.84150\tvalidation_1-auc:0.83600\n",
      "[39]\tvalidation_0-auc:0.84165\tvalidation_1-auc:0.83600\n",
      "[40]\tvalidation_0-auc:0.84183\tvalidation_1-auc:0.83620\n",
      "[41]\tvalidation_0-auc:0.84189\tvalidation_1-auc:0.83671\n",
      "[42]\tvalidation_0-auc:0.84204\tvalidation_1-auc:0.83681\n",
      "[43]\tvalidation_0-auc:0.84211\tvalidation_1-auc:0.83689\n",
      "[44]\tvalidation_0-auc:0.84221\tvalidation_1-auc:0.83694\n",
      "[45]\tvalidation_0-auc:0.84235\tvalidation_1-auc:0.83654\n",
      "[46]\tvalidation_0-auc:0.84242\tvalidation_1-auc:0.83674\n",
      "[47]\tvalidation_0-auc:0.84258\tvalidation_1-auc:0.83756\n",
      "[48]\tvalidation_0-auc:0.84266\tvalidation_1-auc:0.83749\n",
      "[49]\tvalidation_0-auc:0.84276\tvalidation_1-auc:0.83761\n",
      "[50]\tvalidation_0-auc:0.84290\tvalidation_1-auc:0.83762\n",
      "[51]\tvalidation_0-auc:0.84301\tvalidation_1-auc:0.83759\n",
      "[52]\tvalidation_0-auc:0.84307\tvalidation_1-auc:0.83769\n",
      "[53]\tvalidation_0-auc:0.84317\tvalidation_1-auc:0.83768\n",
      "[54]\tvalidation_0-auc:0.84327\tvalidation_1-auc:0.83768\n",
      "[55]\tvalidation_0-auc:0.84334\tvalidation_1-auc:0.83781\n",
      "[56]\tvalidation_0-auc:0.84346\tvalidation_1-auc:0.83801\n",
      "[57]\tvalidation_0-auc:0.84350\tvalidation_1-auc:0.83799\n",
      "[58]\tvalidation_0-auc:0.84358\tvalidation_1-auc:0.83816\n",
      "[59]\tvalidation_0-auc:0.84370\tvalidation_1-auc:0.83821\n",
      "[60]\tvalidation_0-auc:0.84378\tvalidation_1-auc:0.83811\n",
      "[61]\tvalidation_0-auc:0.84381\tvalidation_1-auc:0.83840\n",
      "[62]\tvalidation_0-auc:0.84386\tvalidation_1-auc:0.83833\n",
      "[63]\tvalidation_0-auc:0.84389\tvalidation_1-auc:0.83829\n",
      "[64]\tvalidation_0-auc:0.84399\tvalidation_1-auc:0.83853\n",
      "[65]\tvalidation_0-auc:0.84405\tvalidation_1-auc:0.83849\n",
      "[66]\tvalidation_0-auc:0.84404\tvalidation_1-auc:0.83905\n",
      "[67]\tvalidation_0-auc:0.84414\tvalidation_1-auc:0.83900\n",
      "[68]\tvalidation_0-auc:0.84417\tvalidation_1-auc:0.83905\n",
      "[69]\tvalidation_0-auc:0.84422\tvalidation_1-auc:0.83910\n",
      "[70]\tvalidation_0-auc:0.84424\tvalidation_1-auc:0.83920\n",
      "[71]\tvalidation_0-auc:0.84431\tvalidation_1-auc:0.83942\n",
      "[72]\tvalidation_0-auc:0.84433\tvalidation_1-auc:0.83916\n",
      "[73]\tvalidation_0-auc:0.84438\tvalidation_1-auc:0.83923\n",
      "[74]\tvalidation_0-auc:0.84446\tvalidation_1-auc:0.83910\n",
      "[75]\tvalidation_0-auc:0.84454\tvalidation_1-auc:0.83938\n",
      "[76]\tvalidation_0-auc:0.84458\tvalidation_1-auc:0.83950\n",
      "[77]\tvalidation_0-auc:0.84465\tvalidation_1-auc:0.83958\n",
      "[78]\tvalidation_0-auc:0.84472\tvalidation_1-auc:0.83955\n",
      "[79]\tvalidation_0-auc:0.84476\tvalidation_1-auc:0.83957\n",
      "[80]\tvalidation_0-auc:0.84483\tvalidation_1-auc:0.83957\n",
      "[81]\tvalidation_0-auc:0.84489\tvalidation_1-auc:0.83962\n",
      "[82]\tvalidation_0-auc:0.84487\tvalidation_1-auc:0.83962\n",
      "[83]\tvalidation_0-auc:0.84493\tvalidation_1-auc:0.83970\n",
      "[84]\tvalidation_0-auc:0.84494\tvalidation_1-auc:0.83995\n",
      "[85]\tvalidation_0-auc:0.84500\tvalidation_1-auc:0.83982\n",
      "[86]\tvalidation_0-auc:0.84507\tvalidation_1-auc:0.83978\n",
      "[87]\tvalidation_0-auc:0.84514\tvalidation_1-auc:0.83975\n",
      "[88]\tvalidation_0-auc:0.84521\tvalidation_1-auc:0.83987\n",
      "[89]\tvalidation_0-auc:0.84524\tvalidation_1-auc:0.83987\n",
      "[90]\tvalidation_0-auc:0.84528\tvalidation_1-auc:0.83983\n",
      "[91]\tvalidation_0-auc:0.84532\tvalidation_1-auc:0.84003\n",
      "[92]\tvalidation_0-auc:0.84536\tvalidation_1-auc:0.83992\n",
      "[93]\tvalidation_0-auc:0.84542\tvalidation_1-auc:0.83998\n",
      "[94]\tvalidation_0-auc:0.84548\tvalidation_1-auc:0.83992\n",
      "[95]\tvalidation_0-auc:0.84551\tvalidation_1-auc:0.84005\n",
      "[96]\tvalidation_0-auc:0.84555\tvalidation_1-auc:0.84008\n",
      "[97]\tvalidation_0-auc:0.84559\tvalidation_1-auc:0.84003\n",
      "[98]\tvalidation_0-auc:0.84564\tvalidation_1-auc:0.84020\n",
      "[99]\tvalidation_0-auc:0.84569\tvalidation_1-auc:0.84005\n",
      "[100]\tvalidation_0-auc:0.84572\tvalidation_1-auc:0.84002\n",
      "[101]\tvalidation_0-auc:0.84579\tvalidation_1-auc:0.84023\n",
      "[102]\tvalidation_0-auc:0.84585\tvalidation_1-auc:0.84032\n",
      "[103]\tvalidation_0-auc:0.84590\tvalidation_1-auc:0.84035\n",
      "[104]\tvalidation_0-auc:0.84593\tvalidation_1-auc:0.84042\n",
      "[105]\tvalidation_0-auc:0.84595\tvalidation_1-auc:0.84032\n",
      "[106]\tvalidation_0-auc:0.84600\tvalidation_1-auc:0.84033\n",
      "[107]\tvalidation_0-auc:0.84605\tvalidation_1-auc:0.84027\n",
      "[108]\tvalidation_0-auc:0.84609\tvalidation_1-auc:0.84035\n",
      "[109]\tvalidation_0-auc:0.84612\tvalidation_1-auc:0.84030\n",
      "[110]\tvalidation_0-auc:0.84615\tvalidation_1-auc:0.84022\n",
      "[111]\tvalidation_0-auc:0.84621\tvalidation_1-auc:0.84022\n",
      "[112]\tvalidation_0-auc:0.84622\tvalidation_1-auc:0.84039\n",
      "[113]\tvalidation_0-auc:0.84628\tvalidation_1-auc:0.84032\n",
      "[114]\tvalidation_0-auc:0.84630\tvalidation_1-auc:0.84007\n",
      "[115]\tvalidation_0-auc:0.84636\tvalidation_1-auc:0.84018\n",
      "[116]\tvalidation_0-auc:0.84638\tvalidation_1-auc:0.84037\n",
      "[117]\tvalidation_0-auc:0.84641\tvalidation_1-auc:0.84042\n",
      "[118]\tvalidation_0-auc:0.84644\tvalidation_1-auc:0.84040\n",
      "[119]\tvalidation_0-auc:0.84648\tvalidation_1-auc:0.84067\n",
      "[120]\tvalidation_0-auc:0.84653\tvalidation_1-auc:0.84072\n",
      "[121]\tvalidation_0-auc:0.84655\tvalidation_1-auc:0.84072\n",
      "[122]\tvalidation_0-auc:0.84657\tvalidation_1-auc:0.84054\n",
      "[123]\tvalidation_0-auc:0.84657\tvalidation_1-auc:0.84059\n",
      "[124]\tvalidation_0-auc:0.84664\tvalidation_1-auc:0.84072\n",
      "[125]\tvalidation_0-auc:0.84671\tvalidation_1-auc:0.84067\n",
      "[126]\tvalidation_0-auc:0.84673\tvalidation_1-auc:0.84097\n",
      "[127]\tvalidation_0-auc:0.84675\tvalidation_1-auc:0.84102\n",
      "[128]\tvalidation_0-auc:0.84677\tvalidation_1-auc:0.84107\n",
      "[129]\tvalidation_0-auc:0.84681\tvalidation_1-auc:0.84082\n",
      "[130]\tvalidation_0-auc:0.84683\tvalidation_1-auc:0.84074\n",
      "[131]\tvalidation_0-auc:0.84686\tvalidation_1-auc:0.84092\n",
      "[132]\tvalidation_0-auc:0.84688\tvalidation_1-auc:0.84077\n",
      "[133]\tvalidation_0-auc:0.84691\tvalidation_1-auc:0.84104\n"
     ]
    },
    {
     "name": "stdout",
     "output_type": "stream",
     "text": [
      "[134]\tvalidation_0-auc:0.84692\tvalidation_1-auc:0.84107\n",
      "[135]\tvalidation_0-auc:0.84694\tvalidation_1-auc:0.84107\n",
      "[136]\tvalidation_0-auc:0.84699\tvalidation_1-auc:0.84110\n",
      "[137]\tvalidation_0-auc:0.84701\tvalidation_1-auc:0.84107\n",
      "[138]\tvalidation_0-auc:0.84712\tvalidation_1-auc:0.84134\n",
      "[139]\tvalidation_0-auc:0.84711\tvalidation_1-auc:0.84095\n",
      "[140]\tvalidation_0-auc:0.84715\tvalidation_1-auc:0.84115\n",
      "[141]\tvalidation_0-auc:0.84720\tvalidation_1-auc:0.84115\n",
      "[142]\tvalidation_0-auc:0.84723\tvalidation_1-auc:0.84132\n",
      "[143]\tvalidation_0-auc:0.84728\tvalidation_1-auc:0.84127\n",
      "[144]\tvalidation_0-auc:0.84729\tvalidation_1-auc:0.84125\n",
      "[145]\tvalidation_0-auc:0.84733\tvalidation_1-auc:0.84134\n",
      "[146]\tvalidation_0-auc:0.84735\tvalidation_1-auc:0.84124\n",
      "[147]\tvalidation_0-auc:0.84739\tvalidation_1-auc:0.84129\n",
      "[148]\tvalidation_0-auc:0.84743\tvalidation_1-auc:0.84149\n",
      "[149]\tvalidation_0-auc:0.84749\tvalidation_1-auc:0.84162\n",
      "[150]\tvalidation_0-auc:0.84758\tvalidation_1-auc:0.84135\n",
      "[151]\tvalidation_0-auc:0.84759\tvalidation_1-auc:0.84135\n",
      "[152]\tvalidation_0-auc:0.84762\tvalidation_1-auc:0.84147\n",
      "[153]\tvalidation_0-auc:0.84766\tvalidation_1-auc:0.84142\n",
      "[154]\tvalidation_0-auc:0.84769\tvalidation_1-auc:0.84159\n",
      "[155]\tvalidation_0-auc:0.84772\tvalidation_1-auc:0.84182\n",
      "[156]\tvalidation_0-auc:0.84774\tvalidation_1-auc:0.84176\n",
      "[157]\tvalidation_0-auc:0.84781\tvalidation_1-auc:0.84182\n",
      "[158]\tvalidation_0-auc:0.84783\tvalidation_1-auc:0.84181\n",
      "[159]\tvalidation_0-auc:0.84789\tvalidation_1-auc:0.84182\n",
      "[160]\tvalidation_0-auc:0.84791\tvalidation_1-auc:0.84192\n",
      "[161]\tvalidation_0-auc:0.84795\tvalidation_1-auc:0.84184\n",
      "[162]\tvalidation_0-auc:0.84795\tvalidation_1-auc:0.84184\n",
      "[163]\tvalidation_0-auc:0.84798\tvalidation_1-auc:0.84181\n",
      "[164]\tvalidation_0-auc:0.84802\tvalidation_1-auc:0.84204\n",
      "[165]\tvalidation_0-auc:0.84805\tvalidation_1-auc:0.84207\n",
      "[166]\tvalidation_0-auc:0.84808\tvalidation_1-auc:0.84212\n",
      "[167]\tvalidation_0-auc:0.84809\tvalidation_1-auc:0.84229\n",
      "[168]\tvalidation_0-auc:0.84810\tvalidation_1-auc:0.84234\n",
      "[169]\tvalidation_0-auc:0.84813\tvalidation_1-auc:0.84241\n",
      "[170]\tvalidation_0-auc:0.84814\tvalidation_1-auc:0.84234\n",
      "[171]\tvalidation_0-auc:0.84814\tvalidation_1-auc:0.84229\n",
      "[172]\tvalidation_0-auc:0.84816\tvalidation_1-auc:0.84232\n",
      "[173]\tvalidation_0-auc:0.84820\tvalidation_1-auc:0.84247\n",
      "[174]\tvalidation_0-auc:0.84821\tvalidation_1-auc:0.84242\n",
      "[175]\tvalidation_0-auc:0.84824\tvalidation_1-auc:0.84246\n",
      "[176]\tvalidation_0-auc:0.84829\tvalidation_1-auc:0.84256\n",
      "[177]\tvalidation_0-auc:0.84828\tvalidation_1-auc:0.84257\n",
      "[178]\tvalidation_0-auc:0.84832\tvalidation_1-auc:0.84261\n",
      "[179]\tvalidation_0-auc:0.84835\tvalidation_1-auc:0.84273\n",
      "[180]\tvalidation_0-auc:0.84837\tvalidation_1-auc:0.84266\n",
      "[181]\tvalidation_0-auc:0.84839\tvalidation_1-auc:0.84257\n",
      "[182]\tvalidation_0-auc:0.84845\tvalidation_1-auc:0.84271\n",
      "[183]\tvalidation_0-auc:0.84848\tvalidation_1-auc:0.84273\n",
      "[184]\tvalidation_0-auc:0.84851\tvalidation_1-auc:0.84269\n",
      "[185]\tvalidation_0-auc:0.84853\tvalidation_1-auc:0.84274\n",
      "[186]\tvalidation_0-auc:0.84856\tvalidation_1-auc:0.84266\n",
      "[187]\tvalidation_0-auc:0.84860\tvalidation_1-auc:0.84281\n",
      "[188]\tvalidation_0-auc:0.84862\tvalidation_1-auc:0.84289\n",
      "[189]\tvalidation_0-auc:0.84865\tvalidation_1-auc:0.84293\n",
      "[190]\tvalidation_0-auc:0.84866\tvalidation_1-auc:0.84286\n",
      "[191]\tvalidation_0-auc:0.84868\tvalidation_1-auc:0.84289\n",
      "[192]\tvalidation_0-auc:0.84870\tvalidation_1-auc:0.84303\n",
      "[193]\tvalidation_0-auc:0.84876\tvalidation_1-auc:0.84299\n",
      "[194]\tvalidation_0-auc:0.84878\tvalidation_1-auc:0.84311\n",
      "[195]\tvalidation_0-auc:0.84882\tvalidation_1-auc:0.84304\n",
      "[196]\tvalidation_0-auc:0.84884\tvalidation_1-auc:0.84321\n",
      "[197]\tvalidation_0-auc:0.84884\tvalidation_1-auc:0.84321\n",
      "[198]\tvalidation_0-auc:0.84887\tvalidation_1-auc:0.84316\n",
      "[199]\tvalidation_0-auc:0.84889\tvalidation_1-auc:0.84308\n",
      "[200]\tvalidation_0-auc:0.84891\tvalidation_1-auc:0.84319\n",
      "[201]\tvalidation_0-auc:0.84894\tvalidation_1-auc:0.84309\n",
      "[202]\tvalidation_0-auc:0.84897\tvalidation_1-auc:0.84316\n",
      "[203]\tvalidation_0-auc:0.84898\tvalidation_1-auc:0.84326\n",
      "[204]\tvalidation_0-auc:0.84899\tvalidation_1-auc:0.84328\n",
      "[205]\tvalidation_0-auc:0.84903\tvalidation_1-auc:0.84329\n",
      "[206]\tvalidation_0-auc:0.84906\tvalidation_1-auc:0.84331\n",
      "[207]\tvalidation_0-auc:0.84907\tvalidation_1-auc:0.84340\n",
      "[208]\tvalidation_0-auc:0.84908\tvalidation_1-auc:0.84341\n",
      "[209]\tvalidation_0-auc:0.84911\tvalidation_1-auc:0.84345\n",
      "[210]\tvalidation_0-auc:0.84910\tvalidation_1-auc:0.84345\n",
      "[211]\tvalidation_0-auc:0.84912\tvalidation_1-auc:0.84349\n",
      "[212]\tvalidation_0-auc:0.84915\tvalidation_1-auc:0.84340\n",
      "[213]\tvalidation_0-auc:0.84916\tvalidation_1-auc:0.84343\n",
      "[214]\tvalidation_0-auc:0.84918\tvalidation_1-auc:0.84336\n",
      "[215]\tvalidation_0-auc:0.84920\tvalidation_1-auc:0.84338\n",
      "[216]\tvalidation_0-auc:0.84923\tvalidation_1-auc:0.84346\n",
      "[217]\tvalidation_0-auc:0.84924\tvalidation_1-auc:0.84349\n",
      "[218]\tvalidation_0-auc:0.84926\tvalidation_1-auc:0.84343\n",
      "[219]\tvalidation_0-auc:0.84926\tvalidation_1-auc:0.84361\n",
      "[220]\tvalidation_0-auc:0.84929\tvalidation_1-auc:0.84371\n",
      "[221]\tvalidation_0-auc:0.84930\tvalidation_1-auc:0.84368\n",
      "[222]\tvalidation_0-auc:0.84934\tvalidation_1-auc:0.84353\n",
      "[223]\tvalidation_0-auc:0.84934\tvalidation_1-auc:0.84361\n",
      "[224]\tvalidation_0-auc:0.84939\tvalidation_1-auc:0.84358\n",
      "[225]\tvalidation_0-auc:0.84942\tvalidation_1-auc:0.84358\n",
      "[226]\tvalidation_0-auc:0.84941\tvalidation_1-auc:0.84359\n",
      "[227]\tvalidation_0-auc:0.84945\tvalidation_1-auc:0.84373\n",
      "[228]\tvalidation_0-auc:0.84948\tvalidation_1-auc:0.84375\n",
      "[229]\tvalidation_0-auc:0.84949\tvalidation_1-auc:0.84383\n",
      "[230]\tvalidation_0-auc:0.84952\tvalidation_1-auc:0.84386\n",
      "[231]\tvalidation_0-auc:0.84952\tvalidation_1-auc:0.84405\n",
      "[232]\tvalidation_0-auc:0.84953\tvalidation_1-auc:0.84396\n",
      "[233]\tvalidation_0-auc:0.84955\tvalidation_1-auc:0.84398\n",
      "[234]\tvalidation_0-auc:0.84956\tvalidation_1-auc:0.84398\n",
      "[235]\tvalidation_0-auc:0.84960\tvalidation_1-auc:0.84396\n",
      "[236]\tvalidation_0-auc:0.84961\tvalidation_1-auc:0.84405\n",
      "[237]\tvalidation_0-auc:0.84964\tvalidation_1-auc:0.84406\n",
      "[238]\tvalidation_0-auc:0.84964\tvalidation_1-auc:0.84406\n",
      "[239]\tvalidation_0-auc:0.84966\tvalidation_1-auc:0.84406\n",
      "[240]\tvalidation_0-auc:0.84968\tvalidation_1-auc:0.84406\n",
      "[241]\tvalidation_0-auc:0.84969\tvalidation_1-auc:0.84411\n",
      "[242]\tvalidation_0-auc:0.84975\tvalidation_1-auc:0.84410\n",
      "[243]\tvalidation_0-auc:0.84974\tvalidation_1-auc:0.84410\n",
      "[244]\tvalidation_0-auc:0.84976\tvalidation_1-auc:0.84415\n",
      "[245]\tvalidation_0-auc:0.84978\tvalidation_1-auc:0.84423\n",
      "[246]\tvalidation_0-auc:0.84984\tvalidation_1-auc:0.84423\n",
      "[247]\tvalidation_0-auc:0.84981\tvalidation_1-auc:0.84423\n",
      "[248]\tvalidation_0-auc:0.84981\tvalidation_1-auc:0.84431\n",
      "[249]\tvalidation_0-auc:0.84982\tvalidation_1-auc:0.84440\n",
      "[250]\tvalidation_0-auc:0.84983\tvalidation_1-auc:0.84448\n",
      "[251]\tvalidation_0-auc:0.84985\tvalidation_1-auc:0.84443\n",
      "[252]\tvalidation_0-auc:0.84987\tvalidation_1-auc:0.84448\n",
      "[253]\tvalidation_0-auc:0.84991\tvalidation_1-auc:0.84452\n",
      "[254]\tvalidation_0-auc:0.84992\tvalidation_1-auc:0.84442\n",
      "[255]\tvalidation_0-auc:0.84992\tvalidation_1-auc:0.84455\n",
      "[256]\tvalidation_0-auc:0.84994\tvalidation_1-auc:0.84437\n",
      "[257]\tvalidation_0-auc:0.84994\tvalidation_1-auc:0.84440\n",
      "[258]\tvalidation_0-auc:0.84998\tvalidation_1-auc:0.84437\n",
      "[259]\tvalidation_0-auc:0.85001\tvalidation_1-auc:0.84440\n",
      "[260]\tvalidation_0-auc:0.85000\tvalidation_1-auc:0.84455\n",
      "[261]\tvalidation_0-auc:0.85004\tvalidation_1-auc:0.84447\n",
      "[262]\tvalidation_0-auc:0.85007\tvalidation_1-auc:0.84438\n",
      "[263]\tvalidation_0-auc:0.85013\tvalidation_1-auc:0.84428\n",
      "[264]\tvalidation_0-auc:0.85014\tvalidation_1-auc:0.84443\n",
      "[265]\tvalidation_0-auc:0.85015\tvalidation_1-auc:0.84457\n",
      "[266]\tvalidation_0-auc:0.85016\tvalidation_1-auc:0.84445\n",
      "[267]\tvalidation_0-auc:0.85015\tvalidation_1-auc:0.84460\n",
      "[268]\tvalidation_0-auc:0.85020\tvalidation_1-auc:0.84460\n",
      "[269]\tvalidation_0-auc:0.85020\tvalidation_1-auc:0.84460\n",
      "[270]\tvalidation_0-auc:0.85020\tvalidation_1-auc:0.84465\n",
      "[271]\tvalidation_0-auc:0.85019\tvalidation_1-auc:0.84473\n",
      "[272]\tvalidation_0-auc:0.85025\tvalidation_1-auc:0.84452\n",
      "[273]\tvalidation_0-auc:0.85026\tvalidation_1-auc:0.84457\n",
      "[274]\tvalidation_0-auc:0.85028\tvalidation_1-auc:0.84448\n",
      "[275]\tvalidation_0-auc:0.85030\tvalidation_1-auc:0.84463\n",
      "[276]\tvalidation_0-auc:0.85032\tvalidation_1-auc:0.84462\n",
      "[277]\tvalidation_0-auc:0.85035\tvalidation_1-auc:0.84480\n",
      "[278]\tvalidation_0-auc:0.85035\tvalidation_1-auc:0.84475\n",
      "[279]\tvalidation_0-auc:0.85037\tvalidation_1-auc:0.84487\n",
      "[280]\tvalidation_0-auc:0.85037\tvalidation_1-auc:0.84493\n"
     ]
    },
    {
     "name": "stdout",
     "output_type": "stream",
     "text": [
      "[281]\tvalidation_0-auc:0.85040\tvalidation_1-auc:0.84487\n",
      "[282]\tvalidation_0-auc:0.85040\tvalidation_1-auc:0.84497\n",
      "[283]\tvalidation_0-auc:0.85040\tvalidation_1-auc:0.84482\n",
      "[284]\tvalidation_0-auc:0.85040\tvalidation_1-auc:0.84497\n",
      "[285]\tvalidation_0-auc:0.85043\tvalidation_1-auc:0.84493\n",
      "[286]\tvalidation_0-auc:0.85047\tvalidation_1-auc:0.84492\n",
      "[287]\tvalidation_0-auc:0.85049\tvalidation_1-auc:0.84483\n",
      "[288]\tvalidation_0-auc:0.85052\tvalidation_1-auc:0.84482\n",
      "[289]\tvalidation_0-auc:0.85051\tvalidation_1-auc:0.84497\n",
      "[290]\tvalidation_0-auc:0.85051\tvalidation_1-auc:0.84505\n",
      "[291]\tvalidation_0-auc:0.85052\tvalidation_1-auc:0.84505\n",
      "[292]\tvalidation_0-auc:0.85053\tvalidation_1-auc:0.84512\n",
      "[293]\tvalidation_0-auc:0.85056\tvalidation_1-auc:0.84515\n",
      "[294]\tvalidation_0-auc:0.85057\tvalidation_1-auc:0.84513\n",
      "[295]\tvalidation_0-auc:0.85057\tvalidation_1-auc:0.84518\n",
      "[296]\tvalidation_0-auc:0.85061\tvalidation_1-auc:0.84508\n",
      "[297]\tvalidation_0-auc:0.85063\tvalidation_1-auc:0.84517\n",
      "[298]\tvalidation_0-auc:0.85065\tvalidation_1-auc:0.84517\n",
      "[299]\tvalidation_0-auc:0.85066\tvalidation_1-auc:0.84521\n",
      "[300]\tvalidation_0-auc:0.85067\tvalidation_1-auc:0.84527\n",
      "[301]\tvalidation_0-auc:0.85070\tvalidation_1-auc:0.84523\n",
      "[302]\tvalidation_0-auc:0.85074\tvalidation_1-auc:0.84518\n",
      "[303]\tvalidation_0-auc:0.85071\tvalidation_1-auc:0.84525\n",
      "[304]\tvalidation_0-auc:0.85073\tvalidation_1-auc:0.84527\n",
      "[305]\tvalidation_0-auc:0.85076\tvalidation_1-auc:0.84525\n",
      "[306]\tvalidation_0-auc:0.85079\tvalidation_1-auc:0.84525\n",
      "[307]\tvalidation_0-auc:0.85080\tvalidation_1-auc:0.84523\n",
      "[308]\tvalidation_0-auc:0.85081\tvalidation_1-auc:0.84533\n",
      "[309]\tvalidation_0-auc:0.85084\tvalidation_1-auc:0.84535\n",
      "[310]\tvalidation_0-auc:0.85086\tvalidation_1-auc:0.84550\n",
      "[311]\tvalidation_0-auc:0.85089\tvalidation_1-auc:0.84547\n",
      "[312]\tvalidation_0-auc:0.85090\tvalidation_1-auc:0.84547\n",
      "[313]\tvalidation_0-auc:0.85091\tvalidation_1-auc:0.84549\n",
      "[314]\tvalidation_0-auc:0.85093\tvalidation_1-auc:0.84555\n",
      "[315]\tvalidation_0-auc:0.85094\tvalidation_1-auc:0.84562\n",
      "[316]\tvalidation_0-auc:0.85094\tvalidation_1-auc:0.84562\n",
      "[317]\tvalidation_0-auc:0.85095\tvalidation_1-auc:0.84575\n",
      "[318]\tvalidation_0-auc:0.85097\tvalidation_1-auc:0.84574\n",
      "[319]\tvalidation_0-auc:0.85097\tvalidation_1-auc:0.84572\n",
      "[320]\tvalidation_0-auc:0.85099\tvalidation_1-auc:0.84575\n",
      "[321]\tvalidation_0-auc:0.85099\tvalidation_1-auc:0.84572\n",
      "[322]\tvalidation_0-auc:0.85100\tvalidation_1-auc:0.84575\n",
      "[323]\tvalidation_0-auc:0.85103\tvalidation_1-auc:0.84587\n",
      "[324]\tvalidation_0-auc:0.85106\tvalidation_1-auc:0.84580\n",
      "[325]\tvalidation_0-auc:0.85105\tvalidation_1-auc:0.84577\n",
      "[326]\tvalidation_0-auc:0.85106\tvalidation_1-auc:0.84577\n",
      "[327]\tvalidation_0-auc:0.85109\tvalidation_1-auc:0.84580\n",
      "[328]\tvalidation_0-auc:0.85110\tvalidation_1-auc:0.84587\n",
      "[329]\tvalidation_0-auc:0.85111\tvalidation_1-auc:0.84582\n",
      "[330]\tvalidation_0-auc:0.85115\tvalidation_1-auc:0.84579\n",
      "[331]\tvalidation_0-auc:0.85117\tvalidation_1-auc:0.84582\n",
      "[332]\tvalidation_0-auc:0.85118\tvalidation_1-auc:0.84587\n",
      "[333]\tvalidation_0-auc:0.85119\tvalidation_1-auc:0.84595\n",
      "[334]\tvalidation_0-auc:0.85120\tvalidation_1-auc:0.84605\n",
      "[335]\tvalidation_0-auc:0.85124\tvalidation_1-auc:0.84610\n",
      "[336]\tvalidation_0-auc:0.85123\tvalidation_1-auc:0.84599\n",
      "[337]\tvalidation_0-auc:0.85125\tvalidation_1-auc:0.84610\n",
      "[338]\tvalidation_0-auc:0.85125\tvalidation_1-auc:0.84614\n",
      "[339]\tvalidation_0-auc:0.85127\tvalidation_1-auc:0.84615\n",
      "[340]\tvalidation_0-auc:0.85129\tvalidation_1-auc:0.84609\n",
      "[341]\tvalidation_0-auc:0.85129\tvalidation_1-auc:0.84622\n",
      "[342]\tvalidation_0-auc:0.85131\tvalidation_1-auc:0.84615\n",
      "[343]\tvalidation_0-auc:0.85133\tvalidation_1-auc:0.84624\n",
      "[344]\tvalidation_0-auc:0.85135\tvalidation_1-auc:0.84627\n",
      "[345]\tvalidation_0-auc:0.85135\tvalidation_1-auc:0.84627\n",
      "[346]\tvalidation_0-auc:0.85135\tvalidation_1-auc:0.84624\n",
      "[347]\tvalidation_0-auc:0.85138\tvalidation_1-auc:0.84617\n",
      "[348]\tvalidation_0-auc:0.85139\tvalidation_1-auc:0.84615\n",
      "[349]\tvalidation_0-auc:0.85143\tvalidation_1-auc:0.84629\n",
      "[350]\tvalidation_0-auc:0.85147\tvalidation_1-auc:0.84634\n",
      "[351]\tvalidation_0-auc:0.85149\tvalidation_1-auc:0.84637\n",
      "[352]\tvalidation_0-auc:0.85150\tvalidation_1-auc:0.84637\n",
      "[353]\tvalidation_0-auc:0.85148\tvalidation_1-auc:0.84624\n",
      "[354]\tvalidation_0-auc:0.85150\tvalidation_1-auc:0.84629\n",
      "[355]\tvalidation_0-auc:0.85151\tvalidation_1-auc:0.84635\n",
      "[356]\tvalidation_0-auc:0.85152\tvalidation_1-auc:0.84632\n",
      "[357]\tvalidation_0-auc:0.85151\tvalidation_1-auc:0.84634\n",
      "[358]\tvalidation_0-auc:0.85154\tvalidation_1-auc:0.84632\n",
      "[359]\tvalidation_0-auc:0.85153\tvalidation_1-auc:0.84625\n",
      "[360]\tvalidation_0-auc:0.85157\tvalidation_1-auc:0.84637\n",
      "[361]\tvalidation_0-auc:0.85156\tvalidation_1-auc:0.84635\n",
      "[362]\tvalidation_0-auc:0.85159\tvalidation_1-auc:0.84629\n",
      "[363]\tvalidation_0-auc:0.85162\tvalidation_1-auc:0.84629\n",
      "[364]\tvalidation_0-auc:0.85163\tvalidation_1-auc:0.84629\n",
      "[365]\tvalidation_0-auc:0.85166\tvalidation_1-auc:0.84627\n",
      "[366]\tvalidation_0-auc:0.85167\tvalidation_1-auc:0.84640\n",
      "[367]\tvalidation_0-auc:0.85171\tvalidation_1-auc:0.84639\n",
      "[368]\tvalidation_0-auc:0.85171\tvalidation_1-auc:0.84645\n",
      "[369]\tvalidation_0-auc:0.85176\tvalidation_1-auc:0.84647\n",
      "[370]\tvalidation_0-auc:0.85174\tvalidation_1-auc:0.84652\n",
      "[371]\tvalidation_0-auc:0.85177\tvalidation_1-auc:0.84650\n",
      "[372]\tvalidation_0-auc:0.85178\tvalidation_1-auc:0.84651\n",
      "[373]\tvalidation_0-auc:0.85179\tvalidation_1-auc:0.84649\n",
      "[374]\tvalidation_0-auc:0.85181\tvalidation_1-auc:0.84649\n",
      "[375]\tvalidation_0-auc:0.85182\tvalidation_1-auc:0.84645\n",
      "[376]\tvalidation_0-auc:0.85183\tvalidation_1-auc:0.84645\n",
      "[377]\tvalidation_0-auc:0.85187\tvalidation_1-auc:0.84649\n",
      "[378]\tvalidation_0-auc:0.85187\tvalidation_1-auc:0.84659\n",
      "[379]\tvalidation_0-auc:0.85188\tvalidation_1-auc:0.84662\n",
      "[380]\tvalidation_0-auc:0.85190\tvalidation_1-auc:0.84666\n",
      "[381]\tvalidation_0-auc:0.85191\tvalidation_1-auc:0.84654\n",
      "[382]\tvalidation_0-auc:0.85193\tvalidation_1-auc:0.84666\n",
      "[383]\tvalidation_0-auc:0.85194\tvalidation_1-auc:0.84659\n",
      "[384]\tvalidation_0-auc:0.85195\tvalidation_1-auc:0.84655\n",
      "[385]\tvalidation_0-auc:0.85195\tvalidation_1-auc:0.84659\n",
      "[386]\tvalidation_0-auc:0.85196\tvalidation_1-auc:0.84661\n",
      "[387]\tvalidation_0-auc:0.85197\tvalidation_1-auc:0.84661\n",
      "[388]\tvalidation_0-auc:0.85198\tvalidation_1-auc:0.84662\n",
      "[389]\tvalidation_0-auc:0.85199\tvalidation_1-auc:0.84664\n",
      "[390]\tvalidation_0-auc:0.85199\tvalidation_1-auc:0.84662\n",
      "[391]\tvalidation_0-auc:0.85200\tvalidation_1-auc:0.84659\n",
      "[392]\tvalidation_0-auc:0.85201\tvalidation_1-auc:0.84657\n",
      "[393]\tvalidation_0-auc:0.85203\tvalidation_1-auc:0.84657\n",
      "[394]\tvalidation_0-auc:0.85203\tvalidation_1-auc:0.84659\n",
      "[395]\tvalidation_0-auc:0.85205\tvalidation_1-auc:0.84664\n",
      "[396]\tvalidation_0-auc:0.85205\tvalidation_1-auc:0.84672\n",
      "[397]\tvalidation_0-auc:0.85207\tvalidation_1-auc:0.84667\n",
      "[398]\tvalidation_0-auc:0.85209\tvalidation_1-auc:0.84669\n",
      "[399]\tvalidation_0-auc:0.85210\tvalidation_1-auc:0.84662\n",
      "[400]\tvalidation_0-auc:0.85209\tvalidation_1-auc:0.84666\n",
      "[401]\tvalidation_0-auc:0.85209\tvalidation_1-auc:0.84666\n",
      "[402]\tvalidation_0-auc:0.85210\tvalidation_1-auc:0.84667\n",
      "[403]\tvalidation_0-auc:0.85213\tvalidation_1-auc:0.84691\n",
      "[404]\tvalidation_0-auc:0.85213\tvalidation_1-auc:0.84671\n",
      "[405]\tvalidation_0-auc:0.85214\tvalidation_1-auc:0.84679\n",
      "[406]\tvalidation_0-auc:0.85214\tvalidation_1-auc:0.84679\n",
      "[407]\tvalidation_0-auc:0.85217\tvalidation_1-auc:0.84682\n",
      "[408]\tvalidation_0-auc:0.85216\tvalidation_1-auc:0.84692\n",
      "[409]\tvalidation_0-auc:0.85217\tvalidation_1-auc:0.84699\n",
      "[410]\tvalidation_0-auc:0.85217\tvalidation_1-auc:0.84692\n",
      "[411]\tvalidation_0-auc:0.85218\tvalidation_1-auc:0.84692\n",
      "[412]\tvalidation_0-auc:0.85220\tvalidation_1-auc:0.84697\n",
      "[413]\tvalidation_0-auc:0.85221\tvalidation_1-auc:0.84701\n",
      "[414]\tvalidation_0-auc:0.85222\tvalidation_1-auc:0.84699\n",
      "[415]\tvalidation_0-auc:0.85224\tvalidation_1-auc:0.84699\n",
      "[416]\tvalidation_0-auc:0.85222\tvalidation_1-auc:0.84704\n",
      "[417]\tvalidation_0-auc:0.85223\tvalidation_1-auc:0.84712\n",
      "[418]\tvalidation_0-auc:0.85225\tvalidation_1-auc:0.84701\n",
      "[419]\tvalidation_0-auc:0.85226\tvalidation_1-auc:0.84706\n",
      "[420]\tvalidation_0-auc:0.85226\tvalidation_1-auc:0.84701\n",
      "[421]\tvalidation_0-auc:0.85227\tvalidation_1-auc:0.84699\n",
      "[422]\tvalidation_0-auc:0.85229\tvalidation_1-auc:0.84716\n",
      "[423]\tvalidation_0-auc:0.85230\tvalidation_1-auc:0.84709\n",
      "[424]\tvalidation_0-auc:0.85228\tvalidation_1-auc:0.84709\n",
      "[425]\tvalidation_0-auc:0.85232\tvalidation_1-auc:0.84707\n",
      "[426]\tvalidation_0-auc:0.85233\tvalidation_1-auc:0.84709\n",
      "[427]\tvalidation_0-auc:0.85235\tvalidation_1-auc:0.84714\n"
     ]
    },
    {
     "name": "stdout",
     "output_type": "stream",
     "text": [
      "[428]\tvalidation_0-auc:0.85235\tvalidation_1-auc:0.84712\n",
      "[429]\tvalidation_0-auc:0.85235\tvalidation_1-auc:0.84704\n",
      "[430]\tvalidation_0-auc:0.85237\tvalidation_1-auc:0.84711\n",
      "[431]\tvalidation_0-auc:0.85236\tvalidation_1-auc:0.84711\n",
      "[432]\tvalidation_0-auc:0.85240\tvalidation_1-auc:0.84707\n",
      "[433]\tvalidation_0-auc:0.85237\tvalidation_1-auc:0.84694\n",
      "[434]\tvalidation_0-auc:0.85238\tvalidation_1-auc:0.84696\n",
      "[435]\tvalidation_0-auc:0.85240\tvalidation_1-auc:0.84701\n",
      "[436]\tvalidation_0-auc:0.85241\tvalidation_1-auc:0.84712\n",
      "[437]\tvalidation_0-auc:0.85241\tvalidation_1-auc:0.84707\n",
      "[438]\tvalidation_0-auc:0.85242\tvalidation_1-auc:0.84706\n",
      "[439]\tvalidation_0-auc:0.85244\tvalidation_1-auc:0.84709\n",
      "[440]\tvalidation_0-auc:0.85245\tvalidation_1-auc:0.84709\n",
      "[441]\tvalidation_0-auc:0.85244\tvalidation_1-auc:0.84712\n",
      "[0.8054849498327759, 0.8471404682274247]\n",
      "[0]\tvalidation_0-auc:0.64992\tvalidation_1-auc:0.69137\n",
      "[1]\tvalidation_0-auc:0.68277\tvalidation_1-auc:0.73849\n",
      "[2]\tvalidation_0-auc:0.72345\tvalidation_1-auc:0.77585\n",
      "[3]\tvalidation_0-auc:0.75455\tvalidation_1-auc:0.79742\n",
      "[4]\tvalidation_0-auc:0.77751\tvalidation_1-auc:0.80623\n",
      "[5]\tvalidation_0-auc:0.79277\tvalidation_1-auc:0.81823\n",
      "[6]\tvalidation_0-auc:0.79827\tvalidation_1-auc:0.82253\n",
      "[7]\tvalidation_0-auc:0.80300\tvalidation_1-auc:0.82668\n",
      "[8]\tvalidation_0-auc:0.80682\tvalidation_1-auc:0.82963\n",
      "[9]\tvalidation_0-auc:0.81033\tvalidation_1-auc:0.83199\n",
      "[10]\tvalidation_0-auc:0.81423\tvalidation_1-auc:0.83417\n",
      "[11]\tvalidation_0-auc:0.81728\tvalidation_1-auc:0.83591\n",
      "[12]\tvalidation_0-auc:0.82008\tvalidation_1-auc:0.83762\n",
      "[13]\tvalidation_0-auc:0.82157\tvalidation_1-auc:0.84002\n",
      "[14]\tvalidation_0-auc:0.82343\tvalidation_1-auc:0.84142\n",
      "[15]\tvalidation_0-auc:0.82490\tvalidation_1-auc:0.84346\n",
      "[16]\tvalidation_0-auc:0.82620\tvalidation_1-auc:0.84381\n",
      "[17]\tvalidation_0-auc:0.82763\tvalidation_1-auc:0.84591\n",
      "[18]\tvalidation_0-auc:0.82862\tvalidation_1-auc:0.84710\n",
      "[19]\tvalidation_0-auc:0.82934\tvalidation_1-auc:0.84776\n",
      "[20]\tvalidation_0-auc:0.83036\tvalidation_1-auc:0.84913\n",
      "[21]\tvalidation_0-auc:0.83125\tvalidation_1-auc:0.84950\n",
      "[22]\tvalidation_0-auc:0.83176\tvalidation_1-auc:0.85031\n",
      "[23]\tvalidation_0-auc:0.83230\tvalidation_1-auc:0.85118\n",
      "[24]\tvalidation_0-auc:0.83250\tvalidation_1-auc:0.85101\n",
      "[25]\tvalidation_0-auc:0.83312\tvalidation_1-auc:0.85090\n",
      "[26]\tvalidation_0-auc:0.83375\tvalidation_1-auc:0.85118\n",
      "[27]\tvalidation_0-auc:0.83414\tvalidation_1-auc:0.85155\n",
      "[28]\tvalidation_0-auc:0.83446\tvalidation_1-auc:0.85209\n",
      "[29]\tvalidation_0-auc:0.83478\tvalidation_1-auc:0.85238\n",
      "[30]\tvalidation_0-auc:0.83517\tvalidation_1-auc:0.85265\n",
      "[31]\tvalidation_0-auc:0.83550\tvalidation_1-auc:0.85294\n",
      "[32]\tvalidation_0-auc:0.83579\tvalidation_1-auc:0.85295\n",
      "[33]\tvalidation_0-auc:0.83613\tvalidation_1-auc:0.85333\n",
      "[34]\tvalidation_0-auc:0.83638\tvalidation_1-auc:0.85346\n",
      "[35]\tvalidation_0-auc:0.83660\tvalidation_1-auc:0.85364\n",
      "[36]\tvalidation_0-auc:0.83688\tvalidation_1-auc:0.85402\n",
      "[37]\tvalidation_0-auc:0.83710\tvalidation_1-auc:0.85385\n",
      "[38]\tvalidation_0-auc:0.83730\tvalidation_1-auc:0.85400\n",
      "[39]\tvalidation_0-auc:0.83748\tvalidation_1-auc:0.85343\n",
      "[40]\tvalidation_0-auc:0.83772\tvalidation_1-auc:0.85348\n",
      "[41]\tvalidation_0-auc:0.83784\tvalidation_1-auc:0.85354\n",
      "[42]\tvalidation_0-auc:0.83796\tvalidation_1-auc:0.85349\n",
      "[43]\tvalidation_0-auc:0.83817\tvalidation_1-auc:0.85385\n",
      "[44]\tvalidation_0-auc:0.83829\tvalidation_1-auc:0.85359\n",
      "[45]\tvalidation_0-auc:0.83834\tvalidation_1-auc:0.85359\n",
      "[46]\tvalidation_0-auc:0.83853\tvalidation_1-auc:0.85366\n",
      "[47]\tvalidation_0-auc:0.83862\tvalidation_1-auc:0.85359\n",
      "[48]\tvalidation_0-auc:0.83866\tvalidation_1-auc:0.85385\n",
      "[49]\tvalidation_0-auc:0.83875\tvalidation_1-auc:0.85385\n",
      "[50]\tvalidation_0-auc:0.83888\tvalidation_1-auc:0.85373\n",
      "[51]\tvalidation_0-auc:0.83899\tvalidation_1-auc:0.85358\n",
      "[52]\tvalidation_0-auc:0.83906\tvalidation_1-auc:0.85380\n",
      "[53]\tvalidation_0-auc:0.83913\tvalidation_1-auc:0.85391\n",
      "[54]\tvalidation_0-auc:0.83921\tvalidation_1-auc:0.85371\n",
      "[55]\tvalidation_0-auc:0.83932\tvalidation_1-auc:0.85388\n",
      "[56]\tvalidation_0-auc:0.83944\tvalidation_1-auc:0.85405\n",
      "[57]\tvalidation_0-auc:0.83952\tvalidation_1-auc:0.85427\n",
      "[58]\tvalidation_0-auc:0.83959\tvalidation_1-auc:0.85398\n",
      "[59]\tvalidation_0-auc:0.83966\tvalidation_1-auc:0.85403\n",
      "[60]\tvalidation_0-auc:0.83969\tvalidation_1-auc:0.85402\n",
      "[61]\tvalidation_0-auc:0.83977\tvalidation_1-auc:0.85402\n",
      "[62]\tvalidation_0-auc:0.83981\tvalidation_1-auc:0.85408\n",
      "[63]\tvalidation_0-auc:0.83987\tvalidation_1-auc:0.85396\n",
      "[64]\tvalidation_0-auc:0.83994\tvalidation_1-auc:0.85370\n",
      "[65]\tvalidation_0-auc:0.84001\tvalidation_1-auc:0.85368\n",
      "[66]\tvalidation_0-auc:0.84004\tvalidation_1-auc:0.85395\n",
      "[67]\tvalidation_0-auc:0.84008\tvalidation_1-auc:0.85378\n",
      "[68]\tvalidation_0-auc:0.84014\tvalidation_1-auc:0.85418\n",
      "[69]\tvalidation_0-auc:0.84021\tvalidation_1-auc:0.85396\n",
      "[70]\tvalidation_0-auc:0.84027\tvalidation_1-auc:0.85413\n",
      "[71]\tvalidation_0-auc:0.84030\tvalidation_1-auc:0.85402\n",
      "[72]\tvalidation_0-auc:0.84031\tvalidation_1-auc:0.85405\n",
      "[73]\tvalidation_0-auc:0.84033\tvalidation_1-auc:0.85391\n",
      "[74]\tvalidation_0-auc:0.84038\tvalidation_1-auc:0.85391\n",
      "[75]\tvalidation_0-auc:0.84043\tvalidation_1-auc:0.85391\n",
      "[76]\tvalidation_0-auc:0.84041\tvalidation_1-auc:0.85385\n",
      "[0.8054849498327759, 0.8471404682274247, 0.8539653631473331]\n",
      "[0]\tvalidation_0-auc:0.74859\tvalidation_1-auc:0.69002\n",
      "[1]\tvalidation_0-auc:0.76069\tvalidation_1-auc:0.70533\n",
      "[2]\tvalidation_0-auc:0.78016\tvalidation_1-auc:0.73253\n",
      "[3]\tvalidation_0-auc:0.79391\tvalidation_1-auc:0.75201\n",
      "[4]\tvalidation_0-auc:0.79957\tvalidation_1-auc:0.76149\n",
      "[5]\tvalidation_0-auc:0.80455\tvalidation_1-auc:0.76946\n",
      "[6]\tvalidation_0-auc:0.80945\tvalidation_1-auc:0.77690\n",
      "[7]\tvalidation_0-auc:0.81311\tvalidation_1-auc:0.78295\n",
      "[8]\tvalidation_0-auc:0.81675\tvalidation_1-auc:0.78801\n",
      "[9]\tvalidation_0-auc:0.82008\tvalidation_1-auc:0.79235\n",
      "[10]\tvalidation_0-auc:0.82324\tvalidation_1-auc:0.79606\n",
      "[11]\tvalidation_0-auc:0.82600\tvalidation_1-auc:0.79908\n",
      "[12]\tvalidation_0-auc:0.82786\tvalidation_1-auc:0.80157\n",
      "[13]\tvalidation_0-auc:0.82957\tvalidation_1-auc:0.80339\n",
      "[14]\tvalidation_0-auc:0.83091\tvalidation_1-auc:0.80456\n",
      "[15]\tvalidation_0-auc:0.83288\tvalidation_1-auc:0.80653\n",
      "[16]\tvalidation_0-auc:0.83417\tvalidation_1-auc:0.80837\n",
      "[17]\tvalidation_0-auc:0.83554\tvalidation_1-auc:0.80987\n",
      "[18]\tvalidation_0-auc:0.83657\tvalidation_1-auc:0.81037\n",
      "[19]\tvalidation_0-auc:0.83771\tvalidation_1-auc:0.81149\n",
      "[20]\tvalidation_0-auc:0.83854\tvalidation_1-auc:0.81186\n",
      "[21]\tvalidation_0-auc:0.83913\tvalidation_1-auc:0.81243\n",
      "[22]\tvalidation_0-auc:0.83980\tvalidation_1-auc:0.81294\n",
      "[23]\tvalidation_0-auc:0.84052\tvalidation_1-auc:0.81383\n",
      "[24]\tvalidation_0-auc:0.84111\tvalidation_1-auc:0.81424\n",
      "[25]\tvalidation_0-auc:0.84159\tvalidation_1-auc:0.81473\n",
      "[26]\tvalidation_0-auc:0.84201\tvalidation_1-auc:0.81494\n",
      "[27]\tvalidation_0-auc:0.84243\tvalidation_1-auc:0.81533\n",
      "[28]\tvalidation_0-auc:0.84286\tvalidation_1-auc:0.81562\n",
      "[29]\tvalidation_0-auc:0.84323\tvalidation_1-auc:0.81569\n",
      "[30]\tvalidation_0-auc:0.84367\tvalidation_1-auc:0.81592\n",
      "[31]\tvalidation_0-auc:0.84392\tvalidation_1-auc:0.81628\n",
      "[32]\tvalidation_0-auc:0.84419\tvalidation_1-auc:0.81649\n",
      "[33]\tvalidation_0-auc:0.84451\tvalidation_1-auc:0.81649\n",
      "[34]\tvalidation_0-auc:0.84482\tvalidation_1-auc:0.81639\n",
      "[35]\tvalidation_0-auc:0.84509\tvalidation_1-auc:0.81633\n",
      "[36]\tvalidation_0-auc:0.84531\tvalidation_1-auc:0.81643\n",
      "[37]\tvalidation_0-auc:0.84557\tvalidation_1-auc:0.81649\n",
      "[38]\tvalidation_0-auc:0.84575\tvalidation_1-auc:0.81666\n",
      "[39]\tvalidation_0-auc:0.84593\tvalidation_1-auc:0.81651\n",
      "[40]\tvalidation_0-auc:0.84609\tvalidation_1-auc:0.81649\n",
      "[41]\tvalidation_0-auc:0.84637\tvalidation_1-auc:0.81655\n",
      "[42]\tvalidation_0-auc:0.84652\tvalidation_1-auc:0.81655\n",
      "[43]\tvalidation_0-auc:0.84681\tvalidation_1-auc:0.81644\n",
      "[44]\tvalidation_0-auc:0.84699\tvalidation_1-auc:0.81665\n",
      "[45]\tvalidation_0-auc:0.84714\tvalidation_1-auc:0.81658\n",
      "[46]\tvalidation_0-auc:0.84730\tvalidation_1-auc:0.81644\n",
      "[47]\tvalidation_0-auc:0.84742\tvalidation_1-auc:0.81670\n",
      "[48]\tvalidation_0-auc:0.84755\tvalidation_1-auc:0.81636\n",
      "[49]\tvalidation_0-auc:0.84766\tvalidation_1-auc:0.81631\n",
      "[50]\tvalidation_0-auc:0.84783\tvalidation_1-auc:0.81626\n",
      "[51]\tvalidation_0-auc:0.84800\tvalidation_1-auc:0.81612\n",
      "[52]\tvalidation_0-auc:0.84816\tvalidation_1-auc:0.81590\n",
      "[53]\tvalidation_0-auc:0.84826\tvalidation_1-auc:0.81601\n",
      "[54]\tvalidation_0-auc:0.84840\tvalidation_1-auc:0.81623\n",
      "[55]\tvalidation_0-auc:0.84848\tvalidation_1-auc:0.81589\n",
      "[56]\tvalidation_0-auc:0.84858\tvalidation_1-auc:0.81607\n"
     ]
    },
    {
     "name": "stdout",
     "output_type": "stream",
     "text": [
      "[57]\tvalidation_0-auc:0.84869\tvalidation_1-auc:0.81589\n",
      "[58]\tvalidation_0-auc:0.84887\tvalidation_1-auc:0.81584\n",
      "[59]\tvalidation_0-auc:0.84899\tvalidation_1-auc:0.81585\n",
      "[60]\tvalidation_0-auc:0.84906\tvalidation_1-auc:0.81584\n",
      "[61]\tvalidation_0-auc:0.84914\tvalidation_1-auc:0.81596\n",
      "[62]\tvalidation_0-auc:0.84927\tvalidation_1-auc:0.81585\n",
      "[63]\tvalidation_0-auc:0.84941\tvalidation_1-auc:0.81606\n",
      "[64]\tvalidation_0-auc:0.84953\tvalidation_1-auc:0.81599\n",
      "[65]\tvalidation_0-auc:0.84962\tvalidation_1-auc:0.81597\n",
      "[66]\tvalidation_0-auc:0.84968\tvalidation_1-auc:0.81611\n",
      "[0.8054849498327759, 0.8471404682274247, 0.8539653631473331, 0.8161919697812854]\n",
      "[0]\tvalidation_0-auc:0.74537\tvalidation_1-auc:0.72898\n",
      "[1]\tvalidation_0-auc:0.76516\tvalidation_1-auc:0.74957\n",
      "[2]\tvalidation_0-auc:0.79025\tvalidation_1-auc:0.77653\n",
      "[3]\tvalidation_0-auc:0.80199\tvalidation_1-auc:0.78612\n",
      "[4]\tvalidation_0-auc:0.80972\tvalidation_1-auc:0.79188\n",
      "[5]\tvalidation_0-auc:0.81497\tvalidation_1-auc:0.79683\n",
      "[6]\tvalidation_0-auc:0.81841\tvalidation_1-auc:0.80001\n",
      "[7]\tvalidation_0-auc:0.82160\tvalidation_1-auc:0.80279\n",
      "[8]\tvalidation_0-auc:0.82423\tvalidation_1-auc:0.80585\n",
      "[9]\tvalidation_0-auc:0.82679\tvalidation_1-auc:0.80840\n",
      "[10]\tvalidation_0-auc:0.82884\tvalidation_1-auc:0.81045\n",
      "[11]\tvalidation_0-auc:0.83032\tvalidation_1-auc:0.81198\n",
      "[12]\tvalidation_0-auc:0.83210\tvalidation_1-auc:0.81384\n",
      "[13]\tvalidation_0-auc:0.83325\tvalidation_1-auc:0.81507\n",
      "[14]\tvalidation_0-auc:0.83454\tvalidation_1-auc:0.81607\n",
      "[15]\tvalidation_0-auc:0.83575\tvalidation_1-auc:0.81720\n",
      "[16]\tvalidation_0-auc:0.83674\tvalidation_1-auc:0.81845\n",
      "[17]\tvalidation_0-auc:0.83757\tvalidation_1-auc:0.81942\n",
      "[18]\tvalidation_0-auc:0.83837\tvalidation_1-auc:0.82026\n",
      "[19]\tvalidation_0-auc:0.83910\tvalidation_1-auc:0.82124\n",
      "[20]\tvalidation_0-auc:0.83959\tvalidation_1-auc:0.82202\n",
      "[21]\tvalidation_0-auc:0.84016\tvalidation_1-auc:0.82269\n",
      "[22]\tvalidation_0-auc:0.84065\tvalidation_1-auc:0.82350\n",
      "[23]\tvalidation_0-auc:0.84110\tvalidation_1-auc:0.82430\n",
      "[24]\tvalidation_0-auc:0.84136\tvalidation_1-auc:0.82469\n",
      "[25]\tvalidation_0-auc:0.84173\tvalidation_1-auc:0.82522\n",
      "[26]\tvalidation_0-auc:0.84203\tvalidation_1-auc:0.82607\n",
      "[27]\tvalidation_0-auc:0.84240\tvalidation_1-auc:0.82658\n",
      "[28]\tvalidation_0-auc:0.84260\tvalidation_1-auc:0.82707\n",
      "[29]\tvalidation_0-auc:0.84291\tvalidation_1-auc:0.82759\n",
      "[30]\tvalidation_0-auc:0.84308\tvalidation_1-auc:0.82810\n",
      "[31]\tvalidation_0-auc:0.84333\tvalidation_1-auc:0.82830\n",
      "[32]\tvalidation_0-auc:0.84361\tvalidation_1-auc:0.82833\n",
      "[33]\tvalidation_0-auc:0.84380\tvalidation_1-auc:0.82837\n",
      "[34]\tvalidation_0-auc:0.84393\tvalidation_1-auc:0.82847\n",
      "[35]\tvalidation_0-auc:0.84412\tvalidation_1-auc:0.82850\n",
      "[36]\tvalidation_0-auc:0.84433\tvalidation_1-auc:0.82911\n",
      "[37]\tvalidation_0-auc:0.84452\tvalidation_1-auc:0.82942\n",
      "[38]\tvalidation_0-auc:0.84469\tvalidation_1-auc:0.82955\n",
      "[39]\tvalidation_0-auc:0.84476\tvalidation_1-auc:0.82992\n",
      "[40]\tvalidation_0-auc:0.84493\tvalidation_1-auc:0.83012\n",
      "[41]\tvalidation_0-auc:0.84509\tvalidation_1-auc:0.83016\n",
      "[42]\tvalidation_0-auc:0.84513\tvalidation_1-auc:0.83026\n",
      "[43]\tvalidation_0-auc:0.84522\tvalidation_1-auc:0.83031\n",
      "[44]\tvalidation_0-auc:0.84530\tvalidation_1-auc:0.83044\n",
      "[45]\tvalidation_0-auc:0.84541\tvalidation_1-auc:0.83056\n",
      "[46]\tvalidation_0-auc:0.84550\tvalidation_1-auc:0.83085\n",
      "[47]\tvalidation_0-auc:0.84560\tvalidation_1-auc:0.83082\n",
      "[48]\tvalidation_0-auc:0.84565\tvalidation_1-auc:0.83098\n",
      "[49]\tvalidation_0-auc:0.84569\tvalidation_1-auc:0.83104\n",
      "[50]\tvalidation_0-auc:0.84572\tvalidation_1-auc:0.83122\n",
      "[51]\tvalidation_0-auc:0.84575\tvalidation_1-auc:0.83136\n",
      "[52]\tvalidation_0-auc:0.84580\tvalidation_1-auc:0.83134\n",
      "[53]\tvalidation_0-auc:0.84588\tvalidation_1-auc:0.83136\n",
      "[54]\tvalidation_0-auc:0.84594\tvalidation_1-auc:0.83151\n",
      "[55]\tvalidation_0-auc:0.84602\tvalidation_1-auc:0.83149\n",
      "[56]\tvalidation_0-auc:0.84613\tvalidation_1-auc:0.83161\n",
      "[57]\tvalidation_0-auc:0.84621\tvalidation_1-auc:0.83163\n",
      "[58]\tvalidation_0-auc:0.84620\tvalidation_1-auc:0.83166\n",
      "[59]\tvalidation_0-auc:0.84624\tvalidation_1-auc:0.83166\n",
      "[60]\tvalidation_0-auc:0.84630\tvalidation_1-auc:0.83175\n",
      "[61]\tvalidation_0-auc:0.84636\tvalidation_1-auc:0.83186\n",
      "[62]\tvalidation_0-auc:0.84646\tvalidation_1-auc:0.83169\n",
      "[63]\tvalidation_0-auc:0.84650\tvalidation_1-auc:0.83181\n",
      "[64]\tvalidation_0-auc:0.84659\tvalidation_1-auc:0.83188\n",
      "[65]\tvalidation_0-auc:0.84661\tvalidation_1-auc:0.83207\n",
      "[66]\tvalidation_0-auc:0.84662\tvalidation_1-auc:0.83210\n",
      "[67]\tvalidation_0-auc:0.84662\tvalidation_1-auc:0.83215\n",
      "[68]\tvalidation_0-auc:0.84668\tvalidation_1-auc:0.83220\n",
      "[69]\tvalidation_0-auc:0.84670\tvalidation_1-auc:0.83212\n",
      "[70]\tvalidation_0-auc:0.84672\tvalidation_1-auc:0.83208\n",
      "[71]\tvalidation_0-auc:0.84672\tvalidation_1-auc:0.83208\n",
      "[72]\tvalidation_0-auc:0.84677\tvalidation_1-auc:0.83208\n",
      "[73]\tvalidation_0-auc:0.84678\tvalidation_1-auc:0.83227\n",
      "[74]\tvalidation_0-auc:0.84683\tvalidation_1-auc:0.83237\n",
      "[75]\tvalidation_0-auc:0.84687\tvalidation_1-auc:0.83245\n",
      "[76]\tvalidation_0-auc:0.84696\tvalidation_1-auc:0.83245\n",
      "[77]\tvalidation_0-auc:0.84696\tvalidation_1-auc:0.83232\n",
      "[78]\tvalidation_0-auc:0.84699\tvalidation_1-auc:0.83229\n",
      "[79]\tvalidation_0-auc:0.84702\tvalidation_1-auc:0.83218\n",
      "[80]\tvalidation_0-auc:0.84704\tvalidation_1-auc:0.83208\n",
      "[81]\tvalidation_0-auc:0.84712\tvalidation_1-auc:0.83215\n",
      "[82]\tvalidation_0-auc:0.84716\tvalidation_1-auc:0.83230\n",
      "[83]\tvalidation_0-auc:0.84716\tvalidation_1-auc:0.83242\n",
      "[84]\tvalidation_0-auc:0.84719\tvalidation_1-auc:0.83227\n",
      "[85]\tvalidation_0-auc:0.84723\tvalidation_1-auc:0.83239\n",
      "[86]\tvalidation_0-auc:0.84727\tvalidation_1-auc:0.83242\n",
      "[87]\tvalidation_0-auc:0.84730\tvalidation_1-auc:0.83247\n",
      "[88]\tvalidation_0-auc:0.84733\tvalidation_1-auc:0.83240\n",
      "[89]\tvalidation_0-auc:0.84735\tvalidation_1-auc:0.83244\n",
      "[90]\tvalidation_0-auc:0.84735\tvalidation_1-auc:0.83251\n",
      "[91]\tvalidation_0-auc:0.84735\tvalidation_1-auc:0.83251\n",
      "[92]\tvalidation_0-auc:0.84744\tvalidation_1-auc:0.83245\n",
      "[93]\tvalidation_0-auc:0.84747\tvalidation_1-auc:0.83240\n",
      "[94]\tvalidation_0-auc:0.84749\tvalidation_1-auc:0.83245\n",
      "[95]\tvalidation_0-auc:0.84753\tvalidation_1-auc:0.83234\n",
      "[96]\tvalidation_0-auc:0.84755\tvalidation_1-auc:0.83239\n",
      "[97]\tvalidation_0-auc:0.84755\tvalidation_1-auc:0.83240\n",
      "[98]\tvalidation_0-auc:0.84755\tvalidation_1-auc:0.83234\n",
      "[99]\tvalidation_0-auc:0.84758\tvalidation_1-auc:0.83239\n",
      "[100]\tvalidation_0-auc:0.84759\tvalidation_1-auc:0.83247\n",
      "[101]\tvalidation_0-auc:0.84763\tvalidation_1-auc:0.83252\n",
      "[102]\tvalidation_0-auc:0.84764\tvalidation_1-auc:0.83249\n",
      "[103]\tvalidation_0-auc:0.84769\tvalidation_1-auc:0.83229\n",
      "[104]\tvalidation_0-auc:0.84772\tvalidation_1-auc:0.83240\n",
      "[105]\tvalidation_0-auc:0.84774\tvalidation_1-auc:0.83245\n",
      "[106]\tvalidation_0-auc:0.84778\tvalidation_1-auc:0.83245\n",
      "[107]\tvalidation_0-auc:0.84781\tvalidation_1-auc:0.83235\n",
      "[108]\tvalidation_0-auc:0.84782\tvalidation_1-auc:0.83239\n",
      "[109]\tvalidation_0-auc:0.84786\tvalidation_1-auc:0.83237\n",
      "[110]\tvalidation_0-auc:0.84789\tvalidation_1-auc:0.83237\n",
      "[111]\tvalidation_0-auc:0.84791\tvalidation_1-auc:0.83244\n",
      "[112]\tvalidation_0-auc:0.84790\tvalidation_1-auc:0.83244\n",
      "[113]\tvalidation_0-auc:0.84793\tvalidation_1-auc:0.83240\n",
      "[114]\tvalidation_0-auc:0.84798\tvalidation_1-auc:0.83235\n",
      "[115]\tvalidation_0-auc:0.84804\tvalidation_1-auc:0.83225\n",
      "[116]\tvalidation_0-auc:0.84807\tvalidation_1-auc:0.83249\n",
      "[117]\tvalidation_0-auc:0.84806\tvalidation_1-auc:0.83227\n",
      "[118]\tvalidation_0-auc:0.84808\tvalidation_1-auc:0.83230\n",
      "[119]\tvalidation_0-auc:0.84813\tvalidation_1-auc:0.83230\n",
      "[120]\tvalidation_0-auc:0.84815\tvalidation_1-auc:0.83210\n",
      "[121]\tvalidation_0-auc:0.84816\tvalidation_1-auc:0.83208\n",
      "[0.8054849498327759, 0.8471404682274247, 0.8539653631473331, 0.8161919697812854, 0.8320833755616365]\n",
      "Train AUC score: 0.8488 Valid AUC score: 0.8310, STD: 0.0182\n"
     ]
    }
   ],
   "source": [
    "import xgboost as xgb\n",
    "from sklearn.linear_model import LogisticRegression\n",
    "k =1.409909059587222\n",
    "f = 30.974750642190024\n",
    "w = 11\n",
    "missing = 34\n",
    "\n",
    "\n",
    "scores = []\n",
    "tr_scores = []\n",
    "\n",
    "models = []\n",
    "skf = StratifiedKFold(n_splits=5, random_state = SEED, shuffle = True)\n",
    "\n",
    "for train_index, valid_index in skf.split(train, y):\n",
    "    train_df, valid_df, train_y, valid_y = train.loc[train_index], train.loc[valid_index], y.loc[train_index], y.loc[valid_index]\n",
    "\n",
    "#     train_df = create_random_nan(train_df, missing)\n",
    "    X_tr, X_val = create_feature(train_df, valid_df, train_y, CAT_COL, NUM_COL, CONT_COl, CONT_COl+[\"number_of_followups\"],cv =skf, w=w, k=k, f =f)\n",
    "\n",
    "#     model = get_model(\"xgb\")\n",
    "#     model = LogisticRegression(max_iter=1000)\n",
    "#     ratio = float(y.value_counts()[0]) / y.value_counts()[1]\n",
    "    params = {'n_estimators': 2048, 'learning_rate': 0.390847220586157, 'max_depth': 1,  'booster' : \"gblinear\",\n",
    "            \"eval_metric\": \"auc\",\n",
    "            \"tree_method\": 'exact',\n",
    "            'random_state': 1971,'subsample': 0.7113433792242354, 'colsample_bytree': 0.9489136845832957, 'min_child_weight': 6, 'gamma': 2.0270445702227686}\n",
    "#     params = {'max_depth':1,  'min_child_weight': 20, 'scale_pos_weight': ratio,'subsample':0.3}\n",
    "    model = xgb.XGBClassifier(objective='binary:logistic', **params)\n",
    "#     \n",
    "\n",
    "#     print(X_tr.info())\n",
    "#     model.fit(X_tr, train_y)\n",
    "    model.fit(X_tr, train_y, eval_metric=\"auc\", \n",
    "              verbose=True, eval_set=((X_tr, train_y), (X_val, valid_y)), early_stopping_rounds=20)\n",
    "\n",
    "    predictions = model.predict_proba(X_val)[:,1]\n",
    "    scores.append(roc_auc_score(valid_y, predictions))\n",
    "    train_preds = model.predict_proba(X_tr)[:,1]\n",
    "    tr_scores.append(roc_auc_score(train_y, train_preds))\n",
    "    \n",
    "    models.append(model)\n",
    "#     break\n",
    "\n",
    "    print(scores)\n",
    "print(\"Train AUC score: {:.4f} Valid AUC score: {:.4f}, STD: {:.4f}\".format(\n",
    "    np.mean(tr_scores), np.mean(scores), np.std(scores)\n",
    "))\n",
    "\n",
    "\n"
   ]
  },
  {
   "cell_type": "code",
   "execution_count": 269,
   "id": "f8e64e7b",
   "metadata": {},
   "outputs": [
    {
     "data": {
      "text/html": [
       "<div>\n",
       "<style scoped>\n",
       "    .dataframe tbody tr th:only-of-type {\n",
       "        vertical-align: middle;\n",
       "    }\n",
       "\n",
       "    .dataframe tbody tr th {\n",
       "        vertical-align: top;\n",
       "    }\n",
       "\n",
       "    .dataframe thead th {\n",
       "        text-align: right;\n",
       "    }\n",
       "</style>\n",
       "<table border=\"1\" class=\"dataframe\">\n",
       "  <thead>\n",
       "    <tr style=\"text-align: right;\">\n",
       "      <th></th>\n",
       "      <th>age</th>\n",
       "      <th>typeof_contact</th>\n",
       "      <th>city_tier</th>\n",
       "      <th>duration_of_pitch</th>\n",
       "      <th>occupation</th>\n",
       "      <th>gender</th>\n",
       "      <th>number_of_person_visiting</th>\n",
       "      <th>number_of_followups</th>\n",
       "      <th>product_pitched</th>\n",
       "      <th>preferred_property_star</th>\n",
       "      <th>...</th>\n",
       "      <th>designation_car_ownership_CG</th>\n",
       "      <th>designation_children_CG</th>\n",
       "      <th>marital_status_car_ownership_CG</th>\n",
       "      <th>marital_status_children_CG</th>\n",
       "      <th>car_ownership_children_CG</th>\n",
       "      <th>age_2</th>\n",
       "      <th>monthly_income_log</th>\n",
       "      <th>age_log</th>\n",
       "      <th>duration_of_pitch_log</th>\n",
       "      <th>salary_age</th>\n",
       "    </tr>\n",
       "  </thead>\n",
       "  <tbody>\n",
       "    <tr>\n",
       "      <th>0</th>\n",
       "      <td>0.696100</td>\n",
       "      <td>0.124364</td>\n",
       "      <td>0.451222</td>\n",
       "      <td>0.102678</td>\n",
       "      <td>0.235487</td>\n",
       "      <td>0.171029</td>\n",
       "      <td>-1.919689</td>\n",
       "      <td>-0.094886</td>\n",
       "      <td>0.301969</td>\n",
       "      <td>-0.735723</td>\n",
       "      <td>...</td>\n",
       "      <td>0.307194</td>\n",
       "      <td>0.417873</td>\n",
       "      <td>0.068858</td>\n",
       "      <td>0.095204</td>\n",
       "      <td>0.215946</td>\n",
       "      <td>0.421039</td>\n",
       "      <td>-1.573349</td>\n",
       "      <td>0.852118</td>\n",
       "      <td>0.102678</td>\n",
       "      <td>-1.578438</td>\n",
       "    </tr>\n",
       "    <tr>\n",
       "      <th>1</th>\n",
       "      <td>1.135974</td>\n",
       "      <td>0.183381</td>\n",
       "      <td>-1.038195</td>\n",
       "      <td>-0.043604</td>\n",
       "      <td>0.104889</td>\n",
       "      <td>0.167168</td>\n",
       "      <td>-1.919689</td>\n",
       "      <td>-0.094886</td>\n",
       "      <td>0.087278</td>\n",
       "      <td>-0.735723</td>\n",
       "      <td>...</td>\n",
       "      <td>0.086227</td>\n",
       "      <td>0.098229</td>\n",
       "      <td>0.117770</td>\n",
       "      <td>0.139886</td>\n",
       "      <td>0.215946</td>\n",
       "      <td>0.818761</td>\n",
       "      <td>0.742439</td>\n",
       "      <td>1.226125</td>\n",
       "      <td>-0.043604</td>\n",
       "      <td>-0.795555</td>\n",
       "    </tr>\n",
       "    <tr>\n",
       "      <th>2</th>\n",
       "      <td>-0.110336</td>\n",
       "      <td>0.117814</td>\n",
       "      <td>-1.038195</td>\n",
       "      <td>-0.628731</td>\n",
       "      <td>0.240272</td>\n",
       "      <td>0.100607</td>\n",
       "      <td>-1.919689</td>\n",
       "      <td>-0.120326</td>\n",
       "      <td>0.307440</td>\n",
       "      <td>-0.735723</td>\n",
       "      <td>...</td>\n",
       "      <td>0.307194</td>\n",
       "      <td>0.417873</td>\n",
       "      <td>0.099813</td>\n",
       "      <td>0.135301</td>\n",
       "      <td>0.215946</td>\n",
       "      <td>-0.191177</td>\n",
       "      <td>-1.119858</td>\n",
       "      <td>0.032148</td>\n",
       "      <td>-0.628731</td>\n",
       "      <td>-0.828717</td>\n",
       "    </tr>\n",
       "    <tr>\n",
       "      <th>3</th>\n",
       "      <td>4.361718</td>\n",
       "      <td>0.118527</td>\n",
       "      <td>0.451222</td>\n",
       "      <td>0.541523</td>\n",
       "      <td>0.155636</td>\n",
       "      <td>0.106383</td>\n",
       "      <td>-1.919689</td>\n",
       "      <td>-0.120326</td>\n",
       "      <td>0.087278</td>\n",
       "      <td>0.932202</td>\n",
       "      <td>...</td>\n",
       "      <td>0.086227</td>\n",
       "      <td>0.098229</td>\n",
       "      <td>0.117770</td>\n",
       "      <td>0.139886</td>\n",
       "      <td>0.215946</td>\n",
       "      <td>5.111155</td>\n",
       "      <td>-0.318032</td>\n",
       "      <td>3.139638</td>\n",
       "      <td>0.541523</td>\n",
       "      <td>-2.239172</td>\n",
       "    </tr>\n",
       "    <tr>\n",
       "      <th>4</th>\n",
       "      <td>0.549475</td>\n",
       "      <td>0.174681</td>\n",
       "      <td>1.940640</td>\n",
       "      <td>0.395242</td>\n",
       "      <td>0.157320</td>\n",
       "      <td>0.101916</td>\n",
       "      <td>-1.919689</td>\n",
       "      <td>-0.120326</td>\n",
       "      <td>0.301969</td>\n",
       "      <td>0.932202</td>\n",
       "      <td>...</td>\n",
       "      <td>0.307194</td>\n",
       "      <td>0.417873</td>\n",
       "      <td>0.335471</td>\n",
       "      <td>0.433568</td>\n",
       "      <td>0.215946</td>\n",
       "      <td>0.298471</td>\n",
       "      <td>-1.485399</td>\n",
       "      <td>0.717398</td>\n",
       "      <td>0.395242</td>\n",
       "      <td>-1.466750</td>\n",
       "    </tr>\n",
       "    <tr>\n",
       "      <th>...</th>\n",
       "      <td>...</td>\n",
       "      <td>...</td>\n",
       "      <td>...</td>\n",
       "      <td>...</td>\n",
       "      <td>...</td>\n",
       "      <td>...</td>\n",
       "      <td>...</td>\n",
       "      <td>...</td>\n",
       "      <td>...</td>\n",
       "      <td>...</td>\n",
       "      <td>...</td>\n",
       "      <td>...</td>\n",
       "      <td>...</td>\n",
       "      <td>...</td>\n",
       "      <td>...</td>\n",
       "      <td>...</td>\n",
       "      <td>...</td>\n",
       "      <td>...</td>\n",
       "      <td>...</td>\n",
       "      <td>...</td>\n",
       "      <td>...</td>\n",
       "    </tr>\n",
       "    <tr>\n",
       "      <th>3484</th>\n",
       "      <td>-0.037024</td>\n",
       "      <td>0.119224</td>\n",
       "      <td>0.451222</td>\n",
       "      <td>1.711777</td>\n",
       "      <td>0.098821</td>\n",
       "      <td>0.171394</td>\n",
       "      <td>-0.543241</td>\n",
       "      <td>-0.120326</td>\n",
       "      <td>0.311258</td>\n",
       "      <td>-0.735723</td>\n",
       "      <td>...</td>\n",
       "      <td>0.307194</td>\n",
       "      <td>0.417873</td>\n",
       "      <td>0.117770</td>\n",
       "      <td>0.139886</td>\n",
       "      <td>0.215946</td>\n",
       "      <td>-0.141775</td>\n",
       "      <td>-1.476458</td>\n",
       "      <td>0.115702</td>\n",
       "      <td>1.711777</td>\n",
       "      <td>-1.069430</td>\n",
       "    </tr>\n",
       "    <tr>\n",
       "      <th>3485</th>\n",
       "      <td>-0.037024</td>\n",
       "      <td>0.124364</td>\n",
       "      <td>-1.038195</td>\n",
       "      <td>-0.775012</td>\n",
       "      <td>0.235487</td>\n",
       "      <td>0.171029</td>\n",
       "      <td>0.833207</td>\n",
       "      <td>-0.120326</td>\n",
       "      <td>0.301969</td>\n",
       "      <td>2.600127</td>\n",
       "      <td>...</td>\n",
       "      <td>0.307194</td>\n",
       "      <td>0.222632</td>\n",
       "      <td>0.099813</td>\n",
       "      <td>0.081452</td>\n",
       "      <td>0.118423</td>\n",
       "      <td>-0.141775</td>\n",
       "      <td>-1.447440</td>\n",
       "      <td>0.115702</td>\n",
       "      <td>-0.775012</td>\n",
       "      <td>-1.055604</td>\n",
       "    </tr>\n",
       "    <tr>\n",
       "      <th>3486</th>\n",
       "      <td>-0.696835</td>\n",
       "      <td>0.118527</td>\n",
       "      <td>-1.038195</td>\n",
       "      <td>-0.043604</td>\n",
       "      <td>0.155636</td>\n",
       "      <td>0.106383</td>\n",
       "      <td>0.833207</td>\n",
       "      <td>-0.145767</td>\n",
       "      <td>0.087278</td>\n",
       "      <td>-0.735723</td>\n",
       "      <td>...</td>\n",
       "      <td>0.086227</td>\n",
       "      <td>0.087094</td>\n",
       "      <td>0.335471</td>\n",
       "      <td>0.263107</td>\n",
       "      <td>0.114761</td>\n",
       "      <td>-0.541373</td>\n",
       "      <td>-0.464201</td>\n",
       "      <td>-0.725492</td>\n",
       "      <td>-0.043604</td>\n",
       "      <td>0.304668</td>\n",
       "    </tr>\n",
       "    <tr>\n",
       "      <th>3487</th>\n",
       "      <td>1.135974</td>\n",
       "      <td>0.183381</td>\n",
       "      <td>0.451222</td>\n",
       "      <td>0.102678</td>\n",
       "      <td>0.104889</td>\n",
       "      <td>0.167168</td>\n",
       "      <td>0.833207</td>\n",
       "      <td>-0.044005</td>\n",
       "      <td>0.052521</td>\n",
       "      <td>-0.735723</td>\n",
       "      <td>...</td>\n",
       "      <td>0.070221</td>\n",
       "      <td>0.093866</td>\n",
       "      <td>0.099813</td>\n",
       "      <td>0.081452</td>\n",
       "      <td>0.118423</td>\n",
       "      <td>0.818761</td>\n",
       "      <td>2.067049</td>\n",
       "      <td>1.226125</td>\n",
       "      <td>0.102678</td>\n",
       "      <td>0.009058</td>\n",
       "    </tr>\n",
       "    <tr>\n",
       "      <th>3488</th>\n",
       "      <td>0.109601</td>\n",
       "      <td>0.117814</td>\n",
       "      <td>-1.038195</td>\n",
       "      <td>-0.775012</td>\n",
       "      <td>0.155826</td>\n",
       "      <td>0.172056</td>\n",
       "      <td>0.833207</td>\n",
       "      <td>-0.171207</td>\n",
       "      <td>0.307440</td>\n",
       "      <td>-0.735723</td>\n",
       "      <td>...</td>\n",
       "      <td>0.307194</td>\n",
       "      <td>0.265115</td>\n",
       "      <td>0.099813</td>\n",
       "      <td>0.096706</td>\n",
       "      <td>0.114761</td>\n",
       "      <td>-0.039218</td>\n",
       "      <td>-1.119053</td>\n",
       "      <td>0.276719</td>\n",
       "      <td>-0.775012</td>\n",
       "      <td>-1.014284</td>\n",
       "    </tr>\n",
       "  </tbody>\n",
       "</table>\n",
       "<p>3489 rows × 60 columns</p>\n",
       "</div>"
      ],
      "text/plain": [
       "           age  typeof_contact  city_tier  duration_of_pitch  occupation  \\\n",
       "0     0.696100        0.124364   0.451222           0.102678    0.235487   \n",
       "1     1.135974        0.183381  -1.038195          -0.043604    0.104889   \n",
       "2    -0.110336        0.117814  -1.038195          -0.628731    0.240272   \n",
       "3     4.361718        0.118527   0.451222           0.541523    0.155636   \n",
       "4     0.549475        0.174681   1.940640           0.395242    0.157320   \n",
       "...        ...             ...        ...                ...         ...   \n",
       "3484 -0.037024        0.119224   0.451222           1.711777    0.098821   \n",
       "3485 -0.037024        0.124364  -1.038195          -0.775012    0.235487   \n",
       "3486 -0.696835        0.118527  -1.038195          -0.043604    0.155636   \n",
       "3487  1.135974        0.183381   0.451222           0.102678    0.104889   \n",
       "3488  0.109601        0.117814  -1.038195          -0.775012    0.155826   \n",
       "\n",
       "        gender  number_of_person_visiting  number_of_followups  \\\n",
       "0     0.171029                  -1.919689            -0.094886   \n",
       "1     0.167168                  -1.919689            -0.094886   \n",
       "2     0.100607                  -1.919689            -0.120326   \n",
       "3     0.106383                  -1.919689            -0.120326   \n",
       "4     0.101916                  -1.919689            -0.120326   \n",
       "...        ...                        ...                  ...   \n",
       "3484  0.171394                  -0.543241            -0.120326   \n",
       "3485  0.171029                   0.833207            -0.120326   \n",
       "3486  0.106383                   0.833207            -0.145767   \n",
       "3487  0.167168                   0.833207            -0.044005   \n",
       "3488  0.172056                   0.833207            -0.171207   \n",
       "\n",
       "      product_pitched  preferred_property_star  ...  \\\n",
       "0            0.301969                -0.735723  ...   \n",
       "1            0.087278                -0.735723  ...   \n",
       "2            0.307440                -0.735723  ...   \n",
       "3            0.087278                 0.932202  ...   \n",
       "4            0.301969                 0.932202  ...   \n",
       "...               ...                      ...  ...   \n",
       "3484         0.311258                -0.735723  ...   \n",
       "3485         0.301969                 2.600127  ...   \n",
       "3486         0.087278                -0.735723  ...   \n",
       "3487         0.052521                -0.735723  ...   \n",
       "3488         0.307440                -0.735723  ...   \n",
       "\n",
       "      designation_car_ownership_CG  designation_children_CG  \\\n",
       "0                         0.307194                 0.417873   \n",
       "1                         0.086227                 0.098229   \n",
       "2                         0.307194                 0.417873   \n",
       "3                         0.086227                 0.098229   \n",
       "4                         0.307194                 0.417873   \n",
       "...                            ...                      ...   \n",
       "3484                      0.307194                 0.417873   \n",
       "3485                      0.307194                 0.222632   \n",
       "3486                      0.086227                 0.087094   \n",
       "3487                      0.070221                 0.093866   \n",
       "3488                      0.307194                 0.265115   \n",
       "\n",
       "      marital_status_car_ownership_CG  marital_status_children_CG  \\\n",
       "0                            0.068858                    0.095204   \n",
       "1                            0.117770                    0.139886   \n",
       "2                            0.099813                    0.135301   \n",
       "3                            0.117770                    0.139886   \n",
       "4                            0.335471                    0.433568   \n",
       "...                               ...                         ...   \n",
       "3484                         0.117770                    0.139886   \n",
       "3485                         0.099813                    0.081452   \n",
       "3486                         0.335471                    0.263107   \n",
       "3487                         0.099813                    0.081452   \n",
       "3488                         0.099813                    0.096706   \n",
       "\n",
       "      car_ownership_children_CG     age_2  monthly_income_log   age_log  \\\n",
       "0                      0.215946  0.421039           -1.573349  0.852118   \n",
       "1                      0.215946  0.818761            0.742439  1.226125   \n",
       "2                      0.215946 -0.191177           -1.119858  0.032148   \n",
       "3                      0.215946  5.111155           -0.318032  3.139638   \n",
       "4                      0.215946  0.298471           -1.485399  0.717398   \n",
       "...                         ...       ...                 ...       ...   \n",
       "3484                   0.215946 -0.141775           -1.476458  0.115702   \n",
       "3485                   0.118423 -0.141775           -1.447440  0.115702   \n",
       "3486                   0.114761 -0.541373           -0.464201 -0.725492   \n",
       "3487                   0.118423  0.818761            2.067049  1.226125   \n",
       "3488                   0.114761 -0.039218           -1.119053  0.276719   \n",
       "\n",
       "      duration_of_pitch_log  salary_age  \n",
       "0                  0.102678   -1.578438  \n",
       "1                 -0.043604   -0.795555  \n",
       "2                 -0.628731   -0.828717  \n",
       "3                  0.541523   -2.239172  \n",
       "4                  0.395242   -1.466750  \n",
       "...                     ...         ...  \n",
       "3484               1.711777   -1.069430  \n",
       "3485              -0.775012   -1.055604  \n",
       "3486              -0.043604    0.304668  \n",
       "3487               0.102678    0.009058  \n",
       "3488              -0.775012   -1.014284  \n",
       "\n",
       "[3489 rows x 60 columns]"
      ]
     },
     "execution_count": 269,
     "metadata": {},
     "output_type": "execute_result"
    }
   ],
   "source": [
    "X_tr"
   ]
  },
  {
   "cell_type": "code",
   "execution_count": 215,
   "id": "fd7836c7",
   "metadata": {},
   "outputs": [],
   "source": [
    "# results = model.evals_result()\n",
    "# plt.figure(figsize=(10,7))\n",
    "# plt.plot(results[\"validation_0\"][\"auc\"], label=\"Training loss\")\n",
    "# plt.plot(results[\"validation_1\"][\"auc\"], label=\"Validation loss\")\n",
    "# # plt.axvline(21, color=\"gray\", label=\"Optimal tree number\")\n",
    "# plt.xlabel(\"Number of trees\")\n",
    "# plt.ylabel(\"Loss\")\n",
    "# plt.legend()"
   ]
  },
  {
   "cell_type": "code",
   "execution_count": 216,
   "id": "90105710",
   "metadata": {},
   "outputs": [],
   "source": [
    "# # Get the coefficients\n",
    "# coefficients = model.coef_[0]\n",
    "\n",
    "# # Create a DataFrame to display feature importance\n",
    "# importance_df = pd.DataFrame({\n",
    "#     'Feature': X_tr.columns,\n",
    "#     'Coefficient': coefficients,\n",
    "#     'Importance': np.abs(coefficients)\n",
    "# })\n",
    "\n",
    "# # Sort by importance\n",
    "# importance_df = importance_df.sort_values(by='Importance', ascending=False)\n",
    "\n",
    "# print(importance_df)"
   ]
  },
  {
   "cell_type": "code",
   "execution_count": 168,
   "id": "fd504105",
   "metadata": {},
   "outputs": [
    {
     "data": {
      "text/plain": [
       "25"
      ]
     },
     "execution_count": 168,
     "metadata": {},
     "output_type": "execute_result"
    }
   ],
   "source": [
    "create_random_nan(X_tr).isna().sum().sum()"
   ]
  },
  {
   "cell_type": "code",
   "execution_count": 169,
   "id": "3f08c958",
   "metadata": {},
   "outputs": [
    {
     "data": {
      "text/plain": [
       "0"
      ]
     },
     "execution_count": 169,
     "metadata": {},
     "output_type": "execute_result"
    }
   ],
   "source": [
    "X_tr.isna().sum().sum()"
   ]
  },
  {
   "cell_type": "code",
   "execution_count": 217,
   "id": "2de1aae8",
   "metadata": {},
   "outputs": [],
   "source": [
    "feature_important = model.get_booster().get_score(importance_type='weight')"
   ]
  },
  {
   "cell_type": "code",
   "execution_count": 218,
   "id": "2aec4ba3",
   "metadata": {},
   "outputs": [],
   "source": [
    "xgb_importance= pd.Series(feature_important).sort_values().reset_index() \n",
    "xgb_importance.columns =  [\"Feature\", \"xgb\"]"
   ]
  },
  {
   "cell_type": "code",
   "execution_count": 219,
   "id": "97fbdf90",
   "metadata": {},
   "outputs": [
    {
     "data": {
      "text/html": [
       "<div>\n",
       "<style scoped>\n",
       "    .dataframe tbody tr th:only-of-type {\n",
       "        vertical-align: middle;\n",
       "    }\n",
       "\n",
       "    .dataframe tbody tr th {\n",
       "        vertical-align: top;\n",
       "    }\n",
       "\n",
       "    .dataframe thead th {\n",
       "        text-align: right;\n",
       "    }\n",
       "</style>\n",
       "<table border=\"1\" class=\"dataframe\">\n",
       "  <thead>\n",
       "    <tr style=\"text-align: right;\">\n",
       "      <th></th>\n",
       "      <th>Feature</th>\n",
       "      <th>xgb</th>\n",
       "    </tr>\n",
       "  </thead>\n",
       "  <tbody>\n",
       "    <tr>\n",
       "      <th>32</th>\n",
       "      <td>number_of_trips</td>\n",
       "      <td>6.0</td>\n",
       "    </tr>\n",
       "    <tr>\n",
       "      <th>29</th>\n",
       "      <td>age</td>\n",
       "      <td>5.0</td>\n",
       "    </tr>\n",
       "    <tr>\n",
       "      <th>30</th>\n",
       "      <td>city_tier</td>\n",
       "      <td>5.0</td>\n",
       "    </tr>\n",
       "    <tr>\n",
       "      <th>31</th>\n",
       "      <td>salary_age</td>\n",
       "      <td>5.0</td>\n",
       "    </tr>\n",
       "    <tr>\n",
       "      <th>27</th>\n",
       "      <td>passport</td>\n",
       "      <td>4.0</td>\n",
       "    </tr>\n",
       "    <tr>\n",
       "      <th>28</th>\n",
       "      <td>monthly_income</td>\n",
       "      <td>4.0</td>\n",
       "    </tr>\n",
       "    <tr>\n",
       "      <th>23</th>\n",
       "      <td>occupation_children_CG</td>\n",
       "      <td>3.0</td>\n",
       "    </tr>\n",
       "    <tr>\n",
       "      <th>24</th>\n",
       "      <td>designation_marital_status_CG</td>\n",
       "      <td>3.0</td>\n",
       "    </tr>\n",
       "    <tr>\n",
       "      <th>25</th>\n",
       "      <td>occupation</td>\n",
       "      <td>3.0</td>\n",
       "    </tr>\n",
       "    <tr>\n",
       "      <th>26</th>\n",
       "      <td>preferred_property_star</td>\n",
       "      <td>3.0</td>\n",
       "    </tr>\n",
       "    <tr>\n",
       "      <th>11</th>\n",
       "      <td>pitch_satisfaction_score</td>\n",
       "      <td>2.0</td>\n",
       "    </tr>\n",
       "    <tr>\n",
       "      <th>12</th>\n",
       "      <td>typeof_contact</td>\n",
       "      <td>2.0</td>\n",
       "    </tr>\n",
       "    <tr>\n",
       "      <th>13</th>\n",
       "      <td>product_pitched_designation_CG</td>\n",
       "      <td>2.0</td>\n",
       "    </tr>\n",
       "    <tr>\n",
       "      <th>14</th>\n",
       "      <td>gender_children_CG</td>\n",
       "      <td>2.0</td>\n",
       "    </tr>\n",
       "    <tr>\n",
       "      <th>15</th>\n",
       "      <td>number_of_followups</td>\n",
       "      <td>2.0</td>\n",
       "    </tr>\n",
       "    <tr>\n",
       "      <th>16</th>\n",
       "      <td>gender_product_pitched_CG</td>\n",
       "      <td>2.0</td>\n",
       "    </tr>\n",
       "    <tr>\n",
       "      <th>17</th>\n",
       "      <td>occupation_marital_status_CG</td>\n",
       "      <td>2.0</td>\n",
       "    </tr>\n",
       "    <tr>\n",
       "      <th>18</th>\n",
       "      <td>duration_of_pitch_log</td>\n",
       "      <td>2.0</td>\n",
       "    </tr>\n",
       "    <tr>\n",
       "      <th>19</th>\n",
       "      <td>children</td>\n",
       "      <td>2.0</td>\n",
       "    </tr>\n",
       "    <tr>\n",
       "      <th>20</th>\n",
       "      <td>marital_status_children_CG</td>\n",
       "      <td>2.0</td>\n",
       "    </tr>\n",
       "  </tbody>\n",
       "</table>\n",
       "</div>"
      ],
      "text/plain": [
       "                           Feature  xgb\n",
       "32                 number_of_trips  6.0\n",
       "29                             age  5.0\n",
       "30                       city_tier  5.0\n",
       "31                      salary_age  5.0\n",
       "27                        passport  4.0\n",
       "28                  monthly_income  4.0\n",
       "23          occupation_children_CG  3.0\n",
       "24   designation_marital_status_CG  3.0\n",
       "25                      occupation  3.0\n",
       "26         preferred_property_star  3.0\n",
       "11        pitch_satisfaction_score  2.0\n",
       "12                  typeof_contact  2.0\n",
       "13  product_pitched_designation_CG  2.0\n",
       "14              gender_children_CG  2.0\n",
       "15             number_of_followups  2.0\n",
       "16       gender_product_pitched_CG  2.0\n",
       "17    occupation_marital_status_CG  2.0\n",
       "18           duration_of_pitch_log  2.0\n",
       "19                        children  2.0\n",
       "20      marital_status_children_CG  2.0"
      ]
     },
     "execution_count": 219,
     "metadata": {},
     "output_type": "execute_result"
    }
   ],
   "source": [
    "xgb_importance.nlargest(20, \"xgb\")"
   ]
  },
  {
   "cell_type": "code",
   "execution_count": 220,
   "id": "ae79bdfc",
   "metadata": {},
   "outputs": [
    {
     "data": {
      "text/plain": [
       "<AxesSubplot:>"
      ]
     },
     "execution_count": 220,
     "metadata": {},
     "output_type": "execute_result"
    },
    {
     "data": {
      "image/png": "[encoded data removed]",
      "text/plain": [
       "<Figure size 1440x720 with 1 Axes>"
      ]
     },
     "metadata": {
      "needs_background": "light"
     },
     "output_type": "display_data"
    }
   ],
   "source": [
    "# plt.subplots(figsize=(20, 10))\n",
    "xgb_importance.plot(kind=\"bar\", figsize=(20,10))"
   ]
  },
  {
   "cell_type": "code",
   "execution_count": 305,
   "id": "0de09745",
   "metadata": {},
   "outputs": [],
   "source": [
    "imp = pd.merge(xgb_importance, importance_df, on=\"Feature\")\n",
    "imp.set_index('Feature', inplace=True)"
   ]
  },
  {
   "cell_type": "code",
   "execution_count": 306,
   "id": "a765a9d0",
   "metadata": {},
   "outputs": [],
   "source": [
    "imp = imp - imp.mean()\n",
    "imp = imp/imp.std()"
   ]
  },
  {
   "cell_type": "code",
   "execution_count": 307,
   "id": "cba4a0c5",
   "metadata": {},
   "outputs": [
    {
     "data": {
      "text/plain": [
       "<AxesSubplot:xlabel='Feature'>"
      ]
     },
     "execution_count": 307,
     "metadata": {},
     "output_type": "execute_result"
    },
    {
     "data": {
      "image/png": "[encoded data removed]",
      "text/plain": [
       "<Figure size 1440x720 with 1 Axes>"
      ]
     },
     "metadata": {
      "needs_background": "light"
     },
     "output_type": "display_data"
    }
   ],
   "source": [
    "imp[[\"xgb\", \"Importance\"]].plot(kind=\"bar\", figsize=(20,10))"
   ]
  },
  {
   "cell_type": "markdown",
   "id": "151ec451",
   "metadata": {},
   "source": [
    "# create a sumbission file"
   ]
  },
  {
   "cell_type": "code",
   "execution_count": 257,
   "id": "38abe585",
   "metadata": {},
   "outputs": [],
   "source": [
    "train_df = train\n",
    "valid_df = test\n",
    "\n",
    "predictions = np.zeros(len(valid_df))\n",
    "train_preds = np.zeros(len(valid_df))\n",
    "import xgboost as xgb\n",
    "lg = LogisticRegression()\n",
    "params = {'n_estimators': 50, 'learning_rate': 0.390847220586157, 'max_depth': 1,  'booster' : \"gbtree\",\n",
    "            \"eval_metric\": \"auc\",\n",
    "            \"tree_method\": 'exact',\n",
    "            'random_state': 1971,'subsample': 0.7113433792242354, 'colsample_bytree': 0.9489136845832957, 'min_child_weight': 6, 'gamma': 2.0270445702227686}\n",
    "# params = {'n_estimators': 600, 'learning_rate': 0.018768615971126633, 'max_depth': 1, 'subsample': 0.6180301820309303, 'colsample_bytree': 0.9416678672737021, 'min_child_weight': 3}\n",
    "model1 = xgb.XGBClassifier(**params)"
   ]
  },
  {
   "cell_type": "code",
   "execution_count": 258,
   "id": "5d4f251c",
   "metadata": {},
   "outputs": [],
   "source": [
    "k =1.409909059587222\n",
    "f = 30.974750642190024\n",
    "w = 11\n",
    "missing = 34"
   ]
  },
  {
   "cell_type": "code",
   "execution_count": 259,
   "id": "8cd1c193",
   "metadata": {},
   "outputs": [],
   "source": [
    "weights = scores / np.sum(scores)"
   ]
  },
  {
   "cell_type": "code",
   "execution_count": 260,
   "id": "8db1e6b2",
   "metadata": {},
   "outputs": [
    {
     "data": {
      "text/plain": [
       "array([0.19417272, 0.20486302, 0.20658887, 0.19503546, 0.19933992])"
      ]
     },
     "execution_count": 260,
     "metadata": {},
     "output_type": "execute_result"
    }
   ],
   "source": [
    "weights"
   ]
  },
  {
   "cell_type": "code",
   "execution_count": 261,
   "id": "ec218908",
   "metadata": {},
   "outputs": [
    {
     "name": "stdout",
     "output_type": "stream",
     "text": [
      "0.8601108657291341\n"
     ]
    }
   ],
   "source": [
    "for model, weight in zip(models, weights) :\n",
    "#     train_df = create_random_nan(train_df, missing)\n",
    "    X_tr, X_val = create_feature(train_df, valid_df, y, CAT_COL, NUM_COL, CONT_COl, cv =skf, w=w, k=k, f =f)\n",
    "\n",
    "#     model.fit(X_tr, y)\n",
    "\n",
    "    train_preds +=  weight*model.predict_proba(X_tr)[:,1]\n",
    "    predictions += weight*model.predict_proba(X_val)[:,1]\n",
    "\n",
    "print(roc_auc_score(y, train_preds))"
   ]
  },
  {
   "cell_type": "code",
   "execution_count": 262,
   "id": "fa1e6b67",
   "metadata": {},
   "outputs": [],
   "source": [
    "# predictions= predictions/5.0"
   ]
  },
  {
   "cell_type": "code",
   "execution_count": 263,
   "id": "e64b89fc",
   "metadata": {},
   "outputs": [
    {
     "data": {
      "text/plain": [
       "array([0.12246856, 0.1953267 , 0.263006  , ..., 0.65964886, 0.19892757,\n",
       "       0.01206939])"
      ]
     },
     "execution_count": 263,
     "metadata": {},
     "output_type": "execute_result"
    }
   ],
   "source": [
    "predictions"
   ]
  },
  {
   "cell_type": "code",
   "execution_count": 264,
   "id": "f0a151c8",
   "metadata": {},
   "outputs": [
    {
     "data": {
      "text/html": [
       "<div>\n",
       "<style scoped>\n",
       "    .dataframe tbody tr th:only-of-type {\n",
       "        vertical-align: middle;\n",
       "    }\n",
       "\n",
       "    .dataframe tbody tr th {\n",
       "        vertical-align: top;\n",
       "    }\n",
       "\n",
       "    .dataframe thead th {\n",
       "        text-align: right;\n",
       "    }\n",
       "</style>\n",
       "<table border=\"1\" class=\"dataframe\">\n",
       "  <thead>\n",
       "    <tr style=\"text-align: right;\">\n",
       "      <th></th>\n",
       "      <th>0</th>\n",
       "      <th>1</th>\n",
       "    </tr>\n",
       "  </thead>\n",
       "  <tbody>\n",
       "    <tr>\n",
       "      <th>0</th>\n",
       "      <td>3489</td>\n",
       "      <td>0.119451</td>\n",
       "    </tr>\n",
       "    <tr>\n",
       "      <th>1</th>\n",
       "      <td>3490</td>\n",
       "      <td>0.343575</td>\n",
       "    </tr>\n",
       "    <tr>\n",
       "      <th>2</th>\n",
       "      <td>3491</td>\n",
       "      <td>0.119451</td>\n",
       "    </tr>\n",
       "    <tr>\n",
       "      <th>3</th>\n",
       "      <td>3492</td>\n",
       "      <td>0.119451</td>\n",
       "    </tr>\n",
       "    <tr>\n",
       "      <th>4</th>\n",
       "      <td>3493</td>\n",
       "      <td>0.119451</td>\n",
       "    </tr>\n",
       "  </tbody>\n",
       "</table>\n",
       "</div>"
      ],
      "text/plain": [
       "      0         1\n",
       "0  3489  0.119451\n",
       "1  3490  0.343575\n",
       "2  3491  0.119451\n",
       "3  3492  0.119451\n",
       "4  3493  0.119451"
      ]
     },
     "execution_count": 264,
     "metadata": {},
     "output_type": "execute_result"
    }
   ],
   "source": [
    "submit = pd.read_csv(\"../data/sample_submit.csv\", header=None)\n",
    "submit.head()"
   ]
  },
  {
   "cell_type": "code",
   "execution_count": 265,
   "id": "2290e56a",
   "metadata": {},
   "outputs": [],
   "source": [
    "submit[1] = predictions"
   ]
  },
  {
   "cell_type": "code",
   "execution_count": 266,
   "id": "3cb7a715",
   "metadata": {},
   "outputs": [],
   "source": [
    "submit.to_csv(\"submission.csv\", index=False, header=None)"
   ]
  },
  {
   "cell_type": "code",
   "execution_count": 267,
   "id": "b3714102",
   "metadata": {},
   "outputs": [
    {
     "data": {
      "text/plain": [
       "219"
      ]
     },
     "execution_count": 267,
     "metadata": {},
     "output_type": "execute_result"
    }
   ],
   "source": [
    "sum(submit[1]> 0.5)"
   ]
  },
  {
   "cell_type": "code",
   "execution_count": 185,
   "id": "1e3b1a4a",
   "metadata": {},
   "outputs": [],
   "source": [
    "# df[\"monthly_income\"].plot(kind=\"hist\")"
   ]
  },
  {
   "cell_type": "code",
   "execution_count": 186,
   "id": "e8da0302",
   "metadata": {},
   "outputs": [],
   "source": [
    "# (train[\"monthly_income\"]/ train[\"age\"]).max()"
   ]
  },
  {
   "cell_type": "code",
   "execution_count": 371,
   "id": "ab048fbe",
   "metadata": {},
   "outputs": [],
   "source": [
    "############# kmeans \n",
    "from scipy.spatial import Voronoi, voronoi_plot_2d\n",
    "from sklearn.cluster import KMeans\n",
    "from sklearn.preprocessing import OneHotEncoder\n",
    "import sklearn\n",
    "import scipy\n",
    "class KMeansFeaturizer:\n",
    "    \"\"\"Transforms numeric data into k-means cluster memberships.\n",
    "    \n",
    "    This transformer runs k-means on the input data and converts each data point\n",
    "    into the id of the closest cluster. If a target variable is present, it is \n",
    "    scaled and included as input to k-means in order to derive clusters that\n",
    "    obey the classification boundary as well as group similar points together.\n",
    "\n",
    "    Parameters\n",
    "    ----------\n",
    "    k: integer, optional, default 100\n",
    "        The number of clusters to group data into.\n",
    "\n",
    "    target_scale: float, [0, infty], optional, default 5.0\n",
    "        The scaling factor for the target variable. Set this to zero to ignore\n",
    "        the target. For classification problems, larger `target_scale` values \n",
    "        will produce clusters that better respect the class boundary.\n",
    "\n",
    "    random_state : integer or numpy.RandomState, optional\n",
    "        This is passed to k-means as the generator used to initialize the \n",
    "        kmeans centers. If an integer is given, it fixes the seed. Defaults to \n",
    "        the global numpy random number generator.\n",
    "\n",
    "    Attributes\n",
    "    ----------\n",
    "    cluster_centers_ : array, [k, n_features]\n",
    "        Coordinates of cluster centers. n_features does count the target column.\n",
    "    \"\"\"\n",
    "\n",
    "    def __init__(self, k=100, target_scale=5.0, random_state=None):\n",
    "        self.k = k\n",
    "        self.target_scale = target_scale\n",
    "        self.random_state = random_state\n",
    "        self.cluster_encoder = OneHotEncoder().fit(np.array(range(k)).reshape(-1,1))\n",
    "        \n",
    "    def fit(self, X, y=None):\n",
    "        \"\"\"Runs k-means on the input data and find centroids.\n",
    "\n",
    "        If no target is given (`y` is None) then run vanilla k-means on input\n",
    "        `X`. \n",
    "\n",
    "        If target `y` is given, then include the target (weighted by \n",
    "        `target_scale`) as an extra dimension for k-means clustering. In this \n",
    "        case, run k-means twice, first with the target, then an extra iteration\n",
    "        without.\n",
    "\n",
    "        After fitting, the attribute `cluster_centers_` are set to the k-means\n",
    "        centroids in the input space represented by `X`.\n",
    "\n",
    "        Parameters\n",
    "        ----------\n",
    "        X : array-like or sparse matrix, shape=(n_data_points, n_features)\n",
    "\n",
    "        y : vector of length n_data_points, optional, default None\n",
    "            If provided, will be weighted with `target_scale` and included in \n",
    "            k-means clustering as hint.\n",
    "        \"\"\"\n",
    "        if y is None:\n",
    "            # No target variable, just do plain k-means\n",
    "            km_model = KMeans(n_clusters=self.k, \n",
    "                              n_init=20, \n",
    "                              random_state=self.random_state)\n",
    "            km_model.fit(X)\n",
    "\n",
    "            self.km_model_ = km_model\n",
    "            self.cluster_centers_ = km_model.cluster_centers_\n",
    "            return self\n",
    "\n",
    "        # There is target information. Apply appropriate scaling and include\n",
    "        # into input data to k-means            \n",
    "        data_with_target = np.hstack((X, y[:,np.newaxis]*self.target_scale))\n",
    "\n",
    "        # Build a pre-training k-means model on data and target\n",
    "        km_model_pretrain = KMeans(n_clusters=self.k, \n",
    "                                   n_init=20, \n",
    "                                   random_state=self.random_state)\n",
    "        km_model_pretrain.fit(data_with_target)\n",
    "\n",
    "        # Run k-means a second time to get the clusters in the original space\n",
    "        # without target info. Initialize using centroids found in pre-training.\n",
    "        # Go through a single iteration of cluster assignment and centroid \n",
    "        # recomputation.\n",
    "        km_model = KMeans(n_clusters=self.k, \n",
    "                          init=km_model_pretrain.cluster_centers_[:,:2], \n",
    "                          n_init=1, \n",
    "                          max_iter=1)\n",
    "        km_model.fit(X)\n",
    "        \n",
    "        self.km_model = km_model\n",
    "        self.cluster_centers_ = km_model.cluster_centers_\n",
    "        return self\n",
    "        \n",
    "    def transform(self, X, y=None):\n",
    "        \"\"\"Outputs the closest cluster id for each input data point.\n",
    "\n",
    "        Parameters\n",
    "        ----------\n",
    "        X : array-like or sparse matrix, shape=(n_data_points, n_features)\n",
    "\n",
    "        y : vector of length n_data_points, optional, default None\n",
    "            Target vector is ignored even if provided.\n",
    "\n",
    "        Returns\n",
    "        -------\n",
    "        cluster_ids : array, shape[n_data_points,1]\n",
    "        \"\"\"\n",
    "        clusters = self.km_model.predict(X)\n",
    "        return self.cluster_encoder.transform(clusters.reshape(-1,1))\n",
    "    \n",
    "    def fit_transform(self, X, y=None):\n",
    "        \"\"\"Runs fit followed by transform.\n",
    "        \"\"\"\n",
    "        self.fit(X, y)\n",
    "        return self.transform(X, y)"
   ]
  },
  {
   "cell_type": "code",
   "execution_count": 381,
   "id": "3ece2181",
   "metadata": {},
   "outputs": [],
   "source": [
    "km = KMeansFeaturizer(20)"
   ]
  },
  {
   "cell_type": "code",
   "execution_count": 382,
   "id": "ed6ec026",
   "metadata": {},
   "outputs": [
    {
     "ename": "AttributeError",
     "evalue": "'KMeansFeaturizer' object has no attribute 'km_model'",
     "output_type": "error",
     "traceback": [
      "\u001b[0;31m---------------------------------------------------------------------------\u001b[0m",
      "\u001b[0;31mAttributeError\u001b[0m                            Traceback (most recent call last)",
      "\u001b[0;32m<ipython-input-382-e04650905bc0>\u001b[0m in \u001b[0;36m<module>\u001b[0;34m\u001b[0m\n\u001b[0;32m----> 1\u001b[0;31m \u001b[0mkm_train\u001b[0m \u001b[0;34m=\u001b[0m \u001b[0mkm\u001b[0m\u001b[0;34m.\u001b[0m\u001b[0mfit_transform\u001b[0m\u001b[0;34m(\u001b[0m\u001b[0mX_tr\u001b[0m\u001b[0;34m[\u001b[0m\u001b[0mNUM_COL\u001b[0m\u001b[0;34m]\u001b[0m\u001b[0;34m)\u001b[0m\u001b[0;34m\u001b[0m\u001b[0;34m\u001b[0m\u001b[0m\n\u001b[0m",
      "\u001b[0;32m<ipython-input-371-6da08f55f735>\u001b[0m in \u001b[0;36mfit_transform\u001b[0;34m(self, X, y)\u001b[0m\n\u001b[1;32m    118\u001b[0m         \"\"\"\n\u001b[1;32m    119\u001b[0m         \u001b[0mself\u001b[0m\u001b[0;34m.\u001b[0m\u001b[0mfit\u001b[0m\u001b[0;34m(\u001b[0m\u001b[0mX\u001b[0m\u001b[0;34m,\u001b[0m \u001b[0my\u001b[0m\u001b[0;34m)\u001b[0m\u001b[0;34m\u001b[0m\u001b[0;34m\u001b[0m\u001b[0m\n\u001b[0;32m--> 120\u001b[0;31m         \u001b[0;32mreturn\u001b[0m \u001b[0mself\u001b[0m\u001b[0;34m.\u001b[0m\u001b[0mtransform\u001b[0m\u001b[0;34m(\u001b[0m\u001b[0mX\u001b[0m\u001b[0;34m,\u001b[0m \u001b[0my\u001b[0m\u001b[0;34m)\u001b[0m\u001b[0;34m\u001b[0m\u001b[0;34m\u001b[0m\u001b[0m\n\u001b[0m",
      "\u001b[0;32m<ipython-input-371-6da08f55f735>\u001b[0m in \u001b[0;36mtransform\u001b[0;34m(self, X, y)\u001b[0m\n\u001b[1;32m    111\u001b[0m         \u001b[0mcluster_ids\u001b[0m \u001b[0;34m:\u001b[0m \u001b[0marray\u001b[0m\u001b[0;34m,\u001b[0m \u001b[0mshape\u001b[0m\u001b[0;34m[\u001b[0m\u001b[0mn_data_points\u001b[0m\u001b[0;34m,\u001b[0m\u001b[0;36m1\u001b[0m\u001b[0;34m]\u001b[0m\u001b[0;34m\u001b[0m\u001b[0;34m\u001b[0m\u001b[0m\n\u001b[1;32m    112\u001b[0m         \"\"\"\n\u001b[0;32m--> 113\u001b[0;31m         \u001b[0mclusters\u001b[0m \u001b[0;34m=\u001b[0m \u001b[0mself\u001b[0m\u001b[0;34m.\u001b[0m\u001b[0mkm_model\u001b[0m\u001b[0;34m.\u001b[0m\u001b[0mpredict\u001b[0m\u001b[0;34m(\u001b[0m\u001b[0mX\u001b[0m\u001b[0;34m)\u001b[0m\u001b[0;34m\u001b[0m\u001b[0;34m\u001b[0m\u001b[0m\n\u001b[0m\u001b[1;32m    114\u001b[0m         \u001b[0;32mreturn\u001b[0m \u001b[0mself\u001b[0m\u001b[0;34m.\u001b[0m\u001b[0mcluster_encoder\u001b[0m\u001b[0;34m.\u001b[0m\u001b[0mtransform\u001b[0m\u001b[0;34m(\u001b[0m\u001b[0mclusters\u001b[0m\u001b[0;34m.\u001b[0m\u001b[0mreshape\u001b[0m\u001b[0;34m(\u001b[0m\u001b[0;34m-\u001b[0m\u001b[0;36m1\u001b[0m\u001b[0;34m,\u001b[0m\u001b[0;36m1\u001b[0m\u001b[0;34m)\u001b[0m\u001b[0;34m)\u001b[0m\u001b[0;34m\u001b[0m\u001b[0;34m\u001b[0m\u001b[0m\n\u001b[1;32m    115\u001b[0m \u001b[0;34m\u001b[0m\u001b[0m\n",
      "\u001b[0;31mAttributeError\u001b[0m: 'KMeansFeaturizer' object has no attribute 'km_model'"
     ]
    }
   ],
   "source": [
    "km_train = km.fit_transform(X_tr[NUM_COL])"
   ]
  },
  {
   "cell_type": "code",
   "execution_count": 378,
   "id": "4ce4342f",
   "metadata": {},
   "outputs": [
    {
     "data": {
      "text/html": [
       "<div>\n",
       "<style scoped>\n",
       "    .dataframe tbody tr th:only-of-type {\n",
       "        vertical-align: middle;\n",
       "    }\n",
       "\n",
       "    .dataframe tbody tr th {\n",
       "        vertical-align: top;\n",
       "    }\n",
       "\n",
       "    .dataframe thead th {\n",
       "        text-align: right;\n",
       "    }\n",
       "</style>\n",
       "<table border=\"1\" class=\"dataframe\">\n",
       "  <thead>\n",
       "    <tr style=\"text-align: right;\">\n",
       "      <th></th>\n",
       "      <th>age</th>\n",
       "      <th>city_tier</th>\n",
       "      <th>duration_of_pitch</th>\n",
       "      <th>number_of_person_visiting</th>\n",
       "      <th>number_of_followups</th>\n",
       "      <th>preferred_property_star</th>\n",
       "      <th>number_of_trips</th>\n",
       "      <th>pitch_satisfaction_score</th>\n",
       "      <th>monthly_income</th>\n",
       "    </tr>\n",
       "  </thead>\n",
       "  <tbody>\n",
       "    <tr>\n",
       "      <th>0</th>\n",
       "      <td>0.926176</td>\n",
       "      <td>0.449462</td>\n",
       "      <td>0.068970</td>\n",
       "      <td>-1.912405</td>\n",
       "      <td>-0.083251</td>\n",
       "      <td>-0.730337</td>\n",
       "      <td>1.017236</td>\n",
       "      <td>1.319758</td>\n",
       "      <td>-1.352753</td>\n",
       "    </tr>\n",
       "    <tr>\n",
       "      <th>1</th>\n",
       "      <td>0.926176</td>\n",
       "      <td>-1.049819</td>\n",
       "      <td>-0.072972</td>\n",
       "      <td>-1.912405</td>\n",
       "      <td>-0.083251</td>\n",
       "      <td>-0.730337</td>\n",
       "      <td>-0.696458</td>\n",
       "      <td>1.319758</td>\n",
       "      <td>0.655467</td>\n",
       "    </tr>\n",
       "    <tr>\n",
       "      <th>2</th>\n",
       "      <td>4.413787</td>\n",
       "      <td>0.449462</td>\n",
       "      <td>0.494795</td>\n",
       "      <td>-1.912405</td>\n",
       "      <td>-0.112368</td>\n",
       "      <td>0.950703</td>\n",
       "      <td>-1.267690</td>\n",
       "      <td>2.208939</td>\n",
       "      <td>-0.380453</td>\n",
       "    </tr>\n",
       "    <tr>\n",
       "      <th>3</th>\n",
       "      <td>0.228654</td>\n",
       "      <td>1.948743</td>\n",
       "      <td>0.352854</td>\n",
       "      <td>-1.912405</td>\n",
       "      <td>-0.112368</td>\n",
       "      <td>0.950703</td>\n",
       "      <td>0.446005</td>\n",
       "      <td>1.319758</td>\n",
       "      <td>-1.292334</td>\n",
       "    </tr>\n",
       "    <tr>\n",
       "      <th>4</th>\n",
       "      <td>-1.863913</td>\n",
       "      <td>0.449462</td>\n",
       "      <td>0.210912</td>\n",
       "      <td>-1.912405</td>\n",
       "      <td>-0.112368</td>\n",
       "      <td>-0.730337</td>\n",
       "      <td>-0.696458</td>\n",
       "      <td>1.319758</td>\n",
       "      <td>-1.271461</td>\n",
       "    </tr>\n",
       "    <tr>\n",
       "      <th>...</th>\n",
       "      <td>...</td>\n",
       "      <td>...</td>\n",
       "      <td>...</td>\n",
       "      <td>...</td>\n",
       "      <td>...</td>\n",
       "      <td>...</td>\n",
       "      <td>...</td>\n",
       "      <td>...</td>\n",
       "      <td>...</td>\n",
       "    </tr>\n",
       "    <tr>\n",
       "      <th>2787</th>\n",
       "      <td>-0.468869</td>\n",
       "      <td>-1.049819</td>\n",
       "      <td>-0.924622</td>\n",
       "      <td>0.845567</td>\n",
       "      <td>-0.083251</td>\n",
       "      <td>-0.730337</td>\n",
       "      <td>1.017236</td>\n",
       "      <td>-0.458603</td>\n",
       "      <td>-0.464679</td>\n",
       "    </tr>\n",
       "    <tr>\n",
       "      <th>2788</th>\n",
       "      <td>0.228654</td>\n",
       "      <td>0.449462</td>\n",
       "      <td>1.630329</td>\n",
       "      <td>-0.533419</td>\n",
       "      <td>-0.112368</td>\n",
       "      <td>-0.730337</td>\n",
       "      <td>-0.125227</td>\n",
       "      <td>-1.347784</td>\n",
       "      <td>-1.286133</td>\n",
       "    </tr>\n",
       "    <tr>\n",
       "      <th>2789</th>\n",
       "      <td>0.228654</td>\n",
       "      <td>-1.049819</td>\n",
       "      <td>-0.782680</td>\n",
       "      <td>0.845567</td>\n",
       "      <td>-0.112368</td>\n",
       "      <td>2.631743</td>\n",
       "      <td>1.017236</td>\n",
       "      <td>0.430577</td>\n",
       "      <td>-1.265926</td>\n",
       "    </tr>\n",
       "    <tr>\n",
       "      <th>2790</th>\n",
       "      <td>-0.468869</td>\n",
       "      <td>-1.049819</td>\n",
       "      <td>-0.072972</td>\n",
       "      <td>0.845567</td>\n",
       "      <td>-0.141485</td>\n",
       "      <td>-0.730337</td>\n",
       "      <td>1.017236</td>\n",
       "      <td>1.319758</td>\n",
       "      <td>-0.506692</td>\n",
       "    </tr>\n",
       "    <tr>\n",
       "      <th>2791</th>\n",
       "      <td>0.926176</td>\n",
       "      <td>0.449462</td>\n",
       "      <td>0.068970</td>\n",
       "      <td>0.845567</td>\n",
       "      <td>-0.025017</td>\n",
       "      <td>-0.730337</td>\n",
       "      <td>2.159700</td>\n",
       "      <td>1.319758</td>\n",
       "      <td>2.301775</td>\n",
       "    </tr>\n",
       "  </tbody>\n",
       "</table>\n",
       "<p>2792 rows × 9 columns</p>\n",
       "</div>"
      ],
      "text/plain": [
       "           age  city_tier  duration_of_pitch  number_of_person_visiting  \\\n",
       "0     0.926176   0.449462           0.068970                  -1.912405   \n",
       "1     0.926176  -1.049819          -0.072972                  -1.912405   \n",
       "2     4.413787   0.449462           0.494795                  -1.912405   \n",
       "3     0.228654   1.948743           0.352854                  -1.912405   \n",
       "4    -1.863913   0.449462           0.210912                  -1.912405   \n",
       "...        ...        ...                ...                        ...   \n",
       "2787 -0.468869  -1.049819          -0.924622                   0.845567   \n",
       "2788  0.228654   0.449462           1.630329                  -0.533419   \n",
       "2789  0.228654  -1.049819          -0.782680                   0.845567   \n",
       "2790 -0.468869  -1.049819          -0.072972                   0.845567   \n",
       "2791  0.926176   0.449462           0.068970                   0.845567   \n",
       "\n",
       "      number_of_followups  preferred_property_star  number_of_trips  \\\n",
       "0               -0.083251                -0.730337         1.017236   \n",
       "1               -0.083251                -0.730337        -0.696458   \n",
       "2               -0.112368                 0.950703        -1.267690   \n",
       "3               -0.112368                 0.950703         0.446005   \n",
       "4               -0.112368                -0.730337        -0.696458   \n",
       "...                   ...                      ...              ...   \n",
       "2787            -0.083251                -0.730337         1.017236   \n",
       "2788            -0.112368                -0.730337        -0.125227   \n",
       "2789            -0.112368                 2.631743         1.017236   \n",
       "2790            -0.141485                -0.730337         1.017236   \n",
       "2791            -0.025017                -0.730337         2.159700   \n",
       "\n",
       "      pitch_satisfaction_score  monthly_income  \n",
       "0                     1.319758       -1.352753  \n",
       "1                     1.319758        0.655467  \n",
       "2                     2.208939       -0.380453  \n",
       "3                     1.319758       -1.292334  \n",
       "4                     1.319758       -1.271461  \n",
       "...                        ...             ...  \n",
       "2787                 -0.458603       -0.464679  \n",
       "2788                 -1.347784       -1.286133  \n",
       "2789                  0.430577       -1.265926  \n",
       "2790                  1.319758       -0.506692  \n",
       "2791                  1.319758        2.301775  \n",
       "\n",
       "[2792 rows x 9 columns]"
      ]
     },
     "execution_count": 378,
     "metadata": {},
     "output_type": "execute_result"
    }
   ],
   "source": []
  },
  {
   "cell_type": "code",
   "execution_count": 271,
   "id": "6bfcaec2",
   "metadata": {},
   "outputs": [],
   "source": [
    "df = pd.DataFrame({\n",
    "    'A': [1, 2, 3, 4, 5],\n",
    "    'B': [10, 20, 30, 40, 50],\n",
    "    'C': [100, 200, 300, 400, 500]\n",
    "})"
   ]
  },
  {
   "cell_type": "code",
   "execution_count": 273,
   "id": "184c4e63",
   "metadata": {},
   "outputs": [],
   "source": [
    "scaler = StandardScaler()\n",
    "\n",
    "df[[\"A\", \"B\"]] = scaler.fit_transform(df[[\"A\", \"B\"]])"
   ]
  },
  {
   "cell_type": "code",
   "execution_count": 274,
   "id": "3fd5413c",
   "metadata": {},
   "outputs": [
    {
     "data": {
      "text/html": [
       "<div>\n",
       "<style scoped>\n",
       "    .dataframe tbody tr th:only-of-type {\n",
       "        vertical-align: middle;\n",
       "    }\n",
       "\n",
       "    .dataframe tbody tr th {\n",
       "        vertical-align: top;\n",
       "    }\n",
       "\n",
       "    .dataframe thead th {\n",
       "        text-align: right;\n",
       "    }\n",
       "</style>\n",
       "<table border=\"1\" class=\"dataframe\">\n",
       "  <thead>\n",
       "    <tr style=\"text-align: right;\">\n",
       "      <th></th>\n",
       "      <th>A</th>\n",
       "      <th>B</th>\n",
       "      <th>C</th>\n",
       "    </tr>\n",
       "  </thead>\n",
       "  <tbody>\n",
       "    <tr>\n",
       "      <th>0</th>\n",
       "      <td>-1.414214</td>\n",
       "      <td>-1.414214</td>\n",
       "      <td>100</td>\n",
       "    </tr>\n",
       "    <tr>\n",
       "      <th>1</th>\n",
       "      <td>-0.707107</td>\n",
       "      <td>-0.707107</td>\n",
       "      <td>200</td>\n",
       "    </tr>\n",
       "    <tr>\n",
       "      <th>2</th>\n",
       "      <td>0.000000</td>\n",
       "      <td>0.000000</td>\n",
       "      <td>300</td>\n",
       "    </tr>\n",
       "    <tr>\n",
       "      <th>3</th>\n",
       "      <td>0.707107</td>\n",
       "      <td>0.707107</td>\n",
       "      <td>400</td>\n",
       "    </tr>\n",
       "    <tr>\n",
       "      <th>4</th>\n",
       "      <td>1.414214</td>\n",
       "      <td>1.414214</td>\n",
       "      <td>500</td>\n",
       "    </tr>\n",
       "  </tbody>\n",
       "</table>\n",
       "</div>"
      ],
      "text/plain": [
       "          A         B    C\n",
       "0 -1.414214 -1.414214  100\n",
       "1 -0.707107 -0.707107  200\n",
       "2  0.000000  0.000000  300\n",
       "3  0.707107  0.707107  400\n",
       "4  1.414214  1.414214  500"
      ]
     },
     "execution_count": 274,
     "metadata": {},
     "output_type": "execute_result"
    }
   ],
   "source": [
    "df"
   ]
  },
  {
   "cell_type": "code",
   "execution_count": null,
   "id": "1df0923e",
   "metadata": {},
   "outputs": [],
   "source": []
  }
 ],
 "metadata": {
  "kernelspec": {
   "display_name": ".venv",
   "language": "python",
   "name": ".venv"
  },
  "language_info": {
   "codemirror_mode": {
    "name": "ipython",
    "version": 3
   },
   "file_extension": ".py",
   "mimetype": "text/x-python",
   "name": "python",
   "nbconvert_exporter": "python",
   "pygments_lexer": "ipython3",
   "version": "3.6.9"
  }
 },
 "nbformat": 4,
 "nbformat_minor": 5
}
